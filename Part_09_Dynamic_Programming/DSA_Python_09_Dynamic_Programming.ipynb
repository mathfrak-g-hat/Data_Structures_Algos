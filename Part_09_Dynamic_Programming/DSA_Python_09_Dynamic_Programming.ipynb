{
 "cells": [
  {
   "cell_type": "markdown",
   "id": "10de5546-3759-4fc4-84e9-2b28cdd69620",
   "metadata": {},
   "source": [
    "# Data Structures and Algorithms in Python - Dynamic Programming\n",
    "### AJ Zerouali, 2023/10/25"
   ]
  },
  {
   "cell_type": "markdown",
   "id": "36f0e53a-9a6a-47cf-a48c-9c137f1975eb",
   "metadata": {},
   "source": [
    "## 0) Introduction\n",
    "\n",
    "**References:**\n",
    "\n",
    "- \"Introduction to Algorithms\", by Cormen, Leiserson, Rivest, and Stein (primary, abbreviated [CLRS22]). Dynamic Programming is covered in Ch.14.\n",
    "- \"Data structures and algorithms in Python\", by Goodrich, Tamassia and Goldwasser (secondary, abbreviated [GTG13]). Section we'll follow is 13.3.\n",
    "- Portilla does not cover dynamic programming, except for one problem in the recursion section.\n",
    "- The DSA course by Elshad Karimov covers dynamic programming in section 47, with challenging problems in section 48.\n",
    "\n",
    "The (tentative) contents of this notebook are as follows:\n",
    "- The rod cutting problem [CLRS22, Sec.14.1].\n",
    "- Matrix-chain multiplication [CLRS22, Sec.14.2].\n",
    "- Dynamic programming in general [CLRS22, Sec.14.3].\n",
    "- Longest common subsequence [CLRS22, Sec.14.4].\n",
    "\n",
    "In some sense, dynamic programming is a mix of divide-and-conquer and recursion, where we solve subproblems to obtain the solution of the main problem. There are two issues that make dynamic programming delicate:\n",
    "1) Of course, this is not applicable in every setting, because as in optimal control, there needs to be a \"principle of optimality\": the main problem should be able to be formulated in such a way that the subproblems have a well-defined optimal solution.\n",
    "2) When implementing a dynamic programming algorithm, special care needs to be taken to ensure that similar subproblems are not solved repeatedly. This motivates the use of memoization."
   ]
  },
  {
   "cell_type": "markdown",
   "id": "df142a23-2071-451b-89e9-02fab20f8086",
   "metadata": {},
   "source": [
    "## 1) Rod cutting\n",
    "\n",
    "Here we summarize [CLRS22, Sec.14.1].\n",
    "\n",
    "### 1.a - Problem formulation\n",
    "\n",
    "A company cuts steel rods and sells the parts obtained at various prices. The company has a table of prices $p_i$ (in dollars) as a function of the length $i=1,2,\\cdots,n,\\cdots$ (in inches) of the rod. Given a rod of length $n$, what is the optimal revenue $r_n$ that can be achieved by cutting the rod into smaller pieces and selling them?\n",
    "\n",
    "For the sake of concreteness, suppose we have the following table of prices:\n",
    "\n",
    "        Length i (in)  | 1 | 2 | 3 | 4 | 5 | 6 | 7 | 8 | 9 | 10 |\n",
    "        ---------------------------------------------------------\n",
    "        Price ($)      | 1 | 5 | 8 | 9 | 10| 17| 17| 20| 24| 30 |\n",
    "\n",
    "### 1.b - Preliminaries and naive solution\n",
    "\n",
    "For simplicity, we will consider that cutting the rod corresponds to choosing the lengths $i_j$ starting from the left at which we perform cuts. The resulting ways of cutting will not be distinct, but we address this issue later. There are $(n-1)$ cutting positions to choose, and summing over the total number of cuts $j$ to make we have:\n",
    "\n",
    "$$\\sum_{j=0}^{n-1}C_j^{n-1}=2^{n-1}$$\n",
    "\n",
    "ways of cutting a rod of length $n$. An important observation here is that the rod cutting problem exhibits **optimal substructure**, since the maximal revenue $r_n$ of cutting a rod of length $n$ depends on the maximal revenue $r_{n-k}$ of cutting a rod of length $(n-k)$, with $k=0,\\cdots, n$. In fact continuing with the notation of the previous section, it is easy to see that:\n",
    "\n",
    "$$r_n = \\max_{k=0,\\cdots,n-1}\\{p_k+r_{n-k}\\}.$$\n",
    "\n",
    "Using this last formula, we can readily solve the rod-cutting problem with the following top-down "
   ]
  },
  {
   "cell_type": "markdown",
   "id": "2b60ec40-66c8-4700-869a-dbd4cb1e55f8",
   "metadata": {},
   "source": [
    "implementation:"
   ]
  },
  {
   "cell_type": "code",
   "execution_count": 3,
   "id": "135b9556-266d-4f0a-b9a0-2bbc1707762e",
   "metadata": {},
   "outputs": [],
   "source": [
    "# Index is length minus one\n",
    "P = [1,5,8,9,10,17,17,20,24,30]"
   ]
  },
  {
   "cell_type": "code",
   "execution_count": 2,
   "id": "7948a72d-c2a1-464f-b8ab-a8999abf7a68",
   "metadata": {},
   "outputs": [],
   "source": [
    "def cut_rod(tab, n):\n",
    "    if n==0:\n",
    "        return 0\n",
    "    q = -20\n",
    "    for i in range(n):\n",
    "        q = max(q, tab[i]+cut_rod(tab, n-(i+1)))\n",
    "    return q\n",
    "    "
   ]
  },
  {
   "cell_type": "markdown",
   "id": "04ba8a99-5d89-4e5e-b0f4-c16570993c89",
   "metadata": {},
   "source": [
    "As shown in [CLRS22, Fig.14.2], the optimal revenue for a rod of length 4 is 10$:"
   ]
  },
  {
   "cell_type": "code",
   "execution_count": 5,
   "id": "3037b238-5cbc-4391-9d8f-c866322ac0e3",
   "metadata": {},
   "outputs": [
    {
     "data": {
      "text/plain": [
       "10"
      ]
     },
     "execution_count": 5,
     "metadata": {},
     "output_type": "execute_result"
    }
   ],
   "source": [
    "cut_rod(P,4)"
   ]
  },
  {
   "cell_type": "markdown",
   "id": "04575685-3cc5-4605-8239-1e9c498c61a3",
   "metadata": {},
   "source": [
    "There is a major issue with this solution though. Suppose that $T(n)$ is the number of calls to the *cut_rod()* function. It is easily established that $T(j)=2^j$ for $j=0,1,2$, and from our max formula for $r_n$, it is easily seen that $T(n)=1+\\sum_{j=0}^{n-1}T(j)$, and consequently: $T(n)=2^n$ with this implementation. Therefore, we expect the *cut_rod()* algorithm to run in exponential time $O(2^n)$.\n",
    "\n",
    "This is highly inefficient, and we can easily see that several calls of the form *cut_rod(P,k)* are duplicated. In fact, as discussed in [CLRS22, Fig.14.3], this top-down implementation builds a recursion tree with $2^n$ nodes with $2^{n-1}$ leaves (each node corresponds to a distinct call to the function). To resolve this optimality issue, we next explore alternative implementations."
   ]
  },
  {
   "cell_type": "markdown",
   "id": "8ef64429-0c95-4a30-8f53-75eb9947a5d7",
   "metadata": {},
   "source": [
    "### 1.c - Bottom-up implementation\n",
    "\n",
    "One aspect of dynamic programming that wasn't previously implemented is the *memoization*, or the use of a table for previously computed values, and which is the origin of the \"programming\" part of the name.\n",
    "\n",
    "Instead of recursively calling *cut_rod()* for each new length, we instead compute and store $r_k$ starting from the base case and with $k$ increasing from $1$ to $n$. The computation is hence from the bottom upwards in $k$, with an array storing the previously computed values:"
   ]
  },
  {
   "cell_type": "code",
   "execution_count": 4,
   "id": "91b8eeac-40ef-47f5-97ec-d072d517555b",
   "metadata": {},
   "outputs": [],
   "source": [
    "def bottomup_cut_rod(tab, n):\n",
    "    # Initialization of cache\n",
    "    ## Index i is r_i\n",
    "    r= [None]*(n+1)\n",
    "    r[0] = 0\n",
    "    \n",
    "    # Loop over length k\n",
    "    for k in range(1,n+1):\n",
    "        q = -100\n",
    "        \n",
    "        # Loop over position of first cut\n",
    "        for i in range(1,k+1):\n",
    "            q = max(q, tab[i-1]+r[k-i]) # Index is shifted by 1\n",
    "        \n",
    "        # Store current r_k\n",
    "        r[k] = q\n",
    "    \n",
    "    # Output\n",
    "    return r[n]"
   ]
  },
  {
   "cell_type": "code",
   "execution_count": 5,
   "id": "5ded1418-00de-416e-9322-93d7fd46778a",
   "metadata": {},
   "outputs": [],
   "source": [
    "# Index is length minus one\n",
    "P = [1,5,8,9,10,17,17,20,24,30]"
   ]
  },
  {
   "cell_type": "code",
   "execution_count": 6,
   "id": "d0ebf431-534e-4f9c-a535-26f621ca71a8",
   "metadata": {},
   "outputs": [
    {
     "data": {
      "text/plain": [
       "10"
      ]
     },
     "execution_count": 6,
     "metadata": {},
     "output_type": "execute_result"
    }
   ],
   "source": [
    "bottomup_cut_rod(P,4)"
   ]
  },
  {
   "cell_type": "markdown",
   "id": "995481fe-bf1e-40a1-b1b5-b12f38373b46",
   "metadata": {},
   "source": [
    "For comparison with the results on p.364 of [CLRS22]:"
   ]
  },
  {
   "cell_type": "code",
   "execution_count": 8,
   "id": "09501161-bc8d-4364-a198-e63ac8cf4a50",
   "metadata": {},
   "outputs": [
    {
     "name": "stdout",
     "output_type": "stream",
     "text": [
      "Optimal revenue for n=1: r_n = 1\n",
      "Optimal revenue for n=2: r_n = 5\n",
      "Optimal revenue for n=3: r_n = 8\n",
      "Optimal revenue for n=4: r_n = 10\n",
      "Optimal revenue for n=5: r_n = 13\n",
      "Optimal revenue for n=6: r_n = 17\n",
      "Optimal revenue for n=7: r_n = 18\n",
      "Optimal revenue for n=8: r_n = 22\n",
      "Optimal revenue for n=9: r_n = 25\n",
      "Optimal revenue for n=10: r_n = 30\n"
     ]
    }
   ],
   "source": [
    "for n in range(1,11):\n",
    "    r_n = bottomup_cut_rod(P, n)\n",
    "    print(f\"Optimal revenue for n={n}: r_n = {r_n}\")"
   ]
  },
  {
   "cell_type": "markdown",
   "id": "b8b45d8f-fd4f-4c87-aaaa-f1d693f25b7b",
   "metadata": {},
   "source": [
    "This implementation is by far better than the naive one, and it is easily seen that it runs in $O(n^2)$ time. It's worth noting here that this only gives the optimal revenue **value**, but not the optimal solution, i.e. the list of cuts giving the optimal solution. See [CLRS22, p.372] for an extended implementation."
   ]
  },
  {
   "cell_type": "markdown",
   "id": "d97d9b6e-6ee8-40b8-936d-e4640fa9ffc1",
   "metadata": {},
   "source": [
    "### 1.d - Top-down implementation with memoization\n",
    "\n",
    "This implementation is the same as the naive top-down one, except now we add an array to store the previously computed optimal revenues."
   ]
  },
  {
   "cell_type": "code",
   "execution_count": 12,
   "id": "8e6ee7b1-0950-4acf-b3d9-53a30d2c432a",
   "metadata": {},
   "outputs": [],
   "source": [
    "def memoized_cut_rod(tab, n, R = None):\n",
    "    if R is None:\n",
    "        R = [None]*(n+1)\n",
    "        R[0] = 0\n",
    "        \n",
    "    if R[n] is not None:\n",
    "        return R[n]\n",
    "    else:\n",
    "        q = -20\n",
    "        for i in range(1,n+1):\n",
    "            q = max(q, tab[i-1]+memoized_cut_rod(tab, n-i, R))\n",
    "        R[n]=q\n",
    "        return q"
   ]
  },
  {
   "cell_type": "code",
   "execution_count": 14,
   "id": "72f718ef-c296-443c-8310-7bf5c5841a35",
   "metadata": {},
   "outputs": [
    {
     "data": {
      "text/plain": [
       "10"
      ]
     },
     "execution_count": 14,
     "metadata": {},
     "output_type": "execute_result"
    }
   ],
   "source": [
    "memoized_cut_rod(P, 4)"
   ]
  },
  {
   "cell_type": "code",
   "execution_count": 15,
   "id": "28cd3075-944d-44d0-a08e-5ba62f41d387",
   "metadata": {},
   "outputs": [
    {
     "name": "stdout",
     "output_type": "stream",
     "text": [
      "Optimal revenue for n=1: r_n = 1\n",
      "Optimal revenue for n=2: r_n = 5\n",
      "Optimal revenue for n=3: r_n = 8\n",
      "Optimal revenue for n=4: r_n = 10\n",
      "Optimal revenue for n=5: r_n = 13\n",
      "Optimal revenue for n=6: r_n = 17\n",
      "Optimal revenue for n=7: r_n = 18\n",
      "Optimal revenue for n=8: r_n = 22\n",
      "Optimal revenue for n=9: r_n = 25\n",
      "Optimal revenue for n=10: r_n = 30\n"
     ]
    }
   ],
   "source": [
    "for n in range(1,11):\n",
    "    r_n = memoized_cut_rod(P, n)\n",
    "    print(f\"Optimal revenue for n={n}: r_n = {r_n}\")"
   ]
  },
  {
   "cell_type": "code",
   "execution_count": null,
   "id": "1d94a77a-5b0c-4ef9-a748-befc48e476d1",
   "metadata": {},
   "outputs": [],
   "source": []
  },
  {
   "cell_type": "markdown",
   "id": "9c01b247-d19e-4419-9977-0b8336633435",
   "metadata": {
    "tags": []
   },
   "source": [
    "## 2) Matrix-chain multiplication\n",
    "\n",
    "This part summarizes [CLRS22, Sec.14.2]. Before stating the problem, we introduce the following vocabulary: A product of matrices is said to be **fully parenthesized** if it is a single matrix or the product of two fully parenthesized matrix product. For example, if $\\{A_1, A_2, A_3\\}$ is a chain of matrices that can be contiguously multiplied, there are two possible full parenthetizations of the product $A_1 A_2 A_3$: $((A_1 A_2)A_3)$ and $(A_1 (A_2 A_3))$.\n",
    "\n",
    "A second point that is assumed in this section is the algorithm used for matrix multiplication. We will assume that we work with an algorithm based on the following pseudocode:\n",
    "\n",
    "        Algorithm Matrix_Mult(A,B):\n",
    "            # Get shapes of matrices\n",
    "            (p,q) = shape(A)\n",
    "            (q,r) = shape(B)\n",
    "            \n",
    "            # Init. C = A.B\n",
    "            C = zero_matrix(shape = (p,r))\n",
    "            \n",
    "            # Compute entries of C\n",
    "            for i = 1, ..., p:\n",
    "                for j = 1, ..., r:\n",
    "                    for k = 1, ..., q:\n",
    "                        c[i,j] = c[i,j]+a[i,k]*b[k,j]\n",
    "            \n",
    "            # Output\n",
    "            return C\n",
    "\n",
    "Thus, multiplying $A\\in\\mathbb{M}_{p\\times q}$ and $B\\in\\mathbb{M}_{q\\times r}$ has $O(pqr)$ time complexity."
   ]
  },
  {
   "cell_type": "markdown",
   "id": "278df0ca-863a-45d7-a454-3e1de15789b2",
   "metadata": {
    "tags": []
   },
   "source": [
    "### 2.a - Problem formulation and discussion\n",
    "\n",
    "Suppose we have a chain of matrices $\\{A_1,A_2,\\cdots,A_n\\}$ such that $A_i$ has shape $p_{i-1}\\times p_i$ ($i=1,\\cdots n$). Assuming that computing the product of two matrices $A\\in\\mathbb{M}_{p\\times q}$ and $B\\in\\mathbb{M}_{q\\times r}$ costs $p\\cdot q\\cdot r$ scalar multiplications, what is the parenthetization of the product $\\prod_{i=1}^n A_i$ that minimizes the number of scalar multiplications?\n",
    "\n",
    "\n",
    "#### Example:\n",
    "To illustrate why this is an important question, suppose $A_1\\in \\mathbb{M}_{10\\times 100}$, $A_2\\in \\mathbb{M}_{100\\times 5}$, and $A_3\\in \\mathbb{M}_{5\\times 50}$. Let's count the total number of scalar multiplications for each parenthesization:\n",
    "\n",
    "1) $((A_1A_2)A_3)$: Computing $(A_1A_2)$ will involve $5000$ multiplications, and then multiplying by $A_3$ will involve $2500$ multiplications, so the total number of multiplications for this parenthetization is $7500$.\n",
    "\n",
    "2) $(A_1(A_2A_3))$: The inner parentheses involve $25000$ multiplications, and the product with $A_1$ will add $50000$ multiplications for a total of $75000$.\n",
    "\n",
    "Thus, choosing the correct parenthesization reduces the number of scalar multiplications by $90\\%$ in this case.\n",
    "\n",
    "To get an idea of the complexity of this problem, it could be useful to first find the number of possible parenthesizations. By induction, one can show that for $n$ matrices, there are $C_n$ parenthesizations, where the latter denotes the $n$-th Catalan number, where $C_1=1$ and\n",
    "\n",
    "$$C_n = \\sum_{k=1}^{n-1}C_k\\cdot C_{n-k},\\ \\ \\forall n\\ge 2.$$\n",
    " \n",
    "This grows as $\\Omega(4^n/n^{3/2})$, meaning that checking all possible parenthesizations to find the minimum is essentially unfeasible.\n",
    "\n",
    "A more clever approach is to notice the following in the case of $n=5$: The parenthesizations can be done in a first step in 4 different ways:\n",
    "* $A_1(A_2A_3A_4A_5)$\n",
    "* $(A_1A_2)(A_3A_4A_5)$\n",
    "* $(A_1A_2A_3)(A_4A_5)$\n",
    "* $(A_1A_2A_3A_4)A_5$\n",
    "\n",
    "In each of the cases above, we first find the optimal parenthesization of the shorter chains (of length 3 and 4), and then we take the minimum over the 4 numbers obtained. To formalize this idea, suppose $1\\le i\\le j \\le 5$, and let $m(i,j)$ denote the **minimal total number of multiplications** over all parenthesizations of $A_iA_{i+1}\\cdots A_j$. We then have $m(i,j)=0$ if $i=j$, and from the above:\n",
    "\n",
    "$$m(1,5)= \\min_{k=1,\\cdots,4} \\{m(1,k)+m(k+1,5)+p_0p_{k}p_5\\},$$\n",
    "\n",
    "and more generally, for each of the sub-parenthesizations, this leads us to:\n",
    "\n",
    "$$m(i,j)= \\min_{k=i,\\cdots,j-1} \\{m(i,k)+m(k+1,j)+p_{i-1}p_{k}p_j\\},\\ \\ \\forall i<j.$$\n",
    "\n",
    "In other words, this recursive expression gives us the optimal substructure for this problem.\n",
    "\n",
    "Next, when it comes to the implementation of the function, we need not actually use the matrices ${A_1,\\cdots, A_n}$, as we can instead work with the array of dimensions $[p_0,p_1,\\cdots,p_n]$ as the input. The subproblems are however solved using indices $(i,j)$."
   ]
  },
  {
   "cell_type": "markdown",
   "id": "67af7145-4c03-4719-aba3-1134e74ba49a",
   "metadata": {},
   "source": [
    "### 2.b - Bottom-up implementation of the solution\n",
    "\n",
    "In the implementation below, we not only return the final minimal value, but also the table of all optimal values for subproblems, as well as the optimal solution. Here, for a given chain $(i,j)$, the optimal solution is the index $i\\le k<j$."
   ]
  },
  {
   "cell_type": "code",
   "execution_count": 4,
   "id": "653f0906-b0f0-470d-865e-6b05a9cba55f",
   "metadata": {},
   "outputs": [],
   "source": [
    "def min_matrix_chain(dims):\n",
    "    # Num of matrices in chain\n",
    "    n = len(dims)-1\n",
    "    if n<2:\n",
    "        raise ValueError(\"dims must contain at least 3 elements\")\n",
    "    elif n==2:\n",
    "        return dims[0]*dims[1]*dims[2], {(1,2):dims[0]*dims[1]*dims[2]}, {(1,2):1}\n",
    "        \n",
    "    elif n>2:\n",
    "        # Init. dict of values\n",
    "        mem = {}\n",
    "        # Init. dict of soln's\n",
    "        sol = {}\n",
    "        # Start with chains of len = 0\n",
    "        for i in range(1,n+1):\n",
    "            mem[(i,i)]=0\n",
    "        \n",
    "        # Loop over lengths l=2,...,n\n",
    "        for l in range(2,n+1):\n",
    "            #print(f\"starting length l = {l}\")\n",
    "            # Loop over starting index\n",
    "            ## Last possible start index is n-l+1\n",
    "            for i in range(1,(n-l+1)+1):\n",
    "                # Last index in [i,j] chain\n",
    "                j = i + l-1\n",
    "                # Init m[(i,j)]\n",
    "                mem[(i,j)]=float(\"inf\")\n",
    "                # Loop over k=i,...,j-1 for min.\n",
    "                for k in range(i,j):\n",
    "                    temp = mem[(i,k)]+mem[(k+1,j)]+dims[i-1]*dims[k]*dims[j]\n",
    "                    if temp <= mem[(i,j)]:\n",
    "                        mem[(i,j)] = temp\n",
    "                        sol[(i,j)] = k\n",
    "            \n",
    "        # Output\n",
    "        return mem[(1,n)], mem, sol\n",
    "        "
   ]
  },
  {
   "cell_type": "code",
   "execution_count": 5,
   "id": "58d32804-4f45-4c9e-8f37-c0858bc305ef",
   "metadata": {},
   "outputs": [],
   "source": [
    "dims = [10,100,5,50]"
   ]
  },
  {
   "cell_type": "code",
   "execution_count": 6,
   "id": "b7fea96e-93e3-4d58-ac5e-80dc5197271b",
   "metadata": {},
   "outputs": [],
   "source": [
    "m, mem, sol = min_matrix_chain(dims)"
   ]
  },
  {
   "cell_type": "code",
   "execution_count": 23,
   "id": "77ac34f7-5782-4180-b313-1bf4d9104862",
   "metadata": {},
   "outputs": [
    {
     "data": {
      "text/plain": [
       "7500"
      ]
     },
     "execution_count": 23,
     "metadata": {},
     "output_type": "execute_result"
    }
   ],
   "source": [
    "m"
   ]
  },
  {
   "cell_type": "code",
   "execution_count": 7,
   "id": "0e979252-80bc-4d24-9087-32db37ff98f1",
   "metadata": {},
   "outputs": [
    {
     "data": {
      "text/plain": [
       "{(1, 1): 0, (2, 2): 0, (3, 3): 0, (1, 2): 5000, (2, 3): 25000, (1, 3): 7500}"
      ]
     },
     "execution_count": 7,
     "metadata": {},
     "output_type": "execute_result"
    }
   ],
   "source": [
    "mem"
   ]
  },
  {
   "cell_type": "code",
   "execution_count": 8,
   "id": "3ca2d981-f2c3-45e6-b2b9-71dbdc303260",
   "metadata": {},
   "outputs": [
    {
     "data": {
      "text/plain": [
       "{(1, 2): 1, (2, 3): 2, (1, 3): 2}"
      ]
     },
     "execution_count": 8,
     "metadata": {},
     "output_type": "execute_result"
    }
   ],
   "source": [
    "sol"
   ]
  },
  {
   "cell_type": "markdown",
   "id": "36e97cc1-402d-4ade-8d73-530a29136f5c",
   "metadata": {
    "tags": []
   },
   "source": [
    "## 3) Number Factor Problem\n",
    "\n",
    "This is taken from Karimov's \"Complete DSA in Python\", lectures 447, 448, 470 and 471.\n",
    "\n",
    "### 3.a - Problem formulation\n",
    "\n",
    "Given an integer $N$, how many ways are there to express it as a sum of the numbers $\\{1, 3, 4\\}$, including permutations?\n",
    "\n",
    "This is essentially a variation of the coin change problem, where instead of looking for the minimal number of factors, we count the number of partitions.\n",
    "\n",
    "#### Example 1:\n",
    "\n",
    "Say $N= 4$, then:\n",
    "\n",
    "$$\n",
    "4 = 1 +1 +1+1\\\\ \n",
    "= 1+3\\\\\n",
    "= 3+1\\\\\n",
    "= 4\\\\\n",
    "$$\n",
    "\n",
    "Thus, the partitions of $4$ using the given set are $\\{(4),(1,3),(3,1),(1,1,1,1)\\}$. If $F$ denotes the counting function for this problem, then $F(4)=4$.\n",
    "\n",
    "#### Example 2:\n",
    "\n",
    "Say $N=5$. Let's count the partitions (with permutations) as follows: For each element $i$ of the list $\\{1,3,4\\}$, in how many ways can we obtain partitions of 5 by adding $i$ to the partitions of $(N-i)$?\n",
    "\n",
    "* For $i=1$: In this case we have $F(4)=4$ partitions:\n",
    "$$\\{(4,1),(1,3,1),(3,1,1),(1,1,1,1,1)\\}.$$\n",
    "\n",
    "* For $i=3$: In this case we have $F(2)=1$ partitions:\n",
    "$$\\{(1,1,3)\\}.$$\n",
    "\n",
    "* For $i=4$: In this case we have $F(1)=1$ partitions:\n",
    "$$\\{(1,4)\\}.$$\n",
    "\n",
    "### 3.b - Comments on the solution\n",
    "\n",
    "Looking at example 2 above, it is easily seen that a solution to the number factor problem can be solved with a recursion, since the problem has an overlapping sub-problem structure. However, one needs to be careful with the fact that the same subproblem can be solved many times. Again, considering the $\\{1,3,4\\}$ sequence, computing $F(8)$ leads to the following recursive tree when following the approach in example 2:\n",
    "\n",
    "                         F(8)\n",
    "               /          |          \\\n",
    "           F(4)         F(5)           F(7)\n",
    "       /   |   \\     /   |   \\      /   |   \\\n",
    "    F(0) F(1) F(3) F(1) F(2) F(4) F(3) F(4) F(6)\n",
    "\n",
    "Here is a first simplified implementation, where we keep the list of numbers *[1,3,4]* as our \"factors\", and where we only use recursion."
   ]
  },
  {
   "cell_type": "code",
   "execution_count": 1,
   "id": "c62460c2-ae62-480d-8ff6-c5079f4546b4",
   "metadata": {},
   "outputs": [],
   "source": [
    "# Easy case with nums = [1,3,4]\n",
    "def SmallNumFactors(N):\n",
    "    if N in [0,1,2]:\n",
    "        return 1\n",
    "    elif N==3:\n",
    "        return 2\n",
    "    elif N>=4:\n",
    "        return SmallNumFactors(N-4) + SmallNumFactors(N-3) + SmallNumFactors(N-1)"
   ]
  },
  {
   "cell_type": "code",
   "execution_count": 2,
   "id": "bf186b2b-1a5b-486a-a3bb-5430529cc93b",
   "metadata": {},
   "outputs": [
    {
     "data": {
      "text/plain": [
       "4"
      ]
     },
     "execution_count": 2,
     "metadata": {},
     "output_type": "execute_result"
    }
   ],
   "source": [
    "SmallNumFactors(4)"
   ]
  },
  {
   "cell_type": "code",
   "execution_count": 3,
   "id": "26d3fcec-c06d-4a73-89ca-4e42eae3f2af",
   "metadata": {},
   "outputs": [
    {
     "data": {
      "text/plain": [
       "6"
      ]
     },
     "execution_count": 3,
     "metadata": {},
     "output_type": "execute_result"
    }
   ],
   "source": [
    "SmallNumFactors(5)"
   ]
  },
  {
   "cell_type": "markdown",
   "id": "4a138ce6-854d-4713-b9b3-4ce01f1b3184",
   "metadata": {},
   "source": [
    "Now we turn to the dynamic programming versions for larger numbers. First, using memoization, we have the following implementation:"
   ]
  },
  {
   "cell_type": "code",
   "execution_count": 8,
   "id": "fdba253d-622a-4e09-9adf-412b91fb2da4",
   "metadata": {},
   "outputs": [],
   "source": [
    "# Easy case with nums = [1,3,4]\n",
    "def SmallNumFactorsDPmem(N, mem=None):\n",
    "    \n",
    "    if mem is None:\n",
    "        if N in [0,1,2]:\n",
    "            return 1\n",
    "        elif N==3:\n",
    "            return 2\n",
    "        elif N>=4:\n",
    "            mem = [None]*(N+1)\n",
    "            mem[0] = 1\n",
    "            mem[1] = 1\n",
    "            mem[2] = 1\n",
    "            mem[3] = 2\n",
    "\n",
    "    if mem[N] is None:\n",
    "        mem[N] = SmallNumFactorsDPmem(N-4,mem)+SmallNumFactorsDPmem(N-3,mem)+SmallNumFactorsDPmem(N-1,mem)\n",
    "    \n",
    "    return mem[N]\n"
   ]
  },
  {
   "cell_type": "code",
   "execution_count": 14,
   "id": "3e9f9386-4ade-4487-93b5-1f47ad1ac165",
   "metadata": {},
   "outputs": [
    {
     "data": {
      "text/plain": [
       "25"
      ]
     },
     "execution_count": 14,
     "metadata": {},
     "output_type": "execute_result"
    }
   ],
   "source": [
    "SmallNumFactorsDPmem(8)"
   ]
  },
  {
   "cell_type": "code",
   "execution_count": 15,
   "id": "3b252ae8-dcbd-4ec9-8b9f-838b71188cb2",
   "metadata": {},
   "outputs": [
    {
     "data": {
      "text/plain": [
       "6"
      ]
     },
     "execution_count": 15,
     "metadata": {},
     "output_type": "execute_result"
    }
   ],
   "source": [
    "SmallNumFactorsDPmem(5)"
   ]
  },
  {
   "cell_type": "markdown",
   "id": "672802ad-e3b2-4c08-8386-185d421569c2",
   "metadata": {},
   "source": [
    "Next, the bottom-up approach can be done as follows"
   ]
  },
  {
   "cell_type": "code",
   "execution_count": 17,
   "id": "a97a4f12-6e74-4f28-b1b2-6ce0d3d62365",
   "metadata": {},
   "outputs": [],
   "source": [
    "# Easy case with nums = [1,3,4]\n",
    "def SmallNumFactorsDPBU(N):\n",
    "    nums = [1,3,4]\n",
    "    if N in [0,1,2]:\n",
    "        return 1\n",
    "    elif N == 3:\n",
    "        return 2\n",
    "    elif N>=4:\n",
    "        M = [0]*(N+1)\n",
    "        M[0] = 1\n",
    "        M[1] = 1\n",
    "        M[2] = 1\n",
    "        M[3] = 2\n",
    "        \n",
    "        for n in range(4,N+1):\n",
    "            for k in nums:\n",
    "                M[n] += M[n-k]\n",
    "        \n",
    "        return M[N]\n"
   ]
  },
  {
   "cell_type": "code",
   "execution_count": 18,
   "id": "8cdcae09-1f7e-4bb2-99b3-1e2d3f7226b4",
   "metadata": {},
   "outputs": [
    {
     "data": {
      "text/plain": [
       "6"
      ]
     },
     "execution_count": 18,
     "metadata": {},
     "output_type": "execute_result"
    }
   ],
   "source": [
    "SmallNumFactorsDPBU(5)"
   ]
  },
  {
   "cell_type": "markdown",
   "id": "c8a325bd-df4e-4500-8c15-70ecf3563936",
   "metadata": {},
   "source": [
    "Here we solved this problem with a fixed set of factors *[1,3,4]*. If the list of factors was assumed to also be variable, the solution would have been much more delicate to implement."
   ]
  },
  {
   "cell_type": "markdown",
   "id": "d8677c34-d8d7-452e-9e3e-95a3a11fe2fc",
   "metadata": {
    "tags": []
   },
   "source": [
    "## 3) Dynamic Programming in general\n",
    "\n",
    "This part is based on [CLRS22, Sec.14.3]. To be able to solve a problem using dynamic programming, there are essentially two ingredients that have to be present: An optimal substructure, and overlapping subproblems.\n",
    "\n",
    "In view of the other algorithms studied up to this point, it is useful to view dynamic programming as a form of divide-and-conquer procedure used when we have overlapping problems and optimal substructure. Very often also, dynamic programming is more easily implemented using recursions, which leads us to the discussion of memoization and/or bottom-up approaches.\n",
    "\n",
    "### 3.a - Optimal substructure\n",
    "\n",
    "In each of the previously treated problems, we constructed a final solution based on optimal solutions to subproblems. The pattern we used is the following:\n",
    "1) We make an initial initial choice, which gives rise to a \"subproblem\", by which we mean solving the same problem but \"lower dimension\" or less parameters. (E.g., a shorter input array, or a lower value of an amount).\n",
    "2) For a given problem, we assume that we are given the choice leading to an optimal solution. At this step we do not determine it.\n",
    "3) Given an optimal choice, we determine the ensuing subproblems, and characterize their \"structure\".\n",
    "4) We show that the solutions to the subproblems used within an optimal solution must themselves be optimal, essentially checking a principle of optimality.\n",
    "\n",
    "There are two ways in which optimal substructure varies accross problems: (1) How many subproblems an optimal solution to the problem uses, and (2) how many choices need to be made to determine the subproblems solved. Both of these will determine the running time of the function that solves the problem.\n",
    "\n",
    "To summarize, when we are looking for optimal substructure, we are essentially doing the divide-and-conquer part of this class of problems.\n",
    "\n",
    "### 3.b - Overlapping subproblems\n",
    "\n",
    "For dynamic programming to be applicable, the top-down recursive approach should inevitably lead to the same subproblems being solved, exactly as in the case of the number factor problem. In the case of more general divide-and-conquer algorithms, the subproblems generated by the \"divide\" part will essentially always be new, in which case dynamic programming is not applicable.\n",
    "\n",
    "Given that we have overlapping subproblems, the \"programming\" part of dynamic programming essentially means that we memorize the subproblems once we solve them, and by re-using the solutions, we greatly improve the execution time of the implemented function. \n",
    "\n",
    "For a top-down implementation, keeping an array of results is called **memoization**. This array is checked at each recursive call, and typically for these implementations, some care needs to be taken in the initialization of the array and how the existence of a given entry is checked.\n",
    "\n",
    "For bottom-up implementations, we always start by solving the subproblems and storing the optimal value. Of course, this means that we keep an array which is filled with solutions to base cases, and then build the solutions of the larger problems piece-by-piece. Here, when looking for a min or a max, it's useful to keep in mind that we often use an additional loop.\n",
    "\n",
    "### 3.c - Top-down vs bottom-up\n",
    "\n",
    "Both approaches have pros and cons:\n",
    "\n",
    "1) Top-down approaches are slightly easier to implement once we understand how the optimal substructure works. In this case, the solution algorithm is recursive. The issue is that we need to be careful with the memoization, and to keep in mind that quite often, these algorithms are less efficient in terms of execution time.\n",
    "\n",
    "2) Bottom-up approaches could be quite more efficient than bottom-down recursions, but they could be harder to implement. When building a bottom-up solution, we need to know more than the recursive properties of the solutions, which could be non-trivial in some cases.\n"
   ]
  }
 ],
 "metadata": {
  "kernelspec": {
   "display_name": "Python 3 (ipykernel)",
   "language": "python",
   "name": "python3"
  },
  "language_info": {
   "codemirror_mode": {
    "name": "ipython",
    "version": 3
   },
   "file_extension": ".py",
   "mimetype": "text/x-python",
   "name": "python",
   "nbconvert_exporter": "python",
   "pygments_lexer": "ipython3",
   "version": "3.9.16"
  }
 },
 "nbformat": 4,
 "nbformat_minor": 5
}
