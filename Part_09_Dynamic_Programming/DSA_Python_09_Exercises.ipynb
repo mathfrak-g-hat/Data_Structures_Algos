{
 "cells": [
  {
   "cell_type": "markdown",
   "id": "10de5546-3759-4fc4-84e9-2b28cdd69620",
   "metadata": {},
   "source": [
    "# Data Structures and Algorithms in Python - Dynamic Programming Exercises\n",
    "### AJ Zerouali, 2023/10/26"
   ]
  },
  {
   "cell_type": "markdown",
   "id": "d1dee3e7-d3c3-4cfa-b3e1-d33d137ba815",
   "metadata": {},
   "source": [
    "# Exercise 1: Climbing Stairs\n",
    "\n",
    "Source: https://leetcode.com/problems/climbing-stairs/\n",
    "\n",
    "You are climbing a staircase. It takes n steps to reach the top.\n",
    "\n",
    "Each time you can either climb 1 or 2 steps. In how many distinct ways can you climb to the top?\n",
    "\n",
    "Example 1:\n",
    "\n",
    "    Input: n = 2\n",
    "    Output: 2\n",
    "\n",
    "Explanation: There are two ways to climb to the top.\n",
    "    1. 1 step + 1 step\n",
    "    2. 2 steps\n",
    "\n",
    "Example 2:\n",
    "\n",
    "    Input: n = 3\n",
    "    Output: 3\n",
    "\n",
    "Explanation: There are three ways to climb to the top.\n",
    "    1. 1 step + 1 step + 1 step\n",
    "    2. 1 step + 2 steps\n",
    "    3. 2 steps + 1 step\n",
    " \n",
    "\n",
    "Constraints:\n",
    "\n",
    "1 <= n <= 45\n",
    "\n",
    "Type the solution below:"
   ]
  },
  {
   "cell_type": "code",
   "execution_count": null,
   "id": "325b6442-abea-406a-8ce9-48e486171724",
   "metadata": {},
   "outputs": [],
   "source": [
    "class Solution:\n",
    "    def climbStairs(self, n: int) -> int:\n",
    "        '''\n",
    "            CODE HERE\n",
    "        '''"
   ]
  },
  {
   "cell_type": "markdown",
   "id": "8bf88cef-f1ec-48a3-b78f-1eeef6e4f9d2",
   "metadata": {},
   "source": [
    "### 1) My solution:\n",
    "\n",
    "The base case is $n=1$ obviously. At first glance, I would rather implement a bottom-up version rather than a top-down one.\n",
    "\n",
    "The main recursion: If $Z[n]$ denotes the number of ways we can climb $n$ stairs, then $Z[n]=Z[n-1]+Z[n-2]$. This is akin to the splitting $n=n_1+n_2$, where $n_1$ is one or two, and then we sum the number of ways climbing the remaining $(n-n_1)$ stairs.\n",
    "\n",
    "This is actually a Fibonacci sequence."
   ]
  },
  {
   "cell_type": "code",
   "execution_count": 9,
   "id": "1d13006d-6921-40bf-bda5-d6e530fc90d7",
   "metadata": {},
   "outputs": [],
   "source": [
    "class Solution:\n",
    "    def climbStairs(self, n: int)->int:\n",
    "        # Init. partition array\n",
    "        ## Z[i] is the number of ways one can climb i steps\n",
    "        Z = [None]*(n+1)\n",
    "        Z[0] = 0\n",
    "        Z[1] = 1\n",
    "        Z[2] = 2\n",
    "        \n",
    "        if n<=2:\n",
    "            return Z[n]\n",
    "        \n",
    "        # Main loop\n",
    "        for i in range(3,n+1):\n",
    "            Z[i] = 0\n",
    "            # Set i = j + k, j num of stair steps in first climb\n",
    "            for j in range(1,3):\n",
    "                Z[i] += Z[i-j]\n",
    "        \n",
    "        # Output\n",
    "        return Z[n]\n",
    "        "
   ]
  },
  {
   "cell_type": "code",
   "execution_count": 9,
   "id": "903f7429-cb8e-4fc0-a3d3-85c2c022b909",
   "metadata": {},
   "outputs": [],
   "source": [
    "'''\n",
    "    LeetCode version\n",
    "'''\n",
    "class Solution:\n",
    "    def climbStairs(self, n: int)->int:\n",
    "        # Init. partition array\n",
    "        ## Z[i] is the number of ways one can climb i steps\n",
    "        if n<1 or n>45:\n",
    "            raise ValueError(\"n must be between 1 and 45 inclusively.\")\n",
    "        elif n==1:\n",
    "            return 1\n",
    "        elif n==2:\n",
    "            return 2\n",
    "        elif n>2:\n",
    "            \n",
    "            Z = [None]*(n+1)\n",
    "            Z[0] = 0\n",
    "            Z[1] = 1\n",
    "            Z[2] = 2\n",
    "\n",
    "            if n<=2:\n",
    "                return Z[n]\n",
    "\n",
    "            # Main loop\n",
    "            for i in range(3,n+1):\n",
    "                Z[i] = 0\n",
    "                # Set i = j + k, j num of stair steps in first climb\n",
    "                for j in range(1,3):\n",
    "                    Z[i] += Z[i-j]\n",
    "\n",
    "            # Output\n",
    "            return Z[n]\n",
    "        "
   ]
  },
  {
   "cell_type": "code",
   "execution_count": 10,
   "id": "37245372-44ae-4ce4-af8b-9651fb573461",
   "metadata": {},
   "outputs": [],
   "source": [
    "sol = Solution()"
   ]
  },
  {
   "cell_type": "code",
   "execution_count": 13,
   "id": "dcb92358-b0d9-4845-a981-f71aa17a5872",
   "metadata": {},
   "outputs": [
    {
     "data": {
      "text/plain": [
       "8"
      ]
     },
     "execution_count": 13,
     "metadata": {},
     "output_type": "execute_result"
    }
   ],
   "source": [
    "sol.climbStairs(5)"
   ]
  },
  {
   "cell_type": "markdown",
   "id": "2b13e62f-b0d9-413c-adfd-8749b6cbb924",
   "metadata": {},
   "source": [
    "# Exercise 2: Coin Change\n",
    "\n",
    "Source: https://leetcode.com/problems/coin-change/\n",
    "\n",
    "You are given an integer array coins representing coins of different denominations and an integer amount representing a total amount of money.\n",
    "\n",
    "Return the fewest number of coins that you need to make up that amount. If that amount of money cannot be made up by any combination of the coins, return -1.\n",
    "\n",
    "You may assume that you have an infinite number of each kind of coin.\n",
    "\n",
    "Example 1:\n",
    "\n",
    "        Input: coins = [1,2,5], amount = 11\n",
    "        Output: 3\n",
    "Explanation: 11 = 5 + 5 + 1\n",
    "\n",
    "Example 2:\n",
    "\n",
    "        Input: coins = [2], amount = 3\n",
    "        Output: -1\n",
    "\n",
    "\n",
    "Example 3:\n",
    "\n",
    "        Input: coins = [1], amount = 0\n",
    "        Output: 0\n",
    " \n",
    "\n",
    "Constraints:\n",
    "\n",
    "1 <= coins.length <= 12\n",
    "1 <= coins[i] <= 231 - 1\n",
    "0 <= amount <= 104"
   ]
  },
  {
   "cell_type": "code",
   "execution_count": null,
   "id": "ee73723b-71c0-4bc9-9c3e-e413429b8cef",
   "metadata": {},
   "outputs": [],
   "source": [
    "class Solution:\n",
    "    def coinChange(self, coins: List[int], amount: int) -> int:\n",
    "        '''\n",
    "            CODE HERE\n",
    "        '''"
   ]
  },
  {
   "cell_type": "markdown",
   "id": "f5d3b725-64dd-4532-98dd-c61701097cbe",
   "metadata": {},
   "source": [
    "## 1) My solution(s):\n",
    "\n",
    "This problem is notoriously difficult. The issue is that the optimal substructure is not really obvious, and I am under the impression that the cases must be checked exhaustively, since largest factors are not necessarily optimal.\n",
    "\n",
    "As an easy case, consider the coins *[1,2,5]* and the amount *11*. The optimal solution is obtained using *(n_0,n_1,n_3)=(1,0,2)*, where *2=11//5*. If the list is *[2,5]* and the amount is *6*, then using a partition of *6* with coefficients *(n_0,n_1)* and *n_1=1=6//5* would yield no solution.\n",
    "\n",
    "I think the best way of doing this problem is to start with a naive implementation where we can get all the partitions of the amount by the coins in the list."
   ]
  },
  {
   "cell_type": "markdown",
   "id": "781d2137-c004-4ffe-8e10-03239da3fc32",
   "metadata": {},
   "source": [
    "### a) A preliminary solution:\n",
    "\n",
    "This implementation solves the problem of coin change by finding all partitions with three constraints:\n",
    "1) First, the coin list is sorted.\n",
    "2) Second, we choose a pivot coin in the list. This is the first coin value used for making change, and in the corresponding partitions, no higher values are used.\n",
    "3) For each pivot coin value, there is a decreasing loop over the number of pivot coins used, with the highest number being the highest multiple of the pivot coin in the (remaining) amount.\n",
    "\n",
    "This is clearer when looking at the implementation."
   ]
  },
  {
   "cell_type": "code",
   "execution_count": 23,
   "id": "68405ef0-ac93-45af-9a92-5ccb3cfcda43",
   "metadata": {},
   "outputs": [],
   "source": [
    "def make_partitions(coins, amount):\n",
    "    coins.sort()\n",
    "    N = len(coins)\n",
    "    \n",
    "    partitions = []\n",
    "    pivot_idx = N-1\n",
    "    n_coins_min = float('inf')\n",
    "    # Loop over first coin of partition\n",
    "    for pivot_idx in range(N-1,-1,-1):\n",
    "        print(f\"\\npivot_idx = {pivot_idx}\")\n",
    "        print(f\"-----------------------\")\n",
    "        #partitions_temp = [0]*N\n",
    "        n_max = amount//coins[pivot_idx]\n",
    "        # Loop over num. coins of pivot\n",
    "        for n in range(n_max, 0, -1):\n",
    "            print(f\"case of n[pivot_idx]={n}:\")\n",
    "            i = pivot_idx\n",
    "            temp_partition = [0]*(N+1)\n",
    "            temp_partition[i] = n\n",
    "            r = amount - n*coins[pivot_idx]\n",
    "            #r = amount%n\n",
    "            while r>0 and i>0:\n",
    "                m = r//coins[i-1]\n",
    "                temp_partition[i-1] = m\n",
    "                #r = r%coins[i-1]\n",
    "                r = r - m*coins[i-1]\n",
    "                i = i-1\n",
    "            \n",
    "            if r==0:\n",
    "                temp_partition[N] = sum(temp_partition[:-1])\n",
    "                if temp_partition[N]<=n_coins_min:\n",
    "                    n_coins_min = temp_partition[N]\n",
    "            else:\n",
    "                temp_partition[N] = -1\n",
    "                \n",
    "            partitions.append(temp_partition)\n",
    "            print(f\"New partition: {temp_partition}\")\n",
    "            \n",
    "    if n_coins_min == float('inf'):\n",
    "        n_coins_min = -1\n",
    "    \n",
    "    print(f\"Min. num. of coins: n_coins_min= {n_coins_min}\")\n",
    "    \n",
    "    return partitions\n",
    "            \n",
    "            "
   ]
  },
  {
   "cell_type": "code",
   "execution_count": 28,
   "id": "63e93565-fa99-4580-816a-539df48c0e9f",
   "metadata": {},
   "outputs": [
    {
     "name": "stdout",
     "output_type": "stream",
     "text": [
      "\n",
      "pivot_idx = 2\n",
      "-----------------------\n",
      "case of n[pivot_idx]=2:\n",
      "New partition: [1, 0, 2, 3]\n",
      "case of n[pivot_idx]=1:\n",
      "New partition: [0, 3, 1, 4]\n",
      "\n",
      "pivot_idx = 1\n",
      "-----------------------\n",
      "case of n[pivot_idx]=5:\n",
      "New partition: [1, 5, 0, 6]\n",
      "case of n[pivot_idx]=4:\n",
      "New partition: [3, 4, 0, 7]\n",
      "case of n[pivot_idx]=3:\n",
      "New partition: [5, 3, 0, 8]\n",
      "case of n[pivot_idx]=2:\n",
      "New partition: [7, 2, 0, 9]\n",
      "case of n[pivot_idx]=1:\n",
      "New partition: [9, 1, 0, 10]\n",
      "\n",
      "pivot_idx = 0\n",
      "-----------------------\n",
      "case of n[pivot_idx]=11:\n",
      "New partition: [11, 0, 0, 11]\n",
      "case of n[pivot_idx]=10:\n",
      "New partition: [10, 0, 0, -1]\n",
      "case of n[pivot_idx]=9:\n",
      "New partition: [9, 0, 0, -1]\n",
      "case of n[pivot_idx]=8:\n",
      "New partition: [8, 0, 0, -1]\n",
      "case of n[pivot_idx]=7:\n",
      "New partition: [7, 0, 0, -1]\n",
      "case of n[pivot_idx]=6:\n",
      "New partition: [6, 0, 0, -1]\n",
      "case of n[pivot_idx]=5:\n",
      "New partition: [5, 0, 0, -1]\n",
      "case of n[pivot_idx]=4:\n",
      "New partition: [4, 0, 0, -1]\n",
      "case of n[pivot_idx]=3:\n",
      "New partition: [3, 0, 0, -1]\n",
      "case of n[pivot_idx]=2:\n",
      "New partition: [2, 0, 0, -1]\n",
      "case of n[pivot_idx]=1:\n",
      "New partition: [1, 0, 0, -1]\n",
      "Min. num. of coins: n_coins_min= 3\n"
     ]
    },
    {
     "data": {
      "text/plain": [
       "[[1, 0, 2, 3],\n",
       " [0, 3, 1, 4],\n",
       " [1, 5, 0, 6],\n",
       " [3, 4, 0, 7],\n",
       " [5, 3, 0, 8],\n",
       " [7, 2, 0, 9],\n",
       " [9, 1, 0, 10],\n",
       " [11, 0, 0, 11],\n",
       " [10, 0, 0, -1],\n",
       " [9, 0, 0, -1],\n",
       " [8, 0, 0, -1],\n",
       " [7, 0, 0, -1],\n",
       " [6, 0, 0, -1],\n",
       " [5, 0, 0, -1],\n",
       " [4, 0, 0, -1],\n",
       " [3, 0, 0, -1],\n",
       " [2, 0, 0, -1],\n",
       " [1, 0, 0, -1]]"
      ]
     },
     "execution_count": 28,
     "metadata": {},
     "output_type": "execute_result"
    }
   ],
   "source": [
    "make_partitions([1,2,5],11)"
   ]
  },
  {
   "cell_type": "code",
   "execution_count": 29,
   "id": "5a78f8c8-94f1-4096-bf0f-999b82c547fa",
   "metadata": {},
   "outputs": [
    {
     "name": "stdout",
     "output_type": "stream",
     "text": [
      "\n",
      "pivot_idx = 0\n",
      "-----------------------\n",
      "case of n[pivot_idx]=1:\n",
      "New partition: [1, -1]\n",
      "Min. num. of coins: n_coins_min= -1\n"
     ]
    },
    {
     "data": {
      "text/plain": [
       "[[1, -1]]"
      ]
     },
     "execution_count": 29,
     "metadata": {},
     "output_type": "execute_result"
    }
   ],
   "source": [
    "make_partitions([2],3)"
   ]
  },
  {
   "cell_type": "code",
   "execution_count": 30,
   "id": "97a6a8c5-acf5-429a-a596-d32289851779",
   "metadata": {
    "collapsed": true,
    "jupyter": {
     "outputs_hidden": true
    },
    "tags": []
   },
   "outputs": [
    {
     "name": "stdout",
     "output_type": "stream",
     "text": [
      "\n",
      "pivot_idx = 3\n",
      "-----------------------\n",
      "case of n[pivot_idx]=2:\n",
      "New partition: [4, 0, 2, 2, 8]\n",
      "case of n[pivot_idx]=1:\n",
      "New partition: [4, 1, 4, 1, 10]\n",
      "\n",
      "pivot_idx = 2\n",
      "-----------------------\n",
      "case of n[pivot_idx]=7:\n",
      "New partition: [4, 0, 7, 0, 11]\n",
      "case of n[pivot_idx]=6:\n",
      "New partition: [4, 2, 6, 0, 12]\n",
      "case of n[pivot_idx]=5:\n",
      "New partition: [4, 4, 5, 0, 13]\n",
      "case of n[pivot_idx]=4:\n",
      "New partition: [4, 6, 4, 0, 14]\n",
      "case of n[pivot_idx]=3:\n",
      "New partition: [4, 8, 3, 0, 15]\n",
      "case of n[pivot_idx]=2:\n",
      "New partition: [4, 10, 2, 0, 16]\n",
      "case of n[pivot_idx]=1:\n",
      "New partition: [4, 12, 1, 0, 17]\n",
      "\n",
      "pivot_idx = 1\n",
      "-----------------------\n",
      "case of n[pivot_idx]=14:\n",
      "New partition: [4, 14, 0, 0, 18]\n",
      "case of n[pivot_idx]=13:\n",
      "New partition: [9, 13, 0, 0, 22]\n",
      "case of n[pivot_idx]=12:\n",
      "New partition: [14, 12, 0, 0, 26]\n",
      "case of n[pivot_idx]=11:\n",
      "New partition: [19, 11, 0, 0, 30]\n",
      "case of n[pivot_idx]=10:\n",
      "New partition: [24, 10, 0, 0, 34]\n",
      "case of n[pivot_idx]=9:\n",
      "New partition: [29, 9, 0, 0, 38]\n",
      "case of n[pivot_idx]=8:\n",
      "New partition: [34, 8, 0, 0, 42]\n",
      "case of n[pivot_idx]=7:\n",
      "New partition: [39, 7, 0, 0, 46]\n",
      "case of n[pivot_idx]=6:\n",
      "New partition: [44, 6, 0, 0, 50]\n",
      "case of n[pivot_idx]=5:\n",
      "New partition: [49, 5, 0, 0, 54]\n",
      "case of n[pivot_idx]=4:\n",
      "New partition: [54, 4, 0, 0, 58]\n",
      "case of n[pivot_idx]=3:\n",
      "New partition: [59, 3, 0, 0, 62]\n",
      "case of n[pivot_idx]=2:\n",
      "New partition: [64, 2, 0, 0, 66]\n",
      "case of n[pivot_idx]=1:\n",
      "New partition: [69, 1, 0, 0, 70]\n",
      "\n",
      "pivot_idx = 0\n",
      "-----------------------\n",
      "case of n[pivot_idx]=74:\n",
      "New partition: [74, 0, 0, 0, 74]\n",
      "case of n[pivot_idx]=73:\n",
      "New partition: [73, 0, 0, 0, -1]\n",
      "case of n[pivot_idx]=72:\n",
      "New partition: [72, 0, 0, 0, -1]\n",
      "case of n[pivot_idx]=71:\n",
      "New partition: [71, 0, 0, 0, -1]\n",
      "case of n[pivot_idx]=70:\n",
      "New partition: [70, 0, 0, 0, -1]\n",
      "case of n[pivot_idx]=69:\n",
      "New partition: [69, 0, 0, 0, -1]\n",
      "case of n[pivot_idx]=68:\n",
      "New partition: [68, 0, 0, 0, -1]\n",
      "case of n[pivot_idx]=67:\n",
      "New partition: [67, 0, 0, 0, -1]\n",
      "case of n[pivot_idx]=66:\n",
      "New partition: [66, 0, 0, 0, -1]\n",
      "case of n[pivot_idx]=65:\n",
      "New partition: [65, 0, 0, 0, -1]\n",
      "case of n[pivot_idx]=64:\n",
      "New partition: [64, 0, 0, 0, -1]\n",
      "case of n[pivot_idx]=63:\n",
      "New partition: [63, 0, 0, 0, -1]\n",
      "case of n[pivot_idx]=62:\n",
      "New partition: [62, 0, 0, 0, -1]\n",
      "case of n[pivot_idx]=61:\n",
      "New partition: [61, 0, 0, 0, -1]\n",
      "case of n[pivot_idx]=60:\n",
      "New partition: [60, 0, 0, 0, -1]\n",
      "case of n[pivot_idx]=59:\n",
      "New partition: [59, 0, 0, 0, -1]\n",
      "case of n[pivot_idx]=58:\n",
      "New partition: [58, 0, 0, 0, -1]\n",
      "case of n[pivot_idx]=57:\n",
      "New partition: [57, 0, 0, 0, -1]\n",
      "case of n[pivot_idx]=56:\n",
      "New partition: [56, 0, 0, 0, -1]\n",
      "case of n[pivot_idx]=55:\n",
      "New partition: [55, 0, 0, 0, -1]\n",
      "case of n[pivot_idx]=54:\n",
      "New partition: [54, 0, 0, 0, -1]\n",
      "case of n[pivot_idx]=53:\n",
      "New partition: [53, 0, 0, 0, -1]\n",
      "case of n[pivot_idx]=52:\n",
      "New partition: [52, 0, 0, 0, -1]\n",
      "case of n[pivot_idx]=51:\n",
      "New partition: [51, 0, 0, 0, -1]\n",
      "case of n[pivot_idx]=50:\n",
      "New partition: [50, 0, 0, 0, -1]\n",
      "case of n[pivot_idx]=49:\n",
      "New partition: [49, 0, 0, 0, -1]\n",
      "case of n[pivot_idx]=48:\n",
      "New partition: [48, 0, 0, 0, -1]\n",
      "case of n[pivot_idx]=47:\n",
      "New partition: [47, 0, 0, 0, -1]\n",
      "case of n[pivot_idx]=46:\n",
      "New partition: [46, 0, 0, 0, -1]\n",
      "case of n[pivot_idx]=45:\n",
      "New partition: [45, 0, 0, 0, -1]\n",
      "case of n[pivot_idx]=44:\n",
      "New partition: [44, 0, 0, 0, -1]\n",
      "case of n[pivot_idx]=43:\n",
      "New partition: [43, 0, 0, 0, -1]\n",
      "case of n[pivot_idx]=42:\n",
      "New partition: [42, 0, 0, 0, -1]\n",
      "case of n[pivot_idx]=41:\n",
      "New partition: [41, 0, 0, 0, -1]\n",
      "case of n[pivot_idx]=40:\n",
      "New partition: [40, 0, 0, 0, -1]\n",
      "case of n[pivot_idx]=39:\n",
      "New partition: [39, 0, 0, 0, -1]\n",
      "case of n[pivot_idx]=38:\n",
      "New partition: [38, 0, 0, 0, -1]\n",
      "case of n[pivot_idx]=37:\n",
      "New partition: [37, 0, 0, 0, -1]\n",
      "case of n[pivot_idx]=36:\n",
      "New partition: [36, 0, 0, 0, -1]\n",
      "case of n[pivot_idx]=35:\n",
      "New partition: [35, 0, 0, 0, -1]\n",
      "case of n[pivot_idx]=34:\n",
      "New partition: [34, 0, 0, 0, -1]\n",
      "case of n[pivot_idx]=33:\n",
      "New partition: [33, 0, 0, 0, -1]\n",
      "case of n[pivot_idx]=32:\n",
      "New partition: [32, 0, 0, 0, -1]\n",
      "case of n[pivot_idx]=31:\n",
      "New partition: [31, 0, 0, 0, -1]\n",
      "case of n[pivot_idx]=30:\n",
      "New partition: [30, 0, 0, 0, -1]\n",
      "case of n[pivot_idx]=29:\n",
      "New partition: [29, 0, 0, 0, -1]\n",
      "case of n[pivot_idx]=28:\n",
      "New partition: [28, 0, 0, 0, -1]\n",
      "case of n[pivot_idx]=27:\n",
      "New partition: [27, 0, 0, 0, -1]\n",
      "case of n[pivot_idx]=26:\n",
      "New partition: [26, 0, 0, 0, -1]\n",
      "case of n[pivot_idx]=25:\n",
      "New partition: [25, 0, 0, 0, -1]\n",
      "case of n[pivot_idx]=24:\n",
      "New partition: [24, 0, 0, 0, -1]\n",
      "case of n[pivot_idx]=23:\n",
      "New partition: [23, 0, 0, 0, -1]\n",
      "case of n[pivot_idx]=22:\n",
      "New partition: [22, 0, 0, 0, -1]\n",
      "case of n[pivot_idx]=21:\n",
      "New partition: [21, 0, 0, 0, -1]\n",
      "case of n[pivot_idx]=20:\n",
      "New partition: [20, 0, 0, 0, -1]\n",
      "case of n[pivot_idx]=19:\n",
      "New partition: [19, 0, 0, 0, -1]\n",
      "case of n[pivot_idx]=18:\n",
      "New partition: [18, 0, 0, 0, -1]\n",
      "case of n[pivot_idx]=17:\n",
      "New partition: [17, 0, 0, 0, -1]\n",
      "case of n[pivot_idx]=16:\n",
      "New partition: [16, 0, 0, 0, -1]\n",
      "case of n[pivot_idx]=15:\n",
      "New partition: [15, 0, 0, 0, -1]\n",
      "case of n[pivot_idx]=14:\n",
      "New partition: [14, 0, 0, 0, -1]\n",
      "case of n[pivot_idx]=13:\n",
      "New partition: [13, 0, 0, 0, -1]\n",
      "case of n[pivot_idx]=12:\n",
      "New partition: [12, 0, 0, 0, -1]\n",
      "case of n[pivot_idx]=11:\n",
      "New partition: [11, 0, 0, 0, -1]\n",
      "case of n[pivot_idx]=10:\n",
      "New partition: [10, 0, 0, 0, -1]\n",
      "case of n[pivot_idx]=9:\n",
      "New partition: [9, 0, 0, 0, -1]\n",
      "case of n[pivot_idx]=8:\n",
      "New partition: [8, 0, 0, 0, -1]\n",
      "case of n[pivot_idx]=7:\n",
      "New partition: [7, 0, 0, 0, -1]\n",
      "case of n[pivot_idx]=6:\n",
      "New partition: [6, 0, 0, 0, -1]\n",
      "case of n[pivot_idx]=5:\n",
      "New partition: [5, 0, 0, 0, -1]\n",
      "case of n[pivot_idx]=4:\n",
      "New partition: [4, 0, 0, 0, -1]\n",
      "case of n[pivot_idx]=3:\n",
      "New partition: [3, 0, 0, 0, -1]\n",
      "case of n[pivot_idx]=2:\n",
      "New partition: [2, 0, 0, 0, -1]\n",
      "case of n[pivot_idx]=1:\n",
      "New partition: [1, 0, 0, 0, -1]\n",
      "Min. num. of coins: n_coins_min= 8\n"
     ]
    },
    {
     "data": {
      "text/plain": [
       "[[4, 0, 2, 2, 8],\n",
       " [4, 1, 4, 1, 10],\n",
       " [4, 0, 7, 0, 11],\n",
       " [4, 2, 6, 0, 12],\n",
       " [4, 4, 5, 0, 13],\n",
       " [4, 6, 4, 0, 14],\n",
       " [4, 8, 3, 0, 15],\n",
       " [4, 10, 2, 0, 16],\n",
       " [4, 12, 1, 0, 17],\n",
       " [4, 14, 0, 0, 18],\n",
       " [9, 13, 0, 0, 22],\n",
       " [14, 12, 0, 0, 26],\n",
       " [19, 11, 0, 0, 30],\n",
       " [24, 10, 0, 0, 34],\n",
       " [29, 9, 0, 0, 38],\n",
       " [34, 8, 0, 0, 42],\n",
       " [39, 7, 0, 0, 46],\n",
       " [44, 6, 0, 0, 50],\n",
       " [49, 5, 0, 0, 54],\n",
       " [54, 4, 0, 0, 58],\n",
       " [59, 3, 0, 0, 62],\n",
       " [64, 2, 0, 0, 66],\n",
       " [69, 1, 0, 0, 70],\n",
       " [74, 0, 0, 0, 74],\n",
       " [73, 0, 0, 0, -1],\n",
       " [72, 0, 0, 0, -1],\n",
       " [71, 0, 0, 0, -1],\n",
       " [70, 0, 0, 0, -1],\n",
       " [69, 0, 0, 0, -1],\n",
       " [68, 0, 0, 0, -1],\n",
       " [67, 0, 0, 0, -1],\n",
       " [66, 0, 0, 0, -1],\n",
       " [65, 0, 0, 0, -1],\n",
       " [64, 0, 0, 0, -1],\n",
       " [63, 0, 0, 0, -1],\n",
       " [62, 0, 0, 0, -1],\n",
       " [61, 0, 0, 0, -1],\n",
       " [60, 0, 0, 0, -1],\n",
       " [59, 0, 0, 0, -1],\n",
       " [58, 0, 0, 0, -1],\n",
       " [57, 0, 0, 0, -1],\n",
       " [56, 0, 0, 0, -1],\n",
       " [55, 0, 0, 0, -1],\n",
       " [54, 0, 0, 0, -1],\n",
       " [53, 0, 0, 0, -1],\n",
       " [52, 0, 0, 0, -1],\n",
       " [51, 0, 0, 0, -1],\n",
       " [50, 0, 0, 0, -1],\n",
       " [49, 0, 0, 0, -1],\n",
       " [48, 0, 0, 0, -1],\n",
       " [47, 0, 0, 0, -1],\n",
       " [46, 0, 0, 0, -1],\n",
       " [45, 0, 0, 0, -1],\n",
       " [44, 0, 0, 0, -1],\n",
       " [43, 0, 0, 0, -1],\n",
       " [42, 0, 0, 0, -1],\n",
       " [41, 0, 0, 0, -1],\n",
       " [40, 0, 0, 0, -1],\n",
       " [39, 0, 0, 0, -1],\n",
       " [38, 0, 0, 0, -1],\n",
       " [37, 0, 0, 0, -1],\n",
       " [36, 0, 0, 0, -1],\n",
       " [35, 0, 0, 0, -1],\n",
       " [34, 0, 0, 0, -1],\n",
       " [33, 0, 0, 0, -1],\n",
       " [32, 0, 0, 0, -1],\n",
       " [31, 0, 0, 0, -1],\n",
       " [30, 0, 0, 0, -1],\n",
       " [29, 0, 0, 0, -1],\n",
       " [28, 0, 0, 0, -1],\n",
       " [27, 0, 0, 0, -1],\n",
       " [26, 0, 0, 0, -1],\n",
       " [25, 0, 0, 0, -1],\n",
       " [24, 0, 0, 0, -1],\n",
       " [23, 0, 0, 0, -1],\n",
       " [22, 0, 0, 0, -1],\n",
       " [21, 0, 0, 0, -1],\n",
       " [20, 0, 0, 0, -1],\n",
       " [19, 0, 0, 0, -1],\n",
       " [18, 0, 0, 0, -1],\n",
       " [17, 0, 0, 0, -1],\n",
       " [16, 0, 0, 0, -1],\n",
       " [15, 0, 0, 0, -1],\n",
       " [14, 0, 0, 0, -1],\n",
       " [13, 0, 0, 0, -1],\n",
       " [12, 0, 0, 0, -1],\n",
       " [11, 0, 0, 0, -1],\n",
       " [10, 0, 0, 0, -1],\n",
       " [9, 0, 0, 0, -1],\n",
       " [8, 0, 0, 0, -1],\n",
       " [7, 0, 0, 0, -1],\n",
       " [6, 0, 0, 0, -1],\n",
       " [5, 0, 0, 0, -1],\n",
       " [4, 0, 0, 0, -1],\n",
       " [3, 0, 0, 0, -1],\n",
       " [2, 0, 0, 0, -1],\n",
       " [1, 0, 0, 0, -1]]"
      ]
     },
     "execution_count": 30,
     "metadata": {},
     "output_type": "execute_result"
    }
   ],
   "source": [
    "make_partitions([1,5,10,25],74)"
   ]
  },
  {
   "cell_type": "markdown",
   "id": "5e1d3380-4a53-46eb-97eb-fe0d213ba0a2",
   "metadata": {},
   "source": [
    "### b) First submission\n",
    "\n",
    "My first submission was the following function:"
   ]
  },
  {
   "cell_type": "code",
   "execution_count": 38,
   "id": "70b1b0ed-eb73-4a05-b9af-b1df77b49ce4",
   "metadata": {},
   "outputs": [],
   "source": [
    "def coinChange(coins, amount):\n",
    "    coins.sort()\n",
    "    N = len(coins)\n",
    "    \n",
    "    if N == 0:\n",
    "        raise ValueError(\"Coins list cannot be empty\")\n",
    "    \n",
    "    if amount == 0:\n",
    "        return 0\n",
    "    \n",
    "    pivot_idx = N-1\n",
    "    n_coins_min = float('inf')\n",
    "    \n",
    "    for pivot_idx in range(N-1,-1,-1):\n",
    "        \n",
    "        n_max = amount//coins[pivot_idx]\n",
    "        \n",
    "        # Loop over num. coins of pivot\n",
    "        for n in range(n_max, 0, -1):\n",
    "            \n",
    "            # Start new partition\n",
    "            i = pivot_idx\n",
    "            r = amount - n*coins[pivot_idx]\n",
    "            n_coins_partition = n\n",
    "            \n",
    "            while r>0 and i>0:\n",
    "                m = r//coins[i-1]\n",
    "                n_coins_partition += m\n",
    "                r = r - m*coins[i-1]\n",
    "                i = i-1\n",
    "            \n",
    "            # If partition was valid\n",
    "            if r==0:\n",
    "                if n_coins_partition<=n_coins_min:\n",
    "                    n_coins_min = n_coins_partition\n",
    "                    \n",
    "    if n_coins_min == float('inf'):\n",
    "        n_coins_min = -1\n",
    "    \n",
    "    return n_coins_min\n",
    "            \n",
    "            "
   ]
  },
  {
   "cell_type": "code",
   "execution_count": 39,
   "id": "cb21f76c-1814-4623-8fd7-5f8b3eabf68d",
   "metadata": {},
   "outputs": [
    {
     "data": {
      "text/plain": [
       "3"
      ]
     },
     "execution_count": 39,
     "metadata": {},
     "output_type": "execute_result"
    }
   ],
   "source": [
    "coinChange([1,2,5],11)"
   ]
  },
  {
   "cell_type": "code",
   "execution_count": 40,
   "id": "c3b3191b-1b86-477a-9cdc-dd807ed8852d",
   "metadata": {},
   "outputs": [
    {
     "data": {
      "text/plain": [
       "3"
      ]
     },
     "execution_count": 40,
     "metadata": {},
     "output_type": "execute_result"
    }
   ],
   "source": [
    "coinChange([2,5],6)"
   ]
  },
  {
   "cell_type": "code",
   "execution_count": 41,
   "id": "29ae7bf9-7fae-45a5-b489-010582222fd1",
   "metadata": {},
   "outputs": [
    {
     "data": {
      "text/plain": [
       "8"
      ]
     },
     "execution_count": 41,
     "metadata": {},
     "output_type": "execute_result"
    }
   ],
   "source": [
    "coinChange([1,5,10,25],74)"
   ]
  },
  {
   "cell_type": "code",
   "execution_count": 42,
   "id": "5a6ea7a4-2a42-4f36-8581-06ecddfe053c",
   "metadata": {},
   "outputs": [
    {
     "data": {
      "text/plain": [
       "5"
      ]
     },
     "execution_count": 42,
     "metadata": {},
     "output_type": "execute_result"
    }
   ],
   "source": [
    "coinChange([1,5,10,25],23)"
   ]
  },
  {
   "cell_type": "code",
   "execution_count": 43,
   "id": "ab9e2731-6985-429a-8983-6397db04ebd3",
   "metadata": {},
   "outputs": [
    {
     "data": {
      "text/plain": [
       "3"
      ]
     },
     "execution_count": 43,
     "metadata": {},
     "output_type": "execute_result"
    }
   ],
   "source": [
    "coinChange([1,5,10,25],45)"
   ]
  },
  {
   "cell_type": "code",
   "execution_count": 44,
   "id": "a0b481d3-33f6-4367-bc7f-63fb0d99ee4f",
   "metadata": {},
   "outputs": [
    {
     "data": {
      "text/plain": [
       "-1"
      ]
     },
     "execution_count": 44,
     "metadata": {},
     "output_type": "execute_result"
    }
   ],
   "source": [
    "coinChange([186,419,83,408], 6249)"
   ]
  },
  {
   "cell_type": "markdown",
   "id": "62e5c089-af2b-4c92-b91a-b7a9d8de7497",
   "metadata": {},
   "source": [
    "Leetcode rejected this solution, and the case tested in the previous cell should return 20."
   ]
  },
  {
   "cell_type": "code",
   "execution_count": 45,
   "id": "eb90e335-74ce-4834-8023-f5ba72b2202c",
   "metadata": {
    "collapsed": true,
    "jupyter": {
     "outputs_hidden": true
    },
    "tags": []
   },
   "outputs": [
    {
     "name": "stdout",
     "output_type": "stream",
     "text": [
      "\n",
      "pivot_idx = 3\n",
      "-----------------------\n",
      "case of n[pivot_idx]=14:\n",
      "New partition: [0, 2, 0, 14, -1]\n",
      "case of n[pivot_idx]=13:\n",
      "New partition: [0, 2, 1, 13, -1]\n",
      "case of n[pivot_idx]=12:\n",
      "New partition: [0, 2, 2, 12, -1]\n",
      "case of n[pivot_idx]=11:\n",
      "New partition: [0, 0, 4, 11, -1]\n",
      "case of n[pivot_idx]=10:\n",
      "New partition: [0, 0, 5, 10, -1]\n",
      "case of n[pivot_idx]=9:\n",
      "New partition: [0, 0, 6, 9, -1]\n",
      "case of n[pivot_idx]=8:\n",
      "New partition: [0, 0, 7, 8, -1]\n",
      "case of n[pivot_idx]=7:\n",
      "New partition: [0, 0, 8, 7, -1]\n",
      "case of n[pivot_idx]=6:\n",
      "New partition: [0, 0, 9, 6, -1]\n",
      "case of n[pivot_idx]=5:\n",
      "New partition: [0, 0, 10, 5, -1]\n",
      "case of n[pivot_idx]=4:\n",
      "New partition: [1, 0, 11, 4, -1]\n",
      "case of n[pivot_idx]=3:\n",
      "New partition: [1, 0, 12, 3, -1]\n",
      "case of n[pivot_idx]=2:\n",
      "New partition: [1, 0, 13, 2, -1]\n",
      "case of n[pivot_idx]=1:\n",
      "New partition: [1, 0, 14, 1, -1]\n",
      "\n",
      "pivot_idx = 2\n",
      "-----------------------\n",
      "case of n[pivot_idx]=15:\n",
      "New partition: [1, 0, 15, 0, -1]\n",
      "case of n[pivot_idx]=14:\n",
      "New partition: [1, 2, 14, 0, -1]\n",
      "case of n[pivot_idx]=13:\n",
      "New partition: [0, 5, 13, 0, -1]\n",
      "case of n[pivot_idx]=12:\n",
      "New partition: [0, 7, 12, 0, -1]\n",
      "case of n[pivot_idx]=11:\n",
      "New partition: [1, 9, 11, 0, -1]\n",
      "case of n[pivot_idx]=10:\n",
      "New partition: [1, 11, 10, 0, -1]\n",
      "case of n[pivot_idx]=9:\n",
      "New partition: [1, 13, 9, 0, -1]\n",
      "case of n[pivot_idx]=8:\n",
      "New partition: [0, 16, 8, 0, -1]\n",
      "case of n[pivot_idx]=7:\n",
      "New partition: [0, 18, 7, 0, -1]\n",
      "case of n[pivot_idx]=6:\n",
      "New partition: [0, 20, 6, 0, -1]\n",
      "case of n[pivot_idx]=5:\n",
      "New partition: [1, 22, 5, 0, -1]\n",
      "case of n[pivot_idx]=4:\n",
      "New partition: [1, 24, 4, 0, -1]\n",
      "case of n[pivot_idx]=3:\n",
      "New partition: [0, 27, 3, 0, -1]\n",
      "case of n[pivot_idx]=2:\n",
      "New partition: [0, 29, 2, 0, -1]\n",
      "case of n[pivot_idx]=1:\n",
      "New partition: [0, 31, 1, 0, -1]\n",
      "\n",
      "pivot_idx = 1\n",
      "-----------------------\n",
      "case of n[pivot_idx]=33:\n",
      "New partition: [1, 33, 0, 0, -1]\n",
      "case of n[pivot_idx]=32:\n",
      "New partition: [3, 32, 0, 0, -1]\n",
      "case of n[pivot_idx]=31:\n",
      "New partition: [5, 31, 0, 0, -1]\n",
      "case of n[pivot_idx]=30:\n",
      "New partition: [8, 30, 0, 0, -1]\n",
      "case of n[pivot_idx]=29:\n",
      "New partition: [10, 29, 0, 0, -1]\n",
      "case of n[pivot_idx]=28:\n",
      "New partition: [12, 28, 0, 0, -1]\n",
      "case of n[pivot_idx]=27:\n",
      "New partition: [14, 27, 0, 0, -1]\n",
      "case of n[pivot_idx]=26:\n",
      "New partition: [17, 26, 0, 0, -1]\n",
      "case of n[pivot_idx]=25:\n",
      "New partition: [19, 25, 0, 0, -1]\n",
      "case of n[pivot_idx]=24:\n",
      "New partition: [21, 24, 0, 0, -1]\n",
      "case of n[pivot_idx]=23:\n",
      "New partition: [23, 23, 0, 0, -1]\n",
      "case of n[pivot_idx]=22:\n",
      "New partition: [25, 22, 0, 0, -1]\n",
      "case of n[pivot_idx]=21:\n",
      "New partition: [28, 21, 0, 0, -1]\n",
      "case of n[pivot_idx]=20:\n",
      "New partition: [30, 20, 0, 0, -1]\n",
      "case of n[pivot_idx]=19:\n",
      "New partition: [32, 19, 0, 0, -1]\n",
      "case of n[pivot_idx]=18:\n",
      "New partition: [34, 18, 0, 0, -1]\n",
      "case of n[pivot_idx]=17:\n",
      "New partition: [37, 17, 0, 0, -1]\n",
      "case of n[pivot_idx]=16:\n",
      "New partition: [39, 16, 0, 0, -1]\n",
      "case of n[pivot_idx]=15:\n",
      "New partition: [41, 15, 0, 0, -1]\n",
      "case of n[pivot_idx]=14:\n",
      "New partition: [43, 14, 0, 0, -1]\n",
      "case of n[pivot_idx]=13:\n",
      "New partition: [46, 13, 0, 0, -1]\n",
      "case of n[pivot_idx]=12:\n",
      "New partition: [48, 12, 0, 0, -1]\n",
      "case of n[pivot_idx]=11:\n",
      "New partition: [50, 11, 0, 0, -1]\n",
      "case of n[pivot_idx]=10:\n",
      "New partition: [52, 10, 0, 0, -1]\n",
      "case of n[pivot_idx]=9:\n",
      "New partition: [55, 9, 0, 0, -1]\n",
      "case of n[pivot_idx]=8:\n",
      "New partition: [57, 8, 0, 0, -1]\n",
      "case of n[pivot_idx]=7:\n",
      "New partition: [59, 7, 0, 0, -1]\n",
      "case of n[pivot_idx]=6:\n",
      "New partition: [61, 6, 0, 0, -1]\n",
      "case of n[pivot_idx]=5:\n",
      "New partition: [64, 5, 0, 0, -1]\n",
      "case of n[pivot_idx]=4:\n",
      "New partition: [66, 4, 0, 0, -1]\n",
      "case of n[pivot_idx]=3:\n",
      "New partition: [68, 3, 0, 0, -1]\n",
      "case of n[pivot_idx]=2:\n",
      "New partition: [70, 2, 0, 0, -1]\n",
      "case of n[pivot_idx]=1:\n",
      "New partition: [73, 1, 0, 0, -1]\n",
      "\n",
      "pivot_idx = 0\n",
      "-----------------------\n",
      "case of n[pivot_idx]=75:\n",
      "New partition: [75, 0, 0, 0, -1]\n",
      "case of n[pivot_idx]=74:\n",
      "New partition: [74, 0, 0, 0, -1]\n",
      "case of n[pivot_idx]=73:\n",
      "New partition: [73, 0, 0, 0, -1]\n",
      "case of n[pivot_idx]=72:\n",
      "New partition: [72, 0, 0, 0, -1]\n",
      "case of n[pivot_idx]=71:\n",
      "New partition: [71, 0, 0, 0, -1]\n",
      "case of n[pivot_idx]=70:\n",
      "New partition: [70, 0, 0, 0, -1]\n",
      "case of n[pivot_idx]=69:\n",
      "New partition: [69, 0, 0, 0, -1]\n",
      "case of n[pivot_idx]=68:\n",
      "New partition: [68, 0, 0, 0, -1]\n",
      "case of n[pivot_idx]=67:\n",
      "New partition: [67, 0, 0, 0, -1]\n",
      "case of n[pivot_idx]=66:\n",
      "New partition: [66, 0, 0, 0, -1]\n",
      "case of n[pivot_idx]=65:\n",
      "New partition: [65, 0, 0, 0, -1]\n",
      "case of n[pivot_idx]=64:\n",
      "New partition: [64, 0, 0, 0, -1]\n",
      "case of n[pivot_idx]=63:\n",
      "New partition: [63, 0, 0, 0, -1]\n",
      "case of n[pivot_idx]=62:\n",
      "New partition: [62, 0, 0, 0, -1]\n",
      "case of n[pivot_idx]=61:\n",
      "New partition: [61, 0, 0, 0, -1]\n",
      "case of n[pivot_idx]=60:\n",
      "New partition: [60, 0, 0, 0, -1]\n",
      "case of n[pivot_idx]=59:\n",
      "New partition: [59, 0, 0, 0, -1]\n",
      "case of n[pivot_idx]=58:\n",
      "New partition: [58, 0, 0, 0, -1]\n",
      "case of n[pivot_idx]=57:\n",
      "New partition: [57, 0, 0, 0, -1]\n",
      "case of n[pivot_idx]=56:\n",
      "New partition: [56, 0, 0, 0, -1]\n",
      "case of n[pivot_idx]=55:\n",
      "New partition: [55, 0, 0, 0, -1]\n",
      "case of n[pivot_idx]=54:\n",
      "New partition: [54, 0, 0, 0, -1]\n",
      "case of n[pivot_idx]=53:\n",
      "New partition: [53, 0, 0, 0, -1]\n",
      "case of n[pivot_idx]=52:\n",
      "New partition: [52, 0, 0, 0, -1]\n",
      "case of n[pivot_idx]=51:\n",
      "New partition: [51, 0, 0, 0, -1]\n",
      "case of n[pivot_idx]=50:\n",
      "New partition: [50, 0, 0, 0, -1]\n",
      "case of n[pivot_idx]=49:\n",
      "New partition: [49, 0, 0, 0, -1]\n",
      "case of n[pivot_idx]=48:\n",
      "New partition: [48, 0, 0, 0, -1]\n",
      "case of n[pivot_idx]=47:\n",
      "New partition: [47, 0, 0, 0, -1]\n",
      "case of n[pivot_idx]=46:\n",
      "New partition: [46, 0, 0, 0, -1]\n",
      "case of n[pivot_idx]=45:\n",
      "New partition: [45, 0, 0, 0, -1]\n",
      "case of n[pivot_idx]=44:\n",
      "New partition: [44, 0, 0, 0, -1]\n",
      "case of n[pivot_idx]=43:\n",
      "New partition: [43, 0, 0, 0, -1]\n",
      "case of n[pivot_idx]=42:\n",
      "New partition: [42, 0, 0, 0, -1]\n",
      "case of n[pivot_idx]=41:\n",
      "New partition: [41, 0, 0, 0, -1]\n",
      "case of n[pivot_idx]=40:\n",
      "New partition: [40, 0, 0, 0, -1]\n",
      "case of n[pivot_idx]=39:\n",
      "New partition: [39, 0, 0, 0, -1]\n",
      "case of n[pivot_idx]=38:\n",
      "New partition: [38, 0, 0, 0, -1]\n",
      "case of n[pivot_idx]=37:\n",
      "New partition: [37, 0, 0, 0, -1]\n",
      "case of n[pivot_idx]=36:\n",
      "New partition: [36, 0, 0, 0, -1]\n",
      "case of n[pivot_idx]=35:\n",
      "New partition: [35, 0, 0, 0, -1]\n",
      "case of n[pivot_idx]=34:\n",
      "New partition: [34, 0, 0, 0, -1]\n",
      "case of n[pivot_idx]=33:\n",
      "New partition: [33, 0, 0, 0, -1]\n",
      "case of n[pivot_idx]=32:\n",
      "New partition: [32, 0, 0, 0, -1]\n",
      "case of n[pivot_idx]=31:\n",
      "New partition: [31, 0, 0, 0, -1]\n",
      "case of n[pivot_idx]=30:\n",
      "New partition: [30, 0, 0, 0, -1]\n",
      "case of n[pivot_idx]=29:\n",
      "New partition: [29, 0, 0, 0, -1]\n",
      "case of n[pivot_idx]=28:\n",
      "New partition: [28, 0, 0, 0, -1]\n",
      "case of n[pivot_idx]=27:\n",
      "New partition: [27, 0, 0, 0, -1]\n",
      "case of n[pivot_idx]=26:\n",
      "New partition: [26, 0, 0, 0, -1]\n",
      "case of n[pivot_idx]=25:\n",
      "New partition: [25, 0, 0, 0, -1]\n",
      "case of n[pivot_idx]=24:\n",
      "New partition: [24, 0, 0, 0, -1]\n",
      "case of n[pivot_idx]=23:\n",
      "New partition: [23, 0, 0, 0, -1]\n",
      "case of n[pivot_idx]=22:\n",
      "New partition: [22, 0, 0, 0, -1]\n",
      "case of n[pivot_idx]=21:\n",
      "New partition: [21, 0, 0, 0, -1]\n",
      "case of n[pivot_idx]=20:\n",
      "New partition: [20, 0, 0, 0, -1]\n",
      "case of n[pivot_idx]=19:\n",
      "New partition: [19, 0, 0, 0, -1]\n",
      "case of n[pivot_idx]=18:\n",
      "New partition: [18, 0, 0, 0, -1]\n",
      "case of n[pivot_idx]=17:\n",
      "New partition: [17, 0, 0, 0, -1]\n",
      "case of n[pivot_idx]=16:\n",
      "New partition: [16, 0, 0, 0, -1]\n",
      "case of n[pivot_idx]=15:\n",
      "New partition: [15, 0, 0, 0, -1]\n",
      "case of n[pivot_idx]=14:\n",
      "New partition: [14, 0, 0, 0, -1]\n",
      "case of n[pivot_idx]=13:\n",
      "New partition: [13, 0, 0, 0, -1]\n",
      "case of n[pivot_idx]=12:\n",
      "New partition: [12, 0, 0, 0, -1]\n",
      "case of n[pivot_idx]=11:\n",
      "New partition: [11, 0, 0, 0, -1]\n",
      "case of n[pivot_idx]=10:\n",
      "New partition: [10, 0, 0, 0, -1]\n",
      "case of n[pivot_idx]=9:\n",
      "New partition: [9, 0, 0, 0, -1]\n",
      "case of n[pivot_idx]=8:\n",
      "New partition: [8, 0, 0, 0, -1]\n",
      "case of n[pivot_idx]=7:\n",
      "New partition: [7, 0, 0, 0, -1]\n",
      "case of n[pivot_idx]=6:\n",
      "New partition: [6, 0, 0, 0, -1]\n",
      "case of n[pivot_idx]=5:\n",
      "New partition: [5, 0, 0, 0, -1]\n",
      "case of n[pivot_idx]=4:\n",
      "New partition: [4, 0, 0, 0, -1]\n",
      "case of n[pivot_idx]=3:\n",
      "New partition: [3, 0, 0, 0, -1]\n",
      "case of n[pivot_idx]=2:\n",
      "New partition: [2, 0, 0, 0, -1]\n",
      "case of n[pivot_idx]=1:\n",
      "New partition: [1, 0, 0, 0, -1]\n",
      "Min. num. of coins: n_coins_min= -1\n"
     ]
    },
    {
     "data": {
      "text/plain": [
       "[[0, 2, 0, 14, -1],\n",
       " [0, 2, 1, 13, -1],\n",
       " [0, 2, 2, 12, -1],\n",
       " [0, 0, 4, 11, -1],\n",
       " [0, 0, 5, 10, -1],\n",
       " [0, 0, 6, 9, -1],\n",
       " [0, 0, 7, 8, -1],\n",
       " [0, 0, 8, 7, -1],\n",
       " [0, 0, 9, 6, -1],\n",
       " [0, 0, 10, 5, -1],\n",
       " [1, 0, 11, 4, -1],\n",
       " [1, 0, 12, 3, -1],\n",
       " [1, 0, 13, 2, -1],\n",
       " [1, 0, 14, 1, -1],\n",
       " [1, 0, 15, 0, -1],\n",
       " [1, 2, 14, 0, -1],\n",
       " [0, 5, 13, 0, -1],\n",
       " [0, 7, 12, 0, -1],\n",
       " [1, 9, 11, 0, -1],\n",
       " [1, 11, 10, 0, -1],\n",
       " [1, 13, 9, 0, -1],\n",
       " [0, 16, 8, 0, -1],\n",
       " [0, 18, 7, 0, -1],\n",
       " [0, 20, 6, 0, -1],\n",
       " [1, 22, 5, 0, -1],\n",
       " [1, 24, 4, 0, -1],\n",
       " [0, 27, 3, 0, -1],\n",
       " [0, 29, 2, 0, -1],\n",
       " [0, 31, 1, 0, -1],\n",
       " [1, 33, 0, 0, -1],\n",
       " [3, 32, 0, 0, -1],\n",
       " [5, 31, 0, 0, -1],\n",
       " [8, 30, 0, 0, -1],\n",
       " [10, 29, 0, 0, -1],\n",
       " [12, 28, 0, 0, -1],\n",
       " [14, 27, 0, 0, -1],\n",
       " [17, 26, 0, 0, -1],\n",
       " [19, 25, 0, 0, -1],\n",
       " [21, 24, 0, 0, -1],\n",
       " [23, 23, 0, 0, -1],\n",
       " [25, 22, 0, 0, -1],\n",
       " [28, 21, 0, 0, -1],\n",
       " [30, 20, 0, 0, -1],\n",
       " [32, 19, 0, 0, -1],\n",
       " [34, 18, 0, 0, -1],\n",
       " [37, 17, 0, 0, -1],\n",
       " [39, 16, 0, 0, -1],\n",
       " [41, 15, 0, 0, -1],\n",
       " [43, 14, 0, 0, -1],\n",
       " [46, 13, 0, 0, -1],\n",
       " [48, 12, 0, 0, -1],\n",
       " [50, 11, 0, 0, -1],\n",
       " [52, 10, 0, 0, -1],\n",
       " [55, 9, 0, 0, -1],\n",
       " [57, 8, 0, 0, -1],\n",
       " [59, 7, 0, 0, -1],\n",
       " [61, 6, 0, 0, -1],\n",
       " [64, 5, 0, 0, -1],\n",
       " [66, 4, 0, 0, -1],\n",
       " [68, 3, 0, 0, -1],\n",
       " [70, 2, 0, 0, -1],\n",
       " [73, 1, 0, 0, -1],\n",
       " [75, 0, 0, 0, -1],\n",
       " [74, 0, 0, 0, -1],\n",
       " [73, 0, 0, 0, -1],\n",
       " [72, 0, 0, 0, -1],\n",
       " [71, 0, 0, 0, -1],\n",
       " [70, 0, 0, 0, -1],\n",
       " [69, 0, 0, 0, -1],\n",
       " [68, 0, 0, 0, -1],\n",
       " [67, 0, 0, 0, -1],\n",
       " [66, 0, 0, 0, -1],\n",
       " [65, 0, 0, 0, -1],\n",
       " [64, 0, 0, 0, -1],\n",
       " [63, 0, 0, 0, -1],\n",
       " [62, 0, 0, 0, -1],\n",
       " [61, 0, 0, 0, -1],\n",
       " [60, 0, 0, 0, -1],\n",
       " [59, 0, 0, 0, -1],\n",
       " [58, 0, 0, 0, -1],\n",
       " [57, 0, 0, 0, -1],\n",
       " [56, 0, 0, 0, -1],\n",
       " [55, 0, 0, 0, -1],\n",
       " [54, 0, 0, 0, -1],\n",
       " [53, 0, 0, 0, -1],\n",
       " [52, 0, 0, 0, -1],\n",
       " [51, 0, 0, 0, -1],\n",
       " [50, 0, 0, 0, -1],\n",
       " [49, 0, 0, 0, -1],\n",
       " [48, 0, 0, 0, -1],\n",
       " [47, 0, 0, 0, -1],\n",
       " [46, 0, 0, 0, -1],\n",
       " [45, 0, 0, 0, -1],\n",
       " [44, 0, 0, 0, -1],\n",
       " [43, 0, 0, 0, -1],\n",
       " [42, 0, 0, 0, -1],\n",
       " [41, 0, 0, 0, -1],\n",
       " [40, 0, 0, 0, -1],\n",
       " [39, 0, 0, 0, -1],\n",
       " [38, 0, 0, 0, -1],\n",
       " [37, 0, 0, 0, -1],\n",
       " [36, 0, 0, 0, -1],\n",
       " [35, 0, 0, 0, -1],\n",
       " [34, 0, 0, 0, -1],\n",
       " [33, 0, 0, 0, -1],\n",
       " [32, 0, 0, 0, -1],\n",
       " [31, 0, 0, 0, -1],\n",
       " [30, 0, 0, 0, -1],\n",
       " [29, 0, 0, 0, -1],\n",
       " [28, 0, 0, 0, -1],\n",
       " [27, 0, 0, 0, -1],\n",
       " [26, 0, 0, 0, -1],\n",
       " [25, 0, 0, 0, -1],\n",
       " [24, 0, 0, 0, -1],\n",
       " [23, 0, 0, 0, -1],\n",
       " [22, 0, 0, 0, -1],\n",
       " [21, 0, 0, 0, -1],\n",
       " [20, 0, 0, 0, -1],\n",
       " [19, 0, 0, 0, -1],\n",
       " [18, 0, 0, 0, -1],\n",
       " [17, 0, 0, 0, -1],\n",
       " [16, 0, 0, 0, -1],\n",
       " [15, 0, 0, 0, -1],\n",
       " [14, 0, 0, 0, -1],\n",
       " [13, 0, 0, 0, -1],\n",
       " [12, 0, 0, 0, -1],\n",
       " [11, 0, 0, 0, -1],\n",
       " [10, 0, 0, 0, -1],\n",
       " [9, 0, 0, 0, -1],\n",
       " [8, 0, 0, 0, -1],\n",
       " [7, 0, 0, 0, -1],\n",
       " [6, 0, 0, 0, -1],\n",
       " [5, 0, 0, 0, -1],\n",
       " [4, 0, 0, 0, -1],\n",
       " [3, 0, 0, 0, -1],\n",
       " [2, 0, 0, 0, -1],\n",
       " [1, 0, 0, 0, -1]]"
      ]
     },
     "execution_count": 45,
     "metadata": {},
     "output_type": "execute_result"
    }
   ],
   "source": [
    "make_partitions([186,419,83,408], 6249)"
   ]
  },
  {
   "cell_type": "markdown",
   "id": "1c3b5432-db79-40f3-9ccd-3521c95aac39",
   "metadata": {},
   "source": [
    "### c) Second try\n",
    "\n"
   ]
  },
  {
   "cell_type": "code",
   "execution_count": 6,
   "id": "0d073395-bf5b-4fe2-bc9a-f7961eba514d",
   "metadata": {},
   "outputs": [],
   "source": [
    "def coinChange(coins, amount):\n",
    "    \n",
    "    coins.sort()\n",
    "    \n",
    "    N = len(coins)\n",
    "    \n",
    "    if N==0:\n",
    "        raise ValueError(\"Coins list cannot be empty.\")\n",
    "    \n",
    "    elif N == 1:\n",
    "        if amount%coins[N-1] != 0:\n",
    "            return -1\n",
    "        else:\n",
    "            return amount//coins[N-1]\n",
    "    \n",
    "    elif N>1:\n",
    "        n_coins_min = float(\"inf\")\n",
    "        n_max = amount//coins[N-1]\n",
    "        for n in range(n_max, -1, -1):\n",
    "            n_coins_tot = n\n",
    "            r = amount - n*coins[N-1]\n",
    "            m = coinChange(coins[:N-1], r)\n",
    "            if m!=-1:\n",
    "                n_coins_tot += m\n",
    "                if n_coins_tot <= n_coins_min:\n",
    "                    n_coins_min = n_coins_tot\n",
    "        if n_coins_min == float(\"inf\"):\n",
    "            return -1\n",
    "        else:\n",
    "            return n_coins_min"
   ]
  },
  {
   "cell_type": "code",
   "execution_count": 7,
   "id": "799f98b1-36f0-42d1-b831-b946654db8aa",
   "metadata": {},
   "outputs": [
    {
     "data": {
      "text/plain": [
       "3"
      ]
     },
     "execution_count": 7,
     "metadata": {},
     "output_type": "execute_result"
    }
   ],
   "source": [
    "coinChange([1,2,5],11)"
   ]
  },
  {
   "cell_type": "code",
   "execution_count": 8,
   "id": "03856722-bf6b-41c7-84b5-a6b341d80513",
   "metadata": {},
   "outputs": [
    {
     "data": {
      "text/plain": [
       "2"
      ]
     },
     "execution_count": 8,
     "metadata": {},
     "output_type": "execute_result"
    }
   ],
   "source": [
    "coinChange([2,5],7)"
   ]
  },
  {
   "cell_type": "code",
   "execution_count": 9,
   "id": "4bb3c648-5016-4be1-b84b-2054922c6265",
   "metadata": {},
   "outputs": [
    {
     "data": {
      "text/plain": [
       "3"
      ]
     },
     "execution_count": 9,
     "metadata": {},
     "output_type": "execute_result"
    }
   ],
   "source": [
    "coinChange([2,5],6)"
   ]
  },
  {
   "cell_type": "code",
   "execution_count": 10,
   "id": "8864cc4d-c67c-4421-b5bd-bfc0f971648f",
   "metadata": {},
   "outputs": [
    {
     "data": {
      "text/plain": [
       "20"
      ]
     },
     "execution_count": 10,
     "metadata": {},
     "output_type": "execute_result"
    }
   ],
   "source": [
    "coinChange([186,419,83,408], 6249)"
   ]
  },
  {
   "cell_type": "markdown",
   "id": "7caa120e-4b8b-4270-979d-7a45ca01627b",
   "metadata": {},
   "source": [
    "Now I get a new problem. Python runs for a very long amount of time in the following test case:"
   ]
  },
  {
   "cell_type": "code",
   "execution_count": 11,
   "id": "8d9cfe9c-499f-46ff-a781-b042256e69f0",
   "metadata": {},
   "outputs": [
    {
     "data": {
      "text/plain": [
       "24"
      ]
     },
     "execution_count": 11,
     "metadata": {},
     "output_type": "execute_result"
    }
   ],
   "source": [
    "coinChange([411,412,413,414,415,416,417,418,419,420,421,422], 9864)"
   ]
  },
  {
   "cell_type": "markdown",
   "id": "4d0b7e2c-bf3e-40b4-9660-fc646982d27f",
   "metadata": {},
   "source": [
    "### c) Solution with memoization\n",
    "\n"
   ]
  },
  {
   "cell_type": "code",
   "execution_count": 6,
   "id": "e3e2ec56-936e-4c0b-a8ee-48db89c68e6c",
   "metadata": {},
   "outputs": [],
   "source": [
    "def coinChange(coins, amount, memory= None):\n",
    "    \n",
    "    coins.sort()\n",
    "    \n",
    "    N = len(coins)\n",
    "    \n",
    "    if memory is None:\n",
    "        memory = {}\n",
    "    \n",
    "    if N==0:\n",
    "        raise ValueError(\"Coins list cannot be empty.\")\n",
    "    \n",
    "    elif N == 1:\n",
    "        if amount%coins[N-1] != 0:\n",
    "            return -1\n",
    "        else:\n",
    "            return amount//coins[N-1]\n",
    "    \n",
    "    elif N>1:\n",
    "        n_coins_min = float(\"inf\")\n",
    "        n_max = amount//coins[N-1]\n",
    "        for n in range(n_max, -1, -1):\n",
    "            n_coins_tot = n\n",
    "            r = amount - n*coins[N-1]\n",
    "            m = coinChange(coins[:N-1], r)\n",
    "            if m!=-1:\n",
    "                n_coins_tot += m\n",
    "                if n_coins_tot <= n_coins_min:\n",
    "                    n_coins_min = n_coins_tot\n",
    "        if n_coins_min == float(\"inf\"):\n",
    "            return -1\n",
    "        else:\n",
    "            return n_coins_min"
   ]
  },
  {
   "cell_type": "code",
   "execution_count": 7,
   "id": "825ef2e3-1ed6-4856-a607-307e499a6a62",
   "metadata": {},
   "outputs": [
    {
     "data": {
      "text/plain": [
       "3"
      ]
     },
     "execution_count": 7,
     "metadata": {},
     "output_type": "execute_result"
    }
   ],
   "source": [
    "coinChange([1,2,5],11)"
   ]
  },
  {
   "cell_type": "code",
   "execution_count": 8,
   "id": "01428967-3eff-4108-bcfe-e419968686b2",
   "metadata": {},
   "outputs": [
    {
     "data": {
      "text/plain": [
       "2"
      ]
     },
     "execution_count": 8,
     "metadata": {},
     "output_type": "execute_result"
    }
   ],
   "source": [
    "coinChange([2,5],7)"
   ]
  },
  {
   "cell_type": "code",
   "execution_count": 9,
   "id": "c531b3a4-fdbd-4d5b-9d70-08fb2f237618",
   "metadata": {},
   "outputs": [
    {
     "data": {
      "text/plain": [
       "3"
      ]
     },
     "execution_count": 9,
     "metadata": {},
     "output_type": "execute_result"
    }
   ],
   "source": [
    "coinChange([2,5],6)"
   ]
  },
  {
   "cell_type": "code",
   "execution_count": 10,
   "id": "03fd1547-d4a0-4f69-9973-9a711ce7e3ea",
   "metadata": {},
   "outputs": [
    {
     "data": {
      "text/plain": [
       "20"
      ]
     },
     "execution_count": 10,
     "metadata": {},
     "output_type": "execute_result"
    }
   ],
   "source": [
    "coinChange([186,419,83,408], 6249)"
   ]
  },
  {
   "cell_type": "markdown",
   "id": "5430c2ef-08ce-4a39-8eea-e21102888295",
   "metadata": {},
   "source": [
    "Now I get a new problem. Python runs for a very long amount of time in the following test case:"
   ]
  },
  {
   "cell_type": "code",
   "execution_count": 11,
   "id": "33958bff-cd6f-4515-8968-1588667d582e",
   "metadata": {},
   "outputs": [
    {
     "data": {
      "text/plain": [
       "24"
      ]
     },
     "execution_count": 11,
     "metadata": {},
     "output_type": "execute_result"
    }
   ],
   "source": [
    "coinChange([411,412,413,414,415,416,417,418,419,420,421,422], 9864)"
   ]
  },
  {
   "cell_type": "markdown",
   "id": "d75d7207-53ab-40d4-9347-36a6e10283e6",
   "metadata": {},
   "source": [
    "# Exercise 3: House Robber Problem\n",
    "\n",
    "This problem is discussed lectures 449, 450, 472 and 473 of Karimov's DSA course. \n",
    "\n",
    "Source: https://leetcode.com/problems/house-robber/\n",
    "\n",
    "You are a professional robber planning to rob houses along a street. Each house has a certain amount of money stashed, the only constraint stopping you from robbing each of them is that adjacent houses have security systems connected and it will automatically contact the police if two adjacent houses were broken into on the same night.\n",
    "\n",
    "Given an integer array nums representing the amount of money of each house, return the maximum amount of money you can rob tonight without alerting the police.\n",
    "\n",
    " \n",
    "\n",
    "#### Example 1:\n",
    "\n",
    "Input: nums = [1,2,3,1]\n",
    "Output: 4\n",
    "Explanation: Rob house 1 (money = 1) and then rob house 3 (money = 3).\n",
    "Total amount you can rob = 1 + 3 = 4.\n",
    "\n",
    "#### Example 2:\n",
    "\n",
    "Input: nums = [2,7,9,3,1]\n",
    "Output: 12\n",
    "Explanation: Rob house 1 (money = 2), rob house 3 (money = 9) and rob house 5 (money = 1).\n",
    "Total amount you can rob = 2 + 9 + 1 = 12.\n",
    " \n",
    "\n",
    "#### Constraints:\n",
    "\n",
    "1 <= nums.length <= 100\n",
    "0 <= nums[i] <= 400\n",
    "\n"
   ]
  },
  {
   "cell_type": "markdown",
   "id": "ca41983e-f6ce-427d-95bf-21071398419f",
   "metadata": {},
   "source": [
    "## 1) My solution:\n",
    "\n",
    "The main issue is ensuring that you subtract the adequate indices, and that your keys are strings. It worked on the first submission, but apparently my execution time and used space are not that good."
   ]
  },
  {
   "cell_type": "code",
   "execution_count": 18,
   "id": "e6d23c8e-6877-4c81-87d0-c071dc454fcc",
   "metadata": {},
   "outputs": [],
   "source": [
    "def rob(houses, mem=None):\n",
    "    N = len(houses)\n",
    "    if mem is None:\n",
    "        mem = {}\n",
    "        key = str([])\n",
    "        # Case of empty list\n",
    "        mem[key]=0\n",
    "    \n",
    "    # Use key for memoization\n",
    "    key = str(houses)\n",
    "    \n",
    "    # Case of non-computed sequence\n",
    "    if key not in mem:\n",
    "        if N == 1:\n",
    "            mem[key]=houses[N-1]\n",
    "        elif N==2:\n",
    "            mem[key]=max(houses)\n",
    "        elif N>=3:\n",
    "            #print(f\"Case of \")\n",
    "            # Init max\n",
    "            m = 0\n",
    "            \n",
    "            #i=0\n",
    "            tot = houses[0]+rob(houses[2:], mem)\n",
    "            if tot>=m:\n",
    "                m = tot\n",
    "            \n",
    "            # i=1,...,N-2\n",
    "            for i in range(1,N-1):\n",
    "                tot = houses[i]+rob(houses[:i-1], mem)+ rob(houses[i+2:], mem)\n",
    "                if tot>=m:\n",
    "                    m = tot\n",
    "            \n",
    "            # i=N-1\n",
    "            tot = houses[N-1]+rob(houses[:N-2], mem)\n",
    "            if tot>=m:\n",
    "                m = tot\n",
    "            \n",
    "            # Assign new key\n",
    "            mem[key]=m\n",
    "    \n",
    "    # output\n",
    "    return mem[key]\n",
    "    \n"
   ]
  },
  {
   "cell_type": "code",
   "execution_count": 19,
   "id": "944f0075-63b6-459b-85c3-d62c5aaaf822",
   "metadata": {},
   "outputs": [
    {
     "data": {
      "text/plain": [
       "4"
      ]
     },
     "execution_count": 19,
     "metadata": {},
     "output_type": "execute_result"
    }
   ],
   "source": [
    "rob([1,2,3,1])"
   ]
  },
  {
   "cell_type": "code",
   "execution_count": 20,
   "id": "6207a988-ba71-483a-b081-9d4e558c2e16",
   "metadata": {},
   "outputs": [
    {
     "data": {
      "text/plain": [
       "12"
      ]
     },
     "execution_count": 20,
     "metadata": {},
     "output_type": "execute_result"
    }
   ],
   "source": [
    "rob([2,7,9,3,1])"
   ]
  },
  {
   "cell_type": "markdown",
   "id": "de9f16ac-e335-46a3-a4fa-24e0a46d5985",
   "metadata": {},
   "source": [
    "# Exercise 4: Zero-one Knapsack \n",
    "\n",
    "This problem is discussed in lectures 453, 454, 476 and 477 of Karimov's DSA course.\n",
    "\n",
    "Source: https://www.geeksforgeeks.org/0-1-knapsack-problem-dp-10/#\n",
    "\n",
    "Given N items where each item has some weight and profit associated with it and also given a bag with capacity W, 9i.e., the bag can hold at most W weight in it). The task is to put the items into the bag such that the sum of profits associated with them is the maximum possible. \n",
    "\n",
    "Note: The constraint here is we can either put an item completely into the bag or cannot put it at all (It is not possible to put a part of an item into the bag).\n",
    "\n",
    "#### Example 1:\n",
    "\n",
    "    Input: N = 3, W = 4, profit[] = {1, 2, 3}, weight[] = {4, 5, 1}\n",
    "    Output: 3\n",
    "\n",
    "Explanation: There are two items which have weight less than or equal to 4. If we select the item with weight 4, the possible profit is 1. And if we select the item with weight 1, the possible profit is 3. So the maximum possible profit is 3. Note that we cannot put both the items with weight 4 and 1 together as the capacity of the bag is 4.\n",
    "\n",
    "#### Example 2:\n",
    "\n",
    "    Input: N = 3, W = 3, profit[] = {1, 2, 3}, weight[] = {4, 5, 6}\n",
    "    Output: 0"
   ]
  },
  {
   "cell_type": "markdown",
   "id": "1d4cec4b-8b8b-4180-87ca-702ae7aa59b6",
   "metadata": {},
   "source": [
    "## 1) My solution"
   ]
  },
  {
   "cell_type": "code",
   "execution_count": 1,
   "id": "9b695b1c-2d09-4848-a4e5-48d403371a2c",
   "metadata": {},
   "outputs": [],
   "source": []
  },
  {
   "cell_type": "code",
   "execution_count": 2,
   "id": "a0a73abd-3fad-41c0-b54d-37847d3e033c",
   "metadata": {},
   "outputs": [
    {
     "data": {
      "text/plain": [
       "6"
      ]
     },
     "execution_count": 2,
     "metadata": {},
     "output_type": "execute_result"
    }
   ],
   "source": [
    "'''\n",
    "    Input: N = 3, W = 4, profit[] = {1, 2, 3}, weight[] = {4, 5, 1}\n",
    "Output: 3\n",
    "'''\n",
    "\n",
    "knapsack([4, 5, 1], [1, 2, 3], 4)"
   ]
  },
  {
   "cell_type": "code",
   "execution_count": 16,
   "id": "9cdff455-d3cf-4a30-8335-c7a2110bf10d",
   "metadata": {},
   "outputs": [],
   "source": [
    "def knapsack_combos(weights, profits, W):\n",
    "    if len(weights) != len(profits):\n",
    "        raise ValueError(\"weights and profits lists must have the same length\")\n",
    "        \n",
    "    N = len(weights)\n",
    "    \n",
    "    mem = {}\n",
    "    \n",
    "    # Build combinations\n",
    "    ## Combinations of length 1\n",
    "    mem[1] = {}\n",
    "    for i in range(N):\n",
    "        mem[1][(i)] = [weights[i], profits[i]]\n",
    "    \n",
    "    '''\n",
    "        This can be optimized using dynamic programming\n",
    "    '''\n",
    "    ## Loop over length of combination tuples\n",
    "    for n in range(2,N+1):\n",
    "        mem[n] = {}\n",
    "        print(f\"processing length n = {n}\")\n",
    "        ## Loop over tuples of indices\n",
    "        for i in range(N-n+1):\n",
    "            \n",
    "            iterator = [x for x in range(i,i+n)]\n",
    "            print(f\"start index: i= {i}\")\n",
    "            print(f\"iter = {iterator}\")\n",
    "            tup = tuple(iterator)\n",
    "            mem[n][tup] = [0,0]\n",
    "            for t in iterator:\n",
    "                mem[n][tup][0] += mem[1][(t)][0]\n",
    "                mem[n][tup][1] += mem[1][(t)][1]\n",
    "                \n",
    "    return mem\n",
    "        \n",
    "    "
   ]
  },
  {
   "cell_type": "code",
   "execution_count": 17,
   "id": "735ab5f3-41ee-4231-8cab-4fff1ef80232",
   "metadata": {},
   "outputs": [
    {
     "name": "stdout",
     "output_type": "stream",
     "text": [
      "processing length n = 2\n",
      "start index: i= 0\n",
      "iter = [0, 1]\n",
      "start index: i= 1\n",
      "iter = [1, 2]\n",
      "processing length n = 3\n",
      "start index: i= 0\n",
      "iter = [0, 1, 2]\n"
     ]
    },
    {
     "data": {
      "text/plain": [
       "{1: {0: [4, 1], 1: [5, 2], 2: [1, 3]},\n",
       " 2: {(0, 1): [9, 3], (1, 2): [6, 5]},\n",
       " 3: {(0, 1, 2): [10, 6]}}"
      ]
     },
     "execution_count": 17,
     "metadata": {},
     "output_type": "execute_result"
    }
   ],
   "source": [
    "knapsack_combos([4,5,1], [1,2,3], 0)"
   ]
  },
  {
   "cell_type": "code",
   "execution_count": 5,
   "id": "e9e42352-4df7-4f8a-851c-523401bc7d33",
   "metadata": {},
   "outputs": [],
   "source": [
    "def knapsack_combos(weights, profits, W):\n",
    "    if len(weights) != len(profits):\n",
    "        raise ValueError(\"weights and profits lists must have the same length\")\n",
    "        \n",
    "    N = len(weights)\n",
    "    \n",
    "    mem = {}\n",
    "    \n",
    "    # Build combinations\n",
    "    ## Combinations of length 1\n",
    "    mem[1] = {}\n",
    "    for i in range(N):\n",
    "        mem[1][(i,)] = [weights[i], profits[i]]\n",
    "    \n",
    "    ## Loop over length of combination tuples\n",
    "    for n in range(2,N+1):\n",
    "        mem[n] = {}\n",
    "        prev_tuples = list(mem[n-1].keys())\n",
    "        for m in prev_tuples:\n",
    "            j = m[-1]\n",
    "            for k in range(j+1,N):\n",
    "                new_tuple = m + tuple([k])\n",
    "                mem[n][new_tuple]= [mem[n-1][m][0]+weights[k],\n",
    "                                    mem[n-1][m][1]+profits[k]\n",
    "                                   ]\n",
    "                \n",
    "    return mem\n",
    "        \n",
    "    "
   ]
  },
  {
   "cell_type": "code",
   "execution_count": 6,
   "id": "f8a9d659-baa7-47d2-a8c3-3073c94339f1",
   "metadata": {},
   "outputs": [
    {
     "data": {
      "text/plain": [
       "{1: {(0,): [4, 1], (1,): [5, 2], (2,): [1, 3]},\n",
       " 2: {(0, 1): [9, 3], (0, 2): [5, 4], (1, 2): [6, 5]},\n",
       " 3: {(0, 1, 2): [10, 6]}}"
      ]
     },
     "execution_count": 6,
     "metadata": {},
     "output_type": "execute_result"
    }
   ],
   "source": [
    "knapsack_combos([4,5,1], [1,2,3], 0)"
   ]
  },
  {
   "cell_type": "code",
   "execution_count": 12,
   "id": "aa2be414-9e92-49a3-8a62-38ebcbbee97e",
   "metadata": {},
   "outputs": [],
   "source": [
    "def knapsack(weights, profits, W):\n",
    "    if len(weights) != len(profits):\n",
    "        raise ValueError(\"weights and profits lists must have the same length\")\n",
    "        \n",
    "    N = len(weights)\n",
    "    \n",
    "    mem = {}\n",
    "    \n",
    "    P_max = 0\n",
    "    sol = ()\n",
    "    \n",
    "    # Build combinations\n",
    "    ## Combinations of length 1\n",
    "    mem[1] = {}\n",
    "    for i in range(N):\n",
    "        mem[1][(i,)] = [weights[i], profits[i]]\n",
    "        if mem[1][(i,)][1] >= P_max and mem[1][(i,)][0]<=W:\n",
    "            sol = (i,)\n",
    "            P_max = mem[1][(i,)][1]\n",
    "    \n",
    "    ## Loop over length of combination tuples\n",
    "    for n in range(2,N+1):\n",
    "        mem[n] = {}\n",
    "        prev_tuples = list(mem[n-1].keys())\n",
    "        for m in prev_tuples:\n",
    "            j = m[-1]\n",
    "            for k in range(j+1,N):\n",
    "                new_tuple = m + tuple([k])\n",
    "                mem[n][new_tuple]= [mem[n-1][m][0]+weights[k],\n",
    "                                    mem[n-1][m][1]+profits[k]\n",
    "                                   ]\n",
    "                if mem[n][new_tuple][1] >= P_max and mem[n][new_tuple][0]<=W:\n",
    "                    sol = new_tuple\n",
    "                    P_max = mem[n][new_tuple][1]\n",
    "                    \n",
    "    \n",
    "    return P_max, sol, mem"
   ]
  },
  {
   "cell_type": "code",
   "execution_count": 13,
   "id": "a34fa72b-e988-478d-94f3-7f0128b7d550",
   "metadata": {},
   "outputs": [],
   "source": [
    "max_profit, solution, tuples = knapsack([4,5,1], [1,2,3], 4)"
   ]
  },
  {
   "cell_type": "code",
   "execution_count": 14,
   "id": "62b2d272-c0af-45da-8c2f-314c5938ef8a",
   "metadata": {},
   "outputs": [
    {
     "data": {
      "text/plain": [
       "3"
      ]
     },
     "execution_count": 14,
     "metadata": {},
     "output_type": "execute_result"
    }
   ],
   "source": [
    "max_profit"
   ]
  },
  {
   "cell_type": "code",
   "execution_count": 15,
   "id": "90f657ed-9c5b-4ad9-8f6a-34bdc9d9678a",
   "metadata": {},
   "outputs": [
    {
     "data": {
      "text/plain": [
       "(2,)"
      ]
     },
     "execution_count": 15,
     "metadata": {},
     "output_type": "execute_result"
    }
   ],
   "source": [
    "solution"
   ]
  },
  {
   "cell_type": "code",
   "execution_count": 16,
   "id": "ec5e2a91-b199-4708-a84e-f5ef33ef666a",
   "metadata": {},
   "outputs": [
    {
     "data": {
      "text/plain": [
       "(0,\n",
       " (),\n",
       " {1: {(0,): [4, 1], (1,): [5, 2], (2,): [1, 3]},\n",
       "  2: {(0, 1): [9, 3], (0, 2): [5, 4], (1, 2): [6, 5]},\n",
       "  3: {(0, 1, 2): [10, 6]}})"
      ]
     },
     "execution_count": 16,
     "metadata": {},
     "output_type": "execute_result"
    }
   ],
   "source": [
    "knapsack([4,5,1], [1,2,3], 0)"
   ]
  },
  {
   "cell_type": "code",
   "execution_count": null,
   "id": "6926ab15-3556-4673-a5f0-1eacd12f938e",
   "metadata": {},
   "outputs": [],
   "source": []
  }
 ],
 "metadata": {
  "kernelspec": {
   "display_name": "Python 3 (ipykernel)",
   "language": "python",
   "name": "python3"
  },
  "language_info": {
   "codemirror_mode": {
    "name": "ipython",
    "version": 3
   },
   "file_extension": ".py",
   "mimetype": "text/x-python",
   "name": "python",
   "nbconvert_exporter": "python",
   "pygments_lexer": "ipython3",
   "version": "3.9.16"
  }
 },
 "nbformat": 4,
 "nbformat_minor": 5
}
