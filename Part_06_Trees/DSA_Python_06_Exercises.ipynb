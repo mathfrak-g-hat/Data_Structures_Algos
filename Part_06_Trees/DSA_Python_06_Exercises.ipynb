{
 "cells": [
  {
   "cell_type": "markdown",
   "id": "79f6d43b-acd5-46e8-92c3-e9210e5f69db",
   "metadata": {},
   "source": [
    "# Data Structures and Algorithms in Python - Ch.8,9,11: Tree Exercises\n",
    "### AJ Zerouali, 2023/10/09"
   ]
  },
  {
   "cell_type": "markdown",
   "id": "36f0e53a-9a6a-47cf-a48c-9c137f1975eb",
   "metadata": {},
   "source": [
    "## 0) Introduction\n",
    "\n",
    "This notebook contains some exercises on trees, and focus on binary search trees and heaps.\n",
    "\n",
    "**References:**\n",
    "\n",
    "- Chapters 8, 9, and 11 of \"Data structures and algorithms in Python\", by Goodrich, Tamassia and Goldwasser (primary). \n",
    "- Section 14 of \"Python for Data Structures, Algorithms, and Interviews!\" by Jose Portilla.\n"
   ]
  },
  {
   "cell_type": "markdown",
   "id": "f5b5eddd-3a0d-42a0-aedf-1da4f1e26cb6",
   "metadata": {},
   "source": [
    "## Exercise 1: Verifying that a binary tree is a BST\n",
    "\n",
    "Link: https://github.com/jmportilla/Python-for-Algorithms--Data-Structures--and-Interviews/blob/master/06-Trees/Trees%20Interview%20Problems/01-Binary-Search-Tree-Check/01-Binary%20Search%20Tree%20Check.ipynb\n",
    "\n",
    "Given a binary tree, check whether it’s a binary search tree or not.\n",
    "\n",
    "**Comment:** This is a classic interview question on BSTs.\n"
   ]
  },
  {
   "cell_type": "markdown",
   "id": "16fae329-6f29-4b0c-a479-59d0acbff551",
   "metadata": {},
   "source": [
    "### 1) My Solution\n",
    "\n",
    "Assuming we are given a binary tree, checking whether or not it is a BST boils down to checking whether it preserves the binary search tree property, i.e. that an inorder traversal will give keys in increasing order. My strategy is to start from the root of the tree, produce a list of keys with the inorder traversal, and then check that all keys to the left of any node are lower than the key at that node.\n",
    "\n",
    "My implementation below is tailored to the *BSTMap* and *HeapPriorityQ* classes in the *Code.Trees* submodule."
   ]
  },
  {
   "cell_type": "code",
   "execution_count": 1,
   "id": "f0660af2-1371-40ad-991f-4ca7a02761ae",
   "metadata": {},
   "outputs": [],
   "source": [
    "from Code.Trees.binary_search_tree_ajz import BSTMap\n",
    "from Code.Trees.heap_priority_queue import HeapPriorityQ"
   ]
  },
  {
   "cell_type": "code",
   "execution_count": null,
   "id": "e163b7d4-b7be-48c2-9c7f-b8370041ce66",
   "metadata": {},
   "outputs": [],
   "source": [
    "def inorder_traversal_list(T, position=None, key_list = None):\n",
    "    \n",
    "    if key_list is None:\n",
    "        key_list = []\n",
    "    \n",
    "    if isinstance(T, HeapPriorityQ):\n",
    "        if position is None:\n",
    "            position = 0\n",
    "        # Traverse left subtree\n",
    "        if T._has_left(position):\n",
    "            inorder_traversal_list(T, T._left_child(position), key_list)\n",
    "        # Print element at current position\n",
    "        #print(f\"({T._data[position]._key}, {T._data[position]._value})\")\n",
    "        key_list.append(T._data[position]._key)\n",
    "        # Traverse right subtree\n",
    "        if T._has_right(position):\n",
    "            inorder_traversal_list(T, T._right_child(position), key_list)\n",
    "            \n",
    "    elif isinstance(T, BSTMap):\n",
    "        if position is None:\n",
    "            position = T.root()\n",
    "        # Traverse left subtree\n",
    "        if T.left(position) is not None:\n",
    "            inorder_traversal_list(T, T.left(position), key_list)\n",
    "        # Print element at current position\n",
    "        #print(f\"({position.element()._key}, {position.element()._value})\")\n",
    "        key_list.append(position.key())\n",
    "        # Traverse right subtree\n",
    "        if T.right(position) is not None:\n",
    "            inorder_traversal_list(T, T.right(position), key_list)\n",
    "    \n",
    "    return key_list\n",
    "\n",
    "def check_bst(T):\n",
    "    key_list = inorder_traversal_list(T)\n",
    "    \n",
    "    for i in range(1,len(key_list)):\n",
    "        for j in range(0,i):\n",
    "            if key_list[j]>=key_list[i]:\n",
    "                print(\"T is not a binary search tree\")\n",
    "                return False\n",
    "    \n",
    "    print(\"T is a binary search tree\")\n",
    "    return True"
   ]
  },
  {
   "cell_type": "markdown",
   "id": "aa3cf6fc-99c0-42aa-9ae1-02e83728d9a0",
   "metadata": {},
   "source": [
    "#### Example"
   ]
  },
  {
   "cell_type": "code",
   "execution_count": 2,
   "id": "847e3d16-fcf2-4e0b-b40d-dc750bcbb5ce",
   "metadata": {},
   "outputs": [],
   "source": [
    "L = [(4,\"C\"), (5, \"A\"), (6,\"Z\"), (15,\"K\"), (9, \"F\"), \n",
    "      (7, \"Q\"), (20,\"B\"), (16,\"X\"), (25, \"J\"), (14,\"E\"), \n",
    "      (12, \"H\"), (11, \"S\"), (13, \"W\"), \n",
    "     ]"
   ]
  },
  {
   "cell_type": "code",
   "execution_count": null,
   "id": "d258d27a-85bc-4c70-9279-4e1f98a6fbad",
   "metadata": {},
   "outputs": [],
   "source": [
    "# Build heap of Fig.9.1 in GTG13. Use same nodes in a BST\n",
    "heap1 = HeapPriorityQ()\n",
    "bst1 = BSTMap()\n",
    "for e in L:\n",
    "    heap1.add(e[0], e[1])\n",
    "    bst1[e[0]] = e[1]\n"
   ]
  },
  {
   "cell_type": "code",
   "execution_count": 17,
   "id": "7c4c244f-7abc-4980-bbc7-84a07fd68875",
   "metadata": {},
   "outputs": [],
   "source": [
    "def inorder_traversal_print(T, position=None):\n",
    "    \n",
    "    if isinstance(T, HeapPriorityQ):\n",
    "        if position is None:\n",
    "            position = 0\n",
    "        # Traverse left subtree\n",
    "        if T._has_left(position):\n",
    "            inorder_traversal_print(T, T._left_child(position))\n",
    "        # Print element at current position\n",
    "        print(f\"({T._data[position]._key}, {T._data[position]._value})\")\n",
    "        # Traverse right subtree\n",
    "        if T._has_right(position):\n",
    "            inorder_traversal_print(T, T._right_child(position))\n",
    "            \n",
    "    elif isinstance(T, BSTMap):\n",
    "        if position is None:\n",
    "            position = T.root()\n",
    "        # Traverse left subtree\n",
    "        if T.left(position) is not None:\n",
    "            inorder_traversal_print(T, T.left(position))\n",
    "        # Print element at current position\n",
    "        print(f\"({position.element()._key}, {position.element()._value})\")\n",
    "        # Traverse right subtree\n",
    "        if T.right(position) is not None:\n",
    "            inorder_traversal_print(T, T.right(position))"
   ]
  },
  {
   "cell_type": "code",
   "execution_count": 18,
   "id": "6df46e2f-d97d-421d-8473-1514044269b1",
   "metadata": {},
   "outputs": [
    {
     "name": "stdout",
     "output_type": "stream",
     "text": [
      "(4, C)\n",
      "(5, A)\n",
      "(6, Z)\n",
      "(7, Q)\n",
      "(9, F)\n",
      "(11, S)\n",
      "(12, H)\n",
      "(13, W)\n",
      "(14, E)\n",
      "(15, K)\n",
      "(16, X)\n",
      "(20, B)\n",
      "(25, J)\n"
     ]
    }
   ],
   "source": [
    "inorder_traversal_print(bst1)"
   ]
  },
  {
   "cell_type": "code",
   "execution_count": 19,
   "id": "fd141090-218f-4954-bb0b-83244eef63d7",
   "metadata": {},
   "outputs": [
    {
     "name": "stdout",
     "output_type": "stream",
     "text": [
      "(16, X)\n",
      "(15, K)\n",
      "(25, J)\n",
      "(5, A)\n",
      "(14, E)\n",
      "(9, F)\n",
      "(12, H)\n",
      "(4, C)\n",
      "(11, S)\n",
      "(7, Q)\n",
      "(13, W)\n",
      "(6, Z)\n",
      "(20, B)\n"
     ]
    }
   ],
   "source": [
    "inorder_traversal_print(heap1)"
   ]
  },
  {
   "cell_type": "code",
   "execution_count": null,
   "id": "6dc896d3-6612-44c0-9ce3-4e700bc3db22",
   "metadata": {},
   "outputs": [],
   "source": [
    "# \"Display\" underlying array of heap\n",
    "## The tree can be drawn from this list thanks to complete tree property\n",
    "## and heap-order poperty\n",
    "heap1._data"
   ]
  },
  {
   "cell_type": "code",
   "execution_count": 28,
   "id": "ab5f2602-eb60-4d18-a8e8-24aa64f40740",
   "metadata": {},
   "outputs": [
    {
     "name": "stdout",
     "output_type": "stream",
     "text": [
      "T is not a binary search tree\n"
     ]
    },
    {
     "data": {
      "text/plain": [
       "False"
      ]
     },
     "execution_count": 28,
     "metadata": {},
     "output_type": "execute_result"
    }
   ],
   "source": [
    "check_bst(heap1)"
   ]
  },
  {
   "cell_type": "markdown",
   "id": "4cef38ee-81d5-4c1c-bc2c-53a87080bbfe",
   "metadata": {},
   "source": [
    "If we execute our *check_bst()* function we get the following."
   ]
  },
  {
   "cell_type": "code",
   "execution_count": 29,
   "id": "18f8129b-2b12-47fa-b5bd-634623cb63ad",
   "metadata": {},
   "outputs": [
    {
     "name": "stdout",
     "output_type": "stream",
     "text": [
      "T is a binary search tree\n"
     ]
    },
    {
     "data": {
      "text/plain": [
       "True"
      ]
     },
     "execution_count": 29,
     "metadata": {},
     "output_type": "execute_result"
    }
   ],
   "source": [
    "check_bst(bst1)"
   ]
  },
  {
   "cell_type": "markdown",
   "id": "d1162cc2-5d3c-4005-84db-5f5d351ce04a",
   "metadata": {},
   "source": [
    "## Exercise 2: Printing nodes in every level of a binary tree\n",
    "\n",
    "Link: https://github.com/jmportilla/Python-for-Algorithms--Data-Structures--and-Interviews/blob/master/06-Trees/Trees%20Interview%20Problems/02-Tree-Level-Order-Print/02-Tree%20Level%20Order%20Print.ipynb\n",
    "\n",
    "Given a binary tree of integers, print it in level order. The output will contain space between the numbers in the same level, and new line between different levels.\n",
    "\n",
    "For example, if the tree is as follows:\n",
    "\n",
    "             1\n",
    "           /   \\\n",
    "          2     3\n",
    "         /     / \\\n",
    "        4     5   6       \n",
    "then the output should be\n",
    "\n",
    "        1 \n",
    "        2 3 \n",
    "        4 5 6"
   ]
  },
  {
   "cell_type": "markdown",
   "id": "1d6dc765-3e36-4117-ab3d-915a8e75a99d",
   "metadata": {},
   "source": [
    "### 1) My solution:\n",
    "\n",
    "Again, the first reflex is to traverse the binary tree in order. The action at each node will be to add the current key to a string, which contains the keys of all nodes at a given level. This inorder traversal will require us to keep track of the level starting from the root, and I would use a dictionary to store these strings."
   ]
  },
  {
   "cell_type": "code",
   "execution_count": 1,
   "id": "39a04046-05f4-4c5b-bd6e-7dd0017c30e4",
   "metadata": {},
   "outputs": [],
   "source": [
    "from Code.Trees.binary_search_tree_ajz import BSTMap\n",
    "from Code.Trees.heap_priority_queue import HeapPriorityQ"
   ]
  },
  {
   "cell_type": "code",
   "execution_count": 56,
   "id": "c16c48a7-9814-45fc-9686-55598271579b",
   "metadata": {},
   "outputs": [],
   "source": [
    "def inorder_traversal_level(T, position=None, level = None, lvl_dict = None):\n",
    "    \n",
    "    if T.is_empty():\n",
    "        raise ValueError(\"Tree is empty\")\n",
    "        \n",
    "    if isinstance(T,HeapPriorityQ):\n",
    "        if position is None:\n",
    "            position = 0\n",
    "            level = 0\n",
    "            lvl_dict = {}\n",
    "        \n",
    "        if T._has_left(position):\n",
    "            #print(f\"Visiting left subtree of ({T._data[position]._key}, {T._data[position]._value})\")\n",
    "            inorder_traversal_level(T, T._left_child(position), level+1, lvl_dict)\n",
    "            \n",
    "        if level not in lvl_dict:\n",
    "            lvl_dict[level] = f\"L{level}: \"\n",
    "        lvl_dict[level] += str(T._data[position]._key)+\" \"\n",
    "        \n",
    "        if T._has_right(position):\n",
    "            #print(f\"Visiting right subtree of ({T._data[position]._key}, {T._data[position]._value})\")\n",
    "            inorder_traversal_level(T, T._right_child(position), level+1, lvl_dict)\n",
    "    \n",
    "    elif isinstance(T,BSTMap):\n",
    "        \n",
    "        if position is None:\n",
    "            position = T.root()\n",
    "            level = 0\n",
    "            lvl_dict = {}\n",
    "        \n",
    "        if T.left(position) is not None:\n",
    "            inorder_traversal_level(T, T.left(position), level+1, lvl_dict)\n",
    "            \n",
    "        if level not in lvl_dict:\n",
    "            lvl_dict[level] = f\"L{level}: \"\n",
    "        lvl_dict[level] += str(position.key())+\" \"\n",
    "        \n",
    "        if T.right(position) is not None:\n",
    "            inorder_traversal_level(T, T.right(position), level+1, lvl_dict)\n",
    "    \n",
    "    return lvl_dict"
   ]
  },
  {
   "cell_type": "code",
   "execution_count": 32,
   "id": "f3c2246c-3c85-4a37-bff5-93b2c593ca99",
   "metadata": {},
   "outputs": [],
   "source": [
    "def BT_print_levels(T):\n",
    "    \n",
    "    lvl_dict = inorder_traversal_level(T)\n",
    "    \n",
    "    levels = sorted(list(lvl_dict.keys()))\n",
    "    \n",
    "    for l in levels:\n",
    "        print(lvl_dict[l])"
   ]
  },
  {
   "cell_type": "markdown",
   "id": "78c80ca5-893c-4512-b110-82e70431d2f7",
   "metadata": {},
   "source": [
    "#### Example\n",
    "\n",
    "We use the *BSTMap* and *HeapPriorityQ* of the previous example. For visualization though, it will be useful to "
   ]
  },
  {
   "cell_type": "code",
   "execution_count": 47,
   "id": "b5aab479-e5ad-4a6f-bc55-0882b5a151c6",
   "metadata": {
    "tags": []
   },
   "outputs": [],
   "source": [
    "def inorder_traversal_print(T, position=None):\n",
    "    \n",
    "    if isinstance(T, HeapPriorityQ):\n",
    "        if position is None:\n",
    "            position = 0\n",
    "        # Traverse left subtree\n",
    "        if T._has_left(position):\n",
    "            inorder_traversal_print(T, T._left_child(position))\n",
    "        # Print element at current position\n",
    "        if T._parent(position)<0:\n",
    "            parent_key = \"None\"\n",
    "            parent_value = \"None\"\n",
    "        else:\n",
    "            parent_key = T._data[T._parent(position)]._key\n",
    "            parent_value = T._data[T._parent(position)]._value\n",
    "        print(f\"({T._data[position]._key}, {T._data[position]._value}), position = {position}, Parent = ({parent_key}, {parent_value})\")\n",
    "        # Traverse right subtree\n",
    "        if T._has_right(position):\n",
    "            inorder_traversal_print(T, T._right_child(position))\n",
    "            \n",
    "    elif isinstance(T, BSTMap):\n",
    "        if position is None:\n",
    "            position = T.root()\n",
    "        # Traverse left subtree\n",
    "        if T.left(position) is not None:\n",
    "            inorder_traversal_print(T, T.left(position))\n",
    "        \n",
    "        # Print element at current position and its parent\n",
    "        if T.parent(position) is None:\n",
    "            parent_key = \"None\"\n",
    "            parent_value = \"None\"\n",
    "        else:\n",
    "            parent_key = T.parent(position).key()\n",
    "            parent_value = T.parent(position).value()\n",
    "        print(f\"({position.element()._key}, {position.element()._value}), Parent = ({parent_key}, {parent_value})\")\n",
    "        \n",
    "        # Traverse right subtree\n",
    "        if T.right(position) is not None:\n",
    "            inorder_traversal_print(T, T.right(position))"
   ]
  },
  {
   "cell_type": "code",
   "execution_count": 33,
   "id": "abd4ff55-c0de-4e02-8a74-b28639e7f380",
   "metadata": {},
   "outputs": [],
   "source": [
    "L = [(4,\"C\"), (5, \"A\"), (6,\"Z\"), (15,\"K\"), (9, \"F\"), \n",
    "      (7, \"Q\"), (20,\"B\"), (16,\"X\"), (25, \"J\"), (14,\"E\"), \n",
    "      (12, \"H\"), (11, \"S\"), (13, \"W\"), \n",
    "     ]"
   ]
  },
  {
   "cell_type": "code",
   "execution_count": 34,
   "id": "7a9a9e95-34b9-428e-b589-e37b1fe6f7da",
   "metadata": {},
   "outputs": [],
   "source": [
    "# Build heap of Fig.9.1 in GTG13. Use same nodes in a BST\n",
    "heap1 = HeapPriorityQ()\n",
    "bst1 = BSTMap()\n",
    "for e in L:\n",
    "    heap1.add(e[0], e[1])\n",
    "    bst1[e[0]] = e[1]\n"
   ]
  },
  {
   "cell_type": "markdown",
   "id": "7588ce7c-508a-429f-b76f-625815b113bc",
   "metadata": {},
   "source": [
    "This gives us the following trees"
   ]
  },
  {
   "cell_type": "code",
   "execution_count": 48,
   "id": "bbab25fe-dcc8-48dc-a3a1-1a0ad7c49031",
   "metadata": {},
   "outputs": [
    {
     "name": "stdout",
     "output_type": "stream",
     "text": [
      "(4, C), Parent = (None, None)\n",
      "(5, A), Parent = (4, C)\n",
      "(6, Z), Parent = (5, A)\n",
      "(7, Q), Parent = (9, F)\n",
      "(9, F), Parent = (15, K)\n",
      "(11, S), Parent = (12, H)\n",
      "(12, H), Parent = (14, E)\n",
      "(13, W), Parent = (12, H)\n",
      "(14, E), Parent = (9, F)\n",
      "(15, K), Parent = (6, Z)\n",
      "(16, X), Parent = (20, B)\n",
      "(20, B), Parent = (15, K)\n",
      "(25, J), Parent = (20, B)\n"
     ]
    }
   ],
   "source": [
    "inorder_traversal_print(bst1)"
   ]
  },
  {
   "cell_type": "code",
   "execution_count": 49,
   "id": "1cbbdf14-b3e0-4bd2-8ce8-a157d7509c7e",
   "metadata": {},
   "outputs": [
    {
     "name": "stdout",
     "output_type": "stream",
     "text": [
      "(16, X), position = 7, Parent = (15, K)\n",
      "(15, K), position = 3, Parent = (5, A)\n",
      "(25, J), position = 8, Parent = (15, K)\n",
      "(5, A), position = 1, Parent = (4, C)\n",
      "(14, E), position = 9, Parent = (9, F)\n",
      "(9, F), position = 4, Parent = (5, A)\n",
      "(12, H), position = 10, Parent = (9, F)\n",
      "(4, C), position = 0, Parent = (None, None)\n",
      "(11, S), position = 11, Parent = (7, Q)\n",
      "(7, Q), position = 5, Parent = (6, Z)\n",
      "(13, W), position = 12, Parent = (7, Q)\n",
      "(6, Z), position = 2, Parent = (4, C)\n",
      "(20, B), position = 6, Parent = (6, Z)\n"
     ]
    }
   ],
   "source": [
    "inorder_traversal_print(heap1)"
   ]
  },
  {
   "cell_type": "markdown",
   "id": "c2c240e5-8756-405f-b5fd-3923afeb1043",
   "metadata": {},
   "source": [
    "Now printing the contents of every level gives us the following:"
   ]
  },
  {
   "cell_type": "code",
   "execution_count": 35,
   "id": "c845e036-3bf2-47ee-923d-df3be1161ff7",
   "metadata": {},
   "outputs": [
    {
     "name": "stdout",
     "output_type": "stream",
     "text": [
      "L0: 4 \n",
      "L1: 5 \n",
      "L2: 6 \n",
      "L3: 15 \n",
      "L4: 9 20 \n",
      "L5: 7 14 16 25 \n",
      "L6: 12 \n",
      "L7: 11 13 \n"
     ]
    }
   ],
   "source": [
    "BT_print_levels(bst1)"
   ]
  },
  {
   "cell_type": "code",
   "execution_count": 63,
   "id": "8a1e73fe-47a5-48ad-8646-1f467e9ad5bb",
   "metadata": {},
   "outputs": [
    {
     "name": "stdout",
     "output_type": "stream",
     "text": [
      "L0: 4 \n",
      "L1: 5 6 \n",
      "L2: 15 9 7 20 \n",
      "L3: 16 25 14 12 11 13 \n"
     ]
    }
   ],
   "source": [
    "BT_print_levels(heap1)"
   ]
  },
  {
   "cell_type": "markdown",
   "id": "7c47086b-92e7-4ee6-9f25-5dbb0c0bd3dd",
   "metadata": {},
   "source": [
    "### 2) Portilla's solution\n",
    "\n",
    "Link: https://github.com/jmportilla/Python-for-Algorithms--Data-Structures--and-Interviews/blob/master/06-Trees/Trees%20Interview%20Problems/02-Tree-Level-Order-Print/02-Tree%20Level%20Order%20Print%20-%20SOLUTION.ipynb\n",
    "\n",
    "The idea is to use breadth-first search"
   ]
  },
  {
   "cell_type": "code",
   "execution_count": null,
   "id": "cc078884-5992-4bc5-b8fb-131f615ca213",
   "metadata": {},
   "outputs": [],
   "source": []
  },
  {
   "cell_type": "code",
   "execution_count": null,
   "id": "2153eada-62db-4c02-ba32-0731eaf601e0",
   "metadata": {},
   "outputs": [],
   "source": []
  },
  {
   "cell_type": "markdown",
   "id": "df12f82d-e58c-467b-9ab3-28f92db36584",
   "metadata": {},
   "source": [
    "## Exercise 3: Trimming a BST\n",
    "\n",
    "Link: https://github.com/jmportilla/Python-for-Algorithms--Data-Structures--and-Interviews/blob/master/06-Trees/Trees%20Interview%20Problems/03-Trim-a-Binary-Search-Tree/03-Trim%20a%20Binary%20Search%20Tree%20.ipynb\n",
    "\n",
    "Given the root of a binary search tree and 2 numbers min and max, trim the tree such that all the numbers in the new tree are between min and max (inclusive). The resulting tree should still be a valid binary search tree. \n",
    "\n",
    "**Example:** If we get this tree as input: \n",
    "\n",
    "              8\n",
    "            /   \\\n",
    "           3     10\n",
    "          / \\     \\\n",
    "         1  6     14     \n",
    "           / \\   /\n",
    "          4  7  13\n",
    "\n",
    "and if *min=5* and *max=13*, then the resulting trimmed BST should be:\n",
    "    \n",
    "             8\n",
    "           /  \\\n",
    "          6    10\n",
    "           \\    \\\n",
    "           7    13     "
   ]
  },
  {
   "cell_type": "markdown",
   "id": "33c69756-6af0-4d15-ac20-ad7c6f1b332a",
   "metadata": {},
   "source": [
    "### 1) My solution:\n",
    "\n",
    "For this problem, we need to remove the nodes from the lowest keys to the largest keys, and always start with the nodes at the highest levels. This is essentially a postorder traversal of the binary tree, where after exploring the left and right subtrees, the performed action is checking whether or not the key of the current node is within the desired interval. If not, then we delete the node."
   ]
  },
  {
   "cell_type": "code",
   "execution_count": 8,
   "id": "c5f5934f-2454-42ce-b3f9-c940c392c3b1",
   "metadata": {},
   "outputs": [],
   "source": [
    "from Code.Trees.binary_search_tree_ajz import BSTMap\n",
    "from Code.Trees.heap_priority_queue import HeapPriorityQ\n",
    "from copy import deepcopy"
   ]
  },
  {
   "cell_type": "code",
   "execution_count": 5,
   "id": "759cbb1d-c4ad-4186-aca5-1f96b7ea8ce2",
   "metadata": {
    "tags": []
   },
   "outputs": [],
   "source": [
    "def inorder_traversal_print(T, position=None):\n",
    "    \n",
    "    if isinstance(T, HeapPriorityQ):\n",
    "        if position is None:\n",
    "            position = 0\n",
    "        # Traverse left subtree\n",
    "        if T._has_left(position):\n",
    "            inorder_traversal_print(T, T._left_child(position))\n",
    "        # Print element at current position\n",
    "        if T._parent(position)<0:\n",
    "            parent_key = \"None\"\n",
    "            parent_value = \"None\"\n",
    "        else:\n",
    "            parent_key = T._data[T._parent(position)]._key\n",
    "            parent_value = T._data[T._parent(position)]._value\n",
    "        print(f\"({T._data[position]._key}, {T._data[position]._value}), position = {position}, Parent = ({parent_key}, {parent_value})\")\n",
    "        # Traverse right subtree\n",
    "        if T._has_right(position):\n",
    "            inorder_traversal_print(T, T._right_child(position))\n",
    "            \n",
    "    elif isinstance(T, BSTMap):\n",
    "        if position is None:\n",
    "            position = T.root()\n",
    "        # Traverse left subtree\n",
    "        if T.left(position) is not None:\n",
    "            inorder_traversal_print(T, T.left(position))\n",
    "        \n",
    "        # Print element at current position and its parent\n",
    "        if T.parent(position) is None:\n",
    "            parent_key = \"None\"\n",
    "            parent_value = \"None\"\n",
    "        else:\n",
    "            parent_key = T.parent(position).key()\n",
    "            parent_value = T.parent(position).value()\n",
    "        print(f\"({position.element()._key}, {position.element()._value}), Parent = ({parent_key}, {parent_value})\")\n",
    "        \n",
    "        # Traverse right subtree\n",
    "        if T.right(position) is not None:\n",
    "            inorder_traversal_print(T, T.right(position))"
   ]
  },
  {
   "cell_type": "code",
   "execution_count": 18,
   "id": "e5737cf1-6a4e-440e-b92a-f3957ed7f62d",
   "metadata": {},
   "outputs": [],
   "source": [
    "def TrimBST(T, min_key, max_key, position = None):\n",
    "    \n",
    "    if T.is_empty():\n",
    "        raise ValueError(\"Tree is empty\")\n",
    "    \n",
    "    if position is None:\n",
    "        position = T.root()\n",
    "    \n",
    "    if T.left(position) is not None:\n",
    "        TrimBST(T, min_key, max_key, T.left(position))\n",
    "    \n",
    "    if T.right(position) is not None:\n",
    "        TrimBST(T, min_key, max_key, T.right(position))\n",
    "    \n",
    "    if (position.key()<min_key) or (position.key()>max_key):\n",
    "        #print(f\"Removing position ({position.key()}, {position.value()})\")\n",
    "        T.delete(position)\n",
    "        #del T[position.key()]\n",
    "    \n",
    "    \n"
   ]
  },
  {
   "cell_type": "markdown",
   "id": "ca45104e-7e46-42cd-829d-34af4dfa104b",
   "metadata": {},
   "source": [
    "#### Example 1"
   ]
  },
  {
   "cell_type": "code",
   "execution_count": 3,
   "id": "43f1c069-2a11-4bdd-9b9a-6fc1ef2f9d9a",
   "metadata": {},
   "outputs": [],
   "source": [
    "L = [(4,\"C\"), (5, \"A\"), (6,\"Z\"), (15,\"K\"), (9, \"F\"), \n",
    "      (7, \"Q\"), (20,\"B\"), (16,\"X\"), (25, \"J\"), (14,\"E\"), \n",
    "      (12, \"H\"), (11, \"S\"), (13, \"W\"), \n",
    "     ]"
   ]
  },
  {
   "cell_type": "code",
   "execution_count": 4,
   "id": "0298d2c6-f480-4ee4-8fbc-410004501423",
   "metadata": {},
   "outputs": [],
   "source": [
    "# Build heap of Fig.9.1 in GTG13. Use same nodes in a BST\n",
    "heap1 = HeapPriorityQ()\n",
    "bst1 = BSTMap()\n",
    "for e in L:\n",
    "    heap1.add(e[0], e[1])\n",
    "    bst1[e[0]] = e[1]\n"
   ]
  },
  {
   "cell_type": "code",
   "execution_count": 6,
   "id": "1d56f696-abfd-4033-8368-54169a67efc7",
   "metadata": {},
   "outputs": [
    {
     "name": "stdout",
     "output_type": "stream",
     "text": [
      "(4, C), Parent = (None, None)\n",
      "(5, A), Parent = (4, C)\n",
      "(6, Z), Parent = (5, A)\n",
      "(7, Q), Parent = (9, F)\n",
      "(9, F), Parent = (15, K)\n",
      "(11, S), Parent = (12, H)\n",
      "(12, H), Parent = (14, E)\n",
      "(13, W), Parent = (12, H)\n",
      "(14, E), Parent = (9, F)\n",
      "(15, K), Parent = (6, Z)\n",
      "(16, X), Parent = (20, B)\n",
      "(20, B), Parent = (15, K)\n",
      "(25, J), Parent = (20, B)\n"
     ]
    }
   ],
   "source": [
    "inorder_traversal_print(bst1)"
   ]
  },
  {
   "cell_type": "code",
   "execution_count": 16,
   "id": "d6026a8f-1c08-4b0b-9237-e97954c82964",
   "metadata": {},
   "outputs": [],
   "source": [
    "bst2 = deepcopy(bst1)"
   ]
  },
  {
   "cell_type": "code",
   "execution_count": 19,
   "id": "d1dedd89-20f1-4562-8b6c-3b4f353ea695",
   "metadata": {},
   "outputs": [],
   "source": [
    "TrimBST(bst2, min_key = 6, max_key = 15)"
   ]
  },
  {
   "cell_type": "code",
   "execution_count": 20,
   "id": "bc547b84-a11e-46d3-8c7d-04476ca27104",
   "metadata": {},
   "outputs": [
    {
     "name": "stdout",
     "output_type": "stream",
     "text": [
      "(6, Z), Parent = (None, None)\n",
      "(7, Q), Parent = (9, F)\n",
      "(9, F), Parent = (15, K)\n",
      "(11, S), Parent = (12, H)\n",
      "(12, H), Parent = (14, E)\n",
      "(13, W), Parent = (12, H)\n",
      "(14, E), Parent = (9, F)\n",
      "(15, K), Parent = (6, Z)\n"
     ]
    }
   ],
   "source": [
    "inorder_traversal_print(bst2)"
   ]
  },
  {
   "cell_type": "markdown",
   "id": "dead6be1-c29c-4639-9b50-28dac6421f68",
   "metadata": {},
   "source": [
    "#### Example 2"
   ]
  },
  {
   "cell_type": "code",
   "execution_count": 29,
   "id": "de764b50-c719-405c-ae41-fd871d787ed7",
   "metadata": {},
   "outputs": [],
   "source": [
    "del bst_ex"
   ]
  },
  {
   "cell_type": "code",
   "execution_count": 30,
   "id": "096d02c8-b2a0-43f4-8b88-952d4c5c7da9",
   "metadata": {},
   "outputs": [],
   "source": [
    "E = [ (8, \"Q\"), \n",
    "     (3, \"A\"), (1,\"C\"), (6,\"Z\"), (4,\"K\"), (7, \"F\"), \n",
    "      (10,\"B\"), (14,\"X\"), (13, \"W\"), \n",
    "     ]\n",
    "bst_ex = BSTMap()\n",
    "for e in E:\n",
    "    bst_ex[e[0]] = e[1]\n",
    "bst_ex2 = deepcopy(bst_ex)"
   ]
  },
  {
   "cell_type": "code",
   "execution_count": 31,
   "id": "19d15f96-c782-48bc-bf67-3f3ed505a85a",
   "metadata": {},
   "outputs": [
    {
     "name": "stdout",
     "output_type": "stream",
     "text": [
      "(1, C), Parent = (3, A)\n",
      "(3, A), Parent = (8, Q)\n",
      "(4, K), Parent = (6, Z)\n",
      "(6, Z), Parent = (3, A)\n",
      "(7, F), Parent = (6, Z)\n",
      "(8, Q), Parent = (None, None)\n",
      "(10, B), Parent = (8, Q)\n",
      "(13, W), Parent = (14, X)\n",
      "(14, X), Parent = (10, B)\n"
     ]
    }
   ],
   "source": [
    "inorder_traversal_print(bst_ex)"
   ]
  },
  {
   "cell_type": "code",
   "execution_count": 33,
   "id": "53f45df6-4969-47ad-908b-7b923a471c58",
   "metadata": {},
   "outputs": [],
   "source": [
    "TrimBST(bst_ex2, min_key = 5, max_key = 13)"
   ]
  },
  {
   "cell_type": "code",
   "execution_count": 34,
   "id": "0d3cb068-53ae-46d4-89eb-431c652f2b7a",
   "metadata": {},
   "outputs": [
    {
     "name": "stdout",
     "output_type": "stream",
     "text": [
      "(6, Z), Parent = (8, Q)\n",
      "(7, F), Parent = (6, Z)\n",
      "(8, Q), Parent = (None, None)\n",
      "(10, B), Parent = (8, Q)\n",
      "(13, W), Parent = (10, B)\n"
     ]
    }
   ],
   "source": [
    "inorder_traversal_print(bst_ex2)"
   ]
  },
  {
   "cell_type": "markdown",
   "id": "92b7fc3f-df88-4bf0-8657-4c714b8ecfd3",
   "metadata": {},
   "source": [
    "# Scrap"
   ]
  },
  {
   "cell_type": "code",
   "execution_count": null,
   "id": "4f64297d-1474-4849-a318-1edb56ec9363",
   "metadata": {},
   "outputs": [],
   "source": []
  },
  {
   "cell_type": "code",
   "execution_count": null,
   "id": "d056f12e-ac41-41b5-9f67-a45b73f5df05",
   "metadata": {},
   "outputs": [],
   "source": []
  },
  {
   "cell_type": "code",
   "execution_count": null,
   "id": "0d4f6e7a-da89-4384-997e-af07194738d8",
   "metadata": {},
   "outputs": [],
   "source": []
  },
  {
   "cell_type": "code",
   "execution_count": null,
   "id": "176a0dd0-3543-409a-b8e6-fc6e95ae1184",
   "metadata": {},
   "outputs": [],
   "source": []
  },
  {
   "cell_type": "code",
   "execution_count": null,
   "id": "7b994506-8c0f-4b67-940a-7fd1480cf25b",
   "metadata": {},
   "outputs": [],
   "source": []
  },
  {
   "cell_type": "code",
   "execution_count": null,
   "id": "bfdcab55-7094-45a0-aee1-ab0bafdff0fe",
   "metadata": {},
   "outputs": [],
   "source": []
  },
  {
   "cell_type": "code",
   "execution_count": null,
   "id": "4a963ea1-d90e-45f2-97f4-9e255b23c646",
   "metadata": {},
   "outputs": [],
   "source": []
  },
  {
   "cell_type": "code",
   "execution_count": null,
   "id": "ffe01f25-7100-41cf-9ff5-d74158c9fc92",
   "metadata": {},
   "outputs": [],
   "source": []
  },
  {
   "cell_type": "code",
   "execution_count": null,
   "id": "592fbdd9-7d06-4190-9b7c-98b3b9c9758e",
   "metadata": {},
   "outputs": [],
   "source": []
  },
  {
   "cell_type": "code",
   "execution_count": null,
   "id": "2324474b-f87d-44bf-bf7f-175af5fba518",
   "metadata": {},
   "outputs": [],
   "source": []
  },
  {
   "cell_type": "code",
   "execution_count": null,
   "id": "f2d908f5-9d9c-45d6-ab6e-3800ebe21b5e",
   "metadata": {},
   "outputs": [],
   "source": []
  },
  {
   "cell_type": "code",
   "execution_count": null,
   "id": "d5fc485d-4861-4b2b-959d-c70b1ff82bf3",
   "metadata": {},
   "outputs": [],
   "source": []
  },
  {
   "cell_type": "code",
   "execution_count": null,
   "id": "57b023b9-84fe-4c18-860e-7a50514e5c55",
   "metadata": {},
   "outputs": [],
   "source": []
  }
 ],
 "metadata": {
  "kernelspec": {
   "display_name": "Python 3 (ipykernel)",
   "language": "python",
   "name": "python3"
  },
  "language_info": {
   "codemirror_mode": {
    "name": "ipython",
    "version": 3
   },
   "file_extension": ".py",
   "mimetype": "text/x-python",
   "name": "python",
   "nbconvert_exporter": "python",
   "pygments_lexer": "ipython3",
   "version": "3.9.16"
  }
 },
 "nbformat": 4,
 "nbformat_minor": 5
}
