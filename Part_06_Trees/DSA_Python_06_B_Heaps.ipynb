{
 "cells": [
  {
   "cell_type": "markdown",
   "id": "10de5546-3759-4fc4-84e9-2b28cdd69620",
   "metadata": {},
   "source": [
    "# Data Structures and Algorithms in Python - Ch.9: Priority Queues and Heaps\n",
    "### AJ Zerouali, 2023/10/05"
   ]
  },
  {
   "cell_type": "markdown",
   "id": "36f0e53a-9a6a-47cf-a48c-9c137f1975eb",
   "metadata": {},
   "source": [
    "## 0) Introduction\n",
    "\n",
    "**References:**\n",
    "\n",
    "- Chapter 9 of \"Data structures and algorithms in Python\", by Goodrich, Tamassia and Goldwasser (primary, abbreviated [GTG13]). \n",
    "- Section 16 of \"Python for Data Structures, Algorithms, and Interviews!\" by Jose Portilla (to a much lesser extent).\n",
    "\n",
    "**Comments:**\n",
    "- A very important part this chapter is section 9.4 of [GTG13], which covers selection-sort, insertion-sort and heap-sort."
   ]
  },
  {
   "cell_type": "markdown",
   "id": "f5b5eddd-3a0d-42a0-aedf-1da4f1e26cb6",
   "metadata": {},
   "source": [
    "## 1) Priority queues\n",
    "\n",
    "This is form section 9.1 of [GTG13]. Some applications are explained here: https://en.wikipedia.org/wiki/Priority_queue#Applications.\n",
    "\n",
    "A **priority queue** is an upgrade to a queue where the elements are not ordered on the LIFO basis, but rather depending on the priority of the element. Typically, the priority is determined by a **key** here, in the sense that any element added to the priority queue consists of a couple **(key, value)**. The purpose of this data structure is to allow arbitrary insertions, and the next element removed from this container is the one with the minimum key.\n",
    "\n",
    "The interface of priority queue object *P* will typically have the following methods:\n",
    "- *P.add(k,v):* Adds an element *(k,v)* where *k* is the key and *v* is the value.\n",
    "- *P.min():* Returns *(k,v)*, where *k* is the minimal key in *P*.\n",
    "- *P.remove_min():* Remove the item with minimal key from *P*.\n",
    "- *P.is_empty():* Checks if *P* is empty.\n",
    "- *len(P):* Returns the number of elements stored in *P*.\n",
    "\n",
    "Some remarks:\n",
    "- The keys of the items stored remain fixed.\n",
    "- If the keys aren't unique, then *min()* and *remove_min()* report arbitrary choices.\n",
    "\n",
    "**Comments on the implementation:**\n",
    "- To implement the elements of a priority queue, [GTG13] discuss the **composition design pattern**, initially introduced in section 7.6 (p.287). The idea is that one instance is composed of several objects. This is the content of section 9.2.1.\n",
    "- The remainder of 9.2 discusses two ways of implementing priority queues. As usual, the authors use a positional (doubly-linked) list as an underlying container for the key-value pairs. Said ilst can be either unsorted or sorted.\n",
    "- The unsorted list implementation is discussed in 9.2.2 (see code on p.367). The main facts to note here are that the addition of an item will run in $O(n)$ time, while the *min()* and *remove_min()* methods will run in $O(n)$ time.\n",
    "- The sorted list implementation is discussed in 9.2.3 (code on p.369). The difference here is that the elements of the priority queue are added after checking the order, meaning that *add()* will run in $O(n)$ time. In contrast, the methods *min()* and *remove_min()* will run in $O(1)$ time when this implementation is used.\n",
    "\n",
    "**Comment (23/10/02):** I am skipping these implementations for now. My priority is the heap implementation of the priority queue, and heaps are implemented using arrays (see also lecture 112 of Portilla's DSA course). My end-goal are the sorting algorithms.\n",
    "\n",
    "In view of the remarks above, there is a more efficient way of implementing priority lists that is based on binary heaps, which are a special class of trees."
   ]
  },
  {
   "cell_type": "markdown",
   "id": "b90095c8-334a-4553-93b6-0fb60a04f4a9",
   "metadata": {},
   "source": [
    "## 2) Heaps"
   ]
  },
  {
   "cell_type": "markdown",
   "id": "6d2f1421-9c2a-4203-bb84-ca08e2ece4d6",
   "metadata": {},
   "source": [
    "### 2.a - Basics of heaps\n",
    "This section is based on sec.9.3.1 of [GTG13].\n",
    "\n",
    "#### Definition \n",
    "A (binary) **heap** is a binary tree $T$ whose nodes/positions store key-value couples, and satisfying  two additional conditions:\n",
    "1) **The heap-order property:** For every position $p$ in the heap $T$, the key stored at $p$ is greater than the key stored at $p$'s parent.\n",
    "2) **Complete binary tree property:** A binary tree $T$ is complete if every level $i=0,1,\\cdots,h-1$ contains the maximal number of nodes possible $2^i$, and the remaining nodes at level $h$ reside at the lefmost possible positions at that level (see [GTG13, Fig.9.1] for a depiction).\n",
    "\n",
    "The height of a heap satisfies an important property:\n",
    "\n",
    "#### Proposition 9.2:\n",
    "A heap $T$ storing $n$ entries has height $h=\\lfloor \\log(n)\\rfloor$.\n",
    "\n",
    "#### Proof sketch:\n",
    "For a binary tree, we know that $h\\ge \\log(n+1)-1$. Since $T$ is complete, the number of internal nodes is $2^h-1$, with at least one node in level $h$, meaning that $n\\ge 2^h$. Thus $\\log(n+1)-1\\le h\\le \\log(n)$. Since the difference between the bounds is lower than $1$ and $h$ is an integer, we must have that $h=\\lfloor \\log(n)\\rfloor$."
   ]
  },
  {
   "cell_type": "markdown",
   "id": "e2d30696-e913-42b6-9574-145d891ad51f",
   "metadata": {},
   "source": [
    "### 2.b - Practical considerations\n",
    "\n",
    "The reference for this part is [GTG13, Sec.9.3.2].\n",
    "\n",
    "#### Level numbering as indices\n",
    "\n",
    "For the sake of simplicity, we will implement our heap using an array in the next section, and use this class to realize a priority queue. Furthermore, we will adopt the convention by which the highest priority element has the minimal key, which translates into using a min-heap, for which the root is the minimal element. Instead of using the abstract position class of [GTG13], the nodes of our heap will be indexed by the *level numbering function* [GTG13, Sec.8.3.2], which is defined as follows:\n",
    "- If the position $p$ is the root, then: $f(p)=0$.\n",
    "- If $p$ is the left child of a position $q$, then: $f(p)=2f(q)+1$.\n",
    "- If $p$ is the right child of a position $q$, then: $f(p)=2f(q)+2$.\n",
    "\n",
    "When the heap nodes are stored in in an array, the level numbering function gives us an easy way of accessing the children and the parent of a node. There are other advantages of this approach that we will discuss later, and it is worth noting here that in Portilla's course, the level numbering function differs from this one by one (he keeps position 0 empty).\n",
    "\n",
    "The heavy lifting of this implementation lies in how we add a node to the heap and how we remove the minimal element. Again, we want our priority queue to have the following public interface:\n",
    "- *P.add(k,v):* Adds an element *(k,v)* where *k* is the key and *v* is the value.\n",
    "- *P.min():* Returns *(k,v)*, where *k* is the minimal key in *P*.\n",
    "- *P.remove_min():* Remove the item with minimal key from *P*.\n",
    "- *P.is_empty():* Checks if *P* is empty.\n",
    "- *len(P):* Returns the number of elements stored in *P*.\n",
    "\n",
    "We next discuss some details for the methods *add()* and *remove_min()*.\n",
    "\n",
    "#### Adding an element\n",
    "\n",
    "One of the advantages of using an array-based implementation for our heap is that appending a new node to the array will preserve the **complete binary tree property**. Suppose that the heap has height $h$. Intuitively, the appension of a new node will either:\n",
    "- Add it to the position just after the rightmost node occupying level $h$, if this level is not yet full.\n",
    "- Add it to the leftmost position of a new level $h+1$, if level $h$ is full.\n",
    "\n",
    "Thus, as we add nodes to an array-based heap, we do not need to explicitly reshape this tree when using the level numbering. The issue we need to deal with however is the **heap-order property**, as we need to ensure that the newly added node is in the correct level of the tree, and that its key is lower than that of its parent node. Obviously, if the newly added node $(k_n,v_n)$ has parent $(k_p, v_p)$, and if the keys are such that $k_p>k_n$, then we will have to move $(k_n,v_n)$ to a position of lower level in the heap.\n",
    "\n",
    "Since we potentially have to move the new node to a lower level in several iterations, we see that verifying all the keys in the base array leads to an execution bottleneck. Another advantage of using a heap becomes clear at this point: By checking only the keys of the newly added node and its parent, we are reducing the time complexity of this addition method. In practice, we just have to use a while loop, and swap the positions of new node and its parent in the heap array as long as $k_p>k_n$. This method is called **up-heap bubbling**, and a good depiction is given in [GTG13, Fig.9.2].\n",
    "\n",
    "#### Removing the minimal element\n",
    "\n",
    "With the implementation discussed in this section, it is obvious that the minimal element in the heap is its root. This means that naively, *remove_min()* will simply return the root of the tree after removing it. The issue now is that when removing first element from the heap array and simply shifting all the entries by $-1$, we are not necessarily left with a heap anymore. Visually, just removing the root creates two trees, and we need a *remove_min()* algorithm that reorganizes the array into a heap.\n",
    "\n",
    "The practical solution is as follows:\n",
    "1) First, to preserve the **complete binary tree** property, we interchange the last position in the tree with the root, then remove and return the last entry of the base array. With this approach, we have removed the minimal element, and all the nodes in the highest level remain in all the leftmost positions.\n",
    "2) Second, iteratively move the new root node down the tree to preserve the **heap-order property**. If $p$ denotes the (new) node positioned at the root, define $c$ such that:\n",
    "    * If $p$ has no right child, then $c$ is $p$'s left child.\n",
    "    * If $p$ has two children, let $c$ be the child of lowest key.\n",
    "    \n",
    "    Proceeding recursively while $k_p>k_c$, swap the entries at nodes $p$ and $c$.\n",
    "    This process is called **down-heap bubbling**.\n",
    "    \n",
    "The down-heap bubbling algorithm is depicted in [GTG13, Fig.9.3]. An important remark here is how the child $c$ is defined in (2) above. This choice guarantees that before swapping, the node $c$ has the smallest key.\n",
    "\n",
    "#### Time complexity of the priority queue's methods\n",
    "\n",
    "At first glance, using up/down-heap bubbling seems like a time intensive process. It is instructive to note that in the worst case, these sorting procedures take $h$ steps where $h$ is the height of the tree, and by Proposition 9.2, they are in fact $O(\\log n)$ (amortized, when using an array-based implementation) if the heap has $n$ nodes.\n",
    "\n",
    "Below, we will implement our heap so that the priority queue's *is_empty()* and *len()* are $O(1)$. The last method is *min()*, which is clearly $O(1)$ since it returns the first entry of the base array."
   ]
  },
  {
   "cell_type": "markdown",
   "id": "ac1d71cb-6fcc-4846-9317-ec1d7e948abd",
   "metadata": {},
   "source": [
    "### 2.c - Python's *heapq* module\n",
    "\n",
    "The official documentation for this module can be found here:\n",
    "\n",
    "https://docs.python.org/3/library/heapq.html\n",
    "\n",
    "This module does not implement any heap or priority queue classes, but it provides functions that allow one to treat a standard *list* as a heap. Given a list *L*, this module provides the following functions:\n",
    "* *heapify(L)*: Transforms an arbitrary list *L* to satisfy the heap-order property. Executes the **bottom-up heap construction** algorithm [GTG13, Sec.9.3.6] in $O(n)$ time.\n",
    "* nlargest(k, L): L could be any iterable. Returns a list of *k* largest values from *L*.\n",
    "* nsmallest(k, L): L could be any iterable. Returns a list of *k* smallest values from *L*.\n",
    "\n",
    "The next functions presume that the list *L* satisfies the heap-order property:\n",
    "* *heappush(L,e)*: Push the element e into *L* and restore the heap-order property. Implements the *add()* method discussed above and executes in $O(\\log n)$ time.\n",
    "* *heappop(L)*: Pop and return the smallest value in *L*. Implements the *remove_min()* method discussed above and executes in $O(\\log n)$ time.\n",
    "* *heappushpop(L,e)*: Combines the previous methods more efficiently than separate calls, by pushing and then popping.\n",
    "* *heapreplace(L,e)*: Similar to *heappushpop()* but pops the minimal element of *L* before pushing *e*.\n",
    "\n",
    "We can illustrate this with nodes given by 2-tuples where the key is a string and the value is an integer. Here is an example:"
   ]
  },
  {
   "cell_type": "code",
   "execution_count": 1,
   "id": "c71c2ae0-1094-487e-854d-061aa3296300",
   "metadata": {},
   "outputs": [],
   "source": [
    "# Import the heapq module\n",
    "import heapq\n",
    "# Initialize a list\n",
    "L = [(\"K\", 28), (\"X\",4), (\"M\",7), (\"Z\",39), (\"L\",5), (\"T\",37), (\"A\",100)]"
   ]
  },
  {
   "cell_type": "code",
   "execution_count": 2,
   "id": "c4c98be4-af56-493a-8a38-1c8b3d299a55",
   "metadata": {},
   "outputs": [
    {
     "name": "stdout",
     "output_type": "stream",
     "text": [
      "[('A', 100), ('L', 5), ('K', 28), ('Z', 39), ('X', 4), ('T', 37), ('M', 7)]\n"
     ]
    }
   ],
   "source": [
    "# Transform list into array-based heap\n",
    "heapq.heapify(L)\n",
    "# Show heapified list\n",
    "print(L)"
   ]
  },
  {
   "cell_type": "code",
   "execution_count": 3,
   "id": "6279a5f7-e3e6-4079-8a2d-de7c2b548694",
   "metadata": {},
   "outputs": [
    {
     "name": "stdout",
     "output_type": "stream",
     "text": [
      "Previous root of L: ('A', 100)\n",
      "Current heap L: L = [('K', 28), ('L', 5), ('M', 7), ('Z', 39), ('X', 4), ('T', 37)]\n"
     ]
    }
   ],
   "source": [
    "# Remove minimal element from the heap L\n",
    "m = heapq.heappop(L)\n",
    "# Display results:\n",
    "print(f\"Previous root of L: {m}\")\n",
    "print(f\"Current heap L: L = {L}\")"
   ]
  },
  {
   "cell_type": "code",
   "execution_count": 4,
   "id": "a184fc3d-9c66-4251-8fff-99df17c2e05c",
   "metadata": {},
   "outputs": [
    {
     "name": "stdout",
     "output_type": "stream",
     "text": [
      "Current heap L: L = [('B', 800), ('L', 5), ('K', 28), ('Z', 39), ('X', 4), ('T', 37), ('M', 7)]\n"
     ]
    }
   ],
   "source": [
    "# Add a new node to the heap L:\n",
    "heapq.heappush(L, (\"B\", 800))\n",
    "print(f\"Current heap L: L = {L}\")"
   ]
  },
  {
   "cell_type": "markdown",
   "id": "ea15263c-f428-40eb-bdb6-12fdb839218b",
   "metadata": {},
   "source": [
    "## 3) Implementing a priority queue with an array-based heap\n",
    "\n",
    "### 3.a - Some implementation notes\n",
    "\n",
    "Following [GTG13, Sec.9.3.4], we implement a priority queue as an array-based heap. There are 3 parts to this implementation:\n",
    "\n",
    "#### Public methods of heap priority queue class:\n",
    "\n",
    "The public methods will be precisely the methods described in the first section, namely:\n",
    "- *P.add(k,v):* Adds an element *(k,v)* where *k* is the key and *v* is the value.\n",
    "- *P.min():* Returns *(k,v)*, where *k* is the minimal key in *P*.\n",
    "- *P.remove_min():* Remove the item with minimal key from *P*.\n",
    "- *P.is_empty():* Checks if *P* is empty.\n",
    "- *len(P):* Returns the number of elements stored in *P*.\n",
    "\n",
    "It is worth noting that our priority queue will have only one attribute: the (private) *data* list that will store the nodes. The size of the heap will obviously be the length of this list.\n",
    "\n",
    "#### Abstract base priority queue class\n",
    "\n",
    "To simplify matters, we use the abstract base class implemented in [GTG13, Sec.9.2.1] (see https://github.com/mjwestcott/Goodrich/blob/master/ch09/priority_queue_base.py).\n",
    "\n",
    "The most notable point here is the use of a private class *item* for the key-value objects.\n",
    "\n",
    "#### Private methods of heap priority queue class:\n",
    "\n",
    "This is where the trickiest implementations will be done. The core methods of this class are the implementations of the up-heap and down-heap bubbling algorithms to respectively add a new node and remove the root. Obviously, these methods will need to access the parent, left child, and right child of a given position in the base array, as well as swap two given nodes. We will therefore need the following additional private methods:\n",
    "\n",
    "* *_parent(i)*: Returns the index of the parent of the node at index *i*.\n",
    "* *_left_child(i)*: Returns the index of the left child of the node at index *i*.\n",
    "* *_right_child(i)*: Returns the index of the right child of the node at index *i*.\n",
    "* *_has_left(i)*: Checks if node at index *i* has a left child.\n",
    "* *_has_right(i)*: Checks if node at index *i* has a right child.\n",
    "* *_swap(i,j)*: Swaps the nodes at positions *i* and *j*.\n",
    "* *_bubble_up(i)*: Execute up-heap bubbling, called by *add()*.\n",
    "* *_bubble_down(i)*: Execute down-heap bubbling, called by *remove_min()*.\n",
    "\n"
   ]
  },
  {
   "cell_type": "markdown",
   "id": "96bf1066-b3cf-478a-a57c-680afe768566",
   "metadata": {},
   "source": [
    "### 2.b - Abstract priority queue base class"
   ]
  },
  {
   "cell_type": "code",
   "execution_count": 1,
   "id": "1338976e-9d9e-44cd-84ad-700b4f4dcb8f",
   "metadata": {},
   "outputs": [],
   "source": [
    "class PriorityQueueBase:\n",
    "    \"\"\"Abstract base class for a priority queue.\"\"\"\n",
    "\n",
    "    #------------------------------ nested _Item class ------------------------------\n",
    "    class _Item:\n",
    "        \"\"\"Lightweight composite to store priority queue items.\"\"\"\n",
    "        \n",
    "        __slots__ = '_key', '_value'\n",
    "        \n",
    "        def __init__(self, k, v):\n",
    "            self._key = k\n",
    "            self._value = v\n",
    "\n",
    "        def __lt__(self, other):\n",
    "            return self._key < other._key    # compare items based on their keys\n",
    "\n",
    "        def __repr__(self):\n",
    "            #return '({0},{1})'.format(self._key, self._value) #Original\n",
    "            return f\"({self._key}, {self._value})\"\n",
    "\n",
    "    #------------------------------ public behaviors ------------------------------\n",
    "    def is_empty(self):                  # concrete method assuming abstract len\n",
    "        \"\"\"Return True if the priority queue is empty.\"\"\"\n",
    "        return len(self) == 0\n",
    "    \n",
    "    def __len__(self):\n",
    "        \"\"\"Return the number of items in the priority queue.\"\"\"\n",
    "        raise NotImplementedError('must be implemented by subclass')\n",
    "    \n",
    "    def add(self, key, value):\n",
    "        \"\"\"Add a key-value pair.\"\"\"\n",
    "        raise NotImplementedError('must be implemented by subclass')\n",
    "        \n",
    "    def min(self):\n",
    "        \"\"\"\n",
    "            Return but do not remove (k,v) tuple with minimum key.\n",
    "            Raise ValueError if empty.\n",
    "        \"\"\"\n",
    "        raise NotImplementedError('must be implemented by subclass')\n",
    "        \n",
    "    def remove_min(self):\n",
    "        \"\"\"\n",
    "            Remove and return (k,v) tuple with minimum key.\n",
    "            Raise Empty exception if empty.\n",
    "        \"\"\"\n",
    "        raise NotImplementedError('must be implemented by subclass')"
   ]
  },
  {
   "cell_type": "markdown",
   "id": "6fce07bc-4642-4850-b6eb-b38ff34f8ea6",
   "metadata": {},
   "source": [
    "### 2.c - Main class:"
   ]
  },
  {
   "cell_type": "code",
   "execution_count": 2,
   "id": "a6c36188-88cc-4752-865f-fc6bef003410",
   "metadata": {},
   "outputs": [],
   "source": [
    "class HeapPriorityQ(PriorityQueueBase):\n",
    "    '''\n",
    "        Implementation of a priotiy queue \n",
    "        as an array-based heap.\n",
    "    '''\n",
    "    #---------- Constructor ----------\n",
    "    def __init__(self):\n",
    "        '''\n",
    "            Constructor for priority queue\n",
    "        '''\n",
    "        self._data = []\n",
    "        \n",
    "    #---------- Private methods ----------\n",
    "    \n",
    "    def _parent(self, i):\n",
    "        '''\n",
    "            Return index of parent of node at position i.\n",
    "            (Should not be called for the root)\n",
    "        '''\n",
    "        return (i-1)//2\n",
    "    \n",
    "    def _left_child(self,i):\n",
    "        '''\n",
    "            Return index of left child of node at position i.\n",
    "        '''\n",
    "        return 2*i+1\n",
    "    \n",
    "    def _has_left(self, i):\n",
    "        '''\n",
    "            Check if node at index i has a left child.\n",
    "        '''\n",
    "        return self._left_child(i)<len(self._data)\n",
    "    \n",
    "    def _right_child(self,i):\n",
    "        '''\n",
    "            Return index of right child of node at position i.\n",
    "        '''\n",
    "        return 2*(i+1)\n",
    "    \n",
    "    def _has_right(self, i):\n",
    "        '''\n",
    "            Check if current index has a left child.\n",
    "        '''\n",
    "        return self._right_child(i)<len(self._data)\n",
    "    \n",
    "    def _swap(self, i, j):\n",
    "        '''\n",
    "            Interchange items in nodes at positions\n",
    "            i and j.\n",
    "        '''\n",
    "        self._data[i], self._data[j] = self._data[j], self._data[i]\n",
    "        \n",
    "    def _bubble_up(self, i):\n",
    "        '''\n",
    "            Execute up-heap bubbling on node\n",
    "            at position i.\n",
    "        '''\n",
    "        # Check that i is not the root\n",
    "        if i>0:\n",
    "            j = i\n",
    "            p = self._parent(j)\n",
    "            \n",
    "            # Core loop\n",
    "            while self._data[j]<self._data[p] and j>0:\n",
    "                self._swap(j,p)\n",
    "                j, p = p, self._parent(p)\n",
    "    \n",
    "    def _bubble_down(self, i):\n",
    "        '''\n",
    "            Execute down-heap bubbling on node\n",
    "            at position i.\n",
    "        '''\n",
    "        # Check that node has a left child at least\n",
    "        ## If False, then current index is in highest level of heap\n",
    "        if self._has_left(i):\n",
    "            lchild = self._left_child(i)\n",
    "            min_child = lchild\n",
    "            \n",
    "            # Check if node has right child and if lower than left child\n",
    "            if self._has_right(i):\n",
    "                rchild = self._right_child(i)\n",
    "                if self._data[rchild]<self._data[lchild]:\n",
    "                    min_child = rchild\n",
    "            \n",
    "            # Check if i and min_child need swap\n",
    "            if self._data[min_child]<self._data[i]:\n",
    "                self._swap(min_child, i)\n",
    "                self._bubble_down(min_child)\n",
    "            \n",
    "        \n",
    "    \n",
    "    #---------- Public methods ----------\n",
    "    def __len__(self):\n",
    "        '''\n",
    "            Return number of elements stored in the priority queue\n",
    "        '''\n",
    "        return len(self._data)\n",
    "    \n",
    "    def min(self):\n",
    "        '''\n",
    "            Return (key, value) tuple corresonding to minimal element \n",
    "            of the priority queue.\n",
    "            Raises ValueError if the queue is empty.\n",
    "        '''\n",
    "        if self.is_empty():\n",
    "            raise ValueError(\"Cannot return min element of an empty priority queue\")\n",
    "        \n",
    "        item = self._data[0]\n",
    "        return (item._key, item._value)\n",
    "    \n",
    "    def add(self, k,v):\n",
    "        '''\n",
    "            Add key-value item (k,v) to the priority queue,\n",
    "            in such a way that the complete binary tree\n",
    "            and the heap-order properties are satisfied\n",
    "        '''\n",
    "        # Append new item to base array\n",
    "        self._data.append(self._Item(k,v))\n",
    "        \n",
    "        # Execute up-heap bubbling\n",
    "        self._bubble_up(len(self._data)-1)\n",
    "        \n",
    "    \n",
    "    def remove_min(self):\n",
    "        '''\n",
    "            Remove and return minimal element of the priority\n",
    "            queue, and reshape heap.\n",
    "            Raises ValueError if tree is empty\n",
    "        '''\n",
    "        # Raise error if heap is empty\n",
    "        if self.is_empty():\n",
    "            raise ValueError(\"Cannot remove minimal element of an empty priority queue\")\n",
    "            \n",
    "        # Swap root and last entry of heap\n",
    "        self._swap(0, len(self._data)-1)\n",
    "        min_element = self._data.pop()\n",
    "        \n",
    "        # Execute down-heap bubbling\n",
    "        self._bubble_down(0)\n",
    "        \n",
    "        # Output\n",
    "        return (min_element._key, min_element._value)"
   ]
  },
  {
   "cell_type": "markdown",
   "id": "289a29b2-36f2-4990-adc6-772e101bb991",
   "metadata": {},
   "source": [
    "**Comments:**\n",
    "In [GTG13], the *_bubble_up()* method is implemented as a recursion, but I elected to use a while loop. For the *_bubble_down()* method, since we need to check the left and right child at each iteration, the recursion was more optimal."
   ]
  },
  {
   "cell_type": "markdown",
   "id": "94d2be58-5acc-4717-988c-098528462c7f",
   "metadata": {},
   "source": [
    "### 2.c - An example:\n",
    "\n",
    "We verify our implementation on the example depicted in figures 9.1-9.3 of [GTG13, Sec.9.3].\n",
    "\n",
    "First, we reproduce the heap in Figure 9.1. It is easy to see from the heap order that we have built the same binary tree:"
   ]
  },
  {
   "cell_type": "code",
   "execution_count": 6,
   "id": "027f7c51-3ba5-422d-9aba-66893e7a81ce",
   "metadata": {},
   "outputs": [],
   "source": [
    "from random import shuffle\n",
    "import heapq\n",
    "from copy import deepcopy\n",
    "'''\n",
    "L_ = [(6,\"Z\"), (20,\"B\"), (13, \"W\"), (7, \"Q\"), (11, \"S\"), (15,\"K\"),\n",
    "     (5, \"A\"), (9, \"F\"), (25, \"J\"), (12, \"H\"), (16,\"X\"), (14,\"E\"), (4,\"C\")\n",
    "    ]\n",
    "'''\n",
    "L = [(4,\"C\"), (5, \"A\"), (6,\"Z\"), (15,\"K\"), (9, \"F\"), \n",
    "      (7, \"Q\"), (20,\"B\"), (16,\"X\"), (25, \"J\"), (14,\"E\"), \n",
    "      (12, \"H\"), (11, \"S\"), (13, \"W\"), \n",
    "     ]"
   ]
  },
  {
   "cell_type": "code",
   "execution_count": 5,
   "id": "1310c04a-fec8-42f1-8804-500f1f0b569e",
   "metadata": {},
   "outputs": [
    {
     "data": {
      "text/plain": [
       "[(4, C),\n",
       " (5, A),\n",
       " (6, Z),\n",
       " (15, K),\n",
       " (9, F),\n",
       " (7, Q),\n",
       " (20, B),\n",
       " (16, X),\n",
       " (25, J),\n",
       " (14, E),\n",
       " (12, H),\n",
       " (11, S),\n",
       " (13, W)]"
      ]
     },
     "execution_count": 5,
     "metadata": {},
     "output_type": "execute_result"
    }
   ],
   "source": [
    "# Build heap of Fig.9.1\n",
    "heap1 = HeapPriorityQ()\n",
    "for e in L:\n",
    "    heap1.add(e[0], e[1])\n",
    "\n",
    "# Display resulting tree\n",
    "heap1._data"
   ]
  },
  {
   "cell_type": "markdown",
   "id": "875c4887-f862-49fb-93d0-164868a2b192",
   "metadata": {},
   "source": [
    "Now we reconstruct the tree of Fig.9.1. We copy the heap above, and add the element *(2, \"T\")*:"
   ]
  },
  {
   "cell_type": "code",
   "execution_count": 7,
   "id": "5e450dfb-1765-48b4-aaf9-b2336d275067",
   "metadata": {},
   "outputs": [
    {
     "data": {
      "text/plain": [
       "[(2, T),\n",
       " (5, A),\n",
       " (4, C),\n",
       " (15, K),\n",
       " (9, F),\n",
       " (7, Q),\n",
       " (6, Z),\n",
       " (16, X),\n",
       " (25, J),\n",
       " (14, E),\n",
       " (12, H),\n",
       " (11, S),\n",
       " (13, W),\n",
       " (20, B)]"
      ]
     },
     "execution_count": 7,
     "metadata": {},
     "output_type": "execute_result"
    }
   ],
   "source": [
    "# Copy base heap\n",
    "heap2 = deepcopy(heap1)\n",
    "\n",
    "# Add element in Fig.9.2\n",
    "heap2.add(2,\"T\")\n",
    "\n",
    "# Display base array\n",
    "heap2._data"
   ]
  },
  {
   "cell_type": "markdown",
   "id": "369df3d4-1d3d-408e-8965-f38dfda6aa06",
   "metadata": {},
   "source": [
    "Next, we redo the Fig.9.3 example, by removing the root of the first example:"
   ]
  },
  {
   "cell_type": "code",
   "execution_count": 8,
   "id": "96f8655f-f4b6-4f1a-a4db-c7c6548a327b",
   "metadata": {},
   "outputs": [
    {
     "name": "stdout",
     "output_type": "stream",
     "text": [
      "Min. element of heap1: prev_root = (4, 'C')\n"
     ]
    },
    {
     "data": {
      "text/plain": [
       "[(5, A),\n",
       " (9, F),\n",
       " (6, Z),\n",
       " (15, K),\n",
       " (12, H),\n",
       " (7, Q),\n",
       " (20, B),\n",
       " (16, X),\n",
       " (25, J),\n",
       " (14, E),\n",
       " (13, W),\n",
       " (11, S)]"
      ]
     },
     "execution_count": 8,
     "metadata": {},
     "output_type": "execute_result"
    }
   ],
   "source": [
    "# Copy base heap\n",
    "heap3 = deepcopy(heap1)\n",
    "\n",
    "# Add element in Fig.9.2\n",
    "prev_root = heap3.remove_min()\n",
    "\n",
    "# Print previous root\n",
    "print(f\"Min. element of heap1: prev_root = {prev_root}\")\n",
    "\n",
    "# Display base array\n",
    "heap3._data"
   ]
  }
 ],
 "metadata": {
  "kernelspec": {
   "display_name": "Python 3 (ipykernel)",
   "language": "python",
   "name": "python3"
  },
  "language_info": {
   "codemirror_mode": {
    "name": "ipython",
    "version": 3
   },
   "file_extension": ".py",
   "mimetype": "text/x-python",
   "name": "python",
   "nbconvert_exporter": "python",
   "pygments_lexer": "ipython3",
   "version": "3.9.16"
  }
 },
 "nbformat": 4,
 "nbformat_minor": 5
}
