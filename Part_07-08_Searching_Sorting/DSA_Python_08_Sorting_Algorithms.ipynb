{
 "cells": [
  {
   "cell_type": "markdown",
   "id": "10de5546-3759-4fc4-84e9-2b28cdd69620",
   "metadata": {},
   "source": [
    "# Data Structures and Algorithms in Python - Sorting Algorithms\n",
    "### AJ Zerouali, 2023/10/13"
   ]
  },
  {
   "cell_type": "markdown",
   "id": "36f0e53a-9a6a-47cf-a48c-9c137f1975eb",
   "metadata": {},
   "source": [
    "## 0) Introduction\n",
    "\n",
    "**References:**\n",
    "\n",
    "- \"Data structures and algorithms in Python\", by Goodrich, Tamassia and Goldwasser (primary, abbreviated [GTG13]). The main sorting chapter is Ch.12, but there are sorting algorithms scattered throughout the previous chapters.\n",
    "- Section 17 of \"Python for Data Structures, Algorithms, and Interviews!\" by Jose Portilla. \n",
    "- The algorithms covered here are:\n",
    "     * Bubble sort (Lect.132)\n",
    "     * Selection-sort (Lect.134, [GTG13, Sec.9.4.1])\n",
    "     * Insertion sort (Lect.136, [GTG13, Sec.9.4.1])\n",
    "     * Shell sort (Lect.138)\n",
    "     * Merge-sort (Lect.140, [GTG13, Sec.12.2])\n",
    "     * Quick sort (Lect.132, [GTG13, Sec.12.3])\n",
    "     * Heap-sort ([GTG13, Sec.9.4.2])\n",
    "\n",
    "**Comments:**\n",
    "- I still need to clarify what I am covering here, and maybe add proofs of the execution time analyses."
   ]
  },
  {
   "cell_type": "markdown",
   "id": "f5b5eddd-3a0d-42a0-aedf-1da4f1e26cb6",
   "metadata": {},
   "source": [
    "## 1) Bubble sort\n",
    "\n",
    "### 1.a - Basic description\n",
    "\n",
    "In brief:\n",
    "- Bubble sort makes multiple passes through an array.\n",
    "- Compares adjacent items and exchanges those out of order.\n",
    "- Each pass \"bubbles\" the largest value to its appropriate place.\n",
    "- Portilla gives several resources for the visualization of this algorithm, such as:\n",
    " * https://www.toptal.com/developers/sorting-algorithms/bubble-sort\n",
    " * https://en.wikipedia.org/wiki/Bubble_sort\n",
    " * Link to all resources: https://github.com/jmportilla/Python-for-Algorithms--Data-Structures--and-Interviews/blob/master/07-Searching%20and%20Sorting/04-Implementation%20of%20Bubble%20Sort.ipynb.\n",
    " \n",
    "\n",
    "\n"
   ]
  },
  {
   "cell_type": "markdown",
   "id": "a6d06ebb-96cf-4b37-a9b7-dc6fa86c29c1",
   "metadata": {},
   "source": [
    "### 1.b - Implementation\n",
    "\n",
    "Here is the concrete implementation:\n"
   ]
  },
  {
   "cell_type": "code",
   "execution_count": 22,
   "id": "b46a5df4-516f-4450-a40c-5313bf294b46",
   "metadata": {},
   "outputs": [],
   "source": [
    "def bubble_sort(arr):\n",
    "    '''\n",
    "        Bubble sort of array arr\n",
    "    '''\n",
    "    A = arr.copy()\n",
    "    N = len(A)\n",
    "    for i in range(N-1):\n",
    "        for j in range(N-1):\n",
    "            if A[j]>A[j+1]:\n",
    "                A[j], A[j+1] = A[j+1], A[j]\n",
    "    return A"
   ]
  },
  {
   "cell_type": "code",
   "execution_count": 11,
   "id": "0cf89f20-f6ec-4f2f-b791-631acb8071af",
   "metadata": {},
   "outputs": [],
   "source": [
    "import random"
   ]
  },
  {
   "cell_type": "code",
   "execution_count": 26,
   "id": "2c095ea3-b6b0-47c3-b117-27ceef5d2a1e",
   "metadata": {},
   "outputs": [
    {
     "data": {
      "text/plain": [
       "[21, 14, -19, -18, -25, 23, -22, 22, 20, 14]"
      ]
     },
     "execution_count": 26,
     "metadata": {},
     "output_type": "execute_result"
    }
   ],
   "source": [
    "arr = []\n",
    "for i in range(10):\n",
    "    arr.append(random.randint(-25,25))\n",
    "arr"
   ]
  },
  {
   "cell_type": "code",
   "execution_count": 27,
   "id": "e5e445b0-e080-4374-8cb7-fd0ac9cc0487",
   "metadata": {},
   "outputs": [
    {
     "data": {
      "text/plain": [
       "[-25, -22, -19, -18, 14, 14, 20, 21, 22, 23]"
      ]
     },
     "execution_count": 27,
     "metadata": {},
     "output_type": "execute_result"
    }
   ],
   "source": [
    "arr_sorted = bubble_sort(arr)\n",
    "arr_sorted"
   ]
  },
  {
   "cell_type": "markdown",
   "id": "831c08d4-4122-40f9-9402-f7e8e5683ad2",
   "metadata": {},
   "source": [
    "### 1.c - Time complexity\n",
    "\n",
    "The wort-case complexity is $O(n^2)$. This is easy to see if the input array is in reverse ordering for example, with $n^2$ coming from the 2 loops.\n"
   ]
  },
  {
   "cell_type": "markdown",
   "id": "3af1c7bf-6368-428f-8423-129292c51bc2",
   "metadata": {},
   "source": [
    "## 2) Selection sort\n",
    "\n",
    "### 2.a - Basic description\n",
    "\n",
    "In brief: \n",
    "- An improvement on bubble sort by performing only one swap of elements at each pass. Suppose the number of elements in the array $A$ is $N$.\n",
    "- The outer loop iteration index $i$ goes from $0$ to $N-1$. For each $i$, we execute a loop over the sub-array $A[i:N]$ to find the minimum element index $j_{min}$.\n",
    "- After finding the index of the min in $A[i:N]$, we swap the entries $A[i:N][j_{min}]$ and $A[i]$.\n",
    "- The description above is based on finding the minimum in each subarray, but we can also implement selection sort based on the max of each subarray.\n",
    "\n",
    "The pseudo-code is as follows:\n",
    "\n",
    "        Algorithm SelectionSort_min(arr):\n",
    "            N = length arr\n",
    "            \n",
    "            # Subarray pass loop\n",
    "            for i =0,..., (N-2):\n",
    "                min = arr[i]\n",
    "                min_idx = i\n",
    "                \n",
    "                # Search for min in subarray arr[i:N]:\n",
    "                for j = i, ..., (N-1):\n",
    "                    # Update min\n",
    "                    if arr[j] < min:\n",
    "                        min_idx = j\n",
    "                        min = arr[j]\n",
    "                \n",
    "                # Swap A[min_idx] and A[i]\n",
    "                \n",
    "                \n",
    "If we instead implement this algorithm based on the max, the index for the outer pass loop has to go in decreasing order. \n"
   ]
  },
  {
   "cell_type": "markdown",
   "id": "3e6f0471-d331-4efc-bac0-c0e2fa9199f8",
   "metadata": {
    "tags": []
   },
   "source": [
    "### 2.b - Implementation\n",
    "\n",
    "Here is the concrete implementation:\n"
   ]
  },
  {
   "cell_type": "code",
   "execution_count": 11,
   "id": "aa4c2052-3543-4a93-b983-592719361d4b",
   "metadata": {},
   "outputs": [],
   "source": [
    "import random"
   ]
  },
  {
   "cell_type": "code",
   "execution_count": 1,
   "id": "ed7a4a0f-1002-450f-a8c1-9e5a57f92f3d",
   "metadata": {},
   "outputs": [],
   "source": [
    "def select_sort(arr):\n",
    "    N = len(arr)\n",
    "    A = arr.copy()\n",
    "    # Loop over sub-arrays\n",
    "    for i in range(N-1):\n",
    "        # Init min and min idx\n",
    "        min_i = A[i]\n",
    "        min_idx = i\n",
    "        \n",
    "        # Search for min in A[i:]\n",
    "        for j in range(i,N):\n",
    "            # Check if new min\n",
    "            if A[j] < min_i:\n",
    "                min_idx = j\n",
    "                min_i = A[j]\n",
    "        \n",
    "        # Swap A[i] with new min\n",
    "        A[i], A[min_idx] = A[min_idx], A[i]\n",
    "    \n",
    "    return A\n",
    "        \n",
    "            "
   ]
  },
  {
   "cell_type": "code",
   "execution_count": 8,
   "id": "7318682b-b6c9-4340-9423-c9fb3814f915",
   "metadata": {},
   "outputs": [
    {
     "data": {
      "text/plain": [
       "[-10, -23, 23, -22, -7, -1, 5, 20, 24, 9]"
      ]
     },
     "execution_count": 8,
     "metadata": {},
     "output_type": "execute_result"
    }
   ],
   "source": [
    "arr = []\n",
    "for i in range(10):\n",
    "    arr.append(random.randint(-25,25))\n",
    "arr"
   ]
  },
  {
   "cell_type": "code",
   "execution_count": 9,
   "id": "d2dd9d45-6dfe-4465-bc0d-b2853d2cd8bc",
   "metadata": {},
   "outputs": [
    {
     "data": {
      "text/plain": [
       "[-23, -22, -10, -7, -1, 5, 9, 20, 23, 24]"
      ]
     },
     "execution_count": 9,
     "metadata": {},
     "output_type": "execute_result"
    }
   ],
   "source": [
    "arr_sorted = select_sort(arr)\n",
    "arr_sorted"
   ]
  },
  {
   "cell_type": "markdown",
   "id": "88330e0e-ab94-44dd-a40b-0ac5a5f488f2",
   "metadata": {},
   "source": [
    "Let's also do the max-based implementation:"
   ]
  },
  {
   "cell_type": "code",
   "execution_count": 10,
   "id": "44d91d93-a5fc-42a4-ae53-3fe2f9aa86b9",
   "metadata": {},
   "outputs": [],
   "source": [
    "def select_sort_max(arr):\n",
    "    N = len(arr)\n",
    "    A = arr.copy()\n",
    "    # Loop over sub-arrays\n",
    "    for i in range(N-1,0,-1):\n",
    "        # Init min and min idx\n",
    "        max_i = A[i]\n",
    "        max_idx = i\n",
    "        \n",
    "        # Search for min in A[i:]\n",
    "        for j in range(i+1):\n",
    "            # Check if new min\n",
    "            if A[j] > max_i:\n",
    "                max_idx = j\n",
    "                max_i = A[j]\n",
    "        \n",
    "        # Swap A[i] with new min\n",
    "        A[i], A[max_idx] = A[max_idx], A[i]\n",
    "    \n",
    "    return A"
   ]
  },
  {
   "cell_type": "code",
   "execution_count": 11,
   "id": "66513cd0-47a1-4a77-8a26-f6412e3d346f",
   "metadata": {},
   "outputs": [
    {
     "data": {
      "text/plain": [
       "[-15, 23, 2, 17, -20, -10, 24, 23, -11, 9]"
      ]
     },
     "execution_count": 11,
     "metadata": {},
     "output_type": "execute_result"
    }
   ],
   "source": [
    "arr = []\n",
    "for i in range(10):\n",
    "    arr.append(random.randint(-25,25))\n",
    "arr"
   ]
  },
  {
   "cell_type": "code",
   "execution_count": 13,
   "id": "36444a6b-4de5-4492-a823-420f83e84775",
   "metadata": {},
   "outputs": [
    {
     "data": {
      "text/plain": [
       "[-20, -15, -11, -10, 2, 9, 17, 23, 23, 24]"
      ]
     },
     "execution_count": 13,
     "metadata": {},
     "output_type": "execute_result"
    }
   ],
   "source": [
    "arr_sorted = select_sort_max(arr)\n",
    "arr_sorted"
   ]
  },
  {
   "cell_type": "code",
   "execution_count": 14,
   "id": "cadbe419-f2cb-4220-8d41-69792b0bd84f",
   "metadata": {},
   "outputs": [
    {
     "data": {
      "text/plain": [
       "[-20, -15, -11, -10, 2, 9, 17, 23, 23, 24]"
      ]
     },
     "execution_count": 14,
     "metadata": {},
     "output_type": "execute_result"
    }
   ],
   "source": [
    "select_sort(arr)"
   ]
  },
  {
   "cell_type": "markdown",
   "id": "18f7942a-79f8-49c2-aefa-31071f69e559",
   "metadata": {},
   "source": [
    "### 2.c - Time complexity\n",
    "\n",
    "Let's fix the index $i=1,\\cdots, N-1$ first. The inner loop of selection sort will perform $i$ comparisons for the search of the max in the sub-array $A[:i+1]$. Now summing over the values of $i$, we get a leading term of order $\\sum_{i=1}^{N-1}i = N(N-1)/2$, so that selection sort has a worst case of $O(N^2)$.\n"
   ]
  },
  {
   "cell_type": "markdown",
   "id": "f1c3d030-c19e-4dc4-8f1a-a15cf5ac9d70",
   "metadata": {
    "tags": []
   },
   "source": [
    "## 3) Insertion sort\n",
    "\n",
    "### 3.a - Basic description\n",
    "\n",
    "In brief: \n",
    "\n",
    "- I took the pseudo-code from Sec.2.1 p.19 of \"Intro to Algorithms 4e\", Cormen et al. 2022.\n",
    "- The idea of this algorithm is to maintain a temporary array *A* that it always sorted, and gradually insert entries from the input array *arr* in the correct slot in *A*.\n",
    "- We initialize the temporary array *A* with the first entry of the input. The outer loop then starts from the second entry in *arr*, because we assume that an array of size 1 is already sorted (see code for clarification).\n",
    "\n",
    "The pseudo-code is as follows:\n",
    "\n",
    "        Algorithm InsertionSort(arr):\n",
    "            N = length arr\n",
    "            A = Empty array of size N\n",
    "            A[0] =arr[0]\n",
    "            \n",
    "            # Loop over input elements\n",
    "            for i =1,..., (N-1):\n",
    "                \n",
    "                # Next element to insert in A\n",
    "                new_elt = A[i]\n",
    "                j = i-1\n",
    "                \n",
    "                # Check for correct insertion slot\n",
    "                while j>=0 and A[j]>new_elt:\n",
    "                    # Shift A[j] to the right in A\n",
    "                    A[j+1] = A[j]\n",
    "                    j = j-1\n",
    "                \n",
    "                # Insert arr[i] in the correct position\n",
    "                A[j+1] = new_elt\n"
   ]
  },
  {
   "cell_type": "markdown",
   "id": "1cae30cd-3c5e-4dee-84f6-e146df1d1650",
   "metadata": {
    "tags": []
   },
   "source": [
    "### 3.b - Implementation\n",
    "\n",
    "Here is the concrete implementation:\n"
   ]
  },
  {
   "cell_type": "code",
   "execution_count": 11,
   "id": "72bc194f-e32a-46dc-aab7-81f4aa21ad1f",
   "metadata": {},
   "outputs": [],
   "source": [
    "import random"
   ]
  },
  {
   "cell_type": "code",
   "execution_count": 31,
   "id": "02778fed-8e80-446b-88e8-3aff00e64335",
   "metadata": {},
   "outputs": [],
   "source": [
    "def insert_sort(arr):\n",
    "    N = len(arr)\n",
    "    #A = arr.copy()\n",
    "    A = [None]*N\n",
    "    A[0] = arr[0]\n",
    "    \n",
    "    for i in range(1,N):\n",
    "        new_elt = arr[i]\n",
    "        j = i-1\n",
    "        while j>-1 and A[j]>new_elt:\n",
    "            A[j+1] = A[j]\n",
    "            j -= 1\n",
    "        A[j+1] = new_elt\n",
    "    return A\n",
    "        \n",
    "            "
   ]
  },
  {
   "cell_type": "code",
   "execution_count": 32,
   "id": "00c95e38-f8da-410f-8fb2-909bf50cb4fa",
   "metadata": {},
   "outputs": [
    {
     "data": {
      "text/plain": [
       "[-5, 2, 17, -19, 23, 23, 20, 20, -10, -10]"
      ]
     },
     "execution_count": 32,
     "metadata": {},
     "output_type": "execute_result"
    }
   ],
   "source": [
    "arr = []\n",
    "for i in range(10):\n",
    "    arr.append(random.randint(-25,25))\n",
    "arr"
   ]
  },
  {
   "cell_type": "code",
   "execution_count": 33,
   "id": "84bc4f20-737b-447c-a309-3df5287fcc4c",
   "metadata": {},
   "outputs": [
    {
     "data": {
      "text/plain": [
       "[-19, -10, -10, -5, 2, 17, 20, 20, 23, 23]"
      ]
     },
     "execution_count": 33,
     "metadata": {},
     "output_type": "execute_result"
    }
   ],
   "source": [
    "arr_sorted = insert_sort(arr)\n",
    "arr_sorted"
   ]
  },
  {
   "cell_type": "markdown",
   "id": "67491e44-3d5d-4afa-bcd7-aa0d3daf5d6b",
   "metadata": {},
   "source": [
    "### 3.c - Time complexity\n",
    "\n",
    "Just like selection sort, for a given index $i=1,\\cdots, N-1$, there are $i$ comparisons done in the while loop, assuming the worst-case where the array is in reverse order. The total number of operations has a leading term of $\\sum_{i=1}^{N-1}i = N(N-1)/2$, meaning that insertion sort is also of $O(N^2)$ worst-case complexity.\n"
   ]
  },
  {
   "cell_type": "markdown",
   "id": "0dd8aa65-b489-4cbd-911b-2470c33e828e",
   "metadata": {
    "tags": []
   },
   "source": [
    "## 4) Shell sort\n",
    "\n",
    "### 4.a - Basic description\n",
    "\n",
    "In brief: \n",
    "- This is an improvement on the insertion sort algorithm, where the input is divided into smaller sublists.\n",
    "- The key to this algorithm is the way in which these sublists are chosen. \n",
    "- In insertion sort, the temporary sorted sub-array is updated with contiguous entries of the input array. In Shell sort, the added elements are not necessarily contiguous, as we loop over several gaps, thereby produing sorted sublists.\n",
    "- A pseudocode for this algorithm is given on its Wikipedia page: https://en.wikipedia.org/wiki/Shellsort.\n",
    "- It is worth noting that the time complexity of Shell sort depends on the sequence of gaps used to produce the subarrays. In fact, the general time complexity of this algorithm is still an open problem according to the Wikipedia article."
   ]
  },
  {
   "cell_type": "markdown",
   "id": "1d01d7d3-efd5-4999-aafd-1e76e60cbfb4",
   "metadata": {
    "tags": []
   },
   "source": [
    "### 4.b - Implementation\n",
    "\n",
    "Here is the concrete implementation:\n"
   ]
  },
  {
   "cell_type": "code",
   "execution_count": 1,
   "id": "83010853-52a9-4000-b12f-4960d3880eb3",
   "metadata": {},
   "outputs": [],
   "source": [
    "import random"
   ]
  },
  {
   "cell_type": "code",
   "execution_count": 14,
   "id": "56db33d2-0f5c-4651-9211-420d1a7de537",
   "metadata": {},
   "outputs": [],
   "source": [
    "def shell_sort(arr):\n",
    "    N = len(arr)\n",
    "    A = arr.copy()\n",
    "    \n",
    "    sublist_count = len(arr)//2\n",
    "    \n",
    "    while sublist_count>0:\n",
    "        \n",
    "        for start in range(sublist_count):\n",
    "            gap_insertion_sort(A, start, sublist_count)\n",
    "        \n",
    "        sublist_count = sublist_count//2\n",
    "\n",
    "    return A\n",
    "\n",
    "def gap_insertion_sort(arr, start, gap):\n",
    "    \n",
    "    for i in range(start+gap, len(arr), gap):\n",
    "        current_val = arr[i]\n",
    "        pos = i\n",
    "        \n",
    "        while pos>=gap and arr[pos-gap]>current_val:\n",
    "            arr[pos] = arr[pos-gap]\n",
    "            pos = pos-gap\n",
    "            \n",
    "        arr[pos] = current_val\n",
    "    \n",
    "            "
   ]
  },
  {
   "cell_type": "code",
   "execution_count": 15,
   "id": "2faa2493-73a2-4717-b3ff-46b29ba9ce39",
   "metadata": {},
   "outputs": [
    {
     "data": {
      "text/plain": [
       "[0, -4, 22, -4, 6, -24, 16, -19, -21, -13]"
      ]
     },
     "execution_count": 15,
     "metadata": {},
     "output_type": "execute_result"
    }
   ],
   "source": [
    "arr = []\n",
    "for i in range(10):\n",
    "    arr.append(random.randint(-25,25))\n",
    "arr"
   ]
  },
  {
   "cell_type": "code",
   "execution_count": 16,
   "id": "76c6e960-3235-4567-b806-725a1edcff60",
   "metadata": {},
   "outputs": [
    {
     "data": {
      "text/plain": [
       "[-24, -21, -19, -13, -4, -4, 0, 6, 16, 22]"
      ]
     },
     "execution_count": 16,
     "metadata": {},
     "output_type": "execute_result"
    }
   ],
   "source": [
    "arr_sorted = shell_sort(arr)\n",
    "arr_sorted"
   ]
  },
  {
   "cell_type": "markdown",
   "id": "829e4585-6da4-4670-8804-d154db0bf11a",
   "metadata": {
    "tags": []
   },
   "source": [
    "## 5) Merge-sort"
   ]
  },
  {
   "cell_type": "markdown",
   "id": "5c8d82c7-3ec8-4b14-9d19-7b0ebec6dde7",
   "metadata": {
    "tags": []
   },
   "source": [
    "### 5.a - Basic description\n",
    "\n",
    "In brief: \n",
    "\n",
    "- Merge-sort is a recursive algorithm, and is an example of a divide-and-conquer algo.\n",
    "- The base case is when the length of the input array is 0 or 1, meaning that it is sorted by definition.\n",
    "- When the list has more than one item, we split the list in 2 and recursively invoque a merge-sort on both halves. If we draw an execution of merge-sort, then we end up with a merge-sort tree, see [GTG13, Sec.12.2.1]. The height of this binary tree is $h = \\lceil\\log n\\rceil$.\n",
    "- Once the 2 sublists are sorted, we \"merge\" them. This merging operation is where everything comes together, because is \n",
    "\n",
    "The pseudo-code for merge sort and the merging function are as follows:\n",
    "        \n",
    "        Algorithm Merge(A1, A2, A):\n",
    "            # Merges two sorted arrays A1 and A2 into a properly sized array A\n",
    "            \n",
    "            # Initialize A1 and A2 indices\n",
    "            i=0\n",
    "            j=0\n",
    "            \n",
    "            # Main loop\n",
    "            while i+j < length(A):\n",
    "                if at last index of A2 or (i<length(A1) and A1[i]<A2[j]):\n",
    "                    Assign A1[i] to A[i+j]\n",
    "                    Increment i\n",
    "                else:\n",
    "                    Assign A2[j] to A[i+j]\n",
    "                    Increment j\n",
    "\n",
    "        Algorithm MergeSort(A):\n",
    "            \n",
    "            N = length(A)\n",
    "            # Base case\n",
    "            if N<2:\n",
    "                return A\n",
    "                \n",
    "            # Divide step: Split array A into two subarrays\n",
    "            mid = N//2\n",
    "            A1 = A[:mid]\n",
    "            A2 = A[mid:]\n",
    "            \n",
    "            # Conquer step: Sort the two subarrays\n",
    "            MergeSort(A1)\n",
    "            MergeSort(A2)\n",
    "            \n",
    "            # Combine step: Merge the sub-arrays \n",
    "            Merge(A1, A2, A)\n",
    "            \n",
    "It is worth discussing what the merge function is doing here. Obviously, we have to compare the elements of both *A1* and *A2* one by one, which is why we use two indices. Notice that when using the while loop, we are dividing the algorithm into either incrementing *i* or *j* exclusively, depending on wether the minimal element is in *A1* or *A2* respectively, and then we assign it to *A[i+j]*.\n"
   ]
  },
  {
   "cell_type": "markdown",
   "id": "7cda1bf8-43b4-418b-9862-776abb71685c",
   "metadata": {
    "tags": []
   },
   "source": [
    "### 5.b - Implementation\n",
    "\n",
    "Here is the concrete implementation:\n"
   ]
  },
  {
   "cell_type": "code",
   "execution_count": 11,
   "id": "16655385-177c-4eed-bc57-78808728fb1b",
   "metadata": {},
   "outputs": [],
   "source": [
    "import random"
   ]
  },
  {
   "cell_type": "code",
   "execution_count": 93,
   "id": "ede77774-0ee9-4ef3-887d-01238ad3b033",
   "metadata": {},
   "outputs": [],
   "source": [
    "def merge_subarrays_into(A1, A2, A):\n",
    "    '''\n",
    "        Merge two sorted arrays A1 and A2\n",
    "        into an appropriately sized array A.\n",
    "    '''\n",
    "    # Init indices\n",
    "    i = 0\n",
    "    j = 0\n",
    "    \n",
    "    # Main comparison loop\n",
    "    while i+j < len(A):\n",
    "        \n",
    "        # Case of j out of range but not i\n",
    "        if j==len(A2) and i<len(A1):\n",
    "            A[i+j] = A1[i]\n",
    "            i+=1\n",
    "        else:\n",
    "            # Case of i out of range (but not j)\n",
    "            if i == len(A1):\n",
    "                A[i+j] = A2[j]\n",
    "                j+=1\n",
    "            # Case where i<len(A1) and j<len(A2)\n",
    "            else:\n",
    "                # Case of A1[i] < A2[j]\n",
    "                if A1[i] < A2[j]:\n",
    "                    A[i+j] = A1[i]\n",
    "                    i+=1\n",
    "                # Case of A1[i] >= A2[j]\n",
    "                else:\n",
    "                    A[i+j] = A2[j]\n",
    "                    j+=1\n",
    "\n",
    "def merge_sort(arr):\n",
    "    # Init\n",
    "    N = len(arr)\n",
    "    \n",
    "    #print(f\"Starting call {c} to merge_sort()\")\n",
    "    \n",
    "    # Base case\n",
    "    if N<2:\n",
    "        return\n",
    "    \n",
    "    # Divide\n",
    "    mid = N//2\n",
    "    A1 = arr[:mid]\n",
    "    A2 = arr[mid:]\n",
    "    \n",
    "    # Conquer\n",
    "    #print(f\"merge_sort() call c = {c}, mid = {mid}\")\n",
    "    merge_sort(A1)\n",
    "    merge_sort(A2)\n",
    "    \n",
    "    # Combine\n",
    "    merge_subarrays_into(A1,A2, arr)\n"
   ]
  },
  {
   "cell_type": "code",
   "execution_count": 94,
   "id": "f93d188f-f6d5-477d-aed1-2faa24e2d0e9",
   "metadata": {},
   "outputs": [
    {
     "data": {
      "text/plain": [
       "[-8, 23, 5, 15, -17, 15, -24, 16, -13, 16]"
      ]
     },
     "execution_count": 94,
     "metadata": {},
     "output_type": "execute_result"
    }
   ],
   "source": [
    "arr = []\n",
    "for i in range(10):\n",
    "    arr.append(random.randint(-25,25))\n",
    "arr"
   ]
  },
  {
   "cell_type": "code",
   "execution_count": 95,
   "id": "cba83534-43dd-4d54-ad30-a7a1d16273ae",
   "metadata": {},
   "outputs": [
    {
     "data": {
      "text/plain": [
       "[-24, -17, -13, -8, 5, 15, 15, 16, 16, 23]"
      ]
     },
     "execution_count": 95,
     "metadata": {},
     "output_type": "execute_result"
    }
   ],
   "source": [
    "merge_sort(arr)\n",
    "arr"
   ]
  },
  {
   "cell_type": "markdown",
   "id": "a90fcbea-41be-4644-8978-a8a90b25fe74",
   "metadata": {},
   "source": [
    "### 5.c - Time complexity\n",
    "\n",
    "In this subsection, we sketch the proof of [GTG13, Prop.12.2]:\n",
    "\n",
    "#### Proposition:\n",
    "Assuming that a sequence $S$ has $n$ elements that can be compared in $O(1)$ time, the merge-sort algorithm sorts $S$ in $O(n \\log n)$ time.\n",
    "\n",
    "\n",
    "#### Proof sketch:\n",
    "\n",
    "First, we look at the running time of the *merge* operation. If $n_i$ is the length of the subsequence $S_i$, we see in the implementation above that the main *while* loop runs for $n_1+n_2$ iterations, each of which has an $O(1)$ time complexity. Thus, the running time of the merge function is $O(n_1+n_2)$.\n",
    "\n",
    "Next, we analyze the total running time of one call to *merge_sort*. For simplicity, suppose that $n = 2^h$ for a positive ineger $h$. As previously mentioned, the repeated splitting of the sequence $S$ into two subsequences constructs a binary tree $T$, which in the present case is complete, and has height $h$. \n",
    "\n",
    "We now show that for a node $\\nu$ of $T$ of depth $d$, the total running time of *merge_sort* at node $\\nu$ is $O(n/2^d)$. In the base case of $d=h$ where the input is of size 1, the function simply returns the sequence of size $1$, so that the running time is $O(1)=O(n/2^h)$. \n",
    "\n",
    "Suppose the claim is true for all nodes of depth $h, h-1, \\cdots, d-1$, and let $\\nu$ be of depth $d$. The *merge_sort* function:\n",
    "1) Splits the input of size $n/2^d$ into two subsequences, which runs in $O(n/w^d)$ time.\n",
    "2) Calls *merge_sort* on two subsequences of size $n/2^{d+1}$, for a total running time of $O(2n/2^{d+1})=O(n/2^d)$\n",
    "3) Lastly, calls *merge*, which runs in $O(n/2^d)$.\n",
    "Thus, at the node $\\nu$, *merge_sort* runs in $O(n/2^d)$ time, which proves the claim.\n",
    "\n",
    "Next, we have to sum the total time spent at each node. There are $2^d$ nodes at each level $d$, since $T$ is complete, meaning that the time spent at level $d$ is $O(n)$. Since there are $h=\\lceil \\log n \\rceil+1$ levels, the total execution time of *merge_sort* is $O(n\\log n)$.\n",
    "\n",
    "\n",
    "\n",
    "\n"
   ]
  },
  {
   "cell_type": "markdown",
   "id": "aeed4510-9dd9-452e-9117-7d6dcc412300",
   "metadata": {
    "tags": []
   },
   "source": [
    "## 6) Quick sort"
   ]
  },
  {
   "cell_type": "markdown",
   "id": "d52da68c-2036-4c1d-9c90-7329ad9dc7a2",
   "metadata": {
    "tags": []
   },
   "source": [
    "### 6.a - Basic description\n",
    "\n",
    "In brief: \n",
    "- Quicksort is another divide and conquer algorithm. It can have some of the advantages of merge-sort, and can be implemented to take less space. Instead of splitting the array in half, quick sort relies on a *pivot* value used to split the sequence into one sebquence of lower elements, and a second one of greater elements.\n",
    "- One of the drawbacks of using this approach is that when the sequences are not split in half, we get a performance that is lesser than merge-sort. Again, splitting into 2 subarrays gives a binary tree, which is not necessarily complete.\n",
    "- The implementation in Cormen et al. is better than that of [GTG13] and Portilla. It's simpler and easier to remember for interviews, and operates in-place on the array.\n",
    "\n",
    "\n",
    "The pseudo-code for quick sort and the partition function are as follows (Cormen et al., Sec.7.1):\n",
    "        \n",
    "        Algorithm Partition(A, p, r):\n",
    "            # Select pivot\n",
    "            x = A[r]\n",
    "            \n",
    "            # Highest index in low side\n",
    "            i = p-1\n",
    "            \n",
    "            # Process each element other than pivot\n",
    "            for j=p,...,r:\n",
    "                # If element belongs to low side\n",
    "                if A[j]<x:\n",
    "                    # Index of a new slot in low side\n",
    "                    i = i+1\n",
    "                    exchange A[i] with A[j]\n",
    "            \n",
    "            # Pivot goes to the right of last entry of low side\n",
    "            exchange A[i+1] with A[r]\n",
    "            \n",
    "            # Return new partition index\n",
    "            return i+1\n",
    "\n",
    "        Algorithm QuickSort(A, p, r):\n",
    "            '''\n",
    "                Procedure for sorting the \n",
    "                subarray A[p:r] of A\n",
    "            '''\n",
    "            if p<r:\n",
    "                # Divide: Find pivot q for partioning\n",
    "                q = Partition(A,p,r)\n",
    "                \n",
    "                # Conquer: Quick sort low side A[p:q] and high side A[q+1:r]\n",
    "                QuickSort(A, p, q-1)\n",
    "                QuickSort(A, q+1, r)\n",
    "            \n",
    "Some useful comments to understand how the partitioning works:\n",
    "- There are two indices in the *Partition()* function: One index *j* for comparing the array elements to the pivot, and one index *i* to keep track of the \"split point\" in the array.\n",
    "- Each time we encounter an element *A[j]* that is lower than the pivot, we **increment the split point index** and exchange *A[j]* and *A[i]*.\n",
    "- Once we get to the last index right before the pivot, we increment *i* one last time to get the split point, swap *A[i]* and *A[r]*, and return the split point.\n",
    "- We did not mention the higher side above. The swapping of lower side elements displaces those higher than the pivot to indices after the split point. This is why the algorithm works."
   ]
  },
  {
   "cell_type": "markdown",
   "id": "0f1fff33-891b-4ceb-9595-9891f38555e5",
   "metadata": {
    "tags": []
   },
   "source": [
    "### 6.b - Implementation\n",
    "\n",
    "Here is the concrete implementation:\n"
   ]
  },
  {
   "cell_type": "code",
   "execution_count": 2,
   "id": "b702bc3b-cb0a-4d0e-9b9f-e473e5344bc1",
   "metadata": {},
   "outputs": [],
   "source": [
    "import random"
   ]
  },
  {
   "cell_type": "code",
   "execution_count": 6,
   "id": "f56a5778-45fd-4d64-99a5-04dc6d700a06",
   "metadata": {},
   "outputs": [],
   "source": [
    "def partition(A, p, r):\n",
    "    \n",
    "    # Pivot\n",
    "    x = A[r]\n",
    "    \n",
    "    # Init end of low side\n",
    "    i = p-1\n",
    "    \n",
    "    # Process elements other than pivot\n",
    "    for j in range(p,r):\n",
    "        \n",
    "        # Update last idx of low side\n",
    "        # and exchange entries if lower than\n",
    "        # pivot\n",
    "        if A[j]<x:\n",
    "            i+=1\n",
    "            A[i], A[j] = A[j], A[i]\n",
    "    \n",
    "    # Move pivot to after low side\n",
    "    A[i+1], A[r] = A[r], A[i+1]\n",
    "    \n",
    "    # Return new split point\n",
    "    return i+1\n",
    "\n",
    "def quick_sort(A, p=None, r = None):\n",
    "    N = len(A)\n",
    "    if N<2:\n",
    "        return\n",
    "    # First call params\n",
    "    if p is None and r is None:\n",
    "        r = N-1\n",
    "        p = 0\n",
    "    \n",
    "    if p<r:\n",
    "        q = partition(A,p,r)\n",
    "        quick_sort(A,p,q-1)\n",
    "        quick_sort(A,q+1, r)\n",
    "        "
   ]
  },
  {
   "cell_type": "code",
   "execution_count": 7,
   "id": "69cd0aa0-c261-4e3e-863d-7ad86d317cb4",
   "metadata": {},
   "outputs": [
    {
     "data": {
      "text/plain": [
       "[20, -8, 18, -15, -5, -1, -24, 23, 22, -2]"
      ]
     },
     "execution_count": 7,
     "metadata": {},
     "output_type": "execute_result"
    }
   ],
   "source": [
    "arr = []\n",
    "for i in range(10):\n",
    "    arr.append(random.randint(-25,25))\n",
    "arr"
   ]
  },
  {
   "cell_type": "code",
   "execution_count": 8,
   "id": "a438c076-194a-45a2-8e39-33cc5568961e",
   "metadata": {},
   "outputs": [
    {
     "data": {
      "text/plain": [
       "[-24, -15, -8, -5, -2, -1, 18, 20, 22, 23]"
      ]
     },
     "execution_count": 8,
     "metadata": {},
     "output_type": "execute_result"
    }
   ],
   "source": [
    "quick_sort(arr)\n",
    "arr"
   ]
  },
  {
   "cell_type": "markdown",
   "id": "b61eca8c-14ba-4143-b632-722887cff4c3",
   "metadata": {},
   "source": [
    "### 6.c - Time complexity\n",
    "\n",
    "In this subsection, we summarize the discussion of [GTG13, Sec.12.3, p.556] on the running time of quick sort. The proof of the merge-sort running time is useful here, as it gives us a general plan for analyzing the present algorithm. Again, we view the splitting into subarrays as a binary tree $T$ of height $h$. The main difference with merge-sort is that the two subarrays do not necessarily have the same length. \n",
    "\n",
    "For convenience, let $l(\\nu)$ denote the length of the input array at node $\\nu$ of $T$, and let $S_i$ be the sum of input lengths at depth $i=0,\\cdots,h$ ($S_0=n$). We claim that the overall running time of an execution of quick sort is upper-bounded by a polynomial of leading order $n\\cdot h$. To see this, we note that:\n",
    "- If $\\alpha$ and $\\beta$ are the children of node $\\nu$, then $l(\\alpha)+l(\\beta)=l(\\nu)-1<l(\\nu)$.\n",
    "- The sums of input sizes then satisfy $S_i<S_{i-1}$, and $S_1\\le n-1$.\n",
    "- The total time spent at node $\\nu$ is $O(l(\\nu))$.\n",
    "\n",
    "Thus, the total time spent at level $i=0,\\cdots,h$ is $O(n)$ in the worst case, and quick sort has time complexity $O(n\\cdot h)$.\n",
    "\n",
    "Next, we analyze the worst-case execution. From our previous conclusion and the inequality $h\\le (n+1)$, we have that the worst-case time complexity is $O(n^2)$. Paradoxically, this is the **time complexity when the input array is already sorted**, as the split point is always the largest entry of the array. In this case, the height of the binary tree obtained from splittings has height $n$. (When the array is sorted in decreasing order we get the same issue).\n",
    "\n",
    "When the array is unsorted, taking the pivot as the last entry randomizes the split point, and on average, there should be as many values in the lower side than on the higher side when executing *Partition()*. In the average case then, we expect the subarray lengths to be equal to half the size of the input, meaning that $h\\approx \\log n$, yielding a $O(n\\log n)$ time complexity for quick sort.\n",
    "\n",
    "\n",
    "\n"
   ]
  },
  {
   "cell_type": "markdown",
   "id": "caf81d6a-5b2c-45e9-9018-23c80d13602a",
   "metadata": {
    "tags": []
   },
   "source": [
    "## 7) Heap-sort\n",
    "\n",
    "We follow section 9.4.2 of [GTG13] in this part.\n",
    "\n",
    "### 7.a - Basic description\n",
    "\n",
    "In brief: \n",
    "- As discussed in Part 6.B of these notes, adding items to a heap organizes them in a complete binary tree with the heap-order property.\n",
    "- For this algorithm, we will take advantage of the *add(k,v)* and *remove_min()* methods of our previously implemented *HeapQ* class. Both of these methods run in $O(\\log n)$ time.\n",
    "\n",
    "The pseudo-code for heap-sort is rather simple ([GTG13, Code 9.7]):\n",
    "        \n",
    "        Algorithm HeapSort(A):\n",
    "            N = len(A)\n",
    "            # Instantiate heap\n",
    "            H = HeapQ()\n",
    "            \n",
    "            # Phase 1: Build heap from elt's of A\n",
    "            for i=0, ..., N-1:\n",
    "                H.add(A[i], A[i])\n",
    "            \n",
    "            # Phase 2: Add elements to output arr\n",
    "            A_sorted = empty array of length N\n",
    "            while len(H)>0:\n",
    "                A_sorted.append(H.remove_min())\n",
    "            \n",
    "            return A_sorted\n",
    "           \n",
    "The main advantage of this algorithm is the ease of implementation once we have a functional heap class implementation and its relatively optimal running time. The obvious disadvantage is the fact that the heap class needs to be implemented first.\n"
   ]
  },
  {
   "cell_type": "markdown",
   "id": "0ce61c83-f516-4443-b266-1b180b7d89ee",
   "metadata": {
    "tags": []
   },
   "source": [
    "### 7.b - Implementation\n",
    "\n",
    "First the imports and the helper function to visualize our heap as a binary tree:\n"
   ]
  },
  {
   "cell_type": "code",
   "execution_count": 1,
   "id": "e094b86b-1996-465e-8abb-daa0d4546f0b",
   "metadata": {},
   "outputs": [],
   "source": [
    "from Code.Trees.heap_priority_queue import HeapPriorityQ, PriorityQueueBase"
   ]
  },
  {
   "cell_type": "code",
   "execution_count": 2,
   "id": "e4b7b61d-2806-4931-aac1-9acc9cb3bb46",
   "metadata": {},
   "outputs": [],
   "source": [
    "import random"
   ]
  },
  {
   "cell_type": "code",
   "execution_count": 7,
   "id": "010cd6ce-7c7e-4abc-be5d-db93bd60ebd8",
   "metadata": {},
   "outputs": [],
   "source": [
    "def inorder_traversal_print(T, position=None):\n",
    "    \n",
    "    if isinstance(T, HeapPriorityQ):\n",
    "        if position is None:\n",
    "            position = 0\n",
    "        # Traverse left subtree\n",
    "        if T._has_left(position):\n",
    "            inorder_traversal_print(T, T._left_child(position))\n",
    "        # Print element at current position\n",
    "        if T._parent(position)<0:\n",
    "            parent_key = \"None\"\n",
    "            parent_value = \"None\"\n",
    "        else:\n",
    "            parent_key = T._data[T._parent(position)]._key\n",
    "            parent_value = T._data[T._parent(position)]._value\n",
    "        print(f\"({T._data[position]._key}, {T._data[position]._value}), position = {position}, Parent = ({parent_key}, {parent_value})\")\n",
    "        # Traverse right subtree\n",
    "        if T._has_right(position):\n",
    "            inorder_traversal_print(T, T._right_child(position))\n"
   ]
  },
  {
   "cell_type": "markdown",
   "id": "2169188f-1123-400f-bdd2-2ae46f3851c6",
   "metadata": {},
   "source": [
    "Here is our implementation of heap-sort:"
   ]
  },
  {
   "cell_type": "code",
   "execution_count": 11,
   "id": "502d8f3e-3d1c-4c18-a98b-8e6cd26be4a7",
   "metadata": {},
   "outputs": [],
   "source": [
    "def heap_sort(A):\n",
    "    N = len(A)\n",
    "    if N<2:\n",
    "        return A\n",
    "    \n",
    "    H = HeapPriorityQ()\n",
    "    \n",
    "    # Phase 1: Build heap from elements of A\n",
    "    for i in range(N):\n",
    "        H.add(A[i], A[i])\n",
    "    \n",
    "    # Phase 2: Fill output array\n",
    "    B = [None]*N\n",
    "    for i in range(N):\n",
    "        B[i] = H.remove_min()[0]\n",
    "        \n",
    "    return B"
   ]
  },
  {
   "cell_type": "code",
   "execution_count": 10,
   "id": "79ab0577-2668-4dd2-96f2-30d7ed44f880",
   "metadata": {},
   "outputs": [
    {
     "data": {
      "text/plain": [
       "[8, -13, -2, -11, -22, 12, -8, -24, 24, -22]"
      ]
     },
     "execution_count": 10,
     "metadata": {},
     "output_type": "execute_result"
    }
   ],
   "source": [
    "arr = []\n",
    "for i in range(10):\n",
    "    arr.append(random.randint(-25,25))\n",
    "arr"
   ]
  },
  {
   "cell_type": "code",
   "execution_count": 12,
   "id": "5bcd3282-a111-48cb-aa11-a971fa36427c",
   "metadata": {},
   "outputs": [
    {
     "data": {
      "text/plain": [
       "[-24, -22, -22, -13, -11, -8, -2, 8, 12, 24]"
      ]
     },
     "execution_count": 12,
     "metadata": {},
     "output_type": "execute_result"
    }
   ],
   "source": [
    "sort_arr = heap_sort(arr)\n",
    "sort_arr"
   ]
  },
  {
   "cell_type": "markdown",
   "id": "bb36aa82-e9cc-437a-8d06-e085f7862d25",
   "metadata": {},
   "source": [
    "If we want to recover the heap built from the elements of *arr*:"
   ]
  },
  {
   "cell_type": "code",
   "execution_count": 13,
   "id": "297d882f-3063-4c8f-b733-367d3c8ab017",
   "metadata": {},
   "outputs": [],
   "source": [
    "heap1 = HeapPriorityQ()\n",
    "for x in arr:\n",
    "    heap1.add(x,str(x))"
   ]
  },
  {
   "cell_type": "markdown",
   "id": "dcbf42e7-6308-4378-9d45-b271c119ec25",
   "metadata": {},
   "source": [
    "We can rebuild the tree from the following:"
   ]
  },
  {
   "cell_type": "code",
   "execution_count": 14,
   "id": "2ad3d96b-5b59-46c8-9018-6e126a0cd8ca",
   "metadata": {},
   "outputs": [
    {
     "name": "stdout",
     "output_type": "stream",
     "text": [
      "(8, 8), position = 7, Parent = (-13, -13)\n",
      "(-13, -13), position = 3, Parent = (-22, -22)\n",
      "(24, 24), position = 8, Parent = (-13, -13)\n",
      "(-22, -22), position = 1, Parent = (-24, -24)\n",
      "(-11, -11), position = 9, Parent = (-22, -22)\n",
      "(-22, -22), position = 4, Parent = (-22, -22)\n",
      "(-24, -24), position = 0, Parent = (None, None)\n",
      "(12, 12), position = 5, Parent = (-8, -8)\n",
      "(-8, -8), position = 2, Parent = (-24, -24)\n",
      "(-2, -2), position = 6, Parent = (-8, -8)\n"
     ]
    }
   ],
   "source": [
    "inorder_traversal_print(heap1)"
   ]
  },
  {
   "cell_type": "markdown",
   "id": "88a0f972-1e96-466e-a1d6-1432d7f57c06",
   "metadata": {},
   "source": [
    "In the case where:\n",
    "    \n",
    "    arr = [8, -13, -2, -11, -22, 12, -8, -24, 24, -22]\n",
    "\n",
    "the binary tree underlying the heap-sort algorithm is the following:\n",
    "\n",
    "            -24\n",
    "          /      \\\n",
    "       -22       -8\n",
    "       /  \\      /  \\\n",
    "     -13   -22   12  -2\n",
    "     / \\   /   \n",
    "    8 24 -11 \n",
    "    \n",
    "so that:\n",
    "\n",
    "    sorted_arr = [-24, -22, -22, -13, -11, -8, -2, 8, 12, 24]"
   ]
  },
  {
   "cell_type": "markdown",
   "id": "1174a877-2d7c-4e42-a2c0-07118fa6d4b0",
   "metadata": {},
   "source": [
    "### 7.c - Time complexity\n",
    "\n",
    "Here we \"prove\" the following proposition from [GTG13]\n",
    "\n",
    "#### Proposition 9.4:\n",
    "Assuming that the elements of an array $A$ can be compared in $O(1)$ time, the time complexity of the heap-sort algorithm is $O(n\\log n)$\n",
    "\n",
    "#### Proof:\n",
    "\n",
    "Note that there are 2 phases in our algorithm:\n",
    "- Phase 1: Each of the $n$ iterations of this phase calls the *add()* method of the heap class, which runs in $O(\\log n)$ time (because of the calls to *_bubble_up()*).\n",
    "- Phase 2: Each of the $n$ iterations of this phase calls the *remove_min()* method of the heap class, which runs in $O(\\log n)$ time (because of the calls to *_bubble_down()*).\n",
    "\n",
    "In total then, heap-sort runs in $O(n\\log n)$ time.\n",
    "\n"
   ]
  },
  {
   "cell_type": "code",
   "execution_count": null,
   "id": "d9d26ac9-dda1-4a47-9875-8e7347f51cff",
   "metadata": {},
   "outputs": [],
   "source": []
  },
  {
   "cell_type": "code",
   "execution_count": null,
   "id": "4d418202-0863-4d21-9879-d377dd05fb86",
   "metadata": {},
   "outputs": [],
   "source": []
  },
  {
   "cell_type": "code",
   "execution_count": null,
   "id": "c9918ef1-bf06-47ec-9163-1cb630b5a450",
   "metadata": {},
   "outputs": [],
   "source": []
  },
  {
   "cell_type": "code",
   "execution_count": null,
   "id": "64fa4d27-49e4-4c04-9a27-e4f92082fb4f",
   "metadata": {},
   "outputs": [],
   "source": []
  }
 ],
 "metadata": {
  "kernelspec": {
   "display_name": "Python 3 (ipykernel)",
   "language": "python",
   "name": "python3"
  },
  "language_info": {
   "codemirror_mode": {
    "name": "ipython",
    "version": 3
   },
   "file_extension": ".py",
   "mimetype": "text/x-python",
   "name": "python",
   "nbconvert_exporter": "python",
   "pygments_lexer": "ipython3",
   "version": "3.9.16"
  }
 },
 "nbformat": 4,
 "nbformat_minor": 5
}
