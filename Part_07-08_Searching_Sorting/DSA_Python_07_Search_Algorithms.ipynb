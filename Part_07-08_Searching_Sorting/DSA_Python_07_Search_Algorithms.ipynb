{
 "cells": [
  {
   "cell_type": "markdown",
   "id": "10de5546-3759-4fc4-84e9-2b28cdd69620",
   "metadata": {},
   "source": [
    "# Data Structures and Algorithms in Python - Search Algorithms\n",
    "### AJ Zerouali, 2023/10/12"
   ]
  },
  {
   "cell_type": "markdown",
   "id": "36f0e53a-9a6a-47cf-a48c-9c137f1975eb",
   "metadata": {},
   "source": [
    "## 0) Introduction\n",
    "\n",
    "**References:**\n",
    "\n",
    "- \"Data structures and algorithms in Python\", by Goodrich, Tamassia and Goldwasser (primary, abbreviated [GTG13]). In particular:\n",
    "    * Sec.4.1.3: Sequential search and binary search.\n",
    "    * Sec.10.2: Hash tables\n",
    "- Section 17 of \"Python for Data Structures, Algorithms, and Interviews!\" by Jose Portilla (to a much lesser extent).\n",
    "\n",
    "**Comments:**\n",
    "- I am unsure on the topic that I will end up focusing on"
   ]
  },
  {
   "cell_type": "markdown",
   "id": "f5b5eddd-3a0d-42a0-aedf-1da4f1e26cb6",
   "metadata": {},
   "source": [
    "## 1) Sequential search and binary search\n",
    "\n",
    "This is a review of section 4.1.3, and follows lectures 122-126 .\n",
    "\n",
    "### 1.a - Sequential search\n",
    "\n",
    "Sequential search is the naive searching algorithm for elements in a container. For simplicity we only discuss the sequential search over arrays, but this can easily be generalized to other positional lists. The idea is to sequentially check if the entry at a given index is equal to a target value.\n",
    "\n",
    "Starting with the easy case of a sorted array, sequential search can be implemented as follows:"
   ]
  },
  {
   "cell_type": "code",
   "execution_count": 29,
   "id": "c794e764-e0e1-4175-b9e2-9320cc5de04b",
   "metadata": {},
   "outputs": [],
   "source": [
    "# Sorted array version\n",
    "## Stops if we find a value larger than the target before finding the target\n",
    "def seq_search_sorted(arr, tgt):\n",
    "    N = len(arr)\n",
    "    found_tgt = False\n",
    "    found_greater = False\n",
    "    i = -1\n",
    "    while i<N and (not found_tgt) and (not found_greater):\n",
    "        i+=1\n",
    "        found_tgt = (arr[i] == tgt)\n",
    "        found_greater = (arr[i] > tgt)\n",
    "    return found_tgt, i"
   ]
  },
  {
   "cell_type": "markdown",
   "id": "6e540072-1930-4934-a55f-ba7542862b49",
   "metadata": {},
   "source": [
    "It is easily seen that this is a $O(n)$ worst case algorithm. In the average case, this algorithm will run in $O(n/2)$ time, a remark that will become relevant for the case of an unsorted array.\n",
    "\n",
    "Now if the array is not sorted, we need to check the entirety of the array, meaning that the following implementation:"
   ]
  },
  {
   "cell_type": "code",
   "execution_count": null,
   "id": "590af2c0-54d0-4347-afdd-28bac55a11c8",
   "metadata": {},
   "outputs": [],
   "source": [
    "# Unsorted array version\n",
    "def seq_search_unsorted(arr, tgt):\n",
    "    N = len(arr)\n",
    "    found_tgt = False\n",
    "    i = -1\n",
    "    while i<N and (not found_tgt):\n",
    "        i+=1\n",
    "        found_tgt = (arr[i] == tgt)\n",
    "    return found_tgt, i"
   ]
  },
  {
   "cell_type": "markdown",
   "id": "83fc6e5f-fe20-4285-9e5e-59d4bd057e4a",
   "metadata": {},
   "source": [
    "executes in $O(n)$ time in both the worst case and average case."
   ]
  },
  {
   "cell_type": "markdown",
   "id": "9f1f7059-4571-48a0-a768-d5faa2713a46",
   "metadata": {
    "tags": []
   },
   "source": [
    "#### Verifications"
   ]
  },
  {
   "cell_type": "code",
   "execution_count": 23,
   "id": "fc3d0015-8ff0-4137-a00b-7a08a58dd2aa",
   "metadata": {},
   "outputs": [],
   "source": [
    "import random"
   ]
  },
  {
   "cell_type": "code",
   "execution_count": 30,
   "id": "5dd8be5c-051d-44f6-ad37-4ebf494105e0",
   "metadata": {},
   "outputs": [],
   "source": [
    "nums = []\n",
    "for i in range(10):\n",
    "    nums.append(random.randint(0,50))\n",
    "nums = sorted(nums)"
   ]
  },
  {
   "cell_type": "code",
   "execution_count": 31,
   "id": "3557fd00-04ad-4dc9-a7de-79ffc0947ff5",
   "metadata": {},
   "outputs": [
    {
     "data": {
      "text/plain": [
       "[2, 6, 20, 25, 25, 33, 33, 37, 40, 50]"
      ]
     },
     "execution_count": 31,
     "metadata": {},
     "output_type": "execute_result"
    }
   ],
   "source": [
    "nums"
   ]
  },
  {
   "cell_type": "code",
   "execution_count": 32,
   "id": "76d63e06-6f41-440b-b56c-757bee185d07",
   "metadata": {},
   "outputs": [
    {
     "data": {
      "text/plain": [
       "(False, 3)"
      ]
     },
     "execution_count": 32,
     "metadata": {},
     "output_type": "execute_result"
    }
   ],
   "source": [
    "seq_search(nums,23)"
   ]
  },
  {
   "cell_type": "code",
   "execution_count": 34,
   "id": "eeb51062-4db6-44e9-b639-d0b7c14fb7e1",
   "metadata": {},
   "outputs": [
    {
     "data": {
      "text/plain": [
       "(True, 5)"
      ]
     },
     "execution_count": 34,
     "metadata": {},
     "output_type": "execute_result"
    }
   ],
   "source": [
    "seq_search(nums,33)"
   ]
  },
  {
   "cell_type": "markdown",
   "id": "9d1f80c0-f4e5-4731-83e0-34b1881de050",
   "metadata": {},
   "source": [
    "### 1.b - Binary search\n",
    "\n",
    "We discussed binary search in notebooks 01 and 02 of DSA_Python. We provided two implementations, first an iterative one:"
   ]
  },
  {
   "cell_type": "code",
   "execution_count": null,
   "id": "b0e91ee5-7dfd-4dbd-b4b7-becedc4224e9",
   "metadata": {},
   "outputs": [],
   "source": [
    "def binary_search_iter(arr, target):\n",
    "    '''\n",
    "            Iterative implementation of binary search.\n",
    "        :param arr: sorted list of numbers\n",
    "        :param target: target value to find in arr.\n",
    "        :return mid: index of target in arr if search is successful and False otherwise.\n",
    "    '''\n",
    "    # Initialization of high and low indices\n",
    "    low = 0\n",
    "    high = len(arr)-1\n",
    "    \n",
    "    # Main loop (low is increased and \n",
    "    # high is decreased at each step)\n",
    "    while low <= high:\n",
    "        \n",
    "        # Get midpoint idx\n",
    "        mid = (low+high)//2\n",
    "        \n",
    "        # Case where we found target\n",
    "        if target == arr[mid]:\n",
    "            return mid\n",
    "        \n",
    "        # Increase low if target > arr[mid]\n",
    "        elif target > arr[mid]:\n",
    "            low = mid + 1\n",
    "        \n",
    "        # Decrease high if target < arr[mid]\n",
    "        elif target < arr[mid]:\n",
    "            high = mid - 1\n",
    "            \n",
    "    # If low > high was reached \n",
    "    # then the search was unsuccessful\n",
    "    return False"
   ]
  },
  {
   "cell_type": "markdown",
   "id": "4a2b47fb-93e0-43d2-88ed-bb2b53a771e3",
   "metadata": {},
   "source": [
    "and secondly a recursive one:"
   ]
  },
  {
   "cell_type": "code",
   "execution_count": null,
   "id": "0e0b4e12-2d11-4535-88c4-0326d591e956",
   "metadata": {},
   "outputs": [],
   "source": [
    "def binary_search(arr, target, low = 0, high = None):\n",
    "    '''\n",
    "        Recursive implementation of binary search.\n",
    "        :param arr: sorted list of numbers\n",
    "        :param target: target value to find in arr.\n",
    "        :param low: lower-bound index for search. 0 by default.\n",
    "        :param high: upper-bound index. None by default. \n",
    "        :return: index of target in arr if search is successful and False otherwise.\n",
    "    '''\n",
    "    if not high:\n",
    "        high = len(arr)-1\n",
    "    if high < low:\n",
    "        return False\n",
    "    else:\n",
    "        mid = (high+low)//2\n",
    "        if target == arr[mid]:\n",
    "            return mid\n",
    "        elif target > arr[mid]:\n",
    "            return binary_search(arr, target, mid + 1, high)\n",
    "        elif target < arr[mid]:\n",
    "            return binary_search(arr, target, low, mid -1)"
   ]
  },
  {
   "cell_type": "markdown",
   "id": "8f8b1578-712e-45a8-9390-7168bfebd718",
   "metadata": {},
   "source": [
    "We also sketched the proof of why binary search runs in $O(\\log n)$ in worst case, which is considerably better than $O(n)$ for very large $n$. The main assumption to keep in mind is that the array in which we perform the search **has to be sorted**."
   ]
  },
  {
   "cell_type": "markdown",
   "id": "b90095c8-334a-4553-93b6-0fb60a04f4a9",
   "metadata": {},
   "source": [
    "## 2) Hash tables and hash functions\n",
    "\n"
   ]
  },
  {
   "cell_type": "markdown",
   "id": "6d2f1421-9c2a-4203-bb84-ca08e2ece4d6",
   "metadata": {},
   "source": [
    "### 2.x1 - Overview: Hash tables, hash functions, and collision resolution.\n",
    "\n",
    "Lecture 127 of Portilla's course\n",
    "- A hash table is a collection of items stored in slots that are easy to retrieveé\n",
    "- A hash function is a mapping that assigns slot addresses to the items. Since this mapping is not necessarily injective, several items can be sent to the same slot, thereby causing a collision/clash. An injective hash function is called a perfect hash function.\n",
    "- Hash tables are assigned a certain size at their instantiation. The ration of occupation of the slots is called the load factor: $\\lambda = \\text{Num. stored items}/\\text{Num. slots}.$\n",
    "- The principal advantage of using hash tables is that they can perform item addition, deletion and search in $O(1)$ complexity in the average case, thanks to the use of hash functions for addressing.\n",
    "- The main hash function discussed in this lecture is the *remainder* hash function. For rehashing, Portilla gives brief examples of the folding and mid-square methods.\n",
    "- This lecture discusses examples of collision resolution: (i) Linear probing and open addressing. (ii) Chaining.\n",
    "\n",
    "There are more details in section 10.2 in [GTG13]. In Python, the most notable example of a hash table is the *dict* class."
   ]
  },
  {
   "cell_type": "markdown",
   "id": "cec2ad92-8224-4150-84be-e287b1d3b5d3",
   "metadata": {},
   "source": [
    "### 2.x2 - Implementation of a hash table\n",
    "\n",
    "This part is based on Lecture 128 of Portilla's course. The objective is to implement a map as a hash table. We want our *HashTable* class to have the following interface:\n",
    "* **HashTable()** to call the constructor and return an empty map.\n",
    "* **__setitem__(key, val)** to store *val* as key *key*.\n",
    "* **__getitem__(key)** to acces the value associated to *key*.\n",
    "* **__delitem__(key)** to delete the entry associated to *key* from our map.\n",
    "* **__len__** to return the number of *(key, value)* items stored in the map.\n",
    "* **__contains__(key)** to check if a value is associated to *key* in the map.\n",
    "\n",
    "A comment that Portilla gives in this lecture is that we typically don't have to implement our own hash tables in an interview setting.\n",
    "\n"
   ]
  },
  {
   "cell_type": "code",
   "execution_count": 5,
   "id": "792d77c3-7e2b-4cad-9c5e-d003e0566337",
   "metadata": {},
   "outputs": [],
   "source": [
    "class HashTable(object):\n",
    "    \n",
    "    def __init__(self, size):\n",
    "        self.size = size\n",
    "        self.slots = [None]*self.size\n",
    "        self.data = [None]*self.size\n",
    "        \n",
    "    def __setitem__(self, key, val):\n",
    "        \n",
    "        # Compute hash value of current key\n",
    "        hash_val = self.hashfunction(key, len(self.slots))\n",
    "        \n",
    "        # If slot is empty, add value to hash_val address\n",
    "        if self.slots[hash_val] == None:\n",
    "            self.slots[hash_val] = key\n",
    "            self.data[hash_val] = val\n",
    "            \n",
    "        # If slot isn't empty, use linear probing\n",
    "        else: \n",
    "            # Replace current elem\n",
    "            if self.slots[hash_val] == key:\n",
    "                self.data[hash_val] = val\n",
    "                \n",
    "            # Collision resolution\n",
    "            else:\n",
    "                next_slot = self.rehash(hash_val, len(self.slots))\n",
    "                \n",
    "                # Find next available slot for key\n",
    "                while self.slots[next_slot]!=None and self.slots[next_slot]!=key:\n",
    "                    next_slot = self.rehash(next_slot, len(self.slots))\n",
    "                \n",
    "                # Add new value if key is new\n",
    "                if self.slots[next_slot]==None:\n",
    "                    self.slots[next_slot] = key\n",
    "                    self.data[next_slot] = val\n",
    "                    \n",
    "                # Replace existing value if key already used\n",
    "                else:\n",
    "                    self.data[next_slot] = val\n",
    "        \n",
    "    '''\n",
    "        Actual hash function. Use remainder method for simplicity\n",
    "    '''\n",
    "    def hashfunction(self, key, size):\n",
    "        return key % size\n",
    "    \n",
    "    def rehash(self, old_hash_val, size):\n",
    "        return (old_hash_val+1)%size\n",
    "    \n",
    "    def __getitem__(self, key):\n",
    "        # Initializations\n",
    "        ## Hash value is starting slot for linear probing\n",
    "        start_slot = self.hashfunction(key, len(self.slots))\n",
    "        value = None\n",
    "        position = start_slot\n",
    "        found_key = False\n",
    "        stop_search = False\n",
    "        \n",
    "        # Search for key in slots\n",
    "        while not found_key and not stop_search and self.slots[position]!=None:\n",
    "            \n",
    "            # Found key\n",
    "            if self.slots[position] == key:\n",
    "                found_key = True\n",
    "                value = self.data[position]\n",
    "            # If key not found\n",
    "            else:\n",
    "                # Rehash\n",
    "                position = self.rehash(position, len(self.slots))\n",
    "                # If all slots were visited\n",
    "                if position == start_slot:\n",
    "                    stop_search = True\n",
    "        \n",
    "        return value\n",
    "    \n",
    "    def __contains__(self, key):\n",
    "        return self.__getitem__(key)!=None\n",
    "        \n",
    "    def __len__(self):\n",
    "        n_items = 0\n",
    "        for i in range(len(self.slots)):\n",
    "            if self.slots[i] is not None:\n",
    "                n_items += 1\n",
    "        return n_items\n",
    "            \n",
    "            \n",
    "        \n",
    "        "
   ]
  },
  {
   "cell_type": "markdown",
   "id": "e32b2b25-808c-4fb9-af00-8a2623d139e4",
   "metadata": {},
   "source": [
    "#### Implementation comments:\n",
    "\n",
    "- Use integers as keys for simplicity and ease of use.\n",
    "- Use the remainder method for simplicity.\n",
    "- For rehashing, will use linear probing."
   ]
  },
  {
   "cell_type": "markdown",
   "id": "62e6d461-61c0-4c56-acf4-199337183040",
   "metadata": {},
   "source": [
    "#### Examples\n",
    "\n"
   ]
  },
  {
   "cell_type": "code",
   "execution_count": 6,
   "id": "908731df-5fb1-4d10-a6ca-44cea8df2601",
   "metadata": {},
   "outputs": [],
   "source": [
    "hash_tab = HashTable(10)"
   ]
  },
  {
   "cell_type": "code",
   "execution_count": 7,
   "id": "e8f57988-6a46-4407-84ac-5a958e1d40a0",
   "metadata": {},
   "outputs": [],
   "source": [
    "hash_tab[1] = \"I\"\n",
    "hash_tab[5] = \"A\"\n",
    "hash_tab[9] = \"R\"\n",
    "hash_tab[3] = \"K\"\n"
   ]
  },
  {
   "cell_type": "code",
   "execution_count": 8,
   "id": "5dcb4f37-fbad-4bc1-be18-55e200092640",
   "metadata": {},
   "outputs": [
    {
     "data": {
      "text/plain": [
       "4"
      ]
     },
     "execution_count": 8,
     "metadata": {},
     "output_type": "execute_result"
    }
   ],
   "source": [
    "len(hash_tab)"
   ]
  },
  {
   "cell_type": "code",
   "execution_count": 9,
   "id": "b8882eb6-3972-4334-ae49-e016bc23b785",
   "metadata": {},
   "outputs": [],
   "source": [
    "hash_tab[12] = \"Z\"\n",
    "hash_tab[16] = \"Y\"\n",
    "hash_tab[20] = \"X\"\n",
    "hash_tab[3] = \"L\""
   ]
  },
  {
   "cell_type": "code",
   "execution_count": 10,
   "id": "1b996014-4e12-41fd-94e8-d369b6d8227c",
   "metadata": {},
   "outputs": [
    {
     "data": {
      "text/plain": [
       "7"
      ]
     },
     "execution_count": 10,
     "metadata": {},
     "output_type": "execute_result"
    }
   ],
   "source": [
    "len(hash_tab)"
   ]
  },
  {
   "cell_type": "code",
   "execution_count": 11,
   "id": "c3f91768-d89e-44a9-834d-8521b3b6c13b",
   "metadata": {},
   "outputs": [
    {
     "data": {
      "text/plain": [
       "'X'"
      ]
     },
     "execution_count": 11,
     "metadata": {},
     "output_type": "execute_result"
    }
   ],
   "source": [
    "hash_tab[20]"
   ]
  },
  {
   "cell_type": "code",
   "execution_count": null,
   "id": "84e27a90-554b-4ce3-bef5-977cc282bf24",
   "metadata": {},
   "outputs": [],
   "source": []
  },
  {
   "cell_type": "code",
   "execution_count": null,
   "id": "5d5dee1b-775f-4c44-a87e-3db5f5a3d30c",
   "metadata": {},
   "outputs": [],
   "source": []
  },
  {
   "cell_type": "code",
   "execution_count": null,
   "id": "9a8e1b30-fe8e-4229-8949-63c4a0cfd5d7",
   "metadata": {},
   "outputs": [],
   "source": []
  }
 ],
 "metadata": {
  "kernelspec": {
   "display_name": "Python 3 (ipykernel)",
   "language": "python",
   "name": "python3"
  },
  "language_info": {
   "codemirror_mode": {
    "name": "ipython",
    "version": 3
   },
   "file_extension": ".py",
   "mimetype": "text/x-python",
   "name": "python",
   "nbconvert_exporter": "python",
   "pygments_lexer": "ipython3",
   "version": "3.9.16"
  }
 },
 "nbformat": 4,
 "nbformat_minor": 5
}
