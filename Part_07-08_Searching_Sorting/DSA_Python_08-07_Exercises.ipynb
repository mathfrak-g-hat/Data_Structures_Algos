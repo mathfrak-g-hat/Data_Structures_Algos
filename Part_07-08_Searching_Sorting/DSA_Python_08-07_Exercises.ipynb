{
 "cells": [
  {
   "cell_type": "markdown",
   "id": "88d36d29-72d1-4540-ad3e-ccc2ac93979d",
   "metadata": {},
   "source": [
    "# Data Structures and Algorithms in Python - Searching and Sorting Algorithms Exercises\n",
    "### AJ Zerouali, 2023/1026\n",
    "\n",
    "\n",
    "## 0) Introduction:\n",
    "\n",
    "These are my solutions to the exercises in section 17 of Portilla's DSA course. In that section, the exercises consist of implementing the following algorithms:\n",
    "\n",
    "1) Binary search\n",
    "2) Bubble sort\n",
    "3) Insertion sort\n",
    "4) Selection-sort\n",
    "5) Shell sort\n",
    "6) Merge-sort\n",
    "7) Quick sort\n",
    "\n",
    "I will skip the Shell sort in my first sweep.3"
   ]
  },
  {
   "cell_type": "markdown",
   "id": "353554ed-c21a-4168-bc34-1552c12b24ff",
   "metadata": {},
   "source": [
    "## Exercise 1: Binary Search\n",
    "\n",
    "Binary search takes as input a sorted array and a target value to search for, and returns the index of the target in the array. If the search is unsuccessful. It's time complexity is $O(\\log n)$.\n"
   ]
  },
  {
   "cell_type": "markdown",
   "id": "71b21f7a-e021-4cbd-9d20-ff3618fbb61c",
   "metadata": {},
   "source": [
    "### a) Non-recursive implementation"
   ]
  },
  {
   "cell_type": "code",
   "execution_count": 1,
   "id": "1dda987f-4d88-4b7c-906b-e4e13f8febe1",
   "metadata": {},
   "outputs": [],
   "source": [
    "### non-recursive implementation\n",
    "\n",
    "def binary_search(arr, tgt):\n",
    "    N = len(arr)\n",
    "    if N==0:\n",
    "        raise ValueError(\"Input arr cannot be empty\")\n",
    "    \n",
    "    low = 0\n",
    "    high = N-1\n",
    "\n",
    "    while low<=high:\n",
    "        mid = (low+high)//2\n",
    "\n",
    "        if arr[mid] == tgt:\n",
    "            return mid\n",
    "        elif arr[mid] < tgt:\n",
    "            low = mid+1\n",
    "        elif arr[mid] > tgt:\n",
    "            high = mid-1\n",
    "\n",
    "    # Unsuccessful search\n",
    "    return -1\n"
   ]
  },
  {
   "cell_type": "code",
   "execution_count": 2,
   "id": "c62160f8-aca5-4d45-8f22-c5e47c5a1a9f",
   "metadata": {},
   "outputs": [],
   "source": [
    "import random"
   ]
  },
  {
   "cell_type": "code",
   "execution_count": 3,
   "id": "476affae-ee39-43f8-be8e-63a1a56ead52",
   "metadata": {},
   "outputs": [
    {
     "name": "stdout",
     "output_type": "stream",
     "text": [
      "nums = [-18, -18, -14, -3, -3, 5, 6, 9, 18, 24]\n"
     ]
    }
   ],
   "source": [
    "nums = []\n",
    "for i in range(10):\n",
    "    nums.append(random.randint(-25,25))\n",
    "nums.sort()\n",
    "print(f\"nums = {nums}\")"
   ]
  },
  {
   "cell_type": "code",
   "execution_count": 4,
   "id": "0dcf9173-2806-4442-a1cc-0c7d12f68704",
   "metadata": {},
   "outputs": [
    {
     "data": {
      "text/plain": [
       "8"
      ]
     },
     "execution_count": 4,
     "metadata": {},
     "output_type": "execute_result"
    }
   ],
   "source": [
    "binary_search(nums, 18)"
   ]
  },
  {
   "cell_type": "code",
   "execution_count": 5,
   "id": "abaa753a-9b1f-4b72-9694-2ddc2d1fcd81",
   "metadata": {},
   "outputs": [
    {
     "data": {
      "text/plain": [
       "-1"
      ]
     },
     "execution_count": 5,
     "metadata": {},
     "output_type": "execute_result"
    }
   ],
   "source": [
    "binary_search(nums, -2)"
   ]
  },
  {
   "cell_type": "code",
   "execution_count": 6,
   "id": "be9723ab-efda-48b4-bd3a-744910c9bc57",
   "metadata": {},
   "outputs": [
    {
     "data": {
      "text/plain": [
       "2"
      ]
     },
     "execution_count": 6,
     "metadata": {},
     "output_type": "execute_result"
    }
   ],
   "source": [
    "binary_search(nums, -14)"
   ]
  },
  {
   "cell_type": "markdown",
   "id": "3f50ab52-fe65-4696-9619-e569672e277b",
   "metadata": {},
   "source": [
    "### b) Recursive implementation"
   ]
  },
  {
   "cell_type": "code",
   "execution_count": 7,
   "id": "8f8eb340-58b7-4233-9b0f-037e62bd8afa",
   "metadata": {},
   "outputs": [],
   "source": [
    "def binary_search_rec(arr, tgt, low=None, high = None):\n",
    "    N = len(arr)\n",
    "    if N==0:\n",
    "        raise ValueError(\"List arr cannot be empty\")\n",
    "    if (high is None) or (low is None):\n",
    "        low = 0\n",
    "        high = N-1\n",
    "\n",
    "    if high >= low:\n",
    "        mid = (high+low)//2\n",
    "        if arr[mid]==tgt:\n",
    "            return mid\n",
    "        elif arr[mid]<tgt:\n",
    "            return binary_search_rec(arr, tgt, mid+1, high)\n",
    "        elif arr[mid]>tgt:\n",
    "            return binary_search_rec(arr, tgt, low, mid-1)\n",
    "    else:\n",
    "        return -1\n",
    "        \n"
   ]
  },
  {
   "cell_type": "code",
   "execution_count": 8,
   "id": "ea1c35fc-4412-4c39-899d-bef43aae59de",
   "metadata": {},
   "outputs": [
    {
     "data": {
      "text/plain": [
       "8"
      ]
     },
     "execution_count": 8,
     "metadata": {},
     "output_type": "execute_result"
    }
   ],
   "source": [
    "binary_search_rec(nums, 18)"
   ]
  },
  {
   "cell_type": "code",
   "execution_count": 9,
   "id": "f5eda1af-d667-4a32-aa79-a48a7a172b15",
   "metadata": {},
   "outputs": [
    {
     "data": {
      "text/plain": [
       "-1"
      ]
     },
     "execution_count": 9,
     "metadata": {},
     "output_type": "execute_result"
    }
   ],
   "source": [
    "binary_search_rec(nums, -2)"
   ]
  },
  {
   "cell_type": "code",
   "execution_count": 10,
   "id": "d16f486f-1863-410f-94fd-780b8226728c",
   "metadata": {},
   "outputs": [
    {
     "data": {
      "text/plain": [
       "2"
      ]
     },
     "execution_count": 10,
     "metadata": {},
     "output_type": "execute_result"
    }
   ],
   "source": [
    "binary_search_rec(nums, -14)"
   ]
  },
  {
   "cell_type": "markdown",
   "id": "37526bce-b0af-4550-9786-b1b4fdfffe06",
   "metadata": {},
   "source": [
    "## Exercise 2: Bubble sort\n",
    "\n",
    "This $O(n^2)$ algorithm works as follows:\n",
    "1) There is an outer loop for passes from 0 to N-1.\n",
    "2) At each pass, starting from the end of the array, we swap two successive elements if they are not in the correct order"
   ]
  },
  {
   "cell_type": "code",
   "execution_count": 11,
   "id": "da500e2b-af3f-468b-b9ba-90c521be988d",
   "metadata": {},
   "outputs": [],
   "source": [
    "def bubble_sort(arr):\n",
    "    N = len(arr)\n",
    "    \n",
    "    if N<2:\n",
    "        return arr\n",
    "    else:\n",
    "        arr_sorted = arr.copy()\n",
    "        \n",
    "        for n in range(N):\n",
    "            for i in range(N-1,0,-1):\n",
    "                if arr_sorted[i]<=arr_sorted[i-1]:\n",
    "                    # Swap/bubble\n",
    "                    arr_sorted[i-1], arr_sorted[i] = arr_sorted[i], arr_sorted[i-1]\n",
    "        \n",
    "        return arr_sorted"
   ]
  },
  {
   "cell_type": "code",
   "execution_count": 12,
   "id": "0fb17818-29d6-413e-a612-95a6d55c0216",
   "metadata": {},
   "outputs": [
    {
     "name": "stdout",
     "output_type": "stream",
     "text": [
      "nums = [14, 8, -12, -9, 9, -25, -2, 25, 25, -7]\n"
     ]
    }
   ],
   "source": [
    "nums = []\n",
    "for i in range(10):\n",
    "    nums.append(random.randint(-25,25))\n",
    "print(f\"nums = {nums}\")"
   ]
  },
  {
   "cell_type": "code",
   "execution_count": 13,
   "id": "7806eac1-d684-4952-bbc7-d6d79fc8162d",
   "metadata": {},
   "outputs": [
    {
     "data": {
      "text/plain": [
       "[-25, -12, -9, -7, -2, 8, 9, 14, 25, 25]"
      ]
     },
     "execution_count": 13,
     "metadata": {},
     "output_type": "execute_result"
    }
   ],
   "source": [
    "bubble_sort(nums)"
   ]
  },
  {
   "cell_type": "markdown",
   "id": "64b12410-2a5f-4d5b-a0d9-4ba4eef59eb9",
   "metadata": {},
   "source": [
    "## Exercise 3: Insertion sort\n",
    "\n",
    "This $O(n^2)$ algorithm works as follows:\n",
    "1) Create a new temporary array of same length as input, with *temp[0]=arr[0]* and *None* in other entries.\n",
    "2) Outer loop goes from 1 to *N-1*, such that at iteration *n* one adds a new element *arr[n]*.\n",
    "3) The inner while loop compares the new element to add to the each each entry of temp from the end. At each step, a compared element is moved to the right in the array."
   ]
  },
  {
   "cell_type": "code",
   "execution_count": 14,
   "id": "f496c138-8fa1-492d-af99-313d94131375",
   "metadata": {},
   "outputs": [],
   "source": [
    "def insert_sort(arr):\n",
    "    N = len(arr)\n",
    "    if N<2:\n",
    "        return arr\n",
    "    else:\n",
    "        temp = [None]*N\n",
    "        temp[0] = arr[0]\n",
    "        for n in range(1,N):\n",
    "            # Init. new element and sorting index\n",
    "            new_elt = arr[n]\n",
    "            i = n-1\n",
    "            # Find correct insertion idx\n",
    "            while i>=0 and temp[i] >= new_elt:\n",
    "                temp[i+1] = temp[i]\n",
    "                i -= 1\n",
    "\n",
    "            # Insert new elt\n",
    "            temp[i+1] = new_elt\n",
    "\n",
    "        return temp\n"
   ]
  },
  {
   "cell_type": "code",
   "execution_count": 15,
   "id": "d28fc445-efa2-49ab-9553-849ae802cb56",
   "metadata": {},
   "outputs": [
    {
     "name": "stdout",
     "output_type": "stream",
     "text": [
      "nums = [-5, -12, -3, -16, 1, -13, -18, -9, -16, 17]\n"
     ]
    }
   ],
   "source": [
    "nums = []\n",
    "for i in range(10):\n",
    "    nums.append(random.randint(-25,25))\n",
    "print(f\"nums = {nums}\")"
   ]
  },
  {
   "cell_type": "code",
   "execution_count": 16,
   "id": "75d7aba0-ec6d-49c9-86d3-407291fbff6e",
   "metadata": {},
   "outputs": [
    {
     "data": {
      "text/plain": [
       "[-18, -16, -16, -13, -12, -9, -5, -3, 1, 17]"
      ]
     },
     "execution_count": 16,
     "metadata": {},
     "output_type": "execute_result"
    }
   ],
   "source": [
    "insert_sort(nums)"
   ]
  },
  {
   "cell_type": "code",
   "execution_count": 17,
   "id": "45534954-b4e7-4070-bfd7-f0908eb498e6",
   "metadata": {},
   "outputs": [
    {
     "data": {
      "text/plain": [
       "[1, 2, 3, 4]"
      ]
     },
     "execution_count": 17,
     "metadata": {},
     "output_type": "execute_result"
    }
   ],
   "source": [
    "insert_sort([3,2,4,1])"
   ]
  },
  {
   "cell_type": "markdown",
   "id": "d0907fa6-7bae-4b50-b87b-c1359ca975d5",
   "metadata": {},
   "source": [
    "## Exercise 4: Selection sort\n",
    "\n",
    "This $O(n^2)$ algorithm works as follows:\n",
    "1) The outer loop goes from indices 0 to *N-1*. Each of these passes determines a subarray *arr[i:N]*.\n",
    "2) The inner loop searches for the index *min_idx* of the minimal element of *arr[i:N]*.\n",
    "3) At the end of (outer) iteration *i*, the entries at indices *min_idx* and *i* are swapped."
   ]
  },
  {
   "cell_type": "code",
   "execution_count": 18,
   "id": "e1090200-6a73-4a0d-a0b2-31c541845511",
   "metadata": {},
   "outputs": [],
   "source": [
    "def select_sort(arr):\n",
    "    N = len(arr)\n",
    "    if N<2:\n",
    "        return arr\n",
    "    else:\n",
    "        temp = arr.copy()\n",
    "        # Outer loop over array length\n",
    "        for i in range(N-1):\n",
    "            # Search for index of min in arr[i:]\n",
    "            min_idx = i\n",
    "            for j in range(i,N):\n",
    "                if temp[j]<=temp[min_idx]:\n",
    "                    min_idx = j\n",
    "\n",
    "            # Swap entries at i and min_idx\n",
    "            temp[i], temp[min_idx] = temp[min_idx], temp[i]\n",
    "\n",
    "        # Output\n",
    "        return temp\n",
    "            \n",
    "                    "
   ]
  },
  {
   "cell_type": "code",
   "execution_count": 19,
   "id": "904f401a-0833-4935-8848-15da9966ee70",
   "metadata": {},
   "outputs": [
    {
     "name": "stdout",
     "output_type": "stream",
     "text": [
      "nums = [-25, 16, 6, -5, -9, -23, -21, 0, 22, 14]\n"
     ]
    }
   ],
   "source": [
    "nums = []\n",
    "for i in range(10):\n",
    "    nums.append(random.randint(-25,25))\n",
    "print(f\"nums = {nums}\")"
   ]
  },
  {
   "cell_type": "code",
   "execution_count": 20,
   "id": "c7f9040a-3380-44d7-b442-a1e5ae274b53",
   "metadata": {},
   "outputs": [
    {
     "data": {
      "text/plain": [
       "[-25, -23, -21, -9, -5, 0, 6, 14, 16, 22]"
      ]
     },
     "execution_count": 20,
     "metadata": {},
     "output_type": "execute_result"
    }
   ],
   "source": [
    "select_sort(nums)"
   ]
  },
  {
   "cell_type": "code",
   "execution_count": 21,
   "id": "e2622e00-20ac-4632-88f0-41468df23877",
   "metadata": {},
   "outputs": [
    {
     "data": {
      "text/plain": [
       "[1, 2, 3, 4]"
      ]
     },
     "execution_count": 21,
     "metadata": {},
     "output_type": "execute_result"
    }
   ],
   "source": [
    "select_sort([3,2,4,1])"
   ]
  },
  {
   "cell_type": "code",
   "execution_count": null,
   "id": "e349a72d-4809-4456-be83-fc50a1e04a73",
   "metadata": {},
   "outputs": [],
   "source": []
  }
 ],
 "metadata": {
  "kernelspec": {
   "display_name": "Python 3 (ipykernel)",
   "language": "python",
   "name": "python3"
  },
  "language_info": {
   "codemirror_mode": {
    "name": "ipython",
    "version": 3
   },
   "file_extension": ".py",
   "mimetype": "text/x-python",
   "name": "python",
   "nbconvert_exporter": "python",
   "pygments_lexer": "ipython3",
   "version": "3.9.16"
  }
 },
 "nbformat": 4,
 "nbformat_minor": 5
}
