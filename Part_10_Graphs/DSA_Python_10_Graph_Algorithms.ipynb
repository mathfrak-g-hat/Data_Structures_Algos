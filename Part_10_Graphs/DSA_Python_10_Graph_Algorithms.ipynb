{
 "cells": [
  {
   "cell_type": "markdown",
   "id": "10de5546-3759-4fc4-84e9-2b28cdd69620",
   "metadata": {},
   "source": [
    "# Data Structures and Algorithms in Python - Graph Algorithms (Part 1)\n",
    "### AJ Zerouali, 2023/11/08"
   ]
  },
  {
   "cell_type": "markdown",
   "id": "36f0e53a-9a6a-47cf-a48c-9c137f1975eb",
   "metadata": {},
   "source": [
    "## 0) Introduction\n",
    "\n",
    "**References:**\n",
    "\n",
    "- Chapter 14 of \"Data structures and algorithms in Python\", by Goodrich, Tamassia and Goldwasser (abbreviated [GTG13]). More specifically sections 14.1-14.3.\n",
    "- Section 18 of Portilla's \"Python for Data Structures, Algorithms, and Interviews\".\n",
    "- Here we focus on the implementation of graphs as adjacecy lists and two search algos.\n",
    "\n",
    "**Comments:**\n",
    "- This is only a first sweep of this topic. Karimov's course goes in more depth than Portilla's.\n",
    "- Portilla goes over the contents of sections 14.1-14.3 of [GTG13]. Karimov however also covers the algorithms discussed in Sections 14.5-14.7.\n",
    "- In the first sweep, I will concentrate on sections 14.1-14.3 of [GTG13].\n",
    "- I will skip Portilla's interview questions for section 18. There are infact only 3 questions:\n",
    "    * Implement a graph.\n",
    "    * Implement depth first search.\n",
    "    * Implement breadth first search.\n",
    "    Acoording to Portilla, these are the 3 basic interview questions for the material of section 18.\n",
    "- 23/11/08: I will spend more time on this. There will be several parts of this notebook to correct/modify later."
   ]
  },
  {
   "cell_type": "markdown",
   "id": "f25ec6e2-04af-4720-9d76-5357ad5902e1",
   "metadata": {},
   "source": [
    "## 1) Graphs as a mathematical structure\n",
    "\n",
    "This part is based on [GTG13, Sec.14.1]. We start with the vocabulary of graphs.\n",
    "\n",
    "### 1.a - Vocabulary\n",
    "\n",
    "#### Definitions:\n",
    "\n",
    "- A **graph** is a couple of sets $G=(V,E)$, where $V$ is the set of vertices, and where $E$ is the collection of edges $(u,v)$ connecting two vertices $u,v\\in V$.\n",
    "- If all edges in a graph are directed according to a (partial) order relation on $V$, we say that $G$ is a **directed graph** or a **digraph**. When all edges are undirected, $G$ is called an **undirected**, and if some edges are directed, we say that it's a **mixed graph**.\n",
    "- If there is a weight attached to each edge in $E$, then $G$ is called a **weighted graph**.\n",
    "- If $(u,v)\\in E$ is an edge, $u$ is called the **origin** and $v$ is called the **destination** of the edge. When $u,v\\in V$ are connected by an edge $(u,v)\\in E$, we say that these vertices are **adjacent**.\n",
    "- The **outgoing** edges of a vertex $u\\in V$ are the edges $\\alpha \\in E$ whose origin is $u$. Similarly, the **incoming** edges of $u\\in V$ are the $\\beta \\in E$ having $u$ as a destination. An edge $e\\in E$ is said to be **incident** to a vertex $u\\in V$ if $v$ is one of the endpoints of $e$.\n",
    "- The **degree** $deg(u)$ of a vertex $u\\in V$ is the number of incident edges to $u$. Respectively, the number of incoming and outgoing edges to $u\\in V$ are the **in-degree** and **out-degree**, denoted by $indeg(u)$ and $outdeg(u)$.\n",
    "- A graph $G=(V,E)$ is said to be **simple** if there are no parallel edges between the same vertices, and if there are no self-loops (i.e. edges connecting a vertex to itself).\n",
    "- A **path** is a sequence of alternating vertices and edges $(v_1,e_1,v_2,e_2,\\cdots,v_n)$ such that each $e_i\\in E$ is incident to both $v_i,v_{i+1}\\in V$. When all edges in a path are directed, we say that the path is directed.\n",
    "- A path that starts and end at the same vertex $v_1=v_n$ is called a **cycle**. When all vertices of a cycle other than the origin are distinct, we say that the cycle is **simple**. A graph that contains no cycles is said to be **acyclic**.\n",
    "\n",
    "\n",
    "#### Comments:\n",
    "1) Here, it's important to underline that we described the edges $E$ of a graph $G=(V,E)$ as a collection and not as a set. This is to allow several edges connecting two vertices. In the case where $G$ is simple, $E$ is indeed a well-defined set.\n",
    "2) Unless otherwise stated, [GTG13] restrict to simple graphs in chapter 14.\n",
    "\n",
    "The next terms are discussed after Example 14.6 of [GTG13]. Suppose $G = (V,E)$ is a graph.\n",
    "* Given two vertices $u,v \\in V$, we say that $v$ is **reachable** from $u$ if there exists a path in $G$ that connects these two vertices. In the case where $G$ is directed, reachability requires the existence of a directed path, meaning that this is not a symmetric relation in general. For undirected graphs however, reachability is symmetric.\n",
    "* The graph $G$ is said to be **connected** if for any vertices $u,v\\in V$ there exists a path from $u$ to $v$.\n",
    "* A directed graph is **strongly connected** if for any vertices $u,v\\in V$, $v$ is reachable from $u$ and $u$ is reachable from $v$.\n",
    "* A **subgraph** $H=(V_H, E_H)$ of $G$ is a graph such that $V_H\\subseteq V$ and $E_H\\subseteq E$. A **spanning subgraph** $H$ of $G$ is a subgraph that contains all the vertices of $G$.\n",
    "* If a graph is not connected, its maximal connected subgraphs are called **connected components**.\n",
    "* A **forest** is a graph without cycles. A connected forest is called a **tree**.\n",
    "* A **spanning tree** $T $of a graph $G$ is a connected, spanning, acyclic subgraph.\n",
    "\n",
    "Note that in these last definitions, the trees are slightly different from the ones previously seen, as there are no designated root.\n",
    "\n",
    "\n",
    "\n",
    "### 1.b - Some graph properties\n",
    "\n",
    "In the sequel, we assume that $G$ is a simple graph.\n",
    "\n",
    "#### Proposition 14.8\n",
    "If $G = (V,E)$ has $m$ edges, then: \n",
    "$$\\sum_{v\\in V}deg(v) = 2m.$$\n",
    "\n",
    "#### Proof:\n",
    "For every $v\\in V$, write:\n",
    "$$O_v = \\{e\\in E \\ |\\ e = (v,w), w\\in V\\},$$\n",
    "$$D_v = \\{e\\in E \\ |\\ e = (u,v), u\\in V\\},$$\n",
    "and allowing these subsets to be empty. Notice then that $E = \\sqcup_{v\\in V}O_v = \\sqcup_{v\\in V}D_v$, so that:\n",
    "$$m = \\mathrm{card}(E) = \\sum_{v\\in V}\\mathrm{card}(O_v)= \\sum_{v\\in V}\\mathrm{card}(D_v).$$\n",
    "Since by definition $deg(v)=\\mathrm{card}(O_v)+\\mathrm{card}(D_v)$, summing the latter yields:\n",
    "$$\\sum_{v\\in V}deg(v) = 2\\mathrm{card}(E)=2m.$$\n",
    "\n",
    "#### Proposition 14.9\n",
    "If $G = (V,E)$ is directed with $m$ edges, then: \n",
    "$$ \\sum_{v\\in V}indeg(v) = \\sum_{v\\in V}outdeg(v) = m.$$\n",
    "\n",
    "#### Proof:\n",
    "Using the notation of the previous proof, we have by definition that $indeg(v)=\\mathrm{card}(O_v)$ and $indeg(v)=\\mathrm{card}(D_v)$. The result follows by summing over the vertices.\n",
    "\n",
    "#### Proposition 14.10\n",
    "If $G = (V,E)$ is simple and has $m$ edges and $n$ vertices, then:\n",
    "- If $G$ is directed then $m\\le n(n-1)$.\n",
    "- If $G$ is undirected then $m\\le n(n-1)/2$.\n",
    "\n",
    "#### Proof:\n",
    "Given $G=(V,E)$, we can complete it to a connected graph $\\tilde{G}=(V,\\tilde{E})$ by adding edges connecting each $v\\in V$ to all other $w\\in V\\smallsetminus\\{v\\}$. In this case, we'll obviously have $m\\le \\mathrm{card}(\\tilde{E})$, with $\\mathrm{card}(\\tilde{E})$ being the **highest upper-bound possible** for $\\mathrm{card}(E)$. Now, there are two cases:\n",
    "- If $G$ is simple and undirected, then for all $v\\in V$ and $w\\in V\\smallsetminus\\{v\\}$, we have $(v,w)=(w,v)\\in \\tilde{E}$. Next, summing the number of edges **not counted yet** for each vertex in $V$, we have:\n",
    "$$\\mathrm{card}(\\tilde{E})=\\sum_{i=1}^n(n-i)=\\sum_{j=0}^{n-1} j = n(n-1)/2.$$\n",
    "- If $G$ is simple and directed, then for all $v\\in V$ and $w\\in V\\smallsetminus\\{v\\}$, we have $(v,w)\\ne (w,v)\\in \\tilde{E}$. As such, the cardinality of $\\tilde{E}$ for a directed $G$ is twice that of the undirected case.\n",
    " \n"
   ]
  },
  {
   "cell_type": "markdown",
   "id": "a804fc15-c147-4b9c-aeb6-13c1adcaaa1a",
   "metadata": {},
   "source": [
    "## 2) Implementations of graphs\n",
    "\n",
    "### 2.a - Implementation as an adjacency list\n",
    "\n",
    "This part follows lecture 155 of Portilla's course. Link to notebook:\n",
    "\n",
    "https://github.com/jmportilla/Python-for-Algorithms--Data-Structures--and-Interviews/tree/master/08-Graphs\n",
    "\n",
    "The starting point of this section is the adjacency matrix associated to a (weighted) graph. This notion is dicussed in Lecture 154. For graphs with small numbers of vertices and/or edges, the adjacency matrix is rather sparse, meaning that it is not a convenient structure for the implementation of small graphs. This issue can be resolved by resorting to **adjacency lists**, which store each vertex of the graph, and assign a dictionary to each vertex to store the connections with other vertices.\n",
    "\n",
    "To represent a graph then, we will create two classes:\n",
    "1) The *Vertex* class, which will represent the individual vertices of the graph, and store a dictionary whose keys are the other vertices to which it is connected, and whose values are the weights of the resulting edges. So if *Vertex* represents some $v\\in V$ for a given $G=(V,E)$, then the object representing $v$ stores the subsets $O_v$ and $D_v$ of the previous section.\n",
    "2) The *Graph* class, which represents the graph $G$. Since $E$ is essentially represented by the vertices, the *Graph* object will just keep a master list of vertices (the adjacency list) representing $V$.\n",
    "\n",
    "For the interface of the *Vertex* class, we want the following attributes:\n",
    "* **id**: The string storing the name of the vertex.\n",
    "* **connectedTo:** The dictionary of weighted edges.\n",
    "\n",
    "For the methods of *Vertex*, we'll implement:\n",
    "* **getId()**: Returns ID of current vertex.\n",
    "* **__ str __()**: Overloading of the *str* function to display the *connectedTo* contents.\n",
    "* **addNeighbor(vertex)**: To add a connection from current vertex to another. \n",
    "* **getConnections()**: Which returns all of the vertices in the adjacency list, as represented by the connectedTo instance variable. \n",
    "* **getWeight(vertex)**: Which returns the weight of the edge from this vertex to the vertex passed as a parameter.\n",
    "\n",
    "\n"
   ]
  },
  {
   "cell_type": "code",
   "execution_count": 13,
   "id": "fc0ce20e-79b6-48e0-a161-99ccf148dadd",
   "metadata": {},
   "outputs": [],
   "source": [
    "class Vertex:\n",
    "    def __init__(self, vtx_id):\n",
    "        self.id = vtx_id\n",
    "        self.connectedTo = {}\n",
    "    \n",
    "    def getId(self):\n",
    "        return self.id\n",
    "    \n",
    "    def addNeighbor(self, vtx, weight = 0):\n",
    "        self.connectedTo[vtx] = weight\n",
    "    \n",
    "    def __str__(self):\n",
    "        return \"Vertex \"+str(self.id)+ \" is connected to: \"+str([x.id for x in self.connectedTo])\n",
    "    \n",
    "    def getConnections(self):\n",
    "        return self.connectedTo.keys()\n",
    "    \n",
    "    def getWeight(self, vtx):\n",
    "        return self.connectedTo[vtx]"
   ]
  },
  {
   "cell_type": "markdown",
   "id": "400a2188-e71d-4d64-9da4-5e5ef0fedcb8",
   "metadata": {},
   "source": [
    "Next, the interface of the *Graph* class will consist of the master list and number of vertices as attributes, along with the following methods:\n",
    "* **addVertex(vert)**: Which adds an instance of Vertex to the graph.\n",
    "* **addEdge(fromVert, toVert, weight)**: Which adds a new, weighted, directed edge to the graph that connects two vertices.\n",
    "* **getVertex(vertKey)**: To find the vertex in the graph named vertKey.\n",
    "* **getVertices()**: Which returns the list of all vertices in the graph.\n",
    "* **__ contains __**: To return True for a statement of the form \"vertex in graph\", if the given vertex is in the graph, False otherwise."
   ]
  },
  {
   "cell_type": "code",
   "execution_count": 26,
   "id": "d4f6e7f7-9ae3-43a9-bef6-5a2fc922c046",
   "metadata": {},
   "outputs": [],
   "source": [
    "class Graph:\n",
    "    def __init__(self):\n",
    "        self.vertices = {}\n",
    "        self.N_vertices = 0\n",
    "    \n",
    "    def addVertex(self, vtx_id):\n",
    "        self.vertices[vtx_id] = Vertex(vtx_id)\n",
    "        self.N_vertices += 1\n",
    "        return self.vertices[vtx_id]\n",
    "    \n",
    "    def addEdge(self, orgn_vtx, dest_vtx, weight=0):\n",
    "        '''\n",
    "            This implementation only adds outgoing connections\n",
    "        '''\n",
    "        if orgn_vtx not in self:\n",
    "            nv = self.addVertex(orgn_vtx)\n",
    "        if dest_vtx not in self:\n",
    "            nv = self.addVertex(dest_vtx)\n",
    "        self.vertices[orgn_vtx].addNeighbor(self.vertices[dest_vtx], weight)\n",
    "        # If we want to also consider incoming vertices\n",
    "        #self.vertices[dest_vtx].addNeighbor(self.vertices[orgn_vtx], -weight)\n",
    "        \n",
    "    \n",
    "    def getVertex(self, vtx_id):\n",
    "        if vtx_id in self.vertices:\n",
    "            return self.vertices[vtx_id]\n",
    "        else:\n",
    "            return None\n",
    "    \n",
    "    def getVertices(self):\n",
    "        return list(self.vertices.keys())\n",
    "    \n",
    "    def __contains__(self, vtx):\n",
    "        return vtx in self.vertices\n",
    "    \n",
    "    def __iter__(self):\n",
    "        return iter(self.vertices.values())\n",
    "    "
   ]
  },
  {
   "cell_type": "markdown",
   "id": "e4edac23-21c5-4bd6-8da1-af94e4548d4e",
   "metadata": {},
   "source": [
    "Let's test these classes."
   ]
  },
  {
   "cell_type": "code",
   "execution_count": 15,
   "id": "b39b2fa1-7c0e-490f-af37-e993dbf4bb53",
   "metadata": {},
   "outputs": [],
   "source": [
    "g = Graph()"
   ]
  },
  {
   "cell_type": "code",
   "execution_count": 16,
   "id": "9d95705a-9ce0-4152-9f7c-0f2b4fa738c7",
   "metadata": {},
   "outputs": [],
   "source": [
    "vert_dict = {\"A\":6, \"B\": 3, \"C\":8 , \"D\": 7, \"E\":9, \"F\":1}"
   ]
  },
  {
   "cell_type": "code",
   "execution_count": 17,
   "id": "fd3a55e8-a853-46a0-97e7-b6dc1f80300a",
   "metadata": {},
   "outputs": [],
   "source": [
    "for k in vert_dict:\n",
    "    g.addVertex(k)"
   ]
  },
  {
   "cell_type": "code",
   "execution_count": 18,
   "id": "4a93d57e-bc8c-45a7-8d4a-e2fd68c6a962",
   "metadata": {},
   "outputs": [],
   "source": [
    "g.addEdge(\"A\", \"B\", 0.75)\n",
    "g.addEdge(\"A\", \"C\", 0.25)\n",
    "g.addEdge(\"C\", \"D\", 0.35)\n",
    "g.addEdge(\"C\", \"E\", 0.65)\n",
    "g.addEdge(\"B\", \"F\", 1.0)\n"
   ]
  },
  {
   "cell_type": "code",
   "execution_count": 19,
   "id": "d6c724c5-8f39-4a78-b14d-97cfed3e6ace",
   "metadata": {},
   "outputs": [
    {
     "data": {
      "text/plain": [
       "dict_keys([<__main__.Vertex object at 0x7f55d5535040>, <__main__.Vertex object at 0x7f55d5149c70>])"
      ]
     },
     "execution_count": 19,
     "metadata": {},
     "output_type": "execute_result"
    }
   ],
   "source": [
    "v = g.getVertex(\"B\")\n",
    "v.getConnections()"
   ]
  },
  {
   "cell_type": "code",
   "execution_count": 21,
   "id": "e37a1d25-69bc-47a8-b8ae-064f86daed3a",
   "metadata": {},
   "outputs": [
    {
     "name": "stdout",
     "output_type": "stream",
     "text": [
      "Vertex B is connected to: ['A', 'F']\n"
     ]
    }
   ],
   "source": [
    "print(v)"
   ]
  },
  {
   "cell_type": "code",
   "execution_count": 22,
   "id": "16eaa75b-4c00-47a5-a89b-c68bb6883d09",
   "metadata": {},
   "outputs": [
    {
     "data": {
      "text/plain": [
       "{<__main__.Vertex at 0x7f55d5535040>: -0.75,\n",
       " <__main__.Vertex at 0x7f55d5149c70>: 1.0}"
      ]
     },
     "execution_count": 22,
     "metadata": {},
     "output_type": "execute_result"
    }
   ],
   "source": [
    "v.connectedTo"
   ]
  },
  {
   "cell_type": "markdown",
   "id": "45964d38-15d9-418c-b8b8-e6379df39ae2",
   "metadata": {},
   "source": [
    "### 2.b - A more sophisticated implementation\n",
    "\n",
    "This part follows lecture 160 of Portilla's course. The notebook can be found here:\n",
    "\n",
    "https://github.com/jmportilla/Python-for-Algorithms--Data-Structures--and-Interviews/blob/master/08-Graphs/01-Implementation%20of%20Graph%20Overview.ipynb\n",
    "\n",
    "For the implementation of the traversal algorithms, it will be useful to color the vertices and avoid revisiting the same vertex, and/or add a verification list for visits.\n",
    "\n",
    "We will also use the *OrderedDict* and *Enum* tools of Python. In brief:\n",
    "- *OrderedDict* assigns an insertion order for the keys, and otherwise is a dictionary.\n",
    "- *Enum* is used as an abstract class, in which we declare names and values assigned to each state.\n"
   ]
  },
  {
   "cell_type": "code",
   "execution_count": 1,
   "id": "f2cf27ce-2254-4a8d-bab1-2b1d6da1860a",
   "metadata": {},
   "outputs": [],
   "source": [
    "from collections import OrderedDict\n",
    "from enum import Enum"
   ]
  },
  {
   "cell_type": "code",
   "execution_count": 6,
   "id": "83c621b7-a289-485a-86a4-e1052571d5c9",
   "metadata": {},
   "outputs": [],
   "source": [
    "class State(Enum):\n",
    "    unvisited = 0\n",
    "    visiting = 1\n",
    "    visited = 2\n",
    "\n",
    "class Node:\n",
    "    \n",
    "    def __init__(self, num):\n",
    "        self.num = num\n",
    "        self.visit_state = State(0)\n",
    "        self.adjacent = OrderedDict() # Key = None and value will be the weight\n",
    "        \n",
    "    def __str__(self):\n",
    "        return str(self.num)\n",
    "\n",
    "class Graph:\n",
    "    \n",
    "    def __init__(self):\n",
    "        self.nodes = OrderedDict()\n",
    "    \n",
    "    def add_node(self, num):\n",
    "        self.nodes[num] = Node(num)\n",
    "        return self.nodes[num]\n",
    "    \n",
    "    def reset_visit_states(self):\n",
    "        for node in self.nodes:\n",
    "            node.visit_state = State(0)\n",
    "    \n",
    "    def add_edge(self, source, dest, weight = 0):\n",
    "        \n",
    "        if source not in self.nodes:\n",
    "            self.add_node(source)\n",
    "            \n",
    "        if dest not in self.nodes:\n",
    "            self.add_node(dest)\n",
    "            \n",
    "        self.nodes[source].adjacent[self.nodes[dest]] = weight\n",
    "    "
   ]
  },
  {
   "cell_type": "markdown",
   "id": "37abad16-d721-480d-ba9e-011f4e2c105a",
   "metadata": {},
   "source": [
    "Now we test this implementation:"
   ]
  },
  {
   "cell_type": "code",
   "execution_count": 7,
   "id": "c9266d15-9257-4642-98a4-5d9e07fb4a9e",
   "metadata": {},
   "outputs": [],
   "source": [
    "g = Graph()"
   ]
  },
  {
   "cell_type": "code",
   "execution_count": 11,
   "id": "47e1cac3-8b97-4e0e-85c9-dafd5e40abcd",
   "metadata": {},
   "outputs": [],
   "source": [
    "g.add_edge(0,1,5)\n",
    "g.add_edge(1,3,10)"
   ]
  },
  {
   "cell_type": "code",
   "execution_count": 12,
   "id": "f7f06fe0-8c03-44fa-bc77-3b318d185354",
   "metadata": {},
   "outputs": [
    {
     "data": {
      "text/plain": [
       "OrderedDict([(0, <__main__.Node at 0x7f55161bde20>),\n",
       "             (1, <__main__.Node at 0x7f55161bdc40>),\n",
       "             (3, <__main__.Node at 0x7f55160b8a60>)])"
      ]
     },
     "execution_count": 12,
     "metadata": {},
     "output_type": "execute_result"
    }
   ],
   "source": [
    "g.nodes"
   ]
  },
  {
   "cell_type": "code",
   "execution_count": 10,
   "id": "d8148da8-fa6b-490a-ab03-3ae6eb5a24e7",
   "metadata": {},
   "outputs": [
    {
     "data": {
      "text/plain": [
       "OrderedDict([(<__main__.Node at 0x7f55161bdc40>, 5)])"
      ]
     },
     "execution_count": 10,
     "metadata": {},
     "output_type": "execute_result"
    }
   ],
   "source": [
    "g.nodes[0].adjacent"
   ]
  },
  {
   "cell_type": "markdown",
   "id": "97c739dc-ab90-491b-8fa7-e509dc714879",
   "metadata": {},
   "source": [
    "We will use this implementation of a graph in the next sections."
   ]
  },
  {
   "cell_type": "markdown",
   "id": "f29c2ab7-3990-4e40-9492-1fe88bcf6af2",
   "metadata": {},
   "source": [
    "## 3) Breadth First Seach\n",
    "\n",
    "This is the first graph traversal algorithm that we'll discuss. This section is based on Lectures 156, 157, and 162 of Portilla's course, as well as [GTG13, Sec.14.3.3].\n",
    "\n",
    "### 3.a - Motivation: Word ladder problem\n",
    "\n",
    "The word ladder problem consists of transforming one word into another one with the same number of letters, such that\n",
    "- At each step, only one letter is modified.\n",
    "- Each time a letter is modified, the resulting string is still a word.\n",
    "\n",
    "As an example, if we consider a collection of 4-letter words, and say we'd like to transform \"FOOL\" into \"SAGE\". An example sequence in this case is: FOOL->POOL->POLL->POLE->SOLE->SALE->SAGE.\n",
    "\n",
    "The word ladder problem can be solved with a graph traversal algorithm. In this setting, we consider the vertices of our graph as 4-letter words, with two words being related by an edge if and only if they differ by precisely one letter.\n",
    "\n",
    "To illustrate our present example, it will be useful to color our vertices as black, white, or gray, which will allow us to write a graph traversal algorithm"
   ]
  },
  {
   "cell_type": "code",
   "execution_count": 27,
   "id": "737e8531-b1ea-4f5d-8517-02e9fa66d463",
   "metadata": {
    "jupyter": {
     "source_hidden": true
    },
    "tags": []
   },
   "outputs": [],
   "source": [
    "class Vertex:\n",
    "    def __init__(self, vtx_id):\n",
    "        self.id = vtx_id\n",
    "        self.connectedTo = {}\n",
    "    \n",
    "    def getId(self):\n",
    "        return self.id\n",
    "    \n",
    "    def addNeighbor(self, vtx, weight = 0):\n",
    "        self.connectedTo[vtx] = weight\n",
    "    \n",
    "    def __str__(self):\n",
    "        return \"Vertex \"+str(self.id)+ \" is connected to: \"+str([x.id for x in self.connectedTo])\n",
    "    \n",
    "    def getConnections(self):\n",
    "        return self.connectedTo.keys()\n",
    "    \n",
    "    def getWeight(self, vtx):\n",
    "        return self.connectedTo[vtx]\n",
    "    \n",
    "class Graph:\n",
    "    def __init__(self):\n",
    "        self.vertices = {}\n",
    "        self.N_vertices = 0\n",
    "    \n",
    "    def addVertex(self, vtx_id):\n",
    "        self.vertices[vtx_id] = Vertex(vtx_id)\n",
    "        self.N_vertices += 1\n",
    "        return self.vertices[vtx_id]\n",
    "    \n",
    "    def addEdge(self, orgn_vtx, dest_vtx, weight=0):\n",
    "        '''\n",
    "            This implementation only adds outgoing connections\n",
    "        '''\n",
    "        if orgn_vtx not in self:\n",
    "            nv = self.addVertex(orgn_vtx)\n",
    "        if dest_vtx not in self:\n",
    "            nv = self.addVertex(dest_vtx)\n",
    "        self.vertices[orgn_vtx].addNeighbor(self.vertices[dest_vtx], weight)\n",
    "        # If we want to also consider incoming vertices\n",
    "        #self.vertices[dest_vtx].addNeighbor(self.vertices[orgn_vtx], -weight)\n",
    "        \n",
    "    \n",
    "    def getVertex(self, vtx_id):\n",
    "        if vtx_id in self.vertices:\n",
    "            return self.vertices[vtx_id]\n",
    "        else:\n",
    "            return None\n",
    "    \n",
    "    def getVertices(self):\n",
    "        return list(self.vertices.keys())\n",
    "    \n",
    "    def __contains__(self, vtx):\n",
    "        return vtx in self.vertices\n",
    "    \n",
    "    def __iter__(self):\n",
    "        return iter(self.vertices.values())"
   ]
  },
  {
   "cell_type": "code",
   "execution_count": 1,
   "id": "dd86f6d5-b8b8-4c52-87fa-f21fa191e96a",
   "metadata": {},
   "outputs": [],
   "source": [
    "from collections import OrderedDict\n",
    "from enum import Enum\n",
    "\n",
    "class State(Enum):\n",
    "    unvisited = 0\n",
    "    visiting = 1\n",
    "    visited = 2\n",
    "\n",
    "class Node:\n",
    "    \n",
    "    def __init__(self, num):\n",
    "        self.num = num\n",
    "        self.visit_state = State(0)\n",
    "        self.adjacent = OrderedDict() # Key = None and value will be the weight\n",
    "        \n",
    "    def __str__(self):\n",
    "        return str(self.num)\n",
    "\n",
    "class Graph:\n",
    "    \n",
    "    def __init__(self):\n",
    "        self.nodes = OrderedDict()\n",
    "    \n",
    "    def add_node(self, num):\n",
    "        self.nodes[num] = Node(num)\n",
    "        return self.nodes[num]\n",
    "    \n",
    "    def reset_visit_states(self):\n",
    "        for node in self.nodes:\n",
    "            node.visit_state = State(0)\n",
    "    \n",
    "    def add_edge(self, source, dest, weight = 0):\n",
    "        \n",
    "        if source not in self.nodes:\n",
    "            self.add_node(source)\n",
    "            \n",
    "        if dest not in self.nodes:\n",
    "            self.add_node(dest)\n",
    "            \n",
    "        self.nodes[source].adjacent[self.nodes[dest]] = weight\n",
    "    "
   ]
  },
  {
   "cell_type": "markdown",
   "id": "5708952d-28ff-4310-ba84-f2c8844a934e",
   "metadata": {},
   "source": [
    "Next, we build a graph from a collection of words. We do this using a function that will put words into buckets, create vertices, and then add edges depending on whetehr or not the vertices are related."
   ]
  },
  {
   "cell_type": "code",
   "execution_count": 2,
   "id": "12119bdf-0dd8-447d-b023-3df957066691",
   "metadata": {},
   "outputs": [
    {
     "name": "stdout",
     "output_type": "stream",
     "text": [
      "fool\n",
      "foul\n",
      "foil\n",
      "fail\n",
      "fall\n",
      "pall\n",
      "poll\n",
      "pole\n",
      "cool\n",
      "pope\n",
      "pale\n",
      "sale\n",
      "page\n",
      "sage\n",
      "paul\n",
      "pool\n"
     ]
    }
   ],
   "source": [
    "# Word list (graph vertices)\n",
    "words = [\"fool\", \"foul\", \"foil\", \"fail\", \"fall\",\n",
    "         \"pall\", \"poll\", \"pole\", \"cool\", \"pope\",\n",
    "         \"pale\", \"sale\", \"page\", \"sage\", \"paul\",\n",
    "         \"pool\"\n",
    "        ]\n",
    "\n",
    "# Graph builder function\n",
    "def buildGraph(word_list):\n",
    "    d = {}\n",
    "    g = Graph()\n",
    "    \n",
    "    # create buckets of words that differ by one letter\n",
    "    for word in word_list:\n",
    "        print(word)\n",
    "        for i in range(len(word)):\n",
    "            bucket = word[:i] + '_' + word[i+1:]\n",
    "            if bucket in d:\n",
    "                d[bucket].append(word)\n",
    "            else:\n",
    "                d[bucket] = [word]\n",
    "    # add vertices and edges for words in the same bucket\n",
    "    for bucket in d.keys():\n",
    "        for word1 in d[bucket]:\n",
    "            for word2 in d[bucket]:\n",
    "                if word1 != word2:\n",
    "                    #g.addEdge(word1,word2)\n",
    "                    g.add_edge(word1,word2)\n",
    "    return g\n",
    "\n",
    "word_graph = buildGraph(words)"
   ]
  },
  {
   "cell_type": "code",
   "execution_count": 38,
   "id": "740d4542-20f2-48fe-ac80-ced8515d6666",
   "metadata": {
    "collapsed": true,
    "jupyter": {
     "outputs_hidden": true,
     "source_hidden": true
    },
    "tags": []
   },
   "outputs": [
    {
     "name": "stdout",
     "output_type": "stream",
     "text": [
      "Vertex fool is connected to: ['cool', 'pool', 'foul', 'foil']\n",
      "Vertex cool is connected to: ['fool', 'pool']\n",
      "Vertex pool is connected to: ['fool', 'cool', 'poll']\n",
      "Vertex foul is connected to: ['fool', 'foil']\n",
      "Vertex foil is connected to: ['fool', 'foul', 'fail']\n",
      "Vertex fail is connected to: ['foil', 'fall']\n",
      "Vertex fall is connected to: ['fail', 'pall']\n",
      "Vertex pall is connected to: ['fall', 'poll', 'paul', 'pale']\n",
      "Vertex poll is connected to: ['pall', 'pool', 'pole']\n",
      "Vertex paul is connected to: ['pall']\n",
      "Vertex pale is connected to: ['pall', 'pole', 'sale', 'page']\n",
      "Vertex pole is connected to: ['poll', 'pale', 'pope']\n",
      "Vertex pope is connected to: ['pole']\n",
      "Vertex sale is connected to: ['pale', 'sage']\n",
      "Vertex page is connected to: ['pale', 'sage']\n",
      "Vertex sage is connected to: ['sale', 'page']\n"
     ]
    }
   ],
   "source": [
    "for w in word_graph.vertices.keys():\n",
    "    print(word_graph.vertices[w])"
   ]
  },
  {
   "cell_type": "code",
   "execution_count": 5,
   "id": "c145f473-e0fa-418c-b343-ae525709f00a",
   "metadata": {},
   "outputs": [
    {
     "data": {
      "text/plain": [
       "OrderedDict([('fool', <__main__.Node at 0x7f0fac6edc70>),\n",
       "             ('cool', <__main__.Node at 0x7f0fac6edcd0>),\n",
       "             ('pool', <__main__.Node at 0x7f0fac6edf70>),\n",
       "             ('foul', <__main__.Node at 0x7f0fac6eddc0>),\n",
       "             ('foil', <__main__.Node at 0x7f0fac6edb20>),\n",
       "             ('fail', <__main__.Node at 0x7f0fac699730>),\n",
       "             ('fall', <__main__.Node at 0x7f0fac699280>),\n",
       "             ('pall', <__main__.Node at 0x7f0fac699790>),\n",
       "             ('poll', <__main__.Node at 0x7f0fac699c10>),\n",
       "             ('paul', <__main__.Node at 0x7f0fac699c40>),\n",
       "             ('pale', <__main__.Node at 0x7f0fac6993d0>),\n",
       "             ('pole', <__main__.Node at 0x7f0fac699370>),\n",
       "             ('pope', <__main__.Node at 0x7f0fac6a4820>),\n",
       "             ('sale', <__main__.Node at 0x7f0fac6a4370>),\n",
       "             ('page', <__main__.Node at 0x7f0fac6a4d60>),\n",
       "             ('sage', <__main__.Node at 0x7f0fac6a4d00>)])"
      ]
     },
     "execution_count": 5,
     "metadata": {},
     "output_type": "execute_result"
    }
   ],
   "source": [
    "word_graph.nodes"
   ]
  },
  {
   "cell_type": "code",
   "execution_count": 6,
   "id": "ba997e0f-c5e5-4092-8639-ff4926057ccb",
   "metadata": {},
   "outputs": [
    {
     "name": "stdout",
     "output_type": "stream",
     "text": [
      "fool\n",
      "cool\n",
      "poll\n"
     ]
    }
   ],
   "source": [
    "for x in word_graph.nodes[\"pool\"].adjacent.keys():\n",
    "    print(x)"
   ]
  },
  {
   "cell_type": "code",
   "execution_count": null,
   "id": "4a918978-b8f9-4eb1-9f0f-4349ee61ba7d",
   "metadata": {},
   "outputs": [],
   "source": []
  },
  {
   "cell_type": "code",
   "execution_count": 9,
   "id": "b7a9b81f-34f7-486d-baa8-9dc23e37bf31",
   "metadata": {},
   "outputs": [
    {
     "name": "stdout",
     "output_type": "stream",
     "text": [
      "'fool' is connected to: ['cool', 'pool', 'foul', 'foil']\n",
      "'cool' is connected to: ['fool', 'pool']\n",
      "'pool' is connected to: ['fool', 'cool', 'poll']\n",
      "'foul' is connected to: ['fool', 'foil']\n",
      "'foil' is connected to: ['fool', 'foul', 'fail']\n",
      "'fail' is connected to: ['foil', 'fall']\n",
      "'fall' is connected to: ['fail', 'pall']\n",
      "'pall' is connected to: ['fall', 'poll', 'paul', 'pale']\n",
      "'poll' is connected to: ['pall', 'pool', 'pole']\n",
      "'paul' is connected to: ['pall']\n",
      "'pale' is connected to: ['pall', 'pole', 'sale', 'page']\n",
      "'pole' is connected to: ['poll', 'pale', 'pope']\n",
      "'pope' is connected to: ['pole']\n",
      "'sale' is connected to: ['pale', 'sage']\n",
      "'page' is connected to: ['pale', 'sage']\n",
      "'sage' is connected to: ['sale', 'page']\n"
     ]
    }
   ],
   "source": [
    "for w in word_graph.nodes.keys():\n",
    "    print(\"\\'\"+str(word_graph.nodes[w])+\"\\'\"+\" is connected to: \"+ str([x.num for x in word_graph.nodes[w].adjacent.keys()]))"
   ]
  },
  {
   "cell_type": "markdown",
   "id": "a48a986e-eb37-4319-8f63-8e333635eaef",
   "metadata": {},
   "source": [
    "**Comment:** I got this code from https://github.com/jmportilla/Python-for-Algorithms--Data-Structures--and-Interviews/blob/master/08-Graphs/03-Word%20Ladder%20Example%20Problem.ipynb. "
   ]
  },
  {
   "cell_type": "code",
   "execution_count": null,
   "id": "de72a549-96ee-4d5d-916e-0ddcd9092d11",
   "metadata": {},
   "outputs": [],
   "source": []
  },
  {
   "cell_type": "code",
   "execution_count": null,
   "id": "f85b45ae-d4f3-4885-a5d8-7385ad2ee63b",
   "metadata": {},
   "outputs": [],
   "source": []
  },
  {
   "cell_type": "markdown",
   "id": "7a649440-c6eb-419f-8280-ec3424e7794f",
   "metadata": {},
   "source": [
    "### 3.b - The Breadth First Search (BFS) algorithm\n",
    "\n",
    "This part is based on [GTG13, Sec.14.3.3] and on Lecture 162 of Portilla's course.\n",
    "\n",
    "The most important property of BFS is that it returns the shortest path between two vertices if there exists one.\n"
   ]
  },
  {
   "cell_type": "code",
   "execution_count": 30,
   "id": "8e291c8d-6462-49a0-ab4c-276b29695d8c",
   "metadata": {},
   "outputs": [],
   "source": [
    "from collections import deque"
   ]
  },
  {
   "cell_type": "code",
   "execution_count": 33,
   "id": "4aa37c8b-ba03-403e-a5d1-a7f654f411e4",
   "metadata": {},
   "outputs": [],
   "source": [
    "def BFS(G, start):\n",
    "    visited = set()\n",
    "    queue = deque([start])\n",
    "    \n",
    "    while len(queue)>0:\n",
    "        node = queue.popleft()\n",
    "        if node not in visited:\n",
    "            visited.add(node)\n",
    "            queue.extend(list(G.nodes[node].adjacent.keys())-visited)\n",
    "    \n",
    "    return visited"
   ]
  },
  {
   "cell_type": "code",
   "execution_count": 34,
   "id": "151b019d-099c-4f84-a55a-b4a1efd0e039",
   "metadata": {},
   "outputs": [
    {
     "ename": "KeyError",
     "evalue": "<__main__.Node object at 0x7f478a944f40>",
     "output_type": "error",
     "traceback": [
      "\u001b[0;31m---------------------------------------------------------------------------\u001b[0m",
      "\u001b[0;31mKeyError\u001b[0m                                  Traceback (most recent call last)",
      "Cell \u001b[0;32mIn [34], line 1\u001b[0m\n\u001b[0;32m----> 1\u001b[0m \u001b[43mBFS\u001b[49m\u001b[43m(\u001b[49m\u001b[43mword_graph\u001b[49m\u001b[43m,\u001b[49m\u001b[43m \u001b[49m\u001b[43mword_graph\u001b[49m\u001b[38;5;241;43m.\u001b[39;49m\u001b[43mnodes\u001b[49m\u001b[43m[\u001b[49m\u001b[38;5;124;43m\"\u001b[39;49m\u001b[38;5;124;43mfool\u001b[39;49m\u001b[38;5;124;43m\"\u001b[39;49m\u001b[43m]\u001b[49m\u001b[43m)\u001b[49m\n",
      "Cell \u001b[0;32mIn [33], line 9\u001b[0m, in \u001b[0;36mBFS\u001b[0;34m(G, start)\u001b[0m\n\u001b[1;32m      7\u001b[0m     \u001b[38;5;28;01mif\u001b[39;00m node \u001b[38;5;129;01mnot\u001b[39;00m \u001b[38;5;129;01min\u001b[39;00m visited:\n\u001b[1;32m      8\u001b[0m         visited\u001b[38;5;241m.\u001b[39madd(node)\n\u001b[0;32m----> 9\u001b[0m         queue\u001b[38;5;241m.\u001b[39mextend(\u001b[38;5;28mlist\u001b[39m(\u001b[43mG\u001b[49m\u001b[38;5;241;43m.\u001b[39;49m\u001b[43mnodes\u001b[49m\u001b[43m[\u001b[49m\u001b[43mnode\u001b[49m\u001b[43m]\u001b[49m\u001b[38;5;241m.\u001b[39madjacent\u001b[38;5;241m.\u001b[39mkeys())\u001b[38;5;241m-\u001b[39mvisited)\n\u001b[1;32m     11\u001b[0m \u001b[38;5;28;01mreturn\u001b[39;00m visited\n",
      "\u001b[0;31mKeyError\u001b[0m: <__main__.Node object at 0x7f478a944f40>"
     ]
    }
   ],
   "source": [
    "BFS(word_graph, word_graph.nodes[\"fool\"])"
   ]
  },
  {
   "cell_type": "markdown",
   "id": "93278277-9352-4578-ac19-21ea16a114cf",
   "metadata": {},
   "source": [
    "**Comment (23/11/08):**\n",
    "\n",
    "I'm moving on. Portilla jumped from his implementation of a graph to an implementation of BFS/DFS that do not use that class. It's annoying, and I will fix these errors another time (there's still a lot to learn with graphs)."
   ]
  },
  {
   "cell_type": "markdown",
   "id": "503744ca-5e2e-4dad-8744-5018640fbf92",
   "metadata": {},
   "source": [
    "### 3.c - Some properties of BFS\n",
    "\n",
    "Here, we suppose for simplicity that $G$ is a connected graph in the topological sense.\n",
    "\n",
    "#### Proposition 14.16:\n",
    "Let $G=(V,E)$ be a directed or undirected graph, on which a BFS traversal starting at $v_0\\in V$ has been performed. Then:\n",
    "1) BFS visits all vertices of $G$ that are reachable from $v_0$.s\n",
    "2) For each vertex $v\\in V$ at level $i$, the path of the BFS tree $T$ between $v_0$ and $v$ has $i$ edges.\n",
    "3) If $(u,v)$ is an edge that is not in the BFS tree, then the level number of $v$ is at most $1$ plus the level number of $v$.\n",
    "\n",
    "#### Proposition 14.17:\n",
    "Suppose $G=(V,E)$ is represented with an adjacency list structure. The time complexity of the BFS algorithm is $O\\left(\\mathrm{card}(V)+ \\mathrm{card}(E) \\right)$."
   ]
  },
  {
   "cell_type": "code",
   "execution_count": null,
   "id": "dff1d098-8c89-46b5-a5e4-d132f092375a",
   "metadata": {},
   "outputs": [],
   "source": []
  },
  {
   "cell_type": "markdown",
   "id": "9079921a-ad8f-462f-82b2-4746f417917a",
   "metadata": {},
   "source": [
    "## 4) Depth First Seach\n",
    "\n",
    "This is the second graph traversal algorithm of this notebook. This section is based on Lectures 158, 159, 161 of Portilla's course, as well as [GTG13, Sec.14.3.1-14.3.2].\n",
    "\n",
    "### 4.a - Motivation: Knight's tour problem\n",
    "\n",
    "The notebook for this exercise is here: https://github.com/jmportilla/Python-for-Algorithms--Data-Structures--and-Interviews/blob/master/08-Graphs/04-Knight's%20Tour%20Example%20Problem.ipynb.\n",
    "\n",
    "The knight tour problem is described as follows:\n",
    "- We have a chess board (8x8) on which there is only the knight at one of the corners.\n",
    "- We want to visit each square of the board exactly once. Here, it's important to note that the knight can only move either by 2 squares vertically then 1 horizontally, or two squares vertically and then 1 horizontally. By \"visiting\" a square, we mean the square reached by at the end of the move, and we don't count the squares *during* the move.\n",
    "\n",
    "This problem can be solved by a **depth first** graph traversal. The idea is to model all the squares of the graph as vertices, with edges corresponding to admissible knight moves.\n",
    "\n",
    "In rough terms, starting from a given square on the board, depth first traversal builds an exploration tree whose root is the initial square, and the children of the root are the squares that can be reached in one move. Continuing this process recursively, depth first search first explores how deep the path in the tree could be (or how long it could be in the graph), and backtracks if the last vertex reached is a dead end. Unlike breadth first search, it is a recursive algorithm, and generalizes the inorder, preorder and postorder traversals studied for binary trees.\n",
    "\n",
    "**Comment:** \n",
    "\n",
    "Instead of redoing Portilla's implementation from scratch for the knight's tour problem, I will focus on the general implementation of the DFS algorithm.\n"
   ]
  },
  {
   "cell_type": "markdown",
   "id": "a1558324-aa7c-4845-8d46-f22dc9f01920",
   "metadata": {},
   "source": [
    "### 4.b - Depth First Search (DFS)\n",
    "\n",
    "This subsection is based on [GTG13, Sec.14.3.1] and Lecture 161 of Portilla's DSA course.\n",
    "\n",
    "We start with an analogy. Depth first search is similar to exploring a labyrinth with a string and a can of paint. The idea is to proceed recursively, starting from an input node $s$. At the current vertex $u$:\n",
    "- Consider an arbitrary edge $(u,v)$. \n",
    "- If the vertex $v$ is already painted (i.e. has already been visited), backtrack to $u$.\n",
    "- If the vertex $v$ has not been visited yet, unenroll the string, visit $v$, and paint it to designate it as visited. \n",
    "- Repeat the above with the next edge $(u',v')$, until all the incident edges to the current vertex lead to vertices that have all been visited.\n",
    "\n",
    "DFS is typically implemented as a recursion, as the following pseudo-code shows:\n",
    "\n",
    "        Algorithm DFS(G,u):\n",
    "            Input: A graph G and a vertex u therein.\n",
    "            Output: Collection of vertices reachable from u, along with discovery edges.\n",
    "            \n",
    "            for each outgoing edge e = (u,v) of u:\n",
    "                if v has not been visited:\n",
    "                    Mark v as visited\n",
    "                    call DFS(G,v)\n",
    "\n",
    "Some observations are relevant at this point:\n",
    "- The DFS algorithm builds a depth first search tree rooted at the starting vertex $s$.\n",
    "- A **discovery (or tree) edge** $e=(u,v)$ is an edge leading to a non-visited vertex $v$ in the execution of DFS. All other edges considered, which lead to previously visited vertices, are called **non-tree edges**.\n",
    "\n",
    "Based on the graph implementation of section 2.b above, we can implement DFS as follows:"
   ]
  },
  {
   "cell_type": "code",
   "execution_count": 27,
   "id": "8872bd74-9be2-4a69-a542-8cde1d71e4e0",
   "metadata": {},
   "outputs": [],
   "source": [
    "def DFS(G, u, dfs_tree = None):\n",
    "    \n",
    "    if dfs_tree is None:\n",
    "        dfs_tree = OrderedDict() \n",
    "        dfs_tree[u.num]= []\n",
    "    \n",
    "    for v in u.adjacent.keys():\n",
    "        if v.visit_state.value == 0:\n",
    "            v.visit_state = State(2)\n",
    "            dfs_tree[u.num].append(v.num)\n",
    "            dfs_tree[v.num] = []\n",
    "            DFS(G,v, dfs_tree)\n",
    "    \n",
    "    return dfs_tree"
   ]
  },
  {
   "cell_type": "markdown",
   "id": "16602e25-188e-4029-92e6-88b5230c07b6",
   "metadata": {},
   "source": [
    "#### Test:"
   ]
  },
  {
   "cell_type": "code",
   "execution_count": 14,
   "id": "578fb31d-389c-4ebd-827c-7df82c63b472",
   "metadata": {},
   "outputs": [],
   "source": [
    "from collections import OrderedDict\n",
    "from enum import Enum\n",
    "\n",
    "class State(Enum):\n",
    "    unvisited = 0\n",
    "    visiting = 1\n",
    "    visited = 2\n",
    "\n",
    "class Node:\n",
    "    \n",
    "    def __init__(self, num):\n",
    "        self.num = num\n",
    "        self.visit_state = State(0)\n",
    "        self.adjacent = OrderedDict() # Key = None and value will be the weight\n",
    "        \n",
    "    def __str__(self):\n",
    "        return str(self.num)\n",
    "\n",
    "class Graph:\n",
    "    \n",
    "    def __init__(self):\n",
    "        self.nodes = OrderedDict()\n",
    "    \n",
    "    def add_node(self, num):\n",
    "        self.nodes[num] = Node(num)\n",
    "        return self.nodes[num]\n",
    "    \n",
    "    def reset_visit_states(self):\n",
    "        for node in self.nodes:\n",
    "            self.nodes[node].visit_state = State(0)\n",
    "    \n",
    "    def add_edge(self, source, dest, weight = 0):\n",
    "        \n",
    "        if source not in self.nodes:\n",
    "            self.add_node(source)\n",
    "            \n",
    "        if dest not in self.nodes:\n",
    "            self.add_node(dest)\n",
    "            \n",
    "        self.nodes[source].adjacent[self.nodes[dest]] = weight\n",
    "    "
   ]
  },
  {
   "cell_type": "code",
   "execution_count": 24,
   "id": "8f2f954e-7929-4dc8-8428-25122addabe7",
   "metadata": {},
   "outputs": [
    {
     "name": "stdout",
     "output_type": "stream",
     "text": [
      "fool\n",
      "foul\n",
      "foil\n",
      "fail\n",
      "fall\n",
      "pall\n",
      "poll\n",
      "pole\n",
      "cool\n",
      "pope\n",
      "pale\n",
      "sale\n",
      "page\n",
      "sage\n",
      "paul\n",
      "pool\n"
     ]
    }
   ],
   "source": [
    "# Word list (graph vertices)\n",
    "words = [\"fool\", \"foul\", \"foil\", \"fail\", \"fall\",\n",
    "         \"pall\", \"poll\", \"pole\", \"cool\", \"pope\",\n",
    "         \"pale\", \"sale\", \"page\", \"sage\", \"paul\",\n",
    "         \"pool\"\n",
    "        ]\n",
    "\n",
    "# Graph builder function\n",
    "def buildGraph(word_list):\n",
    "    d = {}\n",
    "    g = Graph()\n",
    "    \n",
    "    # create buckets of words that differ by one letter\n",
    "    for word in word_list:\n",
    "        print(word)\n",
    "        for i in range(len(word)):\n",
    "            bucket = word[:i] + '_' + word[i+1:]\n",
    "            if bucket in d:\n",
    "                d[bucket].append(word)\n",
    "            else:\n",
    "                d[bucket] = [word]\n",
    "    # add vertices and edges for words in the same bucket\n",
    "    for bucket in d.keys():\n",
    "        for word1 in d[bucket]:\n",
    "            for word2 in d[bucket]:\n",
    "                if word1 != word2:\n",
    "                    #g.addEdge(word1,word2)\n",
    "                    g.add_edge(word1,word2)\n",
    "    return g\n",
    "\n",
    "word_graph = buildGraph(words)"
   ]
  },
  {
   "cell_type": "code",
   "execution_count": 28,
   "id": "06cec614-297b-4de3-aaf3-30d674d04dff",
   "metadata": {},
   "outputs": [],
   "source": [
    "word_graph.reset_visit_states()\n",
    "dfs_tree = DFS(word_graph, word_graph.nodes[\"fool\"])"
   ]
  },
  {
   "cell_type": "code",
   "execution_count": 29,
   "id": "6ad1df24-458a-4d1b-88d9-fca75f344602",
   "metadata": {},
   "outputs": [
    {
     "data": {
      "text/plain": [
       "OrderedDict([('fool', ['pool']),\n",
       "             ('cool', ['fool']),\n",
       "             ('pool', ['poll']),\n",
       "             ('poll', ['pall']),\n",
       "             ('pall', ['fall', 'paul', 'pale']),\n",
       "             ('fall', ['fail']),\n",
       "             ('fail', ['foil']),\n",
       "             ('foil', ['foul']),\n",
       "             ('foul', []),\n",
       "             ('paul', []),\n",
       "             ('pale', ['pole', 'sale']),\n",
       "             ('pole', ['pope']),\n",
       "             ('pope', []),\n",
       "             ('sale', ['sage']),\n",
       "             ('sage', ['page']),\n",
       "             ('page', [])])"
      ]
     },
     "execution_count": 29,
     "metadata": {},
     "output_type": "execute_result"
    }
   ],
   "source": [
    "dfs_tree"
   ]
  },
  {
   "cell_type": "code",
   "execution_count": null,
   "id": "4a7eed80-b135-4f15-baaf-766d77e66f53",
   "metadata": {},
   "outputs": [],
   "source": []
  },
  {
   "cell_type": "markdown",
   "id": "312bc303-d34b-4f18-8b5a-c1f42cf242e3",
   "metadata": {},
   "source": [
    "### 4.c - Properties of DFS\n",
    "\n",
    "The results presented here are from [GTG13, Sec.14.3.1].\n",
    "\n",
    "#### Proposition 14.12:\n",
    "Let $G=(V,E)$ be an undirected graph on which a depth first traversal is performed, starting from $s\\in V$. Then:\n",
    "- DFS visits all the vertices in the connected component of $G$ containing $s$.\n",
    "- The discovery edges obtained from DFS constitute a spanning tree of the connected component of $s$.\n",
    "\n",
    "#### Proposition 14.13:\n",
    "Let $G=(V,E)$ be a directed graph on which a depth first traversal is performed, starting from $s\\in V$. Then:\n",
    "- DFS visits all the vertices of $G$ reachable from $s$.\n",
    "- The resulting DFS tree contains directed paths from $s$ to every vertex reachable from $s$.\n",
    "\n",
    "#### Proposition 14.14-15:\n",
    "Let $G=(V,E)$ be a directed or undirected graph. Then DFS traversal of $G$ can be performed in $O\\left( \\mathrm{card}(V)+\\mathrm{card}(E)\\right)$ time.\n",
    "\n",
    "The justifications for this last part is discussed in the remainder of [GTG13, Ch.14]."
   ]
  },
  {
   "cell_type": "code",
   "execution_count": null,
   "id": "ac7393b9-901d-49c1-b5bb-37ee83999ccb",
   "metadata": {},
   "outputs": [],
   "source": []
  }
 ],
 "metadata": {
  "kernelspec": {
   "display_name": "Python 3 (ipykernel)",
   "language": "python",
   "name": "python3"
  },
  "language_info": {
   "codemirror_mode": {
    "name": "ipython",
    "version": 3
   },
   "file_extension": ".py",
   "mimetype": "text/x-python",
   "name": "python",
   "nbconvert_exporter": "python",
   "pygments_lexer": "ipython3",
   "version": "3.9.16"
  }
 },
 "nbformat": 4,
 "nbformat_minor": 5
}
