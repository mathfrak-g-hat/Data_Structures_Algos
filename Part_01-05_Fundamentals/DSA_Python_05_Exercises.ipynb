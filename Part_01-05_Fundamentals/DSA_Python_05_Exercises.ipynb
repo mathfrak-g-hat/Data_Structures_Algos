{
 "cells": [
  {
   "cell_type": "markdown",
   "id": "79f6d43b-acd5-46e8-92c3-e9210e5f69db",
   "metadata": {},
   "source": [
    "# Data Structures and Algorithms in Python - Ch.7: Linked Lists - Exercises\n",
    "### AJ Zerouali, 2023/09/12"
   ]
  },
  {
   "cell_type": "markdown",
   "id": "36f0e53a-9a6a-47cf-a48c-9c137f1975eb",
   "metadata": {},
   "source": [
    "## 0) Introduction\n",
    "\n",
    "These are some exercises for stack, queues and deques. \n",
    "\n",
    "**References:**\n",
    "\n",
    "- Chapter 7 of \"Data structures and algorithms in Python\", by Goodrich, Tamassia and Goldwasser (primary). \n",
    "- Section 14 of \"Python for Data Structures, Algorithms, and Interviews!\" by Jose Portilla.\n"
   ]
  },
  {
   "cell_type": "markdown",
   "id": "f5b5eddd-3a0d-42a0-aedf-1da4f1e26cb6",
   "metadata": {},
   "source": [
    "## Exercise 1: Detecting a cycle in a linked list\n",
    "\n",
    "Link: https://github.com/jmportilla/Python-for-Algorithms--Data-Structures--and-Interviews/blob/master/04-Linked%20Lists/Linked%20Lists%20Interview%20Problems/01-Singly-Linked-List-Cycle-Check/01-Singly%20Linked%20List%20Cycle%20Check.ipynb\n",
    "\n",
    "Given a singly linked list, write a function which takes in the first node in a singly linked list and returns a boolean indicating if the linked list contains a \"cycle\".\n",
    "\n",
    "A cycle is when a node's next point actually points back to a previous node in the list. This is also sometimes known as a circularly linked list.\n",
    "\n",
    "You've been given the Linked List Node class code:"
   ]
  },
  {
   "cell_type": "code",
   "execution_count": null,
   "id": "d204cb82-9da5-4446-b046-9f231fb1d3ec",
   "metadata": {},
   "outputs": [],
   "source": [
    "class Node(object):\n",
    "    \n",
    "    def __init__(self,value):\n",
    "        \n",
    "        self.value = value\n",
    "        self.nextnode = None"
   ]
  },
  {
   "cell_type": "markdown",
   "id": "ac4aa737-c0ab-4c7d-b6fb-31fc214918f7",
   "metadata": {},
   "source": [
    "Here's the function template:"
   ]
  },
  {
   "cell_type": "code",
   "execution_count": null,
   "id": "c4a3fcd0-f69d-469c-a960-541e1d4a0ab9",
   "metadata": {},
   "outputs": [],
   "source": [
    "def cycle_check(node):\n",
    "\n",
    "    pass #Your function should return a boolean"
   ]
  },
  {
   "cell_type": "markdown",
   "id": "535d5253-2e8d-43e1-8e55-c7c280f2b41e",
   "metadata": {},
   "source": [
    "as well as the testing code:"
   ]
  },
  {
   "cell_type": "code",
   "execution_count": null,
   "id": "3f0cdf6e-de01-44c2-abab-606c14d50f99",
   "metadata": {},
   "outputs": [],
   "source": [
    "\"\"\"\n",
    "RUN THIS CELL TO TEST YOUR SOLUTION\n",
    "\"\"\"\n",
    "from nose.tools import assert_equal\n",
    "\n",
    "# CREATE CYCLE LIST\n",
    "a = Node(1)\n",
    "b = Node(2)\n",
    "c = Node(3)\n",
    "\n",
    "a.nextnode = b\n",
    "b.nextnode = c\n",
    "c.nextnode = a # Cycle Here!\n",
    "\n",
    "\n",
    "# CREATE NON CYCLE LIST\n",
    "x = Node(1)\n",
    "y = Node(2)\n",
    "z = Node(3)\n",
    "\n",
    "x.nextnode = y\n",
    "y.nextnode = z\n",
    "\n",
    "\n",
    "#############\n",
    "class TestCycleCheck(object):\n",
    "    \n",
    "    def test(self,sol):\n",
    "        assert_equal(sol(a),True)\n",
    "        assert_equal(sol(x),False)\n",
    "        \n",
    "        print(\"ALL TEST CASES PASSED\")\n",
    "        \n",
    "# Run Tests\n",
    "\n",
    "t = TestCycleCheck()\n",
    "t.test(cycle_check)"
   ]
  },
  {
   "cell_type": "markdown",
   "id": "16fae329-6f29-4b0c-a479-59d0acbff551",
   "metadata": {},
   "source": [
    "### 1) My Solution\n",
    "\n",
    "At first glance I don't see how to solve this exercise with a complexity lower than $O(n^2)$. One degree of complexity is that you need to traverse the list for comparison, so in principle, the solution is $\\Theta(n)$.\n",
    "1) The prompt of the exercise says \"whether or not there is *a* cycle\", not whether or not it is a circularly linked list. If it were just about circularly linked lists, I'd memorize the head, and compare every node to the head. This would be of complexity $O(n)$.\n",
    "2) *A* cycle implies that you memorize the nodess seen previously, and compare each current node to all the ones previously visited. This comparison will lead to an $O(n^2)$ solution.\n",
    "3) Another approach, which will lead to issues, is to check if you ever get a None in your nextnode. This gives an infinite loop. Conversely, if you ever get None as a nextnode, you need to return False.\n",
    "4) If I use a list to store my previously seen nodes, I am actually raising to complexity above $O(n^3)$"
   ]
  },
  {
   "cell_type": "code",
   "execution_count": 3,
   "id": "6a9d8574-2235-4d61-91b8-af6228f52c9d",
   "metadata": {},
   "outputs": [],
   "source": [
    "class Node(object):\n",
    "    def __init__(self, val):\n",
    "        self.value = val\n",
    "        self.nextnode = None"
   ]
  },
  {
   "cell_type": "code",
   "execution_count": 4,
   "id": "268f8265-d286-4290-942b-2f6ca7af8a0b",
   "metadata": {},
   "outputs": [],
   "source": [
    "def cycle_check(head_node):\n",
    "    # Edge case: Only one node\n",
    "    temp_node = head_node\n",
    "    seen_nodes = [temp_node] # Not efficient. List will keep getting resized. \n",
    "    exists_cycle = False\n",
    "    while not exists_cycle and temp_node.nextnode != None:\n",
    "        if temp_node.nextnode in seen_nodes:\n",
    "            exists_cycle = True\n",
    "        seen_nodes.append(temp_node)\n",
    "        temp_node = temp_node.nextnode\n",
    "    return exists_cycle"
   ]
  },
  {
   "cell_type": "code",
   "execution_count": 5,
   "id": "11f9f303-9991-4f6d-8f0d-c7924e5c93e9",
   "metadata": {},
   "outputs": [
    {
     "name": "stdout",
     "output_type": "stream",
     "text": [
      "ALL TEST CASES PASSED\n"
     ]
    }
   ],
   "source": [
    "from nose.tools import assert_equal\n",
    "\n",
    "# CREATE CYCLE LIST\n",
    "a = Node(1)\n",
    "b = Node(2)\n",
    "c = Node(3)\n",
    "\n",
    "a.nextnode = b\n",
    "b.nextnode = c\n",
    "c.nextnode = a # Cycle Here!\n",
    "\n",
    "\n",
    "# CREATE NON CYCLE LIST\n",
    "x = Node(1)\n",
    "y = Node(2)\n",
    "z = Node(3)\n",
    "\n",
    "x.nextnode = y\n",
    "y.nextnode = z\n",
    "\n",
    "\n",
    "#############\n",
    "class TestCycleCheck(object):\n",
    "    \n",
    "    def test(self,sol):\n",
    "        assert_equal(sol(a),True)\n",
    "        assert_equal(sol(x),False)\n",
    "        \n",
    "        print(\"ALL TEST CASES PASSED\")\n",
    "        \n",
    "# Run Tests\n",
    "\n",
    "t = TestCycleCheck()\n",
    "t.test(cycle_check)"
   ]
  },
  {
   "cell_type": "markdown",
   "id": "0a505909-56eb-4b85-8e99-28cdd80e4d18",
   "metadata": {},
   "source": [
    "### 2) A more optimal solution\n",
    "\n",
    "The solution that Portilla proposes in Lect. 86 is to have two indicators/markers traversing the linked list, with one traversing twice as fast as the other. If they are ever equal, then the linked list must contain a cycle. \n",
    "\n",
    "This can be proved formally, but we just assume that it is true for now."
   ]
  },
  {
   "cell_type": "markdown",
   "id": "441260f1-ea58-4443-8905-88bbe8df1b79",
   "metadata": {},
   "source": [
    "#### 2.a - My implementation of the hint\n",
    "\n",
    "If I take the above as a hint (I verified that that's true for short lists), I have the following $O(n)$ solution of this exercise:"
   ]
  },
  {
   "cell_type": "code",
   "execution_count": 6,
   "id": "bafd0fb2-c747-4bbd-9f2f-c598132cca6d",
   "metadata": {},
   "outputs": [],
   "source": [
    "def cycle_check(head_node):\n",
    "    \n",
    "    fast_mrkr = head_node\n",
    "    slow_mrkr = head_node\n",
    "    exists_cycle = False\n",
    "    \n",
    "    while fast_mrkr != None and not exists_cycle:\n",
    "        if fast_mrkr.nextnode != None:\n",
    "            fast_mrkr = fast_mrkr.nextnode\n",
    "        fast_mrkr = fast_mrkr.nextnode\n",
    "        slow_mrkr = slow_mrkr.nextnode\n",
    "        if fast_mrkr == slow_mrkr:\n",
    "            exists_cycle = True\n",
    "    \n",
    "    return exists_cycle\n"
   ]
  },
  {
   "cell_type": "code",
   "execution_count": 7,
   "id": "71548f22-8bd6-4c3c-b5e3-cb96550fd93f",
   "metadata": {},
   "outputs": [
    {
     "name": "stdout",
     "output_type": "stream",
     "text": [
      "ALL TEST CASES PASSED\n"
     ]
    }
   ],
   "source": [
    "from nose.tools import assert_equal\n",
    "\n",
    "# CREATE CYCLE LIST\n",
    "a = Node(1)\n",
    "b = Node(2)\n",
    "c = Node(3)\n",
    "\n",
    "a.nextnode = b\n",
    "b.nextnode = c\n",
    "c.nextnode = a # Cycle Here!\n",
    "\n",
    "\n",
    "# CREATE NON CYCLE LIST\n",
    "x = Node(1)\n",
    "y = Node(2)\n",
    "z = Node(3)\n",
    "\n",
    "x.nextnode = y\n",
    "y.nextnode = z\n",
    "\n",
    "\n",
    "#############\n",
    "class TestCycleCheck(object):\n",
    "    \n",
    "    def test(self,sol):\n",
    "        assert_equal(sol(a),True)\n",
    "        assert_equal(sol(x),False)\n",
    "        \n",
    "        print(\"ALL TEST CASES PASSED\")\n",
    "        \n",
    "# Run Tests\n",
    "\n",
    "t = TestCycleCheck()\n",
    "t.test(cycle_check)"
   ]
  },
  {
   "cell_type": "markdown",
   "id": "efef5bb4-2273-4380-b824-17e50025c8f7",
   "metadata": {},
   "source": [
    "#### 2.b - Portilla's solution\n",
    "\n",
    "Portilla implements his solution a little differently, but in essence it's the same.\n",
    "See: https://github.com/jmportilla/Python-for-Algorithms--Data-Structures--and-Interviews/blob/master/04-Linked%20Lists/Linked%20Lists%20Interview%20Problems/01-Singly-Linked-List-Cycle-Check/01-Singly%20Linked%20List%20Cycle%20Check%20-%20SOLUTION.ipynb.\n",
    "\n",
    "One last comment: His definition of *a* cycle is vague. I interpret it as homotopic to a point or a circle by instict, but I believe this is supposed to be a linear data structure, not one that could start being circular after a certain node.\n",
    "\n",
    "#### 2.c - Main takeaway\n",
    "\n",
    "For me the main takeaway from this exercise is the trick of traversing the linked list with two markers, which allows us to go from $O(n^3)$ time complexity to $O(n)$. You need not store your previously visited nodes, you just need to compare them. When one marker moves twice as fast as the other in a circular linked list, both indices will eventually point to the head at the step of the while loop. From a more mathematical standpoint, you can see this if you think of the markers as taking values in $\\mathbb{Z}_m$, with $m$ the length of the linked list. The step of the while loop at which both markers will revisit the head is a non-trivial solution of $i=1$ in this ring (depending on whether $m$ is even or odd. Think of it as coming after the gcd).\n",
    "\n",
    "The algorithmic takeaway is that you do not need to search at every step of the while loop, and you do not need to resize an array if you traverse the linked list several times."
   ]
  },
  {
   "cell_type": "markdown",
   "id": "bf9f4c63-4359-4eb2-a9a6-8364efce0733",
   "metadata": {},
   "source": [
    "## Exercise 2: Reversion of a linked list\n",
    "\n",
    "Link: https://github.com/jmportilla/Python-for-Algorithms--Data-Structures--and-Interviews/blob/master/04-Linked%20Lists/Linked%20Lists%20Interview%20Problems/02-Linked-List-Reversal/02-Linked%20List%20Reversal%20.ipynb\n",
    "\n",
    "Write a function to reverse a Linked List in place. The function will take in the head of the list as input and return the new head of the list.\n",
    "\n",
    "Use the Node class of the previous exercise, and to test your solution, use a short list a,b,c,d with values 1,2,3,4 for instance and print the result. "
   ]
  },
  {
   "cell_type": "code",
   "execution_count": null,
   "id": "a25ddfa2-4c86-4ca7-83eb-cc6c918efa57",
   "metadata": {},
   "outputs": [],
   "source": [
    "def reverse(head):\n",
    "    \n",
    "    pass"
   ]
  },
  {
   "cell_type": "markdown",
   "id": "2a8981a9-caba-49bc-9f38-eb30359289b5",
   "metadata": {},
   "source": [
    "### 1) My solution\n",
    "\n",
    "They didn't specify if the linked list is circular. I'll assume that my implementation should also work for circular linked lists (as defined in [GTG13]). I think this is an $O(n)$ problem, and here's my initial solution:"
   ]
  },
  {
   "cell_type": "code",
   "execution_count": 10,
   "id": "57601c4a-1e6d-496a-8002-7a7d5030cdc1",
   "metadata": {},
   "outputs": [],
   "source": [
    "def reverse(head):\n",
    "    \n",
    "    # Init prev and curr nodes\n",
    "    prev_node = None\n",
    "    cur_node = head\n",
    "    \n",
    "    # Traverse list and reverse pointers\n",
    "    while cur_node.nextnode != None and cur_node.nextnode != head:\n",
    "        \n",
    "        # Store next node\n",
    "        next_node = cur_node.nextnode\n",
    "        \n",
    "        # Reverse pointer\n",
    "        cur_node.nextnode = prev_node\n",
    "        \n",
    "        # Update for next node\n",
    "        prev_node = cur_node\n",
    "        cur_node = next_node\n",
    "    \n",
    "    # Case of a non-circular list\n",
    "    ## The new head is the current node\n",
    "    if cur_node.nextnode == None:\n",
    "        cur_node.nextnode = prev_node\n",
    "        return cur_node\n",
    "    \n",
    "    # Case of a circular linked list\n",
    "    ## The head doesn't change, only\n",
    "    elif cur_node.nextnode == head:\n",
    "        cur_node.nextnode = prev_node\n",
    "        head.nextnode = cur_node        \n",
    "        return head\n",
    "        "
   ]
  },
  {
   "cell_type": "markdown",
   "id": "5d35956a-d715-4920-b06c-4ac3b48b39c4",
   "metadata": {},
   "source": [
    "Now let's test this:"
   ]
  },
  {
   "cell_type": "code",
   "execution_count": 1,
   "id": "ee119bdf-968b-49b5-8dd9-3fcb73837005",
   "metadata": {},
   "outputs": [],
   "source": [
    "class Node(object):\n",
    "    def __init__(self, val):\n",
    "        self.value = val\n",
    "        self.nextnode = None"
   ]
  },
  {
   "cell_type": "code",
   "execution_count": 13,
   "id": "7c89124d-46a7-4d51-a1b0-57d357236244",
   "metadata": {},
   "outputs": [
    {
     "name": "stdout",
     "output_type": "stream",
     "text": [
      "ORIGINAL ORDER OF NON-CIRCULAR LINKED LIST:\n",
      "Node: i=1; Value: node.value = 1\n",
      "Node: i=2; Value: node.value = 2\n",
      "Node: i=3; Value: node.value = 3\n",
      "Node: i=4; Value: node.value = 4\n",
      "Node: i=5; Value: node.value = 5\n"
     ]
    }
   ],
   "source": [
    "# Nodes\n",
    "a = Node(1)\n",
    "b = Node(2)\n",
    "c = Node(3)\n",
    "d = Node(4)\n",
    "e = Node(5)\n",
    "\n",
    "# Non circular linked list\n",
    "a.nextnode = b\n",
    "b.nextnode = c\n",
    "c.nextnode = d\n",
    "d.nextnode = e\n",
    "\n",
    "print(\"ORIGINAL ORDER OF NON-CIRCULAR LINKED LIST:\")\n",
    "node = a\n",
    "i = 0\n",
    "while node:\n",
    "    i+=1\n",
    "    print(f\"Node: i={i}; Value: node.value = {node.value}\")\n",
    "    node = node.nextnode"
   ]
  },
  {
   "cell_type": "code",
   "execution_count": 14,
   "id": "12f1e849-7330-420c-8dd2-d166e186d404",
   "metadata": {},
   "outputs": [
    {
     "name": "stdout",
     "output_type": "stream",
     "text": [
      "REVERSE NON-CIRCULAR LINK LIST FROM PREVIOUS CELL\n",
      "Node: i=1; Value: node.value = 5\n",
      "Node: i=2; Value: node.value = 4\n",
      "Node: i=3; Value: node.value = 3\n",
      "Node: i=4; Value: node.value = 2\n",
      "Node: i=5; Value: node.value = 1\n"
     ]
    }
   ],
   "source": [
    "node = reverse(a)\n",
    "i = 0\n",
    "print(\"REVERSE NON-CIRCULAR LINK LIST FROM PREVIOUS CELL\")\n",
    "while node:\n",
    "    i+=1\n",
    "    print(f\"Node: i={i}; Value: node.value = {node.value}\")\n",
    "    node = node.nextnode"
   ]
  },
  {
   "cell_type": "code",
   "execution_count": 18,
   "id": "a46cfddf-ffd6-421b-92ce-b0b3964d64bf",
   "metadata": {},
   "outputs": [
    {
     "name": "stdout",
     "output_type": "stream",
     "text": [
      "ORIGINAL ORDER OF CIRCULAR LINKED LIST:\n",
      "Node: i=1; Value: node.value = 11\n",
      "Node: i=2; Value: node.value = 12\n",
      "Node: i=3; Value: node.value = 13\n",
      "Node: i=4; Value: node.value = 14\n",
      "Node: i=5; Value: node.value = 15\n"
     ]
    }
   ],
   "source": [
    "# Nodes\n",
    "a = Node(11)\n",
    "b = Node(12)\n",
    "c = Node(13)\n",
    "d = Node(14)\n",
    "e = Node(15)\n",
    "\n",
    "# Non circular linked list\n",
    "a.nextnode = b\n",
    "b.nextnode = c\n",
    "c.nextnode = d\n",
    "d.nextnode = e\n",
    "e.nextnode = a\n",
    "\n",
    "print(\"ORIGINAL ORDER OF CIRCULAR LINKED LIST:\")\n",
    "node = a\n",
    "i = 1\n",
    "# First node\n",
    "print(f\"Node: i={i}; Value: node.value = {node.value}\")\n",
    "node = node.nextnode\n",
    "while node != a:\n",
    "    i+=1\n",
    "    print(f\"Node: i={i}; Value: node.value = {node.value}\")\n",
    "    node = node.nextnode"
   ]
  },
  {
   "cell_type": "code",
   "execution_count": 19,
   "id": "97a84e24-3af0-494d-b528-e596f783f58c",
   "metadata": {},
   "outputs": [
    {
     "name": "stdout",
     "output_type": "stream",
     "text": [
      "REVERSE CIRCULAR LINK LIST FROM PREVIOUS CELL\n",
      "Node: i=0; Value: node.value = 11\n",
      "Node: i=1; Value: node.value = 15\n",
      "Node: i=2; Value: node.value = 14\n",
      "Node: i=3; Value: node.value = 13\n",
      "Node: i=4; Value: node.value = 12\n"
     ]
    }
   ],
   "source": [
    "node = reverse(a)\n",
    "i = 0\n",
    "print(\"REVERSE CIRCULAR LINK LIST FROM PREVIOUS CELL\")\n",
    "# First node\n",
    "print(f\"Node: i={i}; Value: node.value = {node.value}\")\n",
    "node = node.nextnode\n",
    "while node != a:\n",
    "    i+=1\n",
    "    print(f\"Node: i={i}; Value: node.value = {node.value}\")\n",
    "    node = node.nextnode"
   ]
  },
  {
   "cell_type": "markdown",
   "id": "c8efab4c-4a54-407d-98ed-8678a4303893",
   "metadata": {},
   "source": [
    "**Comment:**\n",
    "\n",
    "This solution is correct, and even more general than Portilla's, who's not considering circularly linked lists.\n",
    "\n",
    "https://github.com/jmportilla/Python-for-Algorithms--Data-Structures--and-Interviews/blob/master/04-Linked%20Lists/Linked%20Lists%20Interview%20Problems/02-Linked-List-Reversal/02-Linked%20List%20Reversal%20-%20SOLUTION.ipynb"
   ]
  },
  {
   "cell_type": "markdown",
   "id": "20ee691b-8821-408d-af04-2db99dfc0021",
   "metadata": {},
   "source": [
    "## Exercise 3: Get the N-th to last node\n",
    "\n",
    "Link: https://github.com/jmportilla/Python-for-Algorithms--Data-Structures--and-Interviews/blob/master/04-Linked%20Lists/Linked%20Lists%20Interview%20Problems/03-Linked-List-Nth-to-Last-Node/03-Linked%20List%20Nth%20to%20Last%20Node%20.ipynb\n",
    "\n",
    "Write a function that takes a head node and an integer value n and then returns the nth to last node in the linked list. For example, given:"
   ]
  },
  {
   "cell_type": "code",
   "execution_count": null,
   "id": "3daee65f-1853-40e2-ab10-d6998d8edb06",
   "metadata": {},
   "outputs": [],
   "source": [
    "class Node:\n",
    "\n",
    "    def __init__(self, value):\n",
    "        self.value = value\n",
    "        self.nextnode  = None"
   ]
  },
  {
   "cell_type": "markdown",
   "id": "7c06007d-8a47-489b-a1df-a18aac025c06",
   "metadata": {},
   "source": [
    "we would like to have the following output:"
   ]
  },
  {
   "cell_type": "code",
   "execution_count": null,
   "id": "4d0bc8a2-3d75-40f4-bfb2-acd6aa86beb6",
   "metadata": {},
   "outputs": [],
   "source": [
    "a = Node(1)\n",
    "b = Node(2)\n",
    "c = Node(3)\n",
    "d = Node(4)\n",
    "e = Node(5)\n",
    "\n",
    "a.nextnode = b\n",
    "b.nextnode = c\n",
    "c.nextnode = d\n",
    "d.nextnode = e\n",
    "\n",
    "# This would return the node d with a value of 4, because its the 2nd to last node.\n",
    "target_node = nth_to_last_node(2, a)\n",
    "target_node.value\n",
    "### output = 4"
   ]
  },
  {
   "cell_type": "code",
   "execution_count": null,
   "id": "07bea526-3b63-46af-bece-f47cba8f7f11",
   "metadata": {},
   "outputs": [],
   "source": [
    "\"\"\"\n",
    "RUN THIS CELL TO TEST YOUR SOLUTION AGAINST A TEST CASE \n",
    "\n",
    "PLEASE NOTE THIS IS JUST ONE CASE\n",
    "\"\"\"\n",
    "\n",
    "from nose.tools import assert_equal\n",
    "\n",
    "a = Node(1)\n",
    "b = Node(2)\n",
    "c = Node(3)\n",
    "d = Node(4)\n",
    "e = Node(5)\n",
    "\n",
    "a.nextnode = b\n",
    "b.nextnode = c\n",
    "c.nextnode = d\n",
    "d.nextnode = e\n",
    "\n",
    "####\n",
    "\n",
    "class TestNLast(object):\n",
    "    \n",
    "    def test(self,sol):\n",
    "        \n",
    "        assert_equal(sol(2,a),d)\n",
    "        print('ALL TEST CASES PASSED')\n",
    "        \n",
    "# Run tests\n",
    "t = TestNLast()\n",
    "t.test(nth_to_last_node)"
   ]
  },
  {
   "cell_type": "markdown",
   "id": "51c3646b-7835-4117-81c2-b3d40782d502",
   "metadata": {},
   "source": [
    "### 1) My solution\n",
    "\n",
    "I see an $O(n)$ solution to this problem. Since we don't know the length of a linked list beforehand, we must traverse it at least once.\n",
    "\n",
    "Another point is that I will interpret \"last node\" to mean the one pointing at the head for a circularly linked list.\n",
    "\n",
    "You will have to return an error if the input integer is larger than the length."
   ]
  },
  {
   "cell_type": "code",
   "execution_count": 1,
   "id": "4f739256-d424-4449-9491-9837cce49b3b",
   "metadata": {},
   "outputs": [],
   "source": [
    "class Node:\n",
    "\n",
    "    def __init__(self, value):\n",
    "        self.value = value\n",
    "        self.nextnode  = None"
   ]
  },
  {
   "cell_type": "code",
   "execution_count": 11,
   "id": "94a5c878-874f-4154-9ff7-48b61eba9627",
   "metadata": {},
   "outputs": [],
   "source": [
    "def nth_to_last_node(n, head):\n",
    "    \n",
    "    tmp_node = head\n",
    "    \n",
    "    # Init.l list length\n",
    "    N = 1\n",
    "    \n",
    "    # Get the linked list length\n",
    "    while tmp_node.nextnode != None and tmp_node.nextnode != head:\n",
    "        N += 1\n",
    "        tmp_node = tmp_node.nextnode\n",
    "        \n",
    "    # Check that n <= N\n",
    "    if n>N:\n",
    "        raise ValueError(f\"Input n = {n} is greater than the linked list length N = {N}.\")\n",
    "    \n",
    "    tmp_node = head\n",
    "    for i in range(N-n):\n",
    "        tmp_node = tmp_node.nextnode\n",
    "    \n",
    "    return tmp_node, N"
   ]
  },
  {
   "cell_type": "code",
   "execution_count": 12,
   "id": "2070f0c3-3c79-4877-b67d-5537d958b3d0",
   "metadata": {},
   "outputs": [
    {
     "data": {
      "text/plain": [
       "4"
      ]
     },
     "execution_count": 12,
     "metadata": {},
     "output_type": "execute_result"
    }
   ],
   "source": [
    "a = Node(1)\n",
    "b = Node(2)\n",
    "c = Node(3)\n",
    "d = Node(4)\n",
    "e = Node(5)\n",
    "\n",
    "a.nextnode = b\n",
    "b.nextnode = c\n",
    "c.nextnode = d\n",
    "d.nextnode = e\n",
    "\n",
    "# This would return the node d with a value of 4, because its the 2nd to last node.\n",
    "target_node, N = nth_to_last_node(2, a)\n",
    "target_node.value\n",
    "### output = 3"
   ]
  },
  {
   "cell_type": "code",
   "execution_count": 10,
   "id": "f38af7f9-9941-44c5-8931-05563c45280d",
   "metadata": {},
   "outputs": [
    {
     "data": {
      "text/plain": [
       "5"
      ]
     },
     "execution_count": 10,
     "metadata": {},
     "output_type": "execute_result"
    }
   ],
   "source": [
    "N"
   ]
  },
  {
   "cell_type": "code",
   "execution_count": 14,
   "id": "9d17f6e6-c743-4294-91a5-60a38429a322",
   "metadata": {},
   "outputs": [
    {
     "data": {
      "text/plain": [
       "1"
      ]
     },
     "execution_count": 14,
     "metadata": {},
     "output_type": "execute_result"
    }
   ],
   "source": [
    "target_node, N = nth_to_last_node(5, a)\n",
    "target_node.value"
   ]
  },
  {
   "cell_type": "code",
   "execution_count": 17,
   "id": "94d0591c-61f1-492c-8dbf-d41e9897bf87",
   "metadata": {},
   "outputs": [
    {
     "name": "stdout",
     "output_type": "stream",
     "text": [
      "ALL TEST CASES PASSED\n"
     ]
    }
   ],
   "source": [
    "\"\"\"\n",
    "TEST CELL\n",
    "\"\"\"\n",
    "\n",
    "from nose.tools import assert_equal\n",
    "\n",
    "a = Node(1)\n",
    "b = Node(2)\n",
    "c = Node(3)\n",
    "d = Node(4)\n",
    "e = Node(5)\n",
    "\n",
    "a.nextnode = b\n",
    "b.nextnode = c\n",
    "c.nextnode = d\n",
    "d.nextnode = e\n",
    "\n",
    "####\n",
    "\n",
    "x = Node(1)\n",
    "y = Node(2)\n",
    "z = Node(3)\n",
    "t = Node(4)\n",
    "w = Node(5)\n",
    "\n",
    "x.nextnode = y\n",
    "y.nextnode = z\n",
    "z.nextnode = t\n",
    "t.nextnode = w\n",
    "w.nextnode = x\n",
    "\n",
    "class TestNLast(object):\n",
    "    \n",
    "    def test(self,sol):\n",
    "        \n",
    "        assert_equal(sol(2,a)[0],d)\n",
    "        assert_equal(sol(4,a)[0],b)\n",
    "        assert_equal(sol(3,a)[0],c)\n",
    "        \n",
    "        assert_equal(sol(2,x)[0],t)\n",
    "        assert_equal(sol(4,x)[0],y)\n",
    "        assert_equal(sol(3,x)[0],z)\n",
    "        assert_equal(sol(5,x)[0],x)\n",
    "        \n",
    "        print('ALL TEST CASES PASSED')\n",
    "        \n",
    "# Run tests\n",
    "tester = TestNLast()\n",
    "tester.test(nth_to_last_node)"
   ]
  },
  {
   "cell_type": "markdown",
   "id": "1ae858b1-68de-4e7d-b8b5-d2b55c33a89c",
   "metadata": {},
   "source": [
    "### 2) Portilla's solution\n",
    "\n",
    "The solution presented in the course is below. Again, circular lists are not considered."
   ]
  },
  {
   "cell_type": "code",
   "execution_count": null,
   "id": "909972a5-0c1d-4f2a-852e-518fd60007f6",
   "metadata": {},
   "outputs": [],
   "source": [
    "def nth_to_last_node(n, head):\n",
    "\n",
    "    left_pointer  = head\n",
    "    right_pointer = head\n",
    "\n",
    "    # Set right pointer at n nodes away from head\n",
    "    for i in range(n-1):\n",
    "        \n",
    "        # Check for edge case of not having enough nodes!\n",
    "        if not right_pointer.nextnode:\n",
    "            raise LookupError('Error: n is larger than the linked list.')\n",
    "\n",
    "        # Otherwise, we can set the block\n",
    "        right_pointer = right_pointer.nextnode\n",
    "\n",
    "    # Move the block down the linked list\n",
    "    while right_pointer.nextnode:\n",
    "        left_pointer  = left_pointer.nextnode\n",
    "        right_pointer = right_pointer.nextnode\n",
    "\n",
    "    # Now return left pointer, its at the nth to last element!\n",
    "    return left_pointer"
   ]
  },
  {
   "cell_type": "markdown",
   "id": "3cb0ce47-f9aa-44f3-b6a3-d48e22a507b6",
   "metadata": {},
   "source": [
    "- Just like my approach, there are two loops that traverse the linked list.\n",
    "- My opinion on this solution is that it is unnecessarily hard to read at first glance. \n",
    "- Using two pointers is not a bad idea, but in essence, you need to determine the length of the linked list one way or another. Thinking this way is just weird to me."
   ]
  },
  {
   "cell_type": "markdown",
   "id": "9555734b-d030-4492-855f-d2c5878e443a",
   "metadata": {},
   "source": [
    "## Exercise 4: Implementing a doubly linked list.\n",
    "\n",
    "Link: https://github.com/jmportilla/Python-for-Algorithms--Data-Structures--and-Interviews/blob/master/04-Linked%20Lists/Linked%20Lists%20Interview%20Problems/04-Implement-a-Doubly-Linked-List/04-Implement%20a%20Doubly%20Linked%20List.ipynb\n",
    "\n",
    "For this interview problem, implement a node class and show how it can be used to create a doubly linked list."
   ]
  },
  {
   "cell_type": "markdown",
   "id": "6ecb6a86-3e47-47f8-ba48-c7f284227cd5",
   "metadata": {},
   "source": [
    "### 1) My solution\n",
    "\n",
    "The only difference with a singly linked list is that you add a *prevnode* attribute."
   ]
  },
  {
   "cell_type": "code",
   "execution_count": 20,
   "id": "c30fbc48-aca9-44e0-887a-41d02a0e2ad4",
   "metadata": {},
   "outputs": [],
   "source": [
    "class Node(object):\n",
    "    \n",
    "    def __init__(self, val):\n",
    "        self.val = val\n",
    "        self.nextnode = None\n",
    "        self.prevnode = None\n",
    "        \n"
   ]
  },
  {
   "cell_type": "markdown",
   "id": "9ab8fc9c-fd43-413d-a2c3-3c4320bbcd4d",
   "metadata": {},
   "source": [
    "You then create a doubly linked list as follows, assuming it is not circular:"
   ]
  },
  {
   "cell_type": "code",
   "execution_count": 27,
   "id": "c9ea022c-d1f1-4da8-a41e-248f269953ec",
   "metadata": {},
   "outputs": [
    {
     "name": "stdout",
     "output_type": "stream",
     "text": [
      "Current node val: tmp_node.val = 1\n",
      "Next node val: next_node.val = 2\n",
      "-----------------------------------------------------\n",
      "Current node val: tmp_node.val = 2\n",
      "Prev node val: prev_node.val = 1\n",
      "Next node val: next_node.val = 3\n",
      "-----------------------------------------------------\n",
      "Current node val: tmp_node.val = 3\n",
      "Prev node val: prev_node.val = 2\n",
      "Next node val: next_node.val = 4\n",
      "-----------------------------------------------------\n",
      "Current node val: tmp_node.val = 4\n",
      "Prev node val: prev_node.val = 3\n",
      "Next node val: next_node.val = 5\n",
      "-----------------------------------------------------\n",
      "Current node val: tmp_node.val = 5\n",
      "Prev node val: prev_node.val = 4\n",
      "-----------------------------------------------------\n"
     ]
    }
   ],
   "source": [
    "a = Node(1)\n",
    "b = Node(2)\n",
    "c = Node(3)\n",
    "d = Node(4)\n",
    "e = Node(5)\n",
    "\n",
    "a.nextnode = b\n",
    "\n",
    "b.prevnode = a\n",
    "b.nextnode = c\n",
    "\n",
    "c.prevnode = b\n",
    "c.nextnode = d\n",
    "\n",
    "d.nextnode = e\n",
    "d.prevnode = c\n",
    "\n",
    "e.prevnode = d\n",
    "\n",
    "tmp_node = a\n",
    "while tmp_node.nextnode:\n",
    "    prev_node = tmp_node.prevnode\n",
    "    next_node = tmp_node.nextnode\n",
    "    \n",
    "    print(f\"Current node val: tmp_node.val = {tmp_node.val}\")\n",
    "    if prev_node:\n",
    "        print(f\"Prev node val: prev_node.val = {prev_node.val}\")\n",
    "    if next_node:\n",
    "        print(f\"Next node val: next_node.val = {next_node.val}\")\n",
    "    print(\"-----------------------------------------------------\")\n",
    "    tmp_node = next_node\n",
    "\n",
    "prev_node = tmp_node.prevnode\n",
    "print(f\"Current node val: tmp_node.val = {tmp_node.val}\")\n",
    "print(f\"Prev node val: prev_node.val = {prev_node.val}\")\n",
    "print(\"-----------------------------------------------------\")"
   ]
  },
  {
   "cell_type": "markdown",
   "id": "edd26803-1e28-4274-9862-06fdaa1a1e41",
   "metadata": {},
   "source": [
    "To turn the above into a doubly linked circular list, you add the following:"
   ]
  },
  {
   "cell_type": "code",
   "execution_count": null,
   "id": "1dbe735c-4ed6-4a78-81b0-f59759bca471",
   "metadata": {},
   "outputs": [],
   "source": [
    "a.prevnode = e\n",
    "e.nextnode = a"
   ]
  },
  {
   "cell_type": "markdown",
   "id": "515eef52-81e1-487b-9d93-9cdd42527a9c",
   "metadata": {},
   "source": [
    "**Comment:**\n",
    "The last exercise in this section of Portilla's course is to implement a *Node* class to make singly linked lists. I'm skipping that one."
   ]
  },
  {
   "cell_type": "code",
   "execution_count": null,
   "id": "368ea4cb-7294-48f7-a4d1-ccdfe8f1549e",
   "metadata": {},
   "outputs": [],
   "source": []
  }
 ],
 "metadata": {
  "kernelspec": {
   "display_name": "Python 3 (ipykernel)",
   "language": "python",
   "name": "python3"
  },
  "language_info": {
   "codemirror_mode": {
    "name": "ipython",
    "version": 3
   },
   "file_extension": ".py",
   "mimetype": "text/x-python",
   "name": "python",
   "nbconvert_exporter": "python",
   "pygments_lexer": "ipython3",
   "version": "3.9.16"
  }
 },
 "nbformat": 4,
 "nbformat_minor": 5
}
