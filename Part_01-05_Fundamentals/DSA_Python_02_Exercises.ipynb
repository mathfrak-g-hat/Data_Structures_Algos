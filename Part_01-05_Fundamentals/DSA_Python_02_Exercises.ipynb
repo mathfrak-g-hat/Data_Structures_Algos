{
 "cells": [
  {
   "cell_type": "markdown",
   "id": "79f6d43b-acd5-46e8-92c3-e9210e5f69db",
   "metadata": {},
   "source": [
    "# Data Structures and Algorithms in Python - Ch.4: Recursion - Exercises\n",
    "### AJ Zerouali, 2023/09/14"
   ]
  },
  {
   "cell_type": "markdown",
   "id": "36f0e53a-9a6a-47cf-a48c-9c137f1975eb",
   "metadata": {},
   "source": [
    "## 0) Introduction\n",
    "\n",
    "These are some exercises for stack, queues and deques. \n",
    "\n",
    "**References:**\n",
    "\n",
    "- Chapter 4 of \"Data structures and algorithms in Python\", by Goodrich, Tamassia and Goldwasser (primary, abbreviated [GTG13]). \n",
    "- Section 15 of \"Python for Data Structures, Algorithms, and Interviews!\" by Jose Portilla.\n"
   ]
  },
  {
   "cell_type": "markdown",
   "id": "246247f1-fdee-46b3-82d5-2675a1d73603",
   "metadata": {},
   "source": [
    "## Homework Problems:\n",
    "\n",
    "For this section, Portilla started with \"homework problems\" to acquaint the audience with recusion examples. Here is the original notebook:\n",
    "\n",
    "https://github.com/jmportilla/Python-for-Algorithms--Data-Structures--and-Interviews/blob/master/05-Recursion/02-Recursion%20Homework%20Example%20Problems.ipynb\n",
    "\n",
    "The solutions are here:\n",
    "\n",
    "https://github.com/jmportilla/Python-for-Algorithms--Data-Structures--and-Interviews/blob/master/05-Recursion/02-Recursion%20Homework%20Example%20Problems.ipynb"
   ]
  },
  {
   "cell_type": "markdown",
   "id": "c5d864dc-4989-4b0b-b90c-361d0d9307cb",
   "metadata": {},
   "source": [
    "### Problem 1:\n",
    "\n",
    "Write a recursive function which takes an integer and computes the cumulative sum of 0 to that integer\n",
    "\n",
    "For example, if n=4 , return 4+3+2+1+0, which is 10.\n",
    "\n",
    "**Solution:** If you understand the recursive factorial implementation this is trivial."
   ]
  },
  {
   "cell_type": "code",
   "execution_count": 1,
   "id": "9955aa46-bca6-4d70-a832-423d79eda50f",
   "metadata": {},
   "outputs": [],
   "source": [
    "def sum_to_n(n):\n",
    "    if n<0 or type(n)!=int:\n",
    "        raise ValueError(\"Input n must be non-negative integer\")\n",
    "        \n",
    "    if n==0:\n",
    "        return n\n",
    "    else:\n",
    "        return n+ sum_to_n(n-1)"
   ]
  },
  {
   "cell_type": "code",
   "execution_count": 2,
   "id": "b9b01272-8337-465f-aec2-62bd630edfa1",
   "metadata": {},
   "outputs": [
    {
     "data": {
      "text/plain": [
       "5050"
      ]
     },
     "execution_count": 2,
     "metadata": {},
     "output_type": "execute_result"
    }
   ],
   "source": [
    "sum_to_n(100)"
   ]
  },
  {
   "cell_type": "code",
   "execution_count": 3,
   "id": "8a342251-b979-4fa3-9e24-190ca38ee632",
   "metadata": {},
   "outputs": [
    {
     "data": {
      "text/plain": [
       "55"
      ]
     },
     "execution_count": 3,
     "metadata": {},
     "output_type": "execute_result"
    }
   ],
   "source": [
    "sum_to_n(10)"
   ]
  },
  {
   "cell_type": "markdown",
   "id": "bb1e7296-4d2f-4cd1-8f06-2819e34d816f",
   "metadata": {},
   "source": [
    "### Problem 2:\n",
    "\n",
    "Given an integer, create a function which returns the sum of all the individual digits in that integer. For example: if n = 4321, return 4+3+2+1.\n",
    "\n",
    "Hint: What can you do with $n$ mod 10?\n",
    "\n",
    "**Solution:** Admittedly, this is less obvious. First, a naive implementation that doesn't use recursion is al follows:"
   ]
  },
  {
   "cell_type": "code",
   "execution_count": 6,
   "id": "aa5a4418-631e-43cb-91d7-82d50b198c63",
   "metadata": {},
   "outputs": [],
   "source": [
    "def sum_func(N):\n",
    "    '''\n",
    "        Return sum of digits in a non-negative integer\n",
    "    '''\n",
    "    if N<0 or type(N)!=int:\n",
    "        raise ValueError(\"Input n must be non-negative integer\")\n",
    "        \n",
    "    dgt_sum = 0\n",
    "    n = N\n",
    "    \n",
    "    while n>0:\n",
    "        rem = n % 10\n",
    "        dgt_sum += rem\n",
    "        n = int((n-rem)/10)\n",
    "    \n",
    "    return dgt_sum"
   ]
  },
  {
   "cell_type": "code",
   "execution_count": 7,
   "id": "caddcc06-13ac-40f0-b065-cecdb16cdea1",
   "metadata": {},
   "outputs": [
    {
     "data": {
      "text/plain": [
       "10"
      ]
     },
     "execution_count": 7,
     "metadata": {},
     "output_type": "execute_result"
    }
   ],
   "source": [
    "sum_func(4312)"
   ]
  },
  {
   "cell_type": "markdown",
   "id": "f2afdc40-730a-4f59-b4fb-abde3d409488",
   "metadata": {},
   "source": [
    "Now the crux of this implementation is the assignment:\n",
    "\n",
    "        int((n-rem)/10)\n",
    "\n",
    "We can use this to make the following recursive implementation:"
   ]
  },
  {
   "cell_type": "code",
   "execution_count": 8,
   "id": "9940f972-4b02-4915-b124-0bd97335321d",
   "metadata": {},
   "outputs": [],
   "source": [
    "def rec_sum_func(n):\n",
    "    '''\n",
    "        Return sum of digits in a non-negative integer\n",
    "    '''\n",
    "    if n<0 or type(n)!=int:\n",
    "        raise ValueError(\"Input n must be a non-negative integer\")\n",
    "    if n<10:\n",
    "        return n\n",
    "    else:\n",
    "        rem = (n%10)\n",
    "        return rem+rec_sum_func(int((n-rem)/10))"
   ]
  },
  {
   "cell_type": "code",
   "execution_count": 9,
   "id": "d676a039-edc7-42eb-92ad-e1055e5f564c",
   "metadata": {},
   "outputs": [
    {
     "data": {
      "text/plain": [
       "18"
      ]
     },
     "execution_count": 9,
     "metadata": {},
     "output_type": "execute_result"
    }
   ],
   "source": [
    "rec_sum_func(23715)"
   ]
  },
  {
   "cell_type": "markdown",
   "id": "b992536c-0513-4d28-b893-a4a2fcac38be",
   "metadata": {},
   "source": [
    "### Problem 3:\n",
    "\n",
    "Create a function called *word_split()* which takes in a string phrase and a set list_of_words. The function will then determine if it is possible to split the string in a way in which words can be made from the list of words. You can assume the phrase will only contain words found in the dictionary if it is completely splittable.\n",
    "\n",
    "Portilla notes that this example is more advanced than the two previous ones.\n"
   ]
  },
  {
   "cell_type": "markdown",
   "id": "6074f49b-a012-4054-973f-57b0ccc76337",
   "metadata": {},
   "source": [
    "#### 3.a - My Solution\n",
    "\n",
    "Here are my first thoughts:\n",
    "- At each step, remove the last element from the word list after checking whether or not it is contained as a substring of the current string.\n",
    "- If the current word is contained in the string, replace the current word in the string by the empty string.\n",
    "- The base case is when the current string is empty.\n",
    "- Since the function should return a Boolean, in the general case we should have\n",
    "\n",
    "            return True and word_split(string, word_list)\n",
    "            \n",
    "A word of caution though: Consider the case where:\n",
    "\n",
    "        word_list = [\"mathematician\", \"physicist\", \"computer\", \"scientist\", \"engineer\", \"am\", \"i\", \"a\"]\n",
    "        string = \"amiamathematician\"\n",
    "If we apply:\n",
    "        \n",
    "        string = string.replace(\"a\", \"\")\n",
    "Then the function will not recognize the other words. To avoid this, it might be useful to sort the word list by length of the words, and start with the longest word. To take care of such cases, I will write a function that sorts the word list first by length and then alphabetically for each repeated word length."
   ]
  },
  {
   "cell_type": "code",
   "execution_count": 18,
   "id": "9cffe827-b25c-4c48-8825-1c97a3248938",
   "metadata": {},
   "outputs": [],
   "source": [
    "def sort_word_list(word_list):\n",
    "    #len_list = [len(x) for x in word_list]\n",
    "    len_dict = {}\n",
    "    for w in word_list:\n",
    "        try:\n",
    "            len_dict[len(w)].append(w)\n",
    "        except:\n",
    "            len_dict[len(w)] = [w]\n",
    "    \n",
    "    len_list = list(len_dict.keys())\n",
    "    len_list.sort()\n",
    "    sorted_word_list = []\n",
    "    for l in len_list:\n",
    "        len_dict[l].sort()\n",
    "        sorted_word_list = sorted_word_list + len_dict[l]\n",
    "        \n",
    "    return sorted_word_list\n",
    "    "
   ]
  },
  {
   "cell_type": "code",
   "execution_count": 19,
   "id": "842f43c1-24dc-4fe0-87fb-59312e669f56",
   "metadata": {},
   "outputs": [],
   "source": [
    "def word_split(string, word_list):\n",
    "    '''\n",
    "        Assume here that word_list param is sorted\n",
    "        by length of entry and alphabetically.\n",
    "    '''\n",
    "    if len(string) == 0:\n",
    "        return True\n",
    "    else:\n",
    "        string_ = string\n",
    "        if len(word_list) == 0:\n",
    "            return False\n",
    "        else:\n",
    "            if word_list[-1] in string_:\n",
    "                string_ = string_.replace(word_list[-1], \"\")\n",
    "            return True and word_split(string_, word_list[:-1])        \n",
    "        "
   ]
  },
  {
   "cell_type": "code",
   "execution_count": 20,
   "id": "5918c871-da49-4ef4-b3f4-376b33118fbc",
   "metadata": {},
   "outputs": [],
   "source": [
    "word_list = sort_word_list([\"mathematician\", \"physicist\", \"computer\", \"scientist\", \"engineer\", \"am\", \"i\", \"a\"])"
   ]
  },
  {
   "cell_type": "code",
   "execution_count": 21,
   "id": "082bebdf-2487-4054-968c-21a5dab01583",
   "metadata": {},
   "outputs": [
    {
     "data": {
      "text/plain": [
       "['a',\n",
       " 'i',\n",
       " 'am',\n",
       " 'computer',\n",
       " 'engineer',\n",
       " 'physicist',\n",
       " 'scientist',\n",
       " 'mathematician']"
      ]
     },
     "execution_count": 21,
     "metadata": {},
     "output_type": "execute_result"
    }
   ],
   "source": [
    "word_list"
   ]
  },
  {
   "cell_type": "code",
   "execution_count": 22,
   "id": "3e1fe867-a9a7-4537-bb85-01b289ab02f0",
   "metadata": {},
   "outputs": [
    {
     "data": {
      "text/plain": [
       "True"
      ]
     },
     "execution_count": 22,
     "metadata": {},
     "output_type": "execute_result"
    }
   ],
   "source": [
    "word_split(\"iamamathematician\", word_list)"
   ]
  },
  {
   "cell_type": "code",
   "execution_count": 24,
   "id": "b90e6a04-fccf-42ba-bc0a-e22e201ef8e6",
   "metadata": {},
   "outputs": [
    {
     "data": {
      "text/plain": [
       "True"
      ]
     },
     "execution_count": 24,
     "metadata": {},
     "output_type": "execute_result"
    }
   ],
   "source": [
    "word_split('themanran',sort_word_list(['the','ran','man']))"
   ]
  },
  {
   "cell_type": "code",
   "execution_count": 25,
   "id": "a00fe34d-b5e5-4d5d-92eb-1443ed9253bc",
   "metadata": {},
   "outputs": [
    {
     "data": {
      "text/plain": [
       "True"
      ]
     },
     "execution_count": 25,
     "metadata": {},
     "output_type": "execute_result"
    }
   ],
   "source": [
    "word_split('ilovedogsJohn',sort_word_list(['i','am','a','dogs','lover','love','John']))"
   ]
  },
  {
   "cell_type": "code",
   "execution_count": 26,
   "id": "0a83cdfd-cca9-44c1-98d6-290dbacdde9b",
   "metadata": {},
   "outputs": [
    {
     "data": {
      "text/plain": [
       "False"
      ]
     },
     "execution_count": 26,
     "metadata": {},
     "output_type": "execute_result"
    }
   ],
   "source": [
    "word_split('themanran',sort_word_list(['clown','ran','man']))"
   ]
  },
  {
   "cell_type": "markdown",
   "id": "927c9adb-c88d-448e-9eb9-28cd8ec28116",
   "metadata": {},
   "source": [
    "## Exercise 1: Reversing a string by recursion\n",
    "\n",
    "Link: https://github.com/jmportilla/Python-for-Algorithms--Data-Structures--and-Interviews/blob/master/05-Recursion/Recursion%20Interview%20Problems/01-Reverse-String/01-Reverse%20String%20.ipynb\n",
    "\n",
    "Write a function that uses *recursion* to invert a string.\n",
    "\n",
    "**NOTES:** Do not slice (e.g. string[::-1]) or use iteration, there must be a recursive call for the function. Make sure to think of the base case here.\n"
   ]
  },
  {
   "cell_type": "code",
   "execution_count": null,
   "id": "b8548139-2306-43c3-9c38-2d3881b24ba6",
   "metadata": {},
   "outputs": [],
   "source": [
    "def reverse(s):\n",
    "    \n",
    "    pass"
   ]
  },
  {
   "cell_type": "code",
   "execution_count": null,
   "id": "fcf96152-da59-4c53-9cb4-7b96fdd2f78b",
   "metadata": {},
   "outputs": [],
   "source": [
    "reverse('hello world')\n",
    "\n",
    "'''\n",
    "    # OUTPUT\n",
    "'dlrow olleh'\n",
    "'''"
   ]
  },
  {
   "cell_type": "code",
   "execution_count": null,
   "id": "b0d45865-d78d-45e1-b91c-e32a965b452e",
   "metadata": {},
   "outputs": [],
   "source": []
  },
  {
   "cell_type": "code",
   "execution_count": null,
   "id": "37a5c6ed-9930-480e-8f64-e8f3c88c6a39",
   "metadata": {},
   "outputs": [],
   "source": [
    "\n",
    "'''\n",
    "RUN THIS CELL TO TEST YOUR FUNCTION AGAINST SOME TEST CASES\n",
    "'''\n",
    "\n",
    "from nose.tools import assert_equal\n",
    "\n",
    "class TestReverse(object):\n",
    "    \n",
    "    def test_rev(self,solution):\n",
    "        assert_equal(solution('hello'),'olleh')\n",
    "        assert_equal(solution('hello world'),'dlrow olleh')\n",
    "        assert_equal(solution('123456789'),'987654321')\n",
    "        \n",
    "        print('PASSED ALL TEST CASES!')\n",
    "        \n",
    "# Run Tests\n",
    "test = TestReverse()\n",
    "test.test_rev(reverse)"
   ]
  },
  {
   "cell_type": "markdown",
   "id": "6e98c1b0-1ec5-4176-9db3-3b17859995bc",
   "metadata": {},
   "source": [
    "### 1) My solution\n",
    "\n",
    "Although the prompt says not to slice, I don't see how to do this without concatenating the last character with the output of the function call."
   ]
  },
  {
   "cell_type": "code",
   "execution_count": 1,
   "id": "17a06147-c938-445a-a060-08275a6f87aa",
   "metadata": {},
   "outputs": [],
   "source": [
    "def reverse(string):\n",
    "    \n",
    "    if len(string) == 0:\n",
    "        return string\n",
    "    else:\n",
    "        return string[-1]+reverse(string[:-1])\n"
   ]
  },
  {
   "cell_type": "code",
   "execution_count": 2,
   "id": "c7556fee-9fcf-4759-bd18-c5d7291ec9c1",
   "metadata": {},
   "outputs": [
    {
     "data": {
      "text/plain": [
       "'dlrow olleH'"
      ]
     },
     "execution_count": 2,
     "metadata": {},
     "output_type": "execute_result"
    }
   ],
   "source": [
    "reverse(\"Hello world\")"
   ]
  },
  {
   "cell_type": "code",
   "execution_count": 3,
   "id": "c52c52bd-9c55-4f5e-88d6-c6edcd26e392",
   "metadata": {},
   "outputs": [
    {
     "name": "stdout",
     "output_type": "stream",
     "text": [
      "PASSED ALL TEST CASES!\n"
     ]
    }
   ],
   "source": [
    "from nose.tools import assert_equal\n",
    "\n",
    "class TestReverse(object):\n",
    "    \n",
    "    def test_rev(self,solution):\n",
    "        assert_equal(solution('hello'),'olleh')\n",
    "        assert_equal(solution('hello world'),'dlrow olleh')\n",
    "        assert_equal(solution('123456789'),'987654321')\n",
    "        \n",
    "        print('PASSED ALL TEST CASES!')\n",
    "        \n",
    "# Run Tests\n",
    "test = TestReverse()\n",
    "test.test_rev(reverse)"
   ]
  },
  {
   "cell_type": "markdown",
   "id": "4955316b-68b9-4ccc-89e1-438585e7140a",
   "metadata": {},
   "source": [
    "### 2) Portilla's solution\n",
    "\n",
    "The solution notebook is here: https://github.com/jmportilla/Python-for-Algorithms--Data-Structures--and-Interviews/blob/master/05-Recursion/Recursion%20Interview%20Problems/01-Reverse-String/01-Reverse%20String%20-%20SOLUTION.ipynb\n",
    "\n",
    "The prompt was a little misleading. By definition, slicing means taking a subset of an array in Python, which is exactly what he did in his solution:"
   ]
  },
  {
   "cell_type": "code",
   "execution_count": null,
   "id": "54a0e48f-4823-4daf-acb9-45c3fbff94b5",
   "metadata": {},
   "outputs": [],
   "source": [
    "def reverse(s):\n",
    "    \n",
    "    # Base Case\n",
    "    if len(s) <= 1:\n",
    "        return s\n",
    "\n",
    "    # Recursion\n",
    "    return reverse(s[1:]) + s[0]"
   ]
  },
  {
   "cell_type": "markdown",
   "id": "54103043-3756-4a59-941c-037d0e4555d6",
   "metadata": {},
   "source": [
    "## Exercise 2: Generate all permutations of a string\n",
    "\n",
    "Link: https://github.com/jmportilla/Python-for-Algorithms--Data-Structures--and-Interviews/blob/master/05-Recursion/Recursion%20Interview%20Problems/02-String-Permutation/02-String%20Permutation.ipynb\n",
    "\n",
    "Given a string, write a function that uses recursion to output a list of all the possible permutations of that string.\n",
    "\n",
    "For example, given s='abc' the function should return ['abc', 'acb', 'bac', 'bca', 'cab', 'cba']\n",
    "\n",
    "Note: If a character is repeated, treat each occurence as distinct, for example an input of 'xxx' would return a list with 6 \"versions\" of 'xxx'."
   ]
  },
  {
   "cell_type": "code",
   "execution_count": null,
   "id": "ee23865c-6fc3-482a-9613-a305b6013d8a",
   "metadata": {},
   "outputs": [],
   "source": [
    "def permute(s):\n",
    "    \n",
    "    pass"
   ]
  },
  {
   "cell_type": "code",
   "execution_count": null,
   "id": "7b0b51e0-2b68-4626-ad1f-5ccbb4b714f8",
   "metadata": {},
   "outputs": [],
   "source": [
    "permute('abc')\n",
    "'''\n",
    "    # OUTPUT\n",
    "['abc', 'acb', 'bac', 'bca', 'cab', 'cba']\n",
    "'''"
   ]
  },
  {
   "cell_type": "code",
   "execution_count": null,
   "id": "33135ba9-319b-461c-86fa-9feaef136c5a",
   "metadata": {},
   "outputs": [],
   "source": [
    "\"\"\"\n",
    "RUN THIS CELL TO TEST YOUR SOLUTION.\n",
    "\"\"\"\n",
    "\n",
    "from nose.tools import assert_equal\n",
    "\n",
    "class TestPerm(object):\n",
    "    \n",
    "    def test(self,solution):\n",
    "        \n",
    "        assert_equal(sorted(solution('abc')),sorted(['abc', 'acb', 'bac', 'bca', 'cab', 'cba']))\n",
    "        assert_equal(sorted(solution('dog')),sorted(['dog', 'dgo', 'odg', 'ogd', 'gdo', 'god']) )\n",
    "        \n",
    "        print('All test cases passed.')\n",
    "        \n",
    "\n",
    "\n",
    "# Run Tests\n",
    "t = TestPerm()\n",
    "t.test(permute)"
   ]
  },
  {
   "cell_type": "markdown",
   "id": "d1f25ff8-64da-45a3-9019-ec3eff2dd621",
   "metadata": {},
   "source": [
    "### 1) My solution\n",
    "\n",
    "Finally something with permutations. The mistake I made in my first implementation is not returning a list in the base case.\n",
    "\n",
    "The idea behind my solution is the usual way of generating $n!$ permutations among $n$ objects:\n",
    "- Choose one among $n$ characters. Do this by looping $i$ from $0$ to *len(string)-1)*.\n",
    "- Concatenate the $i$-th character with all possible permutations of the string obtained by removing the $i$-th character."
   ]
  },
  {
   "cell_type": "code",
   "execution_count": 21,
   "id": "eedfcce0-bec4-4b9f-a008-925f37db02e3",
   "metadata": {},
   "outputs": [],
   "source": [
    "def permute(string):\n",
    "    \n",
    "    # Base case\n",
    "    if len(string)==0:\n",
    "        return [string]\n",
    "    # Recursion\n",
    "    else:\n",
    "        out_list = []\n",
    "        for i in range(len(string)):\n",
    "            string_ = string[:i]+string[i+1:]\n",
    "            out_list = out_list + [string[i]+x for x in permute(string_)]\n",
    "        return out_list"
   ]
  },
  {
   "cell_type": "code",
   "execution_count": 22,
   "id": "efab56df-6593-4fa4-a724-007a6435a20c",
   "metadata": {},
   "outputs": [
    {
     "data": {
      "text/plain": [
       "['abc', 'acb', 'bac', 'bca', 'cab', 'cba']"
      ]
     },
     "execution_count": 22,
     "metadata": {},
     "output_type": "execute_result"
    }
   ],
   "source": [
    "permute(\"abc\")"
   ]
  },
  {
   "cell_type": "code",
   "execution_count": 23,
   "id": "e452b721-7584-4b0e-a366-471eeb564599",
   "metadata": {},
   "outputs": [
    {
     "data": {
      "text/plain": [
       "['ab', 'ba']"
      ]
     },
     "execution_count": 23,
     "metadata": {},
     "output_type": "execute_result"
    }
   ],
   "source": [
    "permute(\"ab\")"
   ]
  },
  {
   "cell_type": "code",
   "execution_count": 24,
   "id": "ef610340-4ee3-4a97-9750-635b830e55af",
   "metadata": {},
   "outputs": [
    {
     "name": "stdout",
     "output_type": "stream",
     "text": [
      "All test cases passed.\n"
     ]
    }
   ],
   "source": [
    "from nose.tools import assert_equal\n",
    "\n",
    "class TestPerm(object):\n",
    "    \n",
    "    def test(self,solution):\n",
    "        \n",
    "        assert_equal(sorted(solution('abc')),sorted(['abc', 'acb', 'bac', 'bca', 'cab', 'cba']))\n",
    "        assert_equal(sorted(solution('dog')),sorted(['dog', 'dgo', 'odg', 'ogd', 'gdo', 'god']) )\n",
    "        \n",
    "        print('All test cases passed.')\n",
    "        \n",
    "\n",
    "\n",
    "# Run Tests\n",
    "t = TestPerm()\n",
    "t.test(permute)"
   ]
  },
  {
   "cell_type": "markdown",
   "id": "2294c47a-1296-4a6c-b847-62b087435758",
   "metadata": {},
   "source": [
    "### 2) Portilla's solution\n",
    "\n",
    "Link: https://github.com/jmportilla/Python-for-Algorithms--Data-Structures--and-Interviews/blob/master/05-Recursion/Recursion%20Interview%20Problems/02-String-Permutation/02-String%20Permutation-%20SOLUTION.ipynb\n",
    "\n",
    "Portilla's solution uses an *enumerate()* generator instead of a *range()* generator:"
   ]
  },
  {
   "cell_type": "code",
   "execution_count": null,
   "id": "d1d5c809-c1af-4c5f-b88c-1eafb4f50a18",
   "metadata": {},
   "outputs": [],
   "source": [
    "def permute(s):\n",
    "    out = []\n",
    "    \n",
    "    # Base Case\n",
    "    if len(s) == 1:\n",
    "        out = [s]\n",
    "        \n",
    "    else:\n",
    "        # For every letter in string\n",
    "        for i, let in enumerate(s):\n",
    "            \n",
    "            # For every permutation resulting from Step 2 and 3 described above\n",
    "            for perm in permute(s[:i] + s[i+1:]):\n",
    "                \n",
    "                # Add it to output\n",
    "                out += [let + perm]\n",
    "\n",
    "    return out"
   ]
  },
  {
   "cell_type": "markdown",
   "id": "90fb9da3-392c-4ddc-94f7-404dd2783f47",
   "metadata": {},
   "source": [
    "## Exercise 3: Fibonacci\n",
    "\n",
    "Link: https://github.com/jmportilla/Python-for-Algorithms--Data-Structures--and-Interviews/blob/master/05-Recursion/Recursion%20Interview%20Problems/03-Fibonacci-Sequence/03-Fibonacci%20Sequence.ipynb\n",
    "\n",
    "Implement a Fibonnaci Sequence in three different ways:\n",
    "\n",
    "1) Recursively\n",
    "2) Dynamically (Using Memoization to store results)\n",
    "3) Iteratively\n",
    "\n",
    "**Function Output**\n",
    "Your function will accept a number n and return the nth number of the fibonacci sequence. Remember that a fibonacci sequence: 0,1,1,2,3,5,8,13,21,... starts off with a base case checking to see if n = 0 or 1, then it returns 1.\n",
    "\n",
    "Else it returns fib(n-1)+fib(n+2).\n"
   ]
  },
  {
   "cell_type": "code",
   "execution_count": null,
   "id": "f3c89392-490d-4a58-8df8-4aeabb1686f5",
   "metadata": {},
   "outputs": [],
   "source": [
    "def fib_rec(n):\n",
    "    \n",
    "    pass\n",
    "\n",
    "def fib_dyn(n):\n",
    "    \n",
    "    pass\n",
    "\n",
    "def fib_iter(n):\n",
    "    \n",
    "    pass"
   ]
  },
  {
   "cell_type": "code",
   "execution_count": null,
   "id": "658b3944-c04d-419d-9584-28c3d8921400",
   "metadata": {},
   "outputs": [],
   "source": [
    "fib_rec(10)\n",
    "'''\n",
    "    # OUTPUT\n",
    "55\n",
    "'''\n",
    "\n",
    "fib_dyn(10)\n",
    "\n",
    "\n",
    "fib_iter(23)\n",
    "'''\n",
    "    # OUTPUT\n",
    "28657\n",
    "'''"
   ]
  },
  {
   "cell_type": "code",
   "execution_count": null,
   "id": "ba68b520-9eaf-42a4-b5fd-f1dff5aa57ea",
   "metadata": {},
   "outputs": [],
   "source": [
    "\"\"\"\n",
    "UNCOMMENT THE CODE AT THE BOTTOM OF THIS CELL TO SELECT WHICH SOLUTIONS TO TEST.\n",
    "THEN RUN THE CELL.\n",
    "\"\"\"\n",
    "\n",
    "from nose.tools import assert_equal\n",
    "\n",
    "class TestFib(object):\n",
    "    \n",
    "    def test(self,solution):\n",
    "        assert_equal(solution(10),55)\n",
    "        assert_equal(solution(1),1)\n",
    "        assert_equal(solution(23),28657)\n",
    "        print('Passed all tests.')\n",
    "# UNCOMMENT FOR CORRESPONDING FUNCTION\n",
    "t = TestFib()\n",
    "\n",
    "t.test(fib_rec)\n",
    "#t.test(fib_dyn) # Note, will need to reset cache size for each test!\n",
    "#t.test(fib_iter)"
   ]
  },
  {
   "cell_type": "markdown",
   "id": "689aa7dc-bd86-41ec-a8ca-1adc869faa87",
   "metadata": {},
   "source": [
    "### 1) My solution\n",
    "\n",
    "Let's start simple. Here is the iterative implementation"
   ]
  },
  {
   "cell_type": "code",
   "execution_count": 2,
   "id": "2c30e162-7104-4245-bef6-800b65bfbf28",
   "metadata": {},
   "outputs": [],
   "source": [
    "def fib_iter(n):\n",
    "    f_i = 0\n",
    "    f1 = 1  # F(n-1)\n",
    "    f2 = 0 # F(n-2)\n",
    "    for i in range(1,n):\n",
    "        f_i = f1+f2\n",
    "        f2 = f1\n",
    "        f1 = f_i\n",
    "    \n",
    "    return f_i\n",
    "        "
   ]
  },
  {
   "cell_type": "code",
   "execution_count": 30,
   "id": "f9c7e0cb-a41e-4d8a-afca-ff00770cb9b1",
   "metadata": {},
   "outputs": [
    {
     "data": {
      "text/plain": [
       "55"
      ]
     },
     "execution_count": 30,
     "metadata": {},
     "output_type": "execute_result"
    }
   ],
   "source": [
    "fib_iter(10)"
   ]
  },
  {
   "cell_type": "code",
   "execution_count": 26,
   "id": "57bdd077-293a-4041-8939-0f76a426c667",
   "metadata": {},
   "outputs": [
    {
     "data": {
      "text/plain": [
       "28657"
      ]
     },
     "execution_count": 26,
     "metadata": {},
     "output_type": "execute_result"
    }
   ],
   "source": [
    "fib_iter(23)"
   ]
  },
  {
   "cell_type": "markdown",
   "id": "224a462b-365e-4c81-89e7-43a5ff188928",
   "metadata": {},
   "source": [
    "The recursive implementation is not optimal in this case since $F_n = F_{n-1}+ F_{n-2}$ (see section 4.3 of [GTG13])."
   ]
  },
  {
   "cell_type": "code",
   "execution_count": 4,
   "id": "97bbfafb-1d71-4918-a4f9-66296ac10e0b",
   "metadata": {},
   "outputs": [],
   "source": [
    "def fib_rec(n):\n",
    "    if n==0:\n",
    "        return 0\n",
    "    elif n==1:\n",
    "        return 1\n",
    "    elif n>1:\n",
    "        return fib_rec(n-1)+fib_rec(n-2)"
   ]
  },
  {
   "cell_type": "code",
   "execution_count": 28,
   "id": "ad3d9dff-bd19-4eb2-8768-84b7ceb82805",
   "metadata": {},
   "outputs": [
    {
     "data": {
      "text/plain": [
       "55"
      ]
     },
     "execution_count": 28,
     "metadata": {},
     "output_type": "execute_result"
    }
   ],
   "source": [
    "fib_rec(10)"
   ]
  },
  {
   "cell_type": "code",
   "execution_count": 29,
   "id": "b8767238-1430-47dc-89ef-98f7790bf392",
   "metadata": {},
   "outputs": [
    {
     "data": {
      "text/plain": [
       "28657"
      ]
     },
     "execution_count": 29,
     "metadata": {},
     "output_type": "execute_result"
    }
   ],
   "source": [
    "fib_rec(23)"
   ]
  },
  {
   "cell_type": "code",
   "execution_count": 3,
   "id": "4f78521d-7c9e-4847-8673-e100e5c99428",
   "metadata": {},
   "outputs": [],
   "source": [
    "def fib_dyn(n, cache = None):\n",
    "    # Initialize cache if empty\n",
    "    if (cache == None) or (len(cache)<n):\n",
    "        cache = [0,1]+[None]*(n-1)\n",
    "    \n",
    "    # F_0 and F_1 and other cached values\n",
    "    if cache[n] != None:\n",
    "        return cache[n]\n",
    "    else:\n",
    "        x = fib_dyn(n-1, cache)+fib_dyn(n-2, cache)\n",
    "        cache[n] = x\n",
    "        return x\n",
    "    \n",
    "        "
   ]
  },
  {
   "cell_type": "code",
   "execution_count": 32,
   "id": "0bce69fe-85d4-4fcc-b9f7-f2981d89794a",
   "metadata": {},
   "outputs": [
    {
     "data": {
      "text/plain": [
       "28657"
      ]
     },
     "execution_count": 32,
     "metadata": {},
     "output_type": "execute_result"
    }
   ],
   "source": [
    "fib_dyn(23)"
   ]
  },
  {
   "cell_type": "code",
   "execution_count": 33,
   "id": "d35045ad-378c-431e-aa81-3a0e898e0a2b",
   "metadata": {},
   "outputs": [
    {
     "data": {
      "text/plain": [
       "55"
      ]
     },
     "execution_count": 33,
     "metadata": {},
     "output_type": "execute_result"
    }
   ],
   "source": [
    "fib_dyn(10)"
   ]
  },
  {
   "cell_type": "code",
   "execution_count": 34,
   "id": "c8160951-3d17-48a6-b8ff-e04bd9c8e9ea",
   "metadata": {},
   "outputs": [
    {
     "data": {
      "text/plain": [
       "1"
      ]
     },
     "execution_count": 34,
     "metadata": {},
     "output_type": "execute_result"
    }
   ],
   "source": [
    "fib_dyn(2)"
   ]
  },
  {
   "cell_type": "code",
   "execution_count": 39,
   "id": "295b690b-b9d6-41d6-bab5-a6a906bc859f",
   "metadata": {},
   "outputs": [
    {
     "data": {
      "text/plain": [
       "354224848179261915075"
      ]
     },
     "execution_count": 39,
     "metadata": {},
     "output_type": "execute_result"
    }
   ],
   "source": [
    "fib_dyn(100)"
   ]
  },
  {
   "cell_type": "code",
   "execution_count": 6,
   "id": "3b21d863-bd4d-48f3-8ba2-83c1d84fbbe7",
   "metadata": {},
   "outputs": [],
   "source": [
    "from datetime import datetime"
   ]
  },
  {
   "cell_type": "code",
   "execution_count": 12,
   "id": "5a152af3-f167-4201-ae2f-ca3a9667a8c3",
   "metadata": {},
   "outputs": [
    {
     "name": "stdout",
     "output_type": "stream",
     "text": [
      "Execution time of fib_iter(50): 0:00:00.000042\n",
      "Execution time of fib_dyn(50): 0:00:00.000066\n"
     ]
    }
   ],
   "source": [
    "t_ini = datetime.now()\n",
    "x = fib_iter(50)\n",
    "print(f\"Execution time of fib_iter(50): {datetime.now()-t_ini}\")\n",
    "\n",
    "t_ini = datetime.now()\n",
    "x = fib_dyn(50)\n",
    "print(f\"Execution time of fib_dyn(50): {datetime.now()-t_ini}\")\n"
   ]
  },
  {
   "cell_type": "markdown",
   "id": "65b9007b-8d88-4bd2-875c-d4ba7b5d1cb2",
   "metadata": {},
   "source": [
    "Strangely enough, a basic loop performs better than the memoization implementation.\n",
    "\n",
    "The following code goes wrong because of the large number of recursions:"
   ]
  },
  {
   "cell_type": "code",
   "execution_count": 9,
   "id": "cb928b01-7075-481f-9dfa-c1a959a91ba3",
   "metadata": {},
   "outputs": [
    {
     "ename": "KeyboardInterrupt",
     "evalue": "",
     "output_type": "error",
     "traceback": [
      "\u001b[0;31m---------------------------------------------------------------------------\u001b[0m",
      "\u001b[0;31mKeyboardInterrupt\u001b[0m                         Traceback (most recent call last)",
      "Cell \u001b[0;32mIn [9], line 2\u001b[0m\n\u001b[1;32m      1\u001b[0m t_ini \u001b[38;5;241m=\u001b[39m datetime\u001b[38;5;241m.\u001b[39mnow()\n\u001b[0;32m----> 2\u001b[0m x \u001b[38;5;241m=\u001b[39m \u001b[43mfib_rec\u001b[49m\u001b[43m(\u001b[49m\u001b[38;5;241;43m50\u001b[39;49m\u001b[43m)\u001b[49m\n\u001b[1;32m      3\u001b[0m \u001b[38;5;28mprint\u001b[39m(\u001b[38;5;124mf\u001b[39m\u001b[38;5;124m\"\u001b[39m\u001b[38;5;124mExecution time of fib_rec(50): \u001b[39m\u001b[38;5;132;01m{\u001b[39;00mdatetime\u001b[38;5;241m.\u001b[39mnow()\u001b[38;5;241m-\u001b[39mt_ini\u001b[38;5;132;01m}\u001b[39;00m\u001b[38;5;124m\"\u001b[39m)\n",
      "Cell \u001b[0;32mIn [4], line 7\u001b[0m, in \u001b[0;36mfib_rec\u001b[0;34m(n)\u001b[0m\n\u001b[1;32m      5\u001b[0m     \u001b[38;5;28;01mreturn\u001b[39;00m \u001b[38;5;241m1\u001b[39m\n\u001b[1;32m      6\u001b[0m \u001b[38;5;28;01melif\u001b[39;00m n\u001b[38;5;241m>\u001b[39m\u001b[38;5;241m1\u001b[39m:\n\u001b[0;32m----> 7\u001b[0m     \u001b[38;5;28;01mreturn\u001b[39;00m \u001b[43mfib_rec\u001b[49m\u001b[43m(\u001b[49m\u001b[43mn\u001b[49m\u001b[38;5;241;43m-\u001b[39;49m\u001b[38;5;241;43m1\u001b[39;49m\u001b[43m)\u001b[49m\u001b[38;5;241m+\u001b[39mfib_rec(n\u001b[38;5;241m-\u001b[39m\u001b[38;5;241m2\u001b[39m)\n",
      "Cell \u001b[0;32mIn [4], line 7\u001b[0m, in \u001b[0;36mfib_rec\u001b[0;34m(n)\u001b[0m\n\u001b[1;32m      5\u001b[0m     \u001b[38;5;28;01mreturn\u001b[39;00m \u001b[38;5;241m1\u001b[39m\n\u001b[1;32m      6\u001b[0m \u001b[38;5;28;01melif\u001b[39;00m n\u001b[38;5;241m>\u001b[39m\u001b[38;5;241m1\u001b[39m:\n\u001b[0;32m----> 7\u001b[0m     \u001b[38;5;28;01mreturn\u001b[39;00m \u001b[43mfib_rec\u001b[49m\u001b[43m(\u001b[49m\u001b[43mn\u001b[49m\u001b[38;5;241;43m-\u001b[39;49m\u001b[38;5;241;43m1\u001b[39;49m\u001b[43m)\u001b[49m\u001b[38;5;241m+\u001b[39mfib_rec(n\u001b[38;5;241m-\u001b[39m\u001b[38;5;241m2\u001b[39m)\n",
      "    \u001b[0;31m[... skipping similar frames: fib_rec at line 7 (37 times)]\u001b[0m\n",
      "Cell \u001b[0;32mIn [4], line 7\u001b[0m, in \u001b[0;36mfib_rec\u001b[0;34m(n)\u001b[0m\n\u001b[1;32m      5\u001b[0m     \u001b[38;5;28;01mreturn\u001b[39;00m \u001b[38;5;241m1\u001b[39m\n\u001b[1;32m      6\u001b[0m \u001b[38;5;28;01melif\u001b[39;00m n\u001b[38;5;241m>\u001b[39m\u001b[38;5;241m1\u001b[39m:\n\u001b[0;32m----> 7\u001b[0m     \u001b[38;5;28;01mreturn\u001b[39;00m \u001b[43mfib_rec\u001b[49m\u001b[43m(\u001b[49m\u001b[43mn\u001b[49m\u001b[38;5;241;43m-\u001b[39;49m\u001b[38;5;241;43m1\u001b[39;49m\u001b[43m)\u001b[49m\u001b[38;5;241m+\u001b[39mfib_rec(n\u001b[38;5;241m-\u001b[39m\u001b[38;5;241m2\u001b[39m)\n",
      "Cell \u001b[0;32mIn [4], line 2\u001b[0m, in \u001b[0;36mfib_rec\u001b[0;34m(n)\u001b[0m\n\u001b[1;32m      1\u001b[0m \u001b[38;5;28;01mdef\u001b[39;00m \u001b[38;5;21mfib_rec\u001b[39m(n):\n\u001b[0;32m----> 2\u001b[0m     \u001b[38;5;28;01mif\u001b[39;00m \u001b[43mn\u001b[49m\u001b[38;5;241;43m==\u001b[39;49m\u001b[38;5;241;43m0\u001b[39;49m:\n\u001b[1;32m      3\u001b[0m         \u001b[38;5;28;01mreturn\u001b[39;00m \u001b[38;5;241m0\u001b[39m\n\u001b[1;32m      4\u001b[0m     \u001b[38;5;28;01melif\u001b[39;00m n\u001b[38;5;241m==\u001b[39m\u001b[38;5;241m1\u001b[39m:\n",
      "\u001b[0;31mKeyboardInterrupt\u001b[0m: "
     ]
    }
   ],
   "source": [
    "t_ini = datetime.now()\n",
    "x = fib_rec(50)\n",
    "print(f\"Execution time of fib_rec(50): {datetime.now()-t_ini}\")"
   ]
  },
  {
   "cell_type": "markdown",
   "id": "bf528585-29c6-40c3-8252-f33d3857e3f6",
   "metadata": {
    "jp-MarkdownHeadingCollapsed": true,
    "tags": []
   },
   "source": [
    "### 2) Portilla's solution\n",
    "\n",
    "Link: https://github.com/jmportilla/Python-for-Algorithms--Data-Structures--and-Interviews/blob/master/05-Recursion/Recursion%20Interview%20Problems/03-Fibonacci-Sequence/03-Fibonacci%20Sequence%20-%20SOLUTION.ipynb"
   ]
  },
  {
   "cell_type": "markdown",
   "id": "453cd347-c3c2-410d-a6dc-36c671fb528e",
   "metadata": {},
   "source": [
    "## Exercise 4: Coin change\n",
    "\n",
    "Link: https://github.com/jmportilla/Python-for-Algorithms--Data-Structures--and-Interviews/blob/master/05-Recursion/Recursion%20Interview%20Problems/03-Fibonacci-Sequence/03-Fibonacci%20Sequence.ipynb\n",
    "\n",
    "Given a target amount n and a list (array) of distinct coin values, what's the fewest coins needed to make the change amount.\n",
    "\n",
    "For example:\n",
    "\n",
    "If n = 10 and coins = [1, 5, 10]. Then there are 4 possible ways to make change:\n",
    "\n",
    "1+1+1+1+1+1+1+1+1+1\n",
    "\n",
    "5 + 1+1+1+1+1\n",
    "\n",
    "5+5\n",
    "\n",
    "10\n",
    "\n",
    "With 1 coin being the minimum amount.\n",
    "\n",
    "**Note:** This problem has multiple solutions and is a classic problem in showing issues with basic recursion. If you are having trouble with this problem (or it seems to be taking a long time to run in some cases) check out the Solution Notebook and fully read the conclusion link for a detailed description of the various ways to solve this problem!\n",
    "\n",
    "This problem is common enough that is actually has its own Wikipedia Entry: https://en.wikipedia.org/wiki/Change-making_problem"
   ]
  },
  {
   "cell_type": "code",
   "execution_count": null,
   "id": "f9fdbbed-ae36-4166-9e80-ca033e3a91a3",
   "metadata": {},
   "outputs": [],
   "source": [
    "def rec_coin(target,coins):\n",
    "    \n",
    "    pass"
   ]
  },
  {
   "cell_type": "code",
   "execution_count": null,
   "id": "6c3b31aa-bcee-43a0-b3ea-48669541fb73",
   "metadata": {},
   "outputs": [],
   "source": [
    "'''\n",
    "    The following should output 2\n",
    "'''\n",
    "rec_coin(10,[1,5])"
   ]
  },
  {
   "cell_type": "code",
   "execution_count": null,
   "id": "f197d4e9-1836-49ff-b2ce-0beb8594230e",
   "metadata": {},
   "outputs": [],
   "source": [
    "\"\"\"\n",
    "RUN THIS CELL TO TEST YOUR FUNCTION.\n",
    "NOTE: NON-DYNAMIC FUNCTIONS WILL TAKE A LONG TIME TO TEST. IF YOU BELIEVE YOU HAVE A SOLUTION \n",
    "      GO CHECK THE SOLUTION NOTEBOOK INSTEAD OF RUNNING THIS!\n",
    "\"\"\"\n",
    "\n",
    "from nose.tools import assert_equal\n",
    "\n",
    "class TestCoins(object):\n",
    "    \n",
    "    def check(self,solution):\n",
    "        coins = [1,5,10,25]\n",
    "        assert_equal(solution(45,coins),3)\n",
    "        assert_equal(solution(23,coins),5)\n",
    "        assert_equal(solution(74,coins),8)\n",
    "        print('Passed all tests.')\n",
    "# Run Test\n",
    "\n",
    "test = TestCoins()\n",
    "test.check(rec_coin)"
   ]
  },
  {
   "cell_type": "markdown",
   "id": "af0dedac-44ce-4e59-b047-ce03c4cabf4a",
   "metadata": {},
   "source": [
    "### 1) Comments\n",
    "\n",
    "This is actually a dynamic programming problem used to showcase issues with basic recursion. It can also be formulated using trees, as there are paths of divisors to consider, some of which do not lead to a solution. You can think of this as looking for \n",
    "\n",
    "With an elementary recursion where we rely on divisors and remainders, it's easy to see that things will go wrong if $n=6$ and the coin list is $[2, 5]$. \n",
    "\n",
    "**23/09/14:** I will skip this problem for now. Dynamic programming is covered in sections 47 and 48 of Karimov's Udemy course on DSA/Leetcode."
   ]
  },
  {
   "cell_type": "code",
   "execution_count": 7,
   "id": "45dec278-acfe-45e2-bbb3-062e01e72d03",
   "metadata": {},
   "outputs": [],
   "source": [
    "def rec_coin(n, coin_list):\n",
    "    \n",
    "    # Edge case\n",
    "    if n==0:\n",
    "        return n\n",
    "    \n",
    "    # Initializations\n",
    "    n_ = n\n",
    "    coin_list_ = coin_list.copy()\n",
    "    coin_list_.sort() # Sort the list so that last is max\n",
    "    div_list = []\n",
    "    val_list = []\n",
    "    N_coins = 0\n",
    "    \n",
    "    # Main loop\n",
    "    while len(coin_list_)>0 :\n",
    "        print(f\"n_ = {n_}\")\n",
    "        print(f\"coin_list_ = {coin_list_}\")\n",
    "        \n",
    "        # val\n",
    "        val = coin_list_.pop()\n",
    "        val_list.append(val)\n",
    "        \n",
    "        # Divisor and remainder\n",
    "        div = n_//val\n",
    "        rem = n_%val\n",
    "        \n",
    "        # Update N_coins\n",
    "        N_coins += div\n",
    "        div_list.append(div)\n",
    "        \n",
    "        print(f\"div = {div}\")\n",
    "        print(f\"rem = {rem}\")\n",
    "        \n",
    "        # Update n_ and coin_list_\n",
    "        n_ = rem\n",
    "    \n",
    "    # This is the part that is hard to do with a recursion\n",
    "    tot = 0\n",
    "    for i in range(len(div_list)):\n",
    "        tot+=div_list[i]*val_list[i]\n",
    "    if tot == n:\n",
    "        return N_coins\n",
    "    else:\n",
    "        return 0\n",
    "        \n",
    "        "
   ]
  },
  {
   "cell_type": "code",
   "execution_count": 8,
   "id": "5d30d8e3-62ff-4f7b-a7ca-18c3f130621c",
   "metadata": {},
   "outputs": [
    {
     "name": "stdout",
     "output_type": "stream",
     "text": [
      "n_ = 10\n",
      "coin_list_ = [1, 5]\n",
      "div = 2\n",
      "rem = 0\n",
      "n_ = 0\n",
      "coin_list_ = [1]\n",
      "div = 0\n",
      "rem = 0\n"
     ]
    },
    {
     "data": {
      "text/plain": [
       "2"
      ]
     },
     "execution_count": 8,
     "metadata": {},
     "output_type": "execute_result"
    }
   ],
   "source": [
    "rec_coin(10, [1, 5])"
   ]
  },
  {
   "cell_type": "code",
   "execution_count": 9,
   "id": "5c406562-a19e-44e7-ab8d-721b017a6b2b",
   "metadata": {},
   "outputs": [
    {
     "name": "stdout",
     "output_type": "stream",
     "text": [
      "n_ = 6\n",
      "coin_list_ = [2, 5]\n",
      "div = 1\n",
      "rem = 1\n",
      "n_ = 1\n",
      "coin_list_ = [2]\n",
      "div = 0\n",
      "rem = 1\n"
     ]
    },
    {
     "data": {
      "text/plain": [
       "0"
      ]
     },
     "execution_count": 9,
     "metadata": {},
     "output_type": "execute_result"
    }
   ],
   "source": [
    "rec_coin(6, [2, 5])"
   ]
  },
  {
   "cell_type": "code",
   "execution_count": null,
   "id": "d3f9c258-6d1e-4b7f-af6d-2f64e00cc5b1",
   "metadata": {},
   "outputs": [],
   "source": []
  },
  {
   "cell_type": "code",
   "execution_count": null,
   "id": "31e4c315-9c5f-49cf-88af-f7f65628539c",
   "metadata": {},
   "outputs": [],
   "source": []
  }
 ],
 "metadata": {
  "kernelspec": {
   "display_name": "Python 3 (ipykernel)",
   "language": "python",
   "name": "python3"
  },
  "language_info": {
   "codemirror_mode": {
    "name": "ipython",
    "version": 3
   },
   "file_extension": ".py",
   "mimetype": "text/x-python",
   "name": "python",
   "nbconvert_exporter": "python",
   "pygments_lexer": "ipython3",
   "version": "3.9.16"
  }
 },
 "nbformat": 4,
 "nbformat_minor": 5
}
