{
 "cells": [
  {
   "cell_type": "markdown",
   "id": "79f6d43b-acd5-46e8-92c3-e9210e5f69db",
   "metadata": {},
   "source": [
    "# Data Structures and Algorithms in Python - Ch.3: Algorithm Analysis\n",
    "### AJ Zerouali, 2023/09/13"
   ]
  },
  {
   "cell_type": "markdown",
   "id": "36f0e53a-9a6a-47cf-a48c-9c137f1975eb",
   "metadata": {},
   "source": [
    "## 0) Introduction\n",
    "\n",
    "This notebook is the first one in a series of notes on data structrues and algorithms, following the book of the same name by Goodrich, Tamassia and Goldwasser. Other than this book, I am also following two Udemy courses:\n",
    "* \"Python for Data Structures, Algorithms, and Interviews!\" by Jose Portilla (introductory).\n",
    "* \"The Complete Data Structures and Algorithms Course in Python\" by Elshad Karimov (Leetcode oriented).\n",
    "\n",
    "This is part of my interview prep.\n",
    "\n",
    "#### To do (23/08/28):\n",
    "Write about the following:\n",
    "- Code fragment 3.1 (p.123) to find the max of an array in linear time.\n",
    "- Code fragment 3.4 (p.133): Trick to reduce prefix averages from $O(n^2)$ to $O(n)$. (DONE)\n",
    "- Code fragment 3.6 (p.135): Reducing verifications on 3 sets from $O(n^3)$ to $O(n^2)$.\n",
    "- Code fragment 3.8 (p.136): Sorting arrays to solve other problems, reduction from $O(n^2)$ to $O(n\\log(n))$.\n",
    "- Record binary search as an example of $O(\\log(n))$ algorithm."
   ]
  },
  {
   "cell_type": "markdown",
   "id": "544dee5e-6912-497f-9d2e-cfa0e1de7c0f",
   "metadata": {},
   "source": [
    "## 1) Definitions\n",
    "\n",
    "This section provides the mathematical definitions of the notions used for the asymptotic analysis of the running time of an algorithm. The reference for this part is section 3.3 of Goodrich-Tamassia-Goldwasser. I will be skipping a lot of what I consider to be obvious.\n",
    "\n",
    "### 1.a - Big-Oh notation\n",
    "\n",
    "Here is our central definition\n",
    "\n",
    "#### Definition: Big-Oh notation\n",
    "\n",
    "Let $f,g:\\mathbb{N}\\to\\mathbb{R}$ be real-valued functions on integers. We say that *f is $O\\left(g(n)\\right)$* if there exists a real constant $c>0$ and an integer $n_0$ such that:\n",
    "$$f(n)\\le c\\cdot g(n), \\ \\ \\forall n>n_0.$$\n",
    "\n",
    "To put this definition into context, the integer $n$ typically represents the size of a data structure, $f(n)$ is typically the running time of a given algorithm for an input of size $n$, and $g(n)$ could be a monomial, $a^n$ for some $a>0$, $n!$, $\\log(n)$, or $n\\log(n)$.\n",
    "\n",
    "It is important to emphasize that this notion:\n",
    "1) Expresses the ***asymptotic*** (worst-case) behavior of an algorithm as $n$ grows.\n",
    "2) Describes the behavior of $f(n)$ in terms of the dominant term in $g(n)$.\n",
    "\n",
    "Many things will be clarified with the concrete examples given in the next section. For now, we continue with definitions."
   ]
  },
  {
   "cell_type": "markdown",
   "id": "f64628c9-c3c0-41b6-bb37-3af5cb32f17e",
   "metadata": {},
   "source": [
    "### 1.b - Big-Omega and Big-Theta\n",
    "\n",
    "Big-Oh is the most used notation for time complexity, given that we are often interested in the worst-case execution time. The next definitions complement this notion with other asymptotic measures.\n",
    "\n",
    "#### Definition: Big-Omega notation\n",
    "\n",
    "Let $f,g:\\mathbb{N}\\to\\mathbb{R}$ be real-valued functions on integers. We say that *f is $\\Omega\\left(g(n)\\right)$* if there exists a real constant $c>0$ and an integer $n_0$ such that:\n",
    "$$f(n)\\ge c\\cdot g(n), \\ \\ \\forall n>n_0.$$\n",
    "\n",
    "Saying that *$f(n)$ is $O(g(n))$* is essentially saying that as $n\\to\\infty$, $f$ is asymptotically lower than $g$. In contrast, big-Omega expresses the idea that **f is asymptotically larger than $g$** as $n$ grows to infinity.\n",
    "\n",
    "#### Definition: Big-Theta notation\n",
    "\n",
    "Let $f,g:\\mathbb{N}\\to\\mathbb{R}$ be real-valued functions on integers. We say that *f is $\\Theta\\left(g(n)\\right)$* if there exist real constants $c,C>0$ and an integer $n_0$ such that:\n",
    "$$c\\cdot g(n)\\le f(n)\\le C\\cdot g(n), \\ \\ \\forall n>n_0.$$\n",
    "\n",
    "Saying that *$f$ is big-Theta of $g$* is the same as saying that **$f$ is both $O(g(n))$ and $\\Omega(g(n))$**.\n",
    "\n",
    "**Comments:** To conclude this section, here are some important complements to keep in mind from Goodrich-Tamassia-Goldwasser.\n",
    "- Part 3.3.2 gives some general rules of thumb for the comparative analysis of algorithm running times. There are several tables for illustration purposes, and an important takeaway is the following classification of growth rates, from best to worse:\n",
    "$$O(1), \\  O(\\log(n)), \\  O(n), \\ O(n\\log(n)), \\  O(n^2), \\cdots, \\ O(a^n).$$\n",
    "- See the comments on pp.129-130 on very large constants (e.g. $f(n)=10^100 n$) and exponential running time.\n",
    "- Portilla provides the following visual resource: https://www.bigocheatsheet.com/."
   ]
  },
  {
   "cell_type": "markdown",
   "id": "c451b747-955c-4bb2-87ad-1778362432a6",
   "metadata": {},
   "source": [
    "## 2) Algorithm analysis examples\n",
    "\n",
    "We illustrate the definitions above with concrete implementations. Most of the upcoming examples will deal with *arrays* in the sense of theoretical computer-science (i.e. basic containers to memory addresses of objects).\n",
    "\n",
    "An important point that we do not explain here is the following: If $f(n)=\\sum_{j=0}^k a_j n^j$, we will say that $f$ is $O(n^k)$ (take the dominant term and drop the constant, as per the definition). Also, it is true that $f$ is $O(n^m)$ for any $m>k$, but to be able to compare the asymptotic running times of algorithms, we conventionally use the highest order/fastest growing term in the expression of $f$."
   ]
  },
  {
   "cell_type": "markdown",
   "id": "94a3276d-8bc6-41be-b8be-517bf0f91a94",
   "metadata": {},
   "source": [
    "### 2.a - Constant-time operations\n",
    "\n",
    "All of the following operations are $O(1)$:\n",
    "- Assigning a value to a variable.\n",
    "- Elementary arithmetic operations.\n",
    "- Printing the value of a variable.\n"
   ]
  },
  {
   "cell_type": "markdown",
   "id": "b32eb5d1-152c-4004-b2b8-b6210ea48630",
   "metadata": {},
   "source": [
    "### 2.b - $O(n)$ Example: Finding the max value in an array\n",
    "\n"
   ]
  },
  {
   "cell_type": "markdown",
   "id": "cd946245-d534-4d94-9701-e3dd391a79d0",
   "metadata": {},
   "source": [
    "### 2.c - $O(\\log(n))$ Example: Binary search\n",
    "\n",
    "A crucial example to know and one of the best illustrative examples of $O(\\log(n))$ complexity.\n",
    "\n",
    "Here we consider an array that is sorted and indexable, and we want to write a function that searches for a value in said array and returns its index. The obvious solution, which loops over all indices in the array has $O(n)$ complexity.\n",
    "\n",
    "The trick of binary search is to reduce the size of the search pool at every iteration. To do this, one introduces three markers:\n",
    "- The lower bound index *low*;\n",
    "- The upper-bound index *high*;\n",
    "- The midpoint *mid = (low+high)//2*.\n",
    "\n",
    "At each step, the input value is compared to the array element at index *mid*. Here is the implementation:\n"
   ]
  },
  {
   "cell_type": "code",
   "execution_count": null,
   "id": "fda0ff73-215b-4b1c-b1c7-c43366d6a1c0",
   "metadata": {},
   "outputs": [],
   "source": [
    "def binary_search(arr, target):\n",
    "    # Initialization of high and low indices\n",
    "    low = 0\n",
    "    high = len(arr)-1\n",
    "    \n",
    "    # Main loop (low is increased and \n",
    "    # high is decreased at each step)\n",
    "    while low <= high:\n",
    "        \n",
    "        # Get midpoint idx\n",
    "        mid = (low+high)//2\n",
    "        \n",
    "        # Case where we found target\n",
    "        if target == arr[mid]:\n",
    "            return mid\n",
    "        \n",
    "        # Increase low if target > arr[mid]\n",
    "        elif target > arr[mid]:\n",
    "            low = mid + 1\n",
    "        \n",
    "        # Decrease high if target < arr[mid]\n",
    "        elif target < arr[mid]:\n",
    "            high = mid - 1\n",
    "            \n",
    "    # If low > high was reached \n",
    "    # then the search was unsuccessful\n",
    "    return False\n",
    "        \n",
    "    "
   ]
  },
  {
   "cell_type": "markdown",
   "id": "3f74a9f0-a7fd-414c-9fd6-75860ea4eab1",
   "metadata": {},
   "source": [
    "For this algorithm, the worst case is when the target value lies at one of the endpoints of the array. To see why the worst case time complexity is $O(\\log(n))$ for an array of length $n$, we notice that at each iteration of the worst case, *mid* is decreased by half its previous value. If $T$ is the number of iterations required for *mid* to reach index $1$ (or $(n-1)$) approximately satisfies  $1 = \\frac{n}{2^T}$, meaning that $T\\approx \\log_2(n)$. Up to an additive constant depending on the other operations, $T$ is essentially the execution time of binary search in the worst case, from which we get that the complexity is $O(\\log(n))$"
   ]
  },
  {
   "cell_type": "code",
   "execution_count": null,
   "id": "d21312b1-a917-4acc-82d9-fc5636178d22",
   "metadata": {},
   "outputs": [],
   "source": []
  },
  {
   "cell_type": "markdown",
   "id": "eb9716c7-461f-4a93-8b5e-fb9051074f60",
   "metadata": {},
   "source": [
    "### 2.d - From $O(n^2)$ to $O(n)$ Example: Prefix averages\n",
    "\n",
    "A prefix average of a finite sequence $\\{a_i\\}_{i=0}^{n-1}$ is a mean of the form:\n",
    "$$S_j = \\tfrac{1}{j+1}\\sum_{i = 0}^{j-1}a_j, \\ \\ j=0,\\cdots, (n-1).$$\n",
    "\n",
    "In this example, we want to write a function that takes an array of numbers as input and outputs the array of prefix averages. The naive implementation would have an $O(n^2)$ time complexity, but this algorithm can be reduced to linear complexity. To see this, we note the recursion:\n",
    "$$(j+1)S_j+a_{j+1} = (j+2)S_{j+1}, \\ \\ j=0,\\cdots, (n-2),$$\n",
    "so that $S_{j+1}$ can be computed from $S_j$ and $a_{j+1}$:\n",
    "$$S_{j+1} = \\tfrac{1}{(j+2)} \\left( (j+1)S_j+a_{j+1}\\right), \\ \\ j=0,\\cdots, (n-2).$$\n",
    "\n",
    "A further simplification is to simply keep track of the current sum of elements in the array, and divide it by the number of elements.\n",
    "\n",
    "In the implementation below, we initialize our output list by filling it with a known number of zeros. We do this to avoid the use of the *append()* method."
   ]
  },
  {
   "cell_type": "code",
   "execution_count": null,
   "id": "6de671b3-5344-48ba-84ff-21061201c7b3",
   "metadata": {},
   "outputs": [],
   "source": [
    "def get_prefix_averages(arr):\n",
    "    '''\n",
    "        Function to compute prefix averages\n",
    "        \n",
    "        :param arr: Array of numbers [a_0, ..., a_(n-1)]\n",
    "        :return avg_arr: Array whose i-th index is the average of [a_0, ..., a_i]\n",
    "    '''\n",
    "    N = len(arr)\n",
    "    avg_arr = [0]*N\n",
    "    current_sum = 0.0\n",
    "    \n",
    "    for i in range(N):\n",
    "        \n",
    "        current_sum += arr[i]\n",
    "        avg_arr[i] = current_sum/(i+1)\n",
    "        \n",
    "    '''\n",
    "        # My alternative\n",
    "    \n",
    "    avg_arr[0] = arr[0]\n",
    "    \n",
    "    for i in range(1,N):\n",
    "        avg_arr[i] = current_sum/(i+1)\n",
    "    '''\n",
    "    \n",
    "    return avg_arr\n",
    "        "
   ]
  },
  {
   "cell_type": "markdown",
   "id": "ec7b5cf6-fe7a-491f-b5f9-c665917fcb91",
   "metadata": {},
   "source": [
    "### 2.e - From $O(n^2)$ to $O(n\\log(n))$ Example: Three-way set disjointness\n",
    "\n"
   ]
  },
  {
   "cell_type": "markdown",
   "id": "6bc79049-3cba-4e1f-8cb7-44ab0f0da4bb",
   "metadata": {},
   "source": [
    "### 2.f - From $O(n^2)$ to $O(n\\log(n))$ Example: Sorting as a problem solving tool"
   ]
  },
  {
   "cell_type": "code",
   "execution_count": null,
   "id": "26c86919-6f7c-4a6e-9ea7-e3806303e155",
   "metadata": {},
   "outputs": [],
   "source": []
  }
 ],
 "metadata": {
  "kernelspec": {
   "display_name": "Python 3 (ipykernel)",
   "language": "python",
   "name": "python3"
  },
  "language_info": {
   "codemirror_mode": {
    "name": "ipython",
    "version": 3
   },
   "file_extension": ".py",
   "mimetype": "text/x-python",
   "name": "python",
   "nbconvert_exporter": "python",
   "pygments_lexer": "ipython3",
   "version": "3.9.16"
  }
 },
 "nbformat": 4,
 "nbformat_minor": 5
}
