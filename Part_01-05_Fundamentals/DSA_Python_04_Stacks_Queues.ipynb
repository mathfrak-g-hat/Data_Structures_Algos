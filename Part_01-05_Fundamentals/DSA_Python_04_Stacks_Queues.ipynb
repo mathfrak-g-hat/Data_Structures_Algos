{
 "cells": [
  {
   "cell_type": "markdown",
   "id": "10de5546-3759-4fc4-84e9-2b28cdd69620",
   "metadata": {},
   "source": [
    "# Data Structures and Algorithms in Python - Ch.6: Stacks, Queues and Deques\n",
    "### AJ Zerouali, 2023/09/04"
   ]
  },
  {
   "cell_type": "markdown",
   "id": "36f0e53a-9a6a-47cf-a48c-9c137f1975eb",
   "metadata": {},
   "source": [
    "## 0) Introduction\n",
    "\n",
    "These notes discuss the stack, queue and deque classes of Python's collections module. \n",
    "\n",
    "**References:**\n",
    "\n",
    "- Chapter 6 of \"Data structures and algorithms in Python\", by Goodrich, Tamassia and Goldwasser (primary). \n",
    "- Section 13 of \"Python for Data Structures, Algorithms, and Interviews!\" by Jose Portilla.\n",
    "\n",
    "#### To do (23/09/04):\n",
    "\n",
    "- Clarify why these ADTs are so important. Other than Goodrich-Tamassia-Goldwasser's implementation with circular arrays, which is illuminating in terms of optimizing space allocation and time complexity of new allocations, I fail to see why these data structures are important in practice.\n",
    "- These data may be relevant if we use pointers in a low-level language such as C, but for a high-level language such as Python, we already have the built-in *collections.deque* class.\n"
   ]
  },
  {
   "cell_type": "markdown",
   "id": "f5b5eddd-3a0d-42a0-aedf-1da4f1e26cb6",
   "metadata": {},
   "source": [
    "## 1) Stacks, Queues and Deques - Basics\n",
    "\n"
   ]
  },
  {
   "cell_type": "markdown",
   "id": "0bea65fd-473b-4c60-907b-ea539727150e",
   "metadata": {},
   "source": [
    "### 1.a - Stacks\n",
    "\n",
    "A stack is a **last-in first-out (LIFO)** data structure, with no restriction on the class of elements it contains. There are 2 operations that are used on stacks: *push()* that adds a new element to the *top* of the stack, and *pop()* that removes the *top* element in the stack. Concretely, a *Stack* class based on a Python list is implemented as follows:"
   ]
  },
  {
   "cell_type": "code",
   "execution_count": null,
   "id": "18b6e7f9-8b6d-442e-92eb-da3356798155",
   "metadata": {},
   "outputs": [],
   "source": [
    "class Stack:\n",
    "    \n",
    "    def __init__(self):\n",
    "        '''\n",
    "            Instantiate empty stack\n",
    "        '''\n",
    "        self.array = []\n",
    "    \n",
    "    def push(self, elem):\n",
    "        '''\n",
    "            Add \"elem\" to the stack\n",
    "        '''\n",
    "        self.array.append(elem)\n",
    "    \n",
    "    def pop(self):\n",
    "        '''\n",
    "            Remove last element from stack and return it.\n",
    "        '''\n",
    "        if self.is_empty():\n",
    "            raise ValueError(\"Stack is empty!\")\n",
    "        \n",
    "        elem = self.array[-1]\n",
    "        self.array = self.array[:-1]\n",
    "        \n",
    "        return elem\n",
    "    \n",
    "    def top(self):\n",
    "        '''\n",
    "            Return last element pushed to the stack.\n",
    "        '''\n",
    "        if self.is_empty():\n",
    "            raise ValueError(\"Stack is empty!\")\n",
    "        \n",
    "        return self.array[-1]\n",
    "    \n",
    "    def is_empty(self):\n",
    "        '''\n",
    "            Return True if stack is empty.\n",
    "        '''\n",
    "        return (len(self.array)==0)\n",
    "    \n",
    "    def __len__(self):\n",
    "        '''\n",
    "            Return number of elements in current stack.\n",
    "        '''\n",
    "        return len(self.array)\n",
    "        "
   ]
  },
  {
   "cell_type": "markdown",
   "id": "98f44731-c1d6-425a-ae51-fa80602d5bdc",
   "metadata": {},
   "source": [
    "#### Comment on the implementation:\n",
    "\n",
    "In both Goodrich-Tamassia-Goldwasser and Portilla's course, the *pop()* method wraps Python's *list* class *pop()* method. "
   ]
  },
  {
   "cell_type": "markdown",
   "id": "f1d93a95-adaa-4018-9f6f-31d119fed911",
   "metadata": {},
   "source": [
    "#### Where stacks are used in practice:\n",
    "\n",
    "Here are some practical examples of how stacks are used:\n",
    "- In internet browsers, the list of pages visited constitute a stack. The present page is the *top* of the stack, and going to the previous page is similar to applying the *pop()* method.\n",
    "- In text processing, the changes made to a file are stored in a stack. The *pop()* method here is the \"undo\" command.\n",
    "- In Python, the usual *list* class is the default implementation of a stack, except that it has many more functionalities than the abstract data type discussed here.\n"
   ]
  },
  {
   "cell_type": "markdown",
   "id": "3de83f3e-bb9a-4f1d-b5ac-a6fe5987d2b9",
   "metadata": {},
   "source": [
    "### 1.b - Queues\n",
    "\n",
    "A queue is a **first-in first-out (FIFO)** data structure, with no restriction on the class of elements it contains. As the name suggests, the difference with a stack is that the first element added, or *enqueued*, is the first one to be removed, or *dequeued*.\n",
    "\n",
    "In practice, a queue can be implemented as follows:"
   ]
  },
  {
   "cell_type": "code",
   "execution_count": null,
   "id": "b916d11e-ee1d-4ad2-9d70-251add7ca260",
   "metadata": {},
   "outputs": [],
   "source": [
    "class Queue:\n",
    "    \n",
    "    def __init__(self):\n",
    "        '''\n",
    "            Instantiate an empty queue\n",
    "        '''\n",
    "        self.array = []\n",
    "    \n",
    "    def __len__(self):\n",
    "        '''\n",
    "            Return the length of the queue\n",
    "        '''\n",
    "        return len(self.array)\n",
    "    \n",
    "    def is_empty(self):\n",
    "        '''\n",
    "            Return True if the queue is empty\n",
    "        '''\n",
    "        return (len(self.array)==0)\n",
    "    \n",
    "    def enqueue(self, elem):\n",
    "        '''\n",
    "            Add an element to the \"back\" of the queue\n",
    "        '''\n",
    "        self.array.append(elem)\n",
    "        \n",
    "    def dequeue(self):\n",
    "        '''\n",
    "            Remove element at the \"front\" of the queue and\n",
    "            return.\n",
    "        '''\n",
    "        if self.is_empty():\n",
    "            raise ValueError(\"Queue is empty!\")\n",
    "        \n",
    "        \n",
    "        elem = self.array[0]\n",
    "        self.array = self.array[1:]\n",
    "        \n",
    "        return elem\n",
    "    \n",
    "    def first(self):\n",
    "        '''\n",
    "            Return \"front\" element of the queue\n",
    "        '''\n",
    "        if self.is_empty():\n",
    "            raise ValueError(\"Queue is empty!\")\n",
    "            \n",
    "        return self.array[0]\n",
    "        \n",
    "    "
   ]
  },
  {
   "cell_type": "markdown",
   "id": "f21d6466-ddce-4652-b31f-ce008e48d507",
   "metadata": {},
   "source": [
    "#### Comments on the implementation\n",
    "\n",
    "- Portilla's implementation is different from mine. For him, the end of the queue is index 0 instead of *len(array)-1*. As such, he uses *list.insert(0, item)* to add new elements to the queue, but still uses *list.pop()* to remove the front element.\n",
    "- In Goodrich-Tamassia-Goldwasser, the authors opt for a more optimal implementation with a circular array, see code fragment 6.6-7 on pp.243-244. The difference is that they keep the same element order as I did above, which is the reverse of Portilla's."
   ]
  },
  {
   "cell_type": "markdown",
   "id": "2fb5c4a5-3f06-4580-a5c0-014e21bc4bd4",
   "metadata": {},
   "source": [
    "A good mental model of a queue is precisely what the name is (e.g. calls to a data center or a line of customers at a shop). Other than that, I can't seem to find practical applications in CS for queues (other than their implementation using linked lists). Queues are not implemented explicitly in Python as such either, unless we think of them as a special case of a deque."
   ]
  },
  {
   "cell_type": "markdown",
   "id": "eea48b47-bec7-4da3-96e4-273b0ee1c282",
   "metadata": {},
   "source": [
    "### 1.c - Deques\n",
    "\n",
    "Deques, or doubly-ended queues, are linear data structures that simultaneously generalize stacks and queues. Python has a built-in deque class, namely *collections.deque*.\n",
    "\n",
    "We borrow Goodrich-Tamassia-Goldwasser's implementation of a deque, which uses *circular arrays*.\n",
    "\n"
   ]
  },
  {
   "cell_type": "code",
   "execution_count": 19,
   "id": "23b6b75e-d8ae-4270-9d09-bfe2a1fda0a8",
   "metadata": {},
   "outputs": [],
   "source": [
    "class Deque:\n",
    "    \n",
    "    DEFAULT_CAPACITY = 10\n",
    "    \n",
    "    def __init__(self):\n",
    "        '''\n",
    "            Instantiate an empty queue\n",
    "        '''\n",
    "        self._array = [None]*Deque.DEFAULT_CAPACITY\n",
    "        self._length = 0\n",
    "        self._first =0\n",
    "        #self._last =0\n",
    "    \n",
    "    def __len__(self):\n",
    "        '''\n",
    "            Return the length of the queue\n",
    "        '''\n",
    "        return self._length\n",
    "    \n",
    "    def resize(self, new_size):\n",
    "        '''\n",
    "            Resize the array underlying the deque\n",
    "        '''\n",
    "        temp_arr = self._array\n",
    "        self._array = [None]*new_size\n",
    "        i = self._first\n",
    "        for k in range(self._length):\n",
    "            self._array[k] = temp_arr[i]\n",
    "            i = (i+1)%len(temp_arr)\n",
    "        self._first = 0 # Resets the index of first elt\n",
    "    \n",
    "    def is_empty(self):\n",
    "        '''\n",
    "            Return True if the queue is empty\n",
    "        '''\n",
    "        return (self._length==0)\n",
    "    \n",
    "    def first(self):\n",
    "        '''\n",
    "            Return first element in the deque\n",
    "        '''\n",
    "        if self._length == 0:\n",
    "            raise IndexError(\"Deque is empty\")\n",
    "        return self._array[self._first]\n",
    "    \n",
    "    def add_first(self, elem):\n",
    "        '''\n",
    "            Add an element to the \"front\" of the deque\n",
    "        '''\n",
    "        # If array is full, double _array's allocated space\n",
    "        if self._length == len(self._array):\n",
    "            self.resize(2*len(self._array))\n",
    "        avail = (self._first+self._length)%len(self._array)\n",
    "        self._array[avail] = elem\n",
    "        self._length += 1\n",
    "        \n",
    "        \n",
    "    def delete_first(self):\n",
    "        '''\n",
    "            Remove and return first element of the deque\n",
    "        '''\n",
    "        if self._length == 0:\n",
    "            raise IndexError(\"Deque is empty\")\n",
    "        first = self._array[self._first]\n",
    "        self._array[self._first] = None\n",
    "        self._first = (self._first +1)%len(self._array)\n",
    "        self._length -= 1\n",
    "        return first\n",
    "    \n",
    "    def last(self):\n",
    "        '''\n",
    "            Return last element in the deque\n",
    "        '''\n",
    "        if self._length == 0:\n",
    "            raise IndexError(\"Deque is empty\")\n",
    "        last_idx = (self._first+self._length-1)%len(self._array)\n",
    "        return self._array[last_idx]\n",
    "    \n",
    "    def add_last(self, elem):\n",
    "        '''\n",
    "            Return last element of the deque\n",
    "        '''\n",
    "        if self._length == 0:\n",
    "            raise IndexError(\"Deque is empty\")\n",
    "        # If array is full, double _array's allocated space\n",
    "        if self._length == len(self._array):\n",
    "            self.resize(2*len(self._array))\n",
    "        avail = (self._first+self._length)%len(self._array)\n",
    "        self._array[avail] = elem\n",
    "        self._length += 1\n",
    "    \n",
    "    def delete_last(self):\n",
    "        '''\n",
    "            Remove and return last element of deque\n",
    "        '''\n",
    "        if self._length == 0:\n",
    "            raise IndexError(\"Deque is empty\")\n",
    "        last = self._array[(self._first+self._length-1)%len(self._array)]\n",
    "        self._array[(self._first+self._length-1)%len(self._array)] = None\n",
    "        self._length -= 1\n",
    "        return last\n",
    "    "
   ]
  },
  {
   "cell_type": "markdown",
   "id": "41862a5b-9e63-4b7d-b404-ac86eda784c0",
   "metadata": {},
   "source": [
    "#### Comments on the implementation:\n",
    "\n",
    "As mentioned in section 6.2.2 Goodrich-Tamassia-Goldwasser:\n",
    "1) We use this implementation of the *add_first()* and *add_last()* methods to avoid using the *pop(0)* method. The latter has a $\\Theta(n)$ time complexity (worst case).\n",
    "2) The other issue is the time complexity of the *list.insert()* method, which has $O(m)$ time complexity if $m$ elements are added. We thus use the pre-allocation of the list size and double the size after a fixed number of steps.\n"
   ]
  },
  {
   "cell_type": "markdown",
   "id": "19c26cd4-2e0c-4cf5-be28-3c916c080068",
   "metadata": {},
   "source": [
    "## 2) Introductory exercises\n",
    "\n",
    "In this part we go through two interview problems involving stacks, queues and deques. These correspond to lectures 76-79 in section 13 of Portilla's DSA course."
   ]
  },
  {
   "cell_type": "markdown",
   "id": "011f4c38-4849-4d65-b34d-612e895750f6",
   "metadata": {},
   "source": [
    "### Exercise 1: Balanced parentheses check\n",
    "\n",
    "Original link: https://github.com/jmportilla/Python-for-Algorithms--Data-Structures--and-Interviews/blob/master/03-Stacks%2C%20Queues%20and%20Deques/Stacks%2C%20Queues%2C%20and%20Deques%20Interview%20Problems/04-Balanced-Parantheses-Check/04-Balanced%20Parentheses%20Check%20.ipynb\n",
    "\n",
    "\n",
    "Given a string of opening and closing parentheses, check whether it’s balanced. We have 3 types of parentheses: round brackets: (), square brackets: [], and curly brackets: {}. Assume that the string doesn’t contain any other character than these, no spaces words or numbers. As a reminder, balanced parentheses require every opening parenthesis to be closed in the reverse order opened. For example ‘([])’ is balanced but ‘([)]’ is not.\n",
    "\n",
    "You can assume the input string has no spaces."
   ]
  },
  {
   "cell_type": "code",
   "execution_count": null,
   "id": "cba7c82b-ec57-4b57-8310-481e4a118d0d",
   "metadata": {},
   "outputs": [],
   "source": [
    "def balance_check(s):\n",
    "    \n",
    "    pass"
   ]
  },
  {
   "cell_type": "code",
   "execution_count": null,
   "id": "d2697156-3d9a-4b0e-8814-6eec5b6f74fd",
   "metadata": {},
   "outputs": [],
   "source": [
    "balance_check('[]')"
   ]
  },
  {
   "cell_type": "code",
   "execution_count": null,
   "id": "3c6db493-7d29-4aad-8cbf-b9f6a6a88b9b",
   "metadata": {},
   "outputs": [],
   "source": [
    "balance_check('[](){([[[]]])}')"
   ]
  },
  {
   "cell_type": "code",
   "execution_count": null,
   "id": "a6a58abb-aac2-478a-9c67-bcef241672c9",
   "metadata": {},
   "outputs": [],
   "source": [
    "balance_check('()(){]}')"
   ]
  },
  {
   "cell_type": "code",
   "execution_count": null,
   "id": "dd04ff4f-b6e0-45f1-80fa-ca1c6cdf321a",
   "metadata": {},
   "outputs": [],
   "source": [
    "\"\"\"\n",
    "RUN THIS CELL TO TEST YOUR SOLUTION\n",
    "\"\"\"\n",
    "from nose.tools import assert_equal\n",
    "\n",
    "class TestBalanceCheck(object):\n",
    "    \n",
    "    def test(self,sol):\n",
    "        assert_equal(sol('[](){([[[]]])}('),False)\n",
    "        assert_equal(sol('[{{{(())}}}]((()))'),True)\n",
    "        assert_equal(sol('[[[]])]'),False)\n",
    "        print('ALL TEST CASES PASSED')\n",
    "        \n",
    "# Run Tests\n",
    "\n",
    "t = TestBalanceCheck()\n",
    "t.test(balance_check)"
   ]
  },
  {
   "cell_type": "markdown",
   "id": "85eb3f93-6a14-4977-94fe-56278933a1ea",
   "metadata": {},
   "source": [
    "#### Solution\n",
    "\n",
    "My approach is of $O(n^2)$ complexity, and uses a queue and a stack to solve this problem. Instead of using custom classes for these data structrues, I use Python's *deque* class."
   ]
  },
  {
   "cell_type": "code",
   "execution_count": 1,
   "id": "dcc845f9-92cc-45e4-847e-d0f2268451f9",
   "metadata": {},
   "outputs": [],
   "source": [
    "from collections import deque"
   ]
  },
  {
   "cell_type": "code",
   "execution_count": 6,
   "id": "6fe4c2f9-9c22-4af2-9f24-36d55705809d",
   "metadata": {},
   "outputs": [],
   "source": [
    "def balance_check(string):\n",
    "    '''\n",
    "        Check that string contains only balanced \n",
    "        combinations of (), [] and {}.\n",
    "        \n",
    "        :param string: Input string, which contains only\n",
    "            the characters (, ), [, ], {, and }.\n",
    "        :return str_is_balanced: True if all parentheses\n",
    "            and brackets are balanced\n",
    "            \n",
    "        NOTE: This implementation is incorrect\n",
    "    '''\n",
    "    # Init. str\n",
    "    N = len(string)\n",
    "    \n",
    "    # Edge case\n",
    "    if N == 0:\n",
    "        return True\n",
    "    \n",
    "    \n",
    "    # Check that string contains only admissible characters\n",
    "    adm_chars = set([\"(\", \"[\", \"{\", \")\", \"]\", \"}\"])\n",
    "    i = 0\n",
    "    while i<N:\n",
    "        if string[i] not in adm_chars:\n",
    "            raise ValueError(\"Input string should only contain parentheses and brackets\")\n",
    "        i+=1\n",
    "    \n",
    "    # If the input string is of odd length return False\n",
    "    if N%2 == 1:\n",
    "        return False\n",
    "    '''\n",
    "    INCORRECT\n",
    "    # Inits for generic case\n",
    "    cont = deque(list(string))\n",
    "    str_is_balanced = True\n",
    "    verif_dict = {\"(\": \")\", \"[\":\"]\", \"{\":\"}\"}\n",
    "    \n",
    "    while len(cont) >0:\n",
    "        left = cont.popleft()\n",
    "        right = cont.pop()\n",
    "        if right != verif_dict[left]:\n",
    "            str_is_balanced = False\n",
    "            return str_is_balanced\n",
    "    '''\n",
    "    \n",
    "    cont = deque(list(string)) # Main queue\n",
    "    verif_dict = {\"(\": \")\", \"[\":\"]\", \"{\":\"}\"}\n",
    "    str_is_balanced = True\n",
    "    while len(cont)>0:\n",
    "        tmp_cont = deque() # Temporary stack\n",
    "        if cont[0] not in verif_dict:\n",
    "            return False\n",
    "        while cont[0] in verif_dict:\n",
    "            tmp_cont.append(cont.popleft())\n",
    "        while len(tmp_cont)>0:\n",
    "            if cont[0] == verif_dict[tmp_cont[-1]]:\n",
    "                cont.popleft()\n",
    "                tmp_cont.pop()\n",
    "            else:\n",
    "                return False\n",
    "    \n",
    "    return str_is_balanced"
   ]
  },
  {
   "cell_type": "code",
   "execution_count": 7,
   "id": "3845ab5d-3c77-4309-8d41-1a151b594e05",
   "metadata": {},
   "outputs": [
    {
     "data": {
      "text/plain": [
       "True"
      ]
     },
     "execution_count": 7,
     "metadata": {},
     "output_type": "execute_result"
    }
   ],
   "source": [
    "balance_check('[]')"
   ]
  },
  {
   "cell_type": "code",
   "execution_count": 8,
   "id": "9edda9ba-c55a-4147-9e43-a5c5a9fb42d6",
   "metadata": {},
   "outputs": [
    {
     "data": {
      "text/plain": [
       "True"
      ]
     },
     "execution_count": 8,
     "metadata": {},
     "output_type": "execute_result"
    }
   ],
   "source": [
    "balance_check('[](){([[[]]])}')"
   ]
  },
  {
   "cell_type": "code",
   "execution_count": 9,
   "id": "f3b307d6-9377-4908-963d-366111cc7c07",
   "metadata": {},
   "outputs": [
    {
     "data": {
      "text/plain": [
       "False"
      ]
     },
     "execution_count": 9,
     "metadata": {},
     "output_type": "execute_result"
    }
   ],
   "source": [
    "balance_check('()(){]}')"
   ]
  },
  {
   "cell_type": "code",
   "execution_count": 10,
   "id": "2188db29-4cb2-476f-b10d-3f81758f8bb5",
   "metadata": {},
   "outputs": [
    {
     "name": "stdout",
     "output_type": "stream",
     "text": [
      "ALL TEST CASES PASSED\n"
     ]
    }
   ],
   "source": [
    "'''\n",
    "    TEST CELL\n",
    "'''\n",
    "from nose.tools import assert_equal\n",
    "\n",
    "class TestBalanceCheck(object):\n",
    "    \n",
    "    def test(self,sol):\n",
    "        assert_equal(sol('[](){([[[]]])}('),False)\n",
    "        assert_equal(sol('[{{{(())}}}]((()))'),True)\n",
    "        assert_equal(sol('[[[]])]'),False)\n",
    "        print('ALL TEST CASES PASSED')\n",
    "        \n",
    "# Run Tests\n",
    "\n",
    "t = TestBalanceCheck()\n",
    "t.test(balance_check)"
   ]
  },
  {
   "cell_type": "markdown",
   "id": "050a6d7e-9525-4444-a0d4-cb37c23bba02",
   "metadata": {},
   "source": [
    "It is possible to solve this problem in $O(n)$ time using a stack only."
   ]
  },
  {
   "cell_type": "code",
   "execution_count": null,
   "id": "70b4d3dc-de60-4ce4-9d91-7db644f81377",
   "metadata": {},
   "outputs": [],
   "source": []
  },
  {
   "cell_type": "markdown",
   "id": "7a93823c-56e2-42ef-831d-1bf4da4f471c",
   "metadata": {
    "tags": []
   },
   "source": [
    "### Exercise 2: Implementing a queue using 2 stacks\n",
    "\n",
    "Given the Stack class below, implement a Queue class using two stacks! Note, this is a \"classic\" interview problem. Use a Python list data structure as your Stack."
   ]
  },
  {
   "cell_type": "code",
   "execution_count": null,
   "id": "8ff7f18f-c7ba-4b95-ac36-b7896eb6834f",
   "metadata": {},
   "outputs": [],
   "source": [
    "class Queue2Stacks(object):\n",
    "    \n",
    "    def __init__(self):\n",
    "        \n",
    "        # Two Stacks\n",
    "        self.stack1 = []\n",
    "        self.stack2 = []\n",
    "     \n",
    "    def enqueue(self,element):\n",
    "        \n",
    "        # FILL OUT CODE HERE\n",
    "        pass\n",
    "    \n",
    "    def dequeue(self):\n",
    "        \n",
    "        # FILL OUT CODE HERE\n",
    "        pass  "
   ]
  },
  {
   "cell_type": "code",
   "execution_count": null,
   "id": "7eae85ff-b636-406f-984e-6e8ef5f60afb",
   "metadata": {},
   "outputs": [],
   "source": [
    "\"\"\"\n",
    "RUN THIS CELL TO CHECK THAT YOUR SOLUTION OUTPUT MAKES SENSE AND BEHAVES AS A QUEUE\n",
    "\"\"\"\n",
    "q = Queue2Stacks()\n",
    "\n",
    "for i in range(5):\n",
    "    q.enqueue(i)\n",
    "    \n",
    "for i in range(5):\n",
    "    print(q.dequeue())"
   ]
  },
  {
   "cell_type": "markdown",
   "id": "b9cffc52-b6df-4574-b7db-e6038a6dc254",
   "metadata": {},
   "source": [
    "#### Solution"
   ]
  },
  {
   "cell_type": "code",
   "execution_count": 11,
   "id": "7906ec5c-ee7a-47ef-b1d3-d1f7592e445a",
   "metadata": {},
   "outputs": [],
   "source": [
    "class Queue2Stacks(object):\n",
    "    \n",
    "    def __init__(self):\n",
    "        \n",
    "        # Two Stacks\n",
    "        self.stack1 = []\n",
    "        self.stack2 = []\n",
    "    \n",
    "    def __len__(self):\n",
    "        return len(self.stack1)\n",
    "    \n",
    "    def is_empty(self):\n",
    "        return len(self.stack1)==0\n",
    "    \n",
    "    def front(self):\n",
    "        return self.stack1[0]\n",
    "     \n",
    "    def enqueue(self, element):\n",
    "        \n",
    "        # Invert stack1 \n",
    "        while len(self.stack1)>0:\n",
    "            self.stack2.append(self.stack1.pop())\n",
    "        # Push new element to stack1\n",
    "        ## This is a very inefficient way of \n",
    "        self.stack1.append(element)\n",
    "        while len(self.stack2)>0:\n",
    "            self.stack1.append(self.stack2.pop())\n",
    "            \n",
    "        \n",
    "    def dequeue(self):\n",
    "        \n",
    "        if self.is_empty():\n",
    "            raise IndexError(\"Queue is empty\")\n",
    "        \n",
    "        return self.stack1.pop()"
   ]
  },
  {
   "cell_type": "code",
   "execution_count": null,
   "id": "a843d572-8a97-4911-8da2-7d6bb0ca1452",
   "metadata": {},
   "outputs": [],
   "source": []
  },
  {
   "cell_type": "code",
   "execution_count": null,
   "id": "2dfdf099-655c-4460-8e42-5b68d677f16b",
   "metadata": {},
   "outputs": [],
   "source": []
  },
  {
   "cell_type": "code",
   "execution_count": null,
   "id": "e61d4efd-87bc-4c60-9583-490a32c57ee9",
   "metadata": {},
   "outputs": [],
   "source": []
  },
  {
   "cell_type": "code",
   "execution_count": null,
   "id": "5ff3e181-10a1-4538-a314-5cfb59ec1772",
   "metadata": {},
   "outputs": [],
   "source": []
  },
  {
   "cell_type": "code",
   "execution_count": null,
   "id": "69637d9d-af8e-4840-ba49-f02861f3a1c3",
   "metadata": {},
   "outputs": [],
   "source": []
  }
 ],
 "metadata": {
  "kernelspec": {
   "display_name": "Python 3 (ipykernel)",
   "language": "python",
   "name": "python3"
  },
  "language_info": {
   "codemirror_mode": {
    "name": "ipython",
    "version": 3
   },
   "file_extension": ".py",
   "mimetype": "text/x-python",
   "name": "python",
   "nbconvert_exporter": "python",
   "pygments_lexer": "ipython3",
   "version": "3.9.16"
  }
 },
 "nbformat": 4,
 "nbformat_minor": 5
}
