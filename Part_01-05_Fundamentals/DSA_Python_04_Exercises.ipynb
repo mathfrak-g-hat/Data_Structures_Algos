{
 "cells": [
  {
   "cell_type": "markdown",
   "id": "79f6d43b-acd5-46e8-92c3-e9210e5f69db",
   "metadata": {},
   "source": [
    "# Data Structures and Algorithms in Python - Ch.6: Stacks, Queues and Deques - Exercises\n",
    "### AJ Zerouali, 2023/09/01"
   ]
  },
  {
   "cell_type": "markdown",
   "id": "36f0e53a-9a6a-47cf-a48c-9c137f1975eb",
   "metadata": {},
   "source": [
    "## 0) Introduction\n",
    "\n",
    "These are some exercises for stack, queues and deques. \n",
    "\n",
    "**References:**\n",
    "\n",
    "- Chapter 6 of \"Data structures and algorithms in Python\", by Goodrich, Tamassia and Goldwasser (primary). \n",
    "- Section 13 of \"Python for Data Structures, Algorithms, and Interviews!\" by Jose Portilla.\n"
   ]
  },
  {
   "cell_type": "markdown",
   "id": "f5b5eddd-3a0d-42a0-aedf-1da4f1e26cb6",
   "metadata": {},
   "source": [
    "## Exercise 1:\n"
   ]
  },
  {
   "cell_type": "code",
   "execution_count": null,
   "id": "d204cb82-9da5-4446-b046-9f231fb1d3ec",
   "metadata": {},
   "outputs": [],
   "source": []
  }
 ],
 "metadata": {
  "kernelspec": {
   "display_name": "Python 3 (ipykernel)",
   "language": "python",
   "name": "python3"
  },
  "language_info": {
   "codemirror_mode": {
    "name": "ipython",
    "version": 3
   },
   "file_extension": ".py",
   "mimetype": "text/x-python",
   "name": "python",
   "nbconvert_exporter": "python",
   "pygments_lexer": "ipython3",
   "version": "3.9.16"
  }
 },
 "nbformat": 4,
 "nbformat_minor": 5
}
