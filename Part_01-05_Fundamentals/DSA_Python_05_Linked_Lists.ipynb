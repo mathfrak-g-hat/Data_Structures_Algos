{
 "cells": [
  {
   "cell_type": "markdown",
   "id": "10de5546-3759-4fc4-84e9-2b28cdd69620",
   "metadata": {},
   "source": [
    "# Data Structures and Algorithms in Python - Ch.7: Linked Lists\n",
    "### AJ Zerouali, 2023/09/12"
   ]
  },
  {
   "cell_type": "markdown",
   "id": "36f0e53a-9a6a-47cf-a48c-9c137f1975eb",
   "metadata": {},
   "source": [
    "## 0) Introduction\n",
    "\n",
    "Linked lists were one of the last chapters in my first programming course in 2007. In 2010, I failed an interview at Ubisoft because I forgot everything I knew about this data structure. I hereby pledge to take my revenge against linked lists in these notes.\n",
    "\n",
    "**References:**\n",
    "\n",
    "- Chapter 7 of \"Data structures and algorithms in Python\", by Goodrich, Tamassia and Goldwasser (primary). \n",
    "- Section 14 of \"Python for Data Structures, Algorithms, and Interviews!\" by Jose Portilla.\n",
    "\n",
    "**Comments:**\n",
    "\n",
    "- Portilla gives a rather shallow account of linked lists, and skips over circularly linked lists and positional lists.\n",
    "- Just like stacks and queues, chapter 7 of [GTG13] focuses on the abstract data type and the efficiency of the typical operations. A useful summary is given in the last section of the chapter, 7.7, where array-based and link-based sequences are compared.\n",
    "- My main issue with this chapter is the lack of information on the practical use of linked lists. The Wikipedia page mentions that stacks and queues are can be implemented using linked lists (then why discuss them before linked lists...), and draws some vague relations with other data structures. \n",
    "- I really fail to see how these data structures are useful when building software with Python, and honestly, I also fail to see their theoretical relevance. Many pages are devoted to explanations and \"real world\" examples that have nothing to do with computer science, and not dealing with pointers in Python actually makes the conceptualization more difficult. \n",
    "\n",
    "#### To do (23/09/10):\n",
    "\n",
    "- Table of contents?\n",
    "- A word on the practical applications of each case will be important here. \n",
    "- WTF are positional lists?\n",
    "\n",
    "**Note (23/09/12):**\n",
    "There doesn't seem to be much to say about linked lists from the fundamental perspective. [GTG13] cover more material than Portilla's course, but instead of summarizing their exposition immediately, I will continue my first sweep of the DSA material. Whenever I find important things to say I will return here to add notes.\n",
    "At present, the most important takeaway is the trick of Exercise 1 on cycle detection. That trick reduces the naive tiome complexity $O(n^3)$ to linear time, which is why I am emphasizing it.\n"
   ]
  },
  {
   "cell_type": "markdown",
   "id": "f5b5eddd-3a0d-42a0-aedf-1da4f1e26cb6",
   "metadata": {},
   "source": [
    "## 1) Linked lists\n",
    "\n",
    "Sections 7.1 to 7.3 of Goodrich-Tamassia-Goldwasser [GTG13]."
   ]
  },
  {
   "cell_type": "markdown",
   "id": "0bea65fd-473b-4c60-907b-ea539727150e",
   "metadata": {},
   "source": [
    "### 1.a - Singly linked lists\n",
    "\n",
    "This is section 7.1 of [GTG13].\n",
    "\n",
    "In brief:\n",
    "- A singly linked list is a collection of nodes, where each node consists of two attributes: An element or the value contained by the node, and a pointer to the next element (we'll call that the *next* pointer).\n",
    "- The first node of the linked list is called the *head*. The last node of the linked list is called the *tail*, whose *next* pointer is null (or points to None in Python). Adding the tail to an implementation of this ADT is optional.\n",
    "- The main methods of a linked list are\n"
   ]
  },
  {
   "cell_type": "code",
   "execution_count": null,
   "id": "a843d572-8a97-4911-8da2-7d6bb0ca1452",
   "metadata": {},
   "outputs": [],
   "source": []
  },
  {
   "cell_type": "code",
   "execution_count": null,
   "id": "2dfdf099-655c-4460-8e42-5b68d677f16b",
   "metadata": {},
   "outputs": [],
   "source": []
  },
  {
   "cell_type": "code",
   "execution_count": null,
   "id": "e61d4efd-87bc-4c60-9583-490a32c57ee9",
   "metadata": {},
   "outputs": [],
   "source": []
  },
  {
   "cell_type": "code",
   "execution_count": null,
   "id": "5ff3e181-10a1-4538-a314-5cfb59ec1772",
   "metadata": {},
   "outputs": [],
   "source": []
  },
  {
   "cell_type": "code",
   "execution_count": null,
   "id": "69637d9d-af8e-4840-ba49-f02861f3a1c3",
   "metadata": {},
   "outputs": [],
   "source": []
  },
  {
   "cell_type": "markdown",
   "id": "e3e2913a-db4c-4f06-b8ab-270f45fc6763",
   "metadata": {},
   "source": [
    "### 1.b - Circularly linked lists\n",
    "\n",
    "This is section 7.2 of [GTG13]."
   ]
  },
  {
   "cell_type": "code",
   "execution_count": null,
   "id": "40e1b874-b538-4656-ab28-b016ab9bc5f6",
   "metadata": {},
   "outputs": [],
   "source": []
  },
  {
   "cell_type": "code",
   "execution_count": null,
   "id": "517d31b1-cdad-4ab3-a157-2aa82e03bac5",
   "metadata": {},
   "outputs": [],
   "source": []
  },
  {
   "cell_type": "code",
   "execution_count": null,
   "id": "330ff0a6-f0d8-4543-983d-a14f51597b9b",
   "metadata": {},
   "outputs": [],
   "source": []
  },
  {
   "cell_type": "code",
   "execution_count": null,
   "id": "1d3b2121-d8b0-4fff-bed5-3c00ac778871",
   "metadata": {},
   "outputs": [],
   "source": []
  },
  {
   "cell_type": "code",
   "execution_count": null,
   "id": "b3bbe971-7477-472e-9c2b-7ba30cb61816",
   "metadata": {},
   "outputs": [],
   "source": []
  },
  {
   "cell_type": "markdown",
   "id": "ca7270b9-d114-43b9-9661-66cac25aca0a",
   "metadata": {},
   "source": [
    "### 1.c - Doubly linked lists\n",
    "\n",
    "This is section 7.3 of [GTG13]"
   ]
  },
  {
   "cell_type": "code",
   "execution_count": null,
   "id": "3994a7cb-eed1-4025-96e3-16b025acf9ab",
   "metadata": {},
   "outputs": [],
   "source": []
  },
  {
   "cell_type": "code",
   "execution_count": null,
   "id": "a23e8fd8-2aff-490b-b402-22023c76a31d",
   "metadata": {},
   "outputs": [],
   "source": []
  },
  {
   "cell_type": "code",
   "execution_count": null,
   "id": "b928a48e-3856-4a64-90a1-faa9c3d047cc",
   "metadata": {},
   "outputs": [],
   "source": []
  },
  {
   "cell_type": "code",
   "execution_count": null,
   "id": "bdcf8fff-df37-48b3-9b9b-1a7967143d23",
   "metadata": {},
   "outputs": [],
   "source": []
  },
  {
   "cell_type": "code",
   "execution_count": null,
   "id": "134c9097-c3cb-4603-a61a-3552b1c621be",
   "metadata": {},
   "outputs": [],
   "source": []
  },
  {
   "cell_type": "markdown",
   "id": "99f3effc-8446-4bdf-b36b-6a31eda7e9f8",
   "metadata": {},
   "source": [
    "## 2) Positional lists\n",
    "\n",
    "Section 7.4-7.7 of [GTG13]"
   ]
  },
  {
   "cell_type": "code",
   "execution_count": null,
   "id": "8c16a167-8feb-44e0-8be4-0ef9d39660da",
   "metadata": {},
   "outputs": [],
   "source": []
  },
  {
   "cell_type": "code",
   "execution_count": null,
   "id": "e47eb071-1a96-4931-9b10-ebd9bbf8fb86",
   "metadata": {},
   "outputs": [],
   "source": []
  },
  {
   "cell_type": "code",
   "execution_count": null,
   "id": "b8bd2d13-6160-4753-8528-62d1c97fdcd2",
   "metadata": {},
   "outputs": [],
   "source": []
  },
  {
   "cell_type": "code",
   "execution_count": null,
   "id": "30910d23-5434-40f0-9f30-434c9a8562a7",
   "metadata": {},
   "outputs": [],
   "source": []
  },
  {
   "cell_type": "code",
   "execution_count": null,
   "id": "71c4caeb-a748-4ee9-9460-1bc2d853deca",
   "metadata": {},
   "outputs": [],
   "source": []
  }
 ],
 "metadata": {
  "kernelspec": {
   "display_name": "Python 3 (ipykernel)",
   "language": "python",
   "name": "python3"
  },
  "language_info": {
   "codemirror_mode": {
    "name": "ipython",
    "version": 3
   },
   "file_extension": ".py",
   "mimetype": "text/x-python",
   "name": "python",
   "nbconvert_exporter": "python",
   "pygments_lexer": "ipython3",
   "version": "3.9.16"
  }
 },
 "nbformat": 4,
 "nbformat_minor": 5
}
