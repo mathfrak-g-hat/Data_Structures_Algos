{
 "cells": [
  {
   "cell_type": "markdown",
   "id": "79f6d43b-acd5-46e8-92c3-e9210e5f69db",
   "metadata": {},
   "source": [
    "# Data Structures and Algorithms in Python - Ch.5: Array-based Sequences\n",
    "### AJ Zerouali, 2023/09/01"
   ]
  },
  {
   "cell_type": "markdown",
   "id": "36f0e53a-9a6a-47cf-a48c-9c137f1975eb",
   "metadata": {},
   "source": [
    "## 0) Introduction\n",
    "\n",
    "These notes deal with built-in arrays in Python, namely lists, tuples and strings. \n",
    "\n",
    "**References:**\n",
    "\n",
    "- Chapter 5 of \"Data structures and algorithms in Python\", by Goodrich, Tamassia and Goldwasser (primary). \n",
    "- Section 12 of \"Python for Data Structures, Algorithms, and Interviews!\" by Jose Portilla.\n",
    "\n",
    "We skip section 5.1 here, as it only gives some generic overview of this chapter.\n",
    "\n",
    "#### To do (23/09/01):\n"
   ]
  },
  {
   "cell_type": "markdown",
   "id": "f5b5eddd-3a0d-42a0-aedf-1da4f1e26cb6",
   "metadata": {},
   "source": [
    "## 1) Low-level arrays\n",
    "\n",
    "Section 2.1 just covers the basics of how arrays are stored in the computer memory.\n",
    "\n",
    "Notes:\n",
    "- Mostly about referencing.\n",
    "- Python lists are acting more like arrays of pointers. This means that when extending a list or slicing it, we are in fact only changing the memory addresses and really copying the entries.\n",
    "- The above is what is called a \"shallow copy\" in Python. When we duplicate an object in the memory, this is what we call a \"deep copy\" (c.f. Python's *copy* module).\n",
    "- Assigning a value to a given list index is $O(1)$.\n",
    "- Accessing a fixed index in an array is done in $O(1)$ time.\n",
    "- Lists, tuples and strings are implemented in Python so that the two statements above are true."
   ]
  },
  {
   "cell_type": "markdown",
   "id": "71c8b39a-e365-4858-84e0-2446ff91cb93",
   "metadata": {},
   "source": [
    "## 2) Dynamic arrays and amortization\n",
    "\n",
    "### 2.a - Dynamic arrays\n",
    "\n",
    "As the name suggests, a dynamic array is one whose size and memory allocation are variable. For practical verifications in Python, we can use the *sys* module and the *getsizeof()* function to get the memory size of a given array."
   ]
  },
  {
   "cell_type": "markdown",
   "id": "c07ca1ac-6ec3-4c66-bd85-d70255097d77",
   "metadata": {},
   "source": [
    "#### Example 2.1:\n",
    "\n",
    "The sizes below are in bytes. Note how as we grow the array, Python grows the allocated memory in chunks."
   ]
  },
  {
   "cell_type": "code",
   "execution_count": 1,
   "id": "1a4804a2-5ad1-4401-b839-f9dbe6224092",
   "metadata": {},
   "outputs": [],
   "source": [
    "import sys"
   ]
  },
  {
   "cell_type": "code",
   "execution_count": 3,
   "id": "51e8d904-f3d8-4fb2-b669-735cea812b76",
   "metadata": {},
   "outputs": [
    {
     "name": "stdout",
     "output_type": "stream",
     "text": [
      "Empty array size:\n",
      "sys.getsizeof(array) = 56.\n",
      "len(array) = 1; sys.getsizeof(array) = 88.\n",
      "len(array) = 2; sys.getsizeof(array) = 88.\n",
      "len(array) = 3; sys.getsizeof(array) = 88.\n",
      "len(array) = 4; sys.getsizeof(array) = 88.\n",
      "len(array) = 5; sys.getsizeof(array) = 120.\n",
      "len(array) = 6; sys.getsizeof(array) = 120.\n",
      "len(array) = 7; sys.getsizeof(array) = 120.\n",
      "len(array) = 8; sys.getsizeof(array) = 120.\n",
      "len(array) = 9; sys.getsizeof(array) = 184.\n",
      "len(array) = 10; sys.getsizeof(array) = 184.\n",
      "len(array) = 11; sys.getsizeof(array) = 184.\n",
      "len(array) = 12; sys.getsizeof(array) = 184.\n",
      "len(array) = 13; sys.getsizeof(array) = 184.\n",
      "len(array) = 14; sys.getsizeof(array) = 184.\n",
      "len(array) = 15; sys.getsizeof(array) = 184.\n",
      "len(array) = 16; sys.getsizeof(array) = 184.\n",
      "len(array) = 17; sys.getsizeof(array) = 248.\n"
     ]
    }
   ],
   "source": [
    "array = []\n",
    "print(f\"Empty array size:\")\n",
    "print(f\"sys.getsizeof(array) = {sys.getsizeof(array)}.\")\n",
    "\n",
    "for i in range(17):\n",
    "    array.append(i)\n",
    "    print(f\"len(array) = {len(array)}; sys.getsizeof(array) = {sys.getsizeof(array)}.\")"
   ]
  },
  {
   "cell_type": "code",
   "execution_count": 4,
   "id": "85cf64f8-a5d1-42df-9852-38e457f08273",
   "metadata": {},
   "outputs": [
    {
     "data": {
      "text/plain": [
       "\u001b[0;31mDocstring:\u001b[0m\n",
       "getsizeof(object [, default]) -> int\n",
       "\n",
       "Return the size of object in bytes.\n",
       "\u001b[0;31mType:\u001b[0m      builtin_function_or_method\n"
      ]
     },
     "metadata": {},
     "output_type": "display_data"
    }
   ],
   "source": [
    "?sys.getsizeof"
   ]
  },
  {
   "cell_type": "markdown",
   "id": "38655bc2-7dc2-47d1-a9e7-5297653be384",
   "metadata": {},
   "source": [
    "_______________________________________________________________\n",
    "\n",
    "The main takeaway here is that Python's list class is a dynamic array implemented in a memory efficient way. \n",
    "\n",
    "The second example is an implementation of a dynamic array."
   ]
  },
  {
   "cell_type": "markdown",
   "id": "8649d85c-62f9-43fe-9409-f11a43cecc7c",
   "metadata": {},
   "source": [
    "### Example 2.2:\n",
    "\n",
    "This example  is after code fragment 5.3 of Goodrich-Tamassia-Goldwasser (see also Portilla's lecture 48). Instead of using a Python array, we implement our array as a *ctypes.py_object()*. The documentation for the latter can be found \n",
    "here:\n",
    "\n",
    "https://docs.python.org/3/library/ctypes.html#loading-dynamic-link-libraries\n",
    "\n",
    "(This class seems to )"
   ]
  },
  {
   "cell_type": "code",
   "execution_count": 2,
   "id": "63876e7a-34b4-4440-9742-5f66c0db3997",
   "metadata": {},
   "outputs": [],
   "source": [
    "import ctypes\n",
    "import sys"
   ]
  },
  {
   "cell_type": "code",
   "execution_count": 3,
   "id": "fc76c7d9-15e4-4c96-8c47-c47e7f5db870",
   "metadata": {},
   "outputs": [],
   "source": [
    "class DynamicArray(object):\n",
    "    '''\n",
    "        Basic class for a dynamic array.\n",
    "    '''\n",
    "    def __init__(self):\n",
    "        \n",
    "        self.n_elem = 0\n",
    "        self.capacity = 1\n",
    "        self.A = self._make_array(self.capacity)\n",
    "    \n",
    "    def __len__(self):\n",
    "        '''\n",
    "            Return length of array\n",
    "        '''\n",
    "        return self.n_elem\n",
    "    \n",
    "    def __getitem__(self, idx):\n",
    "        '''\n",
    "            Return content of array at index idx\n",
    "        '''\n",
    "        if (idx<0) or (idx >self.n_elem):\n",
    "            return IndexError(f\"idx = {idx} is out of range\")\n",
    "        \n",
    "        return self.A[idx]\n",
    "    \n",
    "    def _resize(self, new_size):\n",
    "        '''\n",
    "            Set new array capacity to new_size\n",
    "        '''\n",
    "        B = self._make_array(new_size)\n",
    "        for i in range(self.n_elem):\n",
    "            B[i] = self.A[i]\n",
    "        \n",
    "        self.A = B\n",
    "        self.capacity = new_size\n",
    "        \n",
    "    \n",
    "    def _make_array(self, capacity):\n",
    "        '''\n",
    "            Instantiate an array of size \"capacity\"\n",
    "        '''\n",
    "        return (capacity*ctypes.py_object)()\n",
    "    \n",
    "    def append(self, elem):\n",
    "        '''\n",
    "            Append \"elem\" to array\n",
    "        '''\n",
    "        if self.capacity == self.n_elem:\n",
    "            self._resize(2*self.capacity)\n",
    "        \n",
    "        self.A[self.n_elem] = elem\n",
    "        self.n_elem += 1\n",
    "            \n",
    "    \n",
    "    "
   ]
  },
  {
   "cell_type": "code",
   "execution_count": 4,
   "id": "ebbcf17e-6f3a-4c4a-b0bd-6ce0725c1978",
   "metadata": {
    "collapsed": true,
    "jupyter": {
     "outputs_hidden": true
    },
    "tags": []
   },
   "outputs": [
    {
     "name": "stdout",
     "output_type": "stream",
     "text": [
      "len(arr) = 0; arr.capacity = 1; sys.getsizeof(arr) = 48.\n",
      "\n",
      "i = 0:\n",
      "-------\n",
      "len(arr) = 1; arr.capacity = 1; sys.getsizeof(arr) = 48.\n",
      "\n",
      "i = 1:\n",
      "-------\n",
      "len(arr) = 2; arr.capacity = 2; sys.getsizeof(arr) = 48.\n",
      "\n",
      "i = 2:\n",
      "-------\n",
      "len(arr) = 3; arr.capacity = 4; sys.getsizeof(arr) = 48.\n",
      "\n",
      "i = 3:\n",
      "-------\n",
      "len(arr) = 4; arr.capacity = 4; sys.getsizeof(arr) = 48.\n",
      "\n",
      "i = 4:\n",
      "-------\n",
      "len(arr) = 5; arr.capacity = 8; sys.getsizeof(arr) = 48.\n",
      "\n",
      "i = 5:\n",
      "-------\n",
      "len(arr) = 6; arr.capacity = 8; sys.getsizeof(arr) = 48.\n",
      "\n",
      "i = 6:\n",
      "-------\n",
      "len(arr) = 7; arr.capacity = 8; sys.getsizeof(arr) = 48.\n",
      "\n",
      "i = 7:\n",
      "-------\n",
      "len(arr) = 8; arr.capacity = 8; sys.getsizeof(arr) = 48.\n",
      "\n",
      "i = 8:\n",
      "-------\n",
      "len(arr) = 9; arr.capacity = 16; sys.getsizeof(arr) = 48.\n",
      "\n",
      "i = 9:\n",
      "-------\n",
      "len(arr) = 10; arr.capacity = 16; sys.getsizeof(arr) = 48.\n",
      "\n",
      "i = 10:\n",
      "-------\n",
      "len(arr) = 11; arr.capacity = 16; sys.getsizeof(arr) = 48.\n",
      "\n",
      "i = 11:\n",
      "-------\n",
      "len(arr) = 12; arr.capacity = 16; sys.getsizeof(arr) = 48.\n",
      "\n",
      "i = 12:\n",
      "-------\n",
      "len(arr) = 13; arr.capacity = 16; sys.getsizeof(arr) = 48.\n",
      "\n",
      "i = 13:\n",
      "-------\n",
      "len(arr) = 14; arr.capacity = 16; sys.getsizeof(arr) = 48.\n",
      "\n",
      "i = 14:\n",
      "-------\n",
      "len(arr) = 15; arr.capacity = 16; sys.getsizeof(arr) = 48.\n",
      "\n",
      "i = 15:\n",
      "-------\n",
      "len(arr) = 16; arr.capacity = 16; sys.getsizeof(arr) = 48.\n",
      "\n"
     ]
    }
   ],
   "source": [
    "arr = DynamicArray()\n",
    "print(f\"len(arr) = {len(arr)}; arr.capacity = {arr.capacity}; sys.getsizeof(arr) = {sys.getsizeof(arr)}.\\n\")\n",
    "\n",
    "for i in range(16):\n",
    "    print(f\"i = {i}:\")\n",
    "    print(f\"-------\")\n",
    "    arr.append(i)\n",
    "    print(f\"len(arr) = {len(arr)}; arr.capacity = {arr.capacity}; sys.getsizeof(arr) = {sys.getsizeof(arr)}.\\n\")\n",
    "    "
   ]
  },
  {
   "cell_type": "code",
   "execution_count": 9,
   "id": "162e0ef2-a893-4f62-ad93-5b5468fcddf6",
   "metadata": {},
   "outputs": [
    {
     "data": {
      "text/plain": [
       "15"
      ]
     },
     "execution_count": 9,
     "metadata": {},
     "output_type": "execute_result"
    }
   ],
   "source": [
    "arr[15]"
   ]
  },
  {
   "cell_type": "markdown",
   "id": "d6f72d15-2ae1-4437-95f6-84039ccee016",
   "metadata": {},
   "source": [
    "An important point to note in this example is the array resizing operation, which is done in $O(n)$ time in this implementation. The next subsection will introduce some tools to analyse why and how doubling the array size periodically is more efficient than incrementing the size by 1 at each appension."
   ]
  },
  {
   "cell_type": "markdown",
   "id": "18a8c960-50c5-47b4-a26b-218b64a34aae",
   "metadata": {},
   "source": [
    "### 2.b - Amortized analysis"
   ]
  },
  {
   "cell_type": "code",
   "execution_count": null,
   "id": "59f7d5f7-280b-4a10-822d-6224bfe8422c",
   "metadata": {},
   "outputs": [],
   "source": []
  },
  {
   "cell_type": "code",
   "execution_count": null,
   "id": "003dcfd8-7314-40e3-bcfa-4521784afb44",
   "metadata": {},
   "outputs": [],
   "source": []
  },
  {
   "cell_type": "code",
   "execution_count": null,
   "id": "4beb593b-7653-44ea-a740-31c888282272",
   "metadata": {},
   "outputs": [],
   "source": []
  }
 ],
 "metadata": {
  "kernelspec": {
   "display_name": "Python 3 (ipykernel)",
   "language": "python",
   "name": "python3"
  },
  "language_info": {
   "codemirror_mode": {
    "name": "ipython",
    "version": 3
   },
   "file_extension": ".py",
   "mimetype": "text/x-python",
   "name": "python",
   "nbconvert_exporter": "python",
   "pygments_lexer": "ipython3",
   "version": "3.9.16"
  }
 },
 "nbformat": 4,
 "nbformat_minor": 5
}
