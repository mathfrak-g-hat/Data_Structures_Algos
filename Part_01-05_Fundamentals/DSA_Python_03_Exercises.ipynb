{
 "cells": [
  {
   "cell_type": "markdown",
   "id": "61447360-d299-4282-89a7-9c8ada997ae8",
   "metadata": {},
   "source": [
    "# Data Structures and Algorithms in Python - Ch.5: Array-based Sequences\n",
    "### AJ Zerouali, 2023/08/30\n",
    "\n",
    "These are the exercises of Section 12 of Portilla's course \"Data structures, algorithms and interviews\", which are interview questions.\n",
    "\n",
    "**Comment:**\n",
    "Although this is supposed to be the chapter about arrays, the optimal solutions do not necessarily rely on lists and strings only. Finding an optimal algorithm also seems to rely on a much broader knowledge of the material, as one would in principle take the interview questions *after* having studied data structures and algorithms. In conclusion, I will essentially learn to make better algorithms after making the necessary mistakes/suboptimal implementations. "
   ]
  },
  {
   "cell_type": "markdown",
   "id": "956473a2-0216-44fb-b553-2dcc8c662535",
   "metadata": {
    "tags": []
   },
   "source": [
    "## Exercise 1: Anagrams\n",
    "\n",
    "https://github.com/jmportilla/Python-for-Algorithms--Data-Structures--and-Interviews/blob/master/02-Array%20Sequences/Array%20Sequences%20Interview%20Questions/01-Anagram-Check/01-Anagram%20Check%20.ipynb\n",
    "\n",
    "Given two strings, check to see if they are anagrams. An anagram is when the two strings can be written using the exact same letters (so you can just rearrange the letters to get a different phrase or word).\n",
    "\n",
    "For example:\n",
    "\n",
    "\"public relations\" is an anagram of \"crap built on lies.\"\n",
    "\n",
    "\"clint eastwood\" is an anagram of \"old west action\"\n",
    "\n",
    "Note: Ignore spaces and capitalization. So \"d go\" is an anagram of \"God\" and \"dog\" and \"o d g\"."
   ]
  },
  {
   "cell_type": "code",
   "execution_count": null,
   "id": "4575f640-8b92-4354-bbed-eb71214963f4",
   "metadata": {},
   "outputs": [],
   "source": [
    "def anagram(s1,s2):    \n",
    "    pass"
   ]
  },
  {
   "cell_type": "code",
   "execution_count": null,
   "id": "f9ee5825-ec51-4a74-88ae-f64ccade799d",
   "metadata": {},
   "outputs": [],
   "source": [
    "anagram('dog','god')"
   ]
  },
  {
   "cell_type": "code",
   "execution_count": null,
   "id": "3bcddf24-0bc9-445e-8ed3-5071d10bdebf",
   "metadata": {},
   "outputs": [],
   "source": [
    "anagram('clint eastwood','old west action')"
   ]
  },
  {
   "cell_type": "code",
   "execution_count": null,
   "id": "cb0753e0-b398-4adb-adcb-8a2bae14fbdc",
   "metadata": {},
   "outputs": [],
   "source": [
    "anagram('aa','bb')"
   ]
  },
  {
   "cell_type": "code",
   "execution_count": null,
   "id": "2615e102-e70a-4984-b8d7-2745d4b14ed0",
   "metadata": {},
   "outputs": [],
   "source": [
    "\"\"\"\n",
    "RUN THIS CELL TO TEST YOUR SOLUTION\n",
    "\"\"\"\n",
    "from nose.tools import assert_equal\n",
    "\n",
    "class AnagramTest(object):\n",
    "    \n",
    "    def test(self,sol):\n",
    "        assert_equal(sol('go go go','gggooo'),True)\n",
    "        assert_equal(sol('abc','cba'),True)\n",
    "        assert_equal(sol('hi man','hi     man'),True)\n",
    "        assert_equal(sol('aabbcc','aabbc'),False)\n",
    "        assert_equal(sol('123','1 2'),False)\n",
    "        print(\"ALL TEST CASES PASSED\")\n",
    "\n",
    "# Run Tests\n",
    "t = AnagramTest()\n",
    "t.test(anagram)"
   ]
  },
  {
   "cell_type": "markdown",
   "id": "b45ae85f-d7ae-4d20-bcf0-95ac5962dbd8",
   "metadata": {},
   "source": [
    "#### Solution:\n",
    "\n",
    "##### 1) My solution:\n",
    "\n",
    "My approach is to take the two strings to compare, sort them after removing the spaces and putting them in lower-case, and then compare the two lists obtained. In particular, this solution requires 2 additional implementations:\n",
    "1) Finding the index of the lowest value in an array (*get_min_idx()*).\n",
    "2) Sorting a string (*sort_str()*).\n",
    "\n",
    "Finding the index of the lowest value is $O(n)$, and my implementation of sorting is $O(n^2)$, so that "
   ]
  },
  {
   "cell_type": "code",
   "execution_count": 1,
   "id": "32c1b055-aa14-4daa-a24b-83dc3291e234",
   "metadata": {},
   "outputs": [],
   "source": [
    "def get_min(in_list):\n",
    "    '''\n",
    "        Get min el't in a list\n",
    "    '''\n",
    "    if len(in_list) == 0:\n",
    "        return None\n",
    "    \n",
    "    min_val = in_list[0]\n",
    "    for x in in_list:\n",
    "        if x<min_val:\n",
    "            min_val = x\n",
    "    \n",
    "    return min_val\n",
    "\n",
    "def get_min_idx(in_list):\n",
    "    '''\n",
    "        Get min el't in a list\n",
    "    '''\n",
    "    if len(in_list) == 0:\n",
    "        return None\n",
    "    \n",
    "    min_idx = 0\n",
    "    for i in range(len(in_list)):\n",
    "        if in_list[i]<in_list[min_idx]:\n",
    "            min_idx = i\n",
    "    \n",
    "    return min_idx\n",
    "\n",
    "def sort_str(string):\n",
    "    '''\n",
    "        Function that takes a string\n",
    "        as input and returns\n",
    "        a sorted list of chars.\n",
    "    '''\n",
    "    str_list = list(string)\n",
    "    out_list = []\n",
    "    list_tmp = str_list\n",
    "    \n",
    "    for i in range(len(str_list)):\n",
    "        min_idx = get_min_idx(list_tmp)\n",
    "        if list_tmp[min_idx]!=\" \":\n",
    "            out_list.append(list_tmp[min_idx])\n",
    "        list_tmp = list_tmp[:min_idx]+list_tmp[min_idx+1:]\n",
    "        \n",
    "    return out_list\n",
    "\n",
    "def anagram(str_1, str_2):\n",
    "    '''\n",
    "        Function that determines whether 2 strings are \n",
    "        anagrams of one another.\n",
    "    '''\n",
    "    \n",
    "    # Take lists of lowercase chars.\n",
    "    # from both strings\n",
    "    lst_1 = list(str_1.lower())\n",
    "    lst_2 = list(str_2.lower())\n",
    "    \n",
    "    # Sort first list\n",
    "    lst_1 = sort_str(lst_1)\n",
    "    \n",
    "    # Sort second list\n",
    "    lst_2 = sort_str(lst_2)\n",
    "    \n",
    "    if len(lst_1)!=len(lst_2):\n",
    "        out = False\n",
    "    else:\n",
    "        out = True\n",
    "        for i in range(len(lst_1)):\n",
    "            if lst_1[i] != lst_2[i]:\n",
    "                out = False\n",
    "            \n",
    "    return out\n",
    "    \n",
    "    "
   ]
  },
  {
   "cell_type": "code",
   "execution_count": 2,
   "id": "c77e6fa5-fa1f-4b58-b5c8-b46a6379d0c4",
   "metadata": {},
   "outputs": [
    {
     "data": {
      "text/plain": [
       "True"
      ]
     },
     "execution_count": 2,
     "metadata": {},
     "output_type": "execute_result"
    }
   ],
   "source": [
    "anagram('dog','god')"
   ]
  },
  {
   "cell_type": "code",
   "execution_count": 3,
   "id": "04c73487-d86d-4657-b64c-892eccb599f6",
   "metadata": {},
   "outputs": [
    {
     "data": {
      "text/plain": [
       "True"
      ]
     },
     "execution_count": 3,
     "metadata": {},
     "output_type": "execute_result"
    }
   ],
   "source": [
    "anagram('clint eastwood','old west action')"
   ]
  },
  {
   "cell_type": "code",
   "execution_count": 4,
   "id": "2e027975-e553-4c2c-bddb-b4d307fd01a2",
   "metadata": {},
   "outputs": [
    {
     "data": {
      "text/plain": [
       "True"
      ]
     },
     "execution_count": 4,
     "metadata": {},
     "output_type": "execute_result"
    }
   ],
   "source": [
    "anagram('public relations','crap built on lies')"
   ]
  },
  {
   "cell_type": "code",
   "execution_count": 5,
   "id": "387fe701-c65e-493b-b25a-f8b1f8db2fdb",
   "metadata": {},
   "outputs": [
    {
     "data": {
      "text/plain": [
       "False"
      ]
     },
     "execution_count": 5,
     "metadata": {},
     "output_type": "execute_result"
    }
   ],
   "source": [
    "anagram('aa','bb')"
   ]
  },
  {
   "cell_type": "code",
   "execution_count": 7,
   "id": "2db2cd78-6b77-4e6c-980e-bf69413b6978",
   "metadata": {},
   "outputs": [
    {
     "name": "stdout",
     "output_type": "stream",
     "text": [
      "ALL TEST CASES PASSED\n"
     ]
    }
   ],
   "source": [
    "from nose.tools import assert_equal\n",
    "\n",
    "class AnagramTest(object):\n",
    "    \n",
    "    def test(self,sol):\n",
    "        assert_equal(sol('go go go','gggooo'),True)\n",
    "        assert_equal(sol('abc','cba'),True)\n",
    "        assert_equal(sol('hi man','hi     man'),True)\n",
    "        assert_equal(sol('aabbcc','aabbc'),False)\n",
    "        assert_equal(sol('123','1 2'),False)\n",
    "        print(\"ALL TEST CASES PASSED\")\n",
    "\n",
    "# Run Tests\n",
    "t = AnagramTest()\n",
    "t.test(anagram)"
   ]
  },
  {
   "cell_type": "markdown",
   "id": "e4ead620-24f6-45b9-96fb-953a20842f7d",
   "metadata": {
    "jp-MarkdownHeadingCollapsed": true,
    "tags": []
   },
   "source": [
    "##### 2) The optimal solution\n",
    "\n",
    "The optimal solution to this problem is $O(n)$. Instead of sorting the two strings, we use dictionaries to enumerate the number of occurences of each character."
   ]
  },
  {
   "cell_type": "code",
   "execution_count": 1,
   "id": "cbde47a7-943c-4520-afab-beec09a347e3",
   "metadata": {},
   "outputs": [],
   "source": [
    "def anagram(string_1, string_2):\n",
    "    '''\n",
    "        Function that determines whether 2 strings are \n",
    "        anagrams of one another.\n",
    "        \n",
    "    '''\n",
    "    \n",
    "    #  lowecase and remove spaces\n",
    "    str_1 = string_1.replace(' ', '').lower()\n",
    "    str_2 = string_2.replace(' ', '').lower()\n",
    "    \n",
    "    # Return False if lengths aren't equal\n",
    "    if len(str_1)!=len(str_2):\n",
    "        return False\n",
    "    \n",
    "    # Init. character count dict.\n",
    "    char_count_1 = {}\n",
    "    char_count_2 = {}\n",
    "    \n",
    "    # Count occurences\n",
    "    for i in range(len(str_1)):\n",
    "        try:\n",
    "            char_count_1[str_1[i]] += 1\n",
    "        except:\n",
    "            char_count_1[str_1[i]] = 1\n",
    "        \n",
    "        try:\n",
    "            char_count_2[str_2[i]] += 1\n",
    "        except:\n",
    "            char_count_2[str_2[i]] = 1\n",
    "            \n",
    "    return (char_count_1 == char_count_2)"
   ]
  },
  {
   "cell_type": "code",
   "execution_count": 2,
   "id": "700112c4-9ac5-4fdb-b778-dec83086067e",
   "metadata": {},
   "outputs": [
    {
     "name": "stdout",
     "output_type": "stream",
     "text": [
      "ALL TEST CASES PASSED\n"
     ]
    }
   ],
   "source": [
    "from nose.tools import assert_equal\n",
    "\n",
    "class AnagramTest(object):\n",
    "    \n",
    "    def test(self,sol):\n",
    "        assert_equal(sol('go go go','gggooo'),True)\n",
    "        assert_equal(sol('abc','cba'),True)\n",
    "        assert_equal(sol('hi man','hi     man'),True)\n",
    "        assert_equal(sol('aabbcc','aabbc'),False)\n",
    "        assert_equal(sol('123','1 2'),False)\n",
    "        print(\"ALL TEST CASES PASSED\")\n",
    "\n",
    "# Run Tests\n",
    "t = AnagramTest()\n",
    "t.test(anagram)"
   ]
  },
  {
   "cell_type": "code",
   "execution_count": 3,
   "id": "6c1686ea-96b4-4dc9-945c-cde46074382d",
   "metadata": {},
   "outputs": [
    {
     "data": {
      "text/plain": [
       "True"
      ]
     },
     "execution_count": 3,
     "metadata": {},
     "output_type": "execute_result"
    }
   ],
   "source": [
    "anagram('dog','god')"
   ]
  },
  {
   "cell_type": "code",
   "execution_count": 4,
   "id": "b3421bf6-3746-41af-b673-12f4910811b6",
   "metadata": {},
   "outputs": [
    {
     "data": {
      "text/plain": [
       "True"
      ]
     },
     "execution_count": 4,
     "metadata": {},
     "output_type": "execute_result"
    }
   ],
   "source": [
    "anagram('clint eastwood','old west action')"
   ]
  },
  {
   "cell_type": "code",
   "execution_count": 5,
   "id": "d4e3d377-92d7-4ff6-a0ca-03318db123a7",
   "metadata": {},
   "outputs": [
    {
     "data": {
      "text/plain": [
       "True"
      ]
     },
     "execution_count": 5,
     "metadata": {},
     "output_type": "execute_result"
    }
   ],
   "source": [
    "anagram('public relations','crap built on lies')"
   ]
  },
  {
   "cell_type": "code",
   "execution_count": 6,
   "id": "93df0191-5704-4d51-a6b0-7c5af1efc506",
   "metadata": {},
   "outputs": [
    {
     "data": {
      "text/plain": [
       "False"
      ]
     },
     "execution_count": 6,
     "metadata": {},
     "output_type": "execute_result"
    }
   ],
   "source": [
    "anagram('aa','bb')"
   ]
  },
  {
   "cell_type": "markdown",
   "id": "0bf7be57-7caa-41b5-9299-ba6debd4e4d8",
   "metadata": {},
   "source": [
    "For reference, here's Portilla's solution"
   ]
  },
  {
   "cell_type": "code",
   "execution_count": null,
   "id": "f05bd76d-d05c-458b-8b80-dca497b205d5",
   "metadata": {},
   "outputs": [],
   "source": [
    "def anagram2(s1,s2):\n",
    "    \n",
    "    # Remove spaces and lowercase letters\n",
    "    s1 = s1.replace(' ','').lower()\n",
    "    s2 = s2.replace(' ','').lower()\n",
    "    \n",
    "    # Edge Case to check if same number of letters\n",
    "    if len(s1) != len(s2):\n",
    "        return False\n",
    "    \n",
    "    # Create counting dictionary (Note could use DefaultDict from Collections module)\n",
    "    count = {}\n",
    "    \n",
    "    \n",
    "        \n",
    "    # Fill dictionary for first string (add counts)\n",
    "    for letter in s1:\n",
    "        if letter in count:\n",
    "            count[letter] += 1\n",
    "        else:\n",
    "            count[letter] = 1\n",
    "            \n",
    "    # Fill dictionary for second string (subtract counts)\n",
    "    for letter in s2:\n",
    "        if letter in count:\n",
    "            count[letter] -= 1\n",
    "        else:\n",
    "            count[letter] = 1\n",
    "    \n",
    "    # Check that all counts are 0\n",
    "    for k in count:\n",
    "        if count[k] != 0:\n",
    "            return False\n",
    "\n",
    "    # Otherwise they're anagrams\n",
    "    return True"
   ]
  },
  {
   "cell_type": "markdown",
   "id": "9407e5a8-aa37-463f-a987-01f95cf5e4ef",
   "metadata": {
    "jp-MarkdownHeadingCollapsed": true,
    "tags": []
   },
   "source": [
    "## Exercise 2: Array pair sum\n",
    "\n",
    "https://github.com/jmportilla/Python-for-Algorithms--Data-Structures--and-Interviews/blob/master/02-Array%20Sequences/Array%20Sequences%20Interview%20Questions/02-Array-Pair-Sum/02-Array%20Pair%20Sum%20.ipynb\n",
    "\n",
    "Given an integer array, output all the **unique** pairs that sum up to a specific value k.\n",
    "\n",
    "So the input:\n",
    "\n",
    "pair_sum([1,3,2,2],4)\n",
    "\n",
    "would return 2 pairs:\n",
    "\n",
    " (1,3)\n",
    " (2,2)\n",
    "\n",
    "NOTE: FOR TESTING PURPOSES CHANGE YOUR FUNCTION SO IT OUTPUTS THE NUMBER OF PAIRS"
   ]
  },
  {
   "cell_type": "markdown",
   "id": "9f1c485c-59ee-4340-a8be-5d77857733d9",
   "metadata": {},
   "source": [
    "### 1) My solution\n",
    "\n",
    "My first attempt is $O(n^3)$."
   ]
  },
  {
   "cell_type": "code",
   "execution_count": 9,
   "id": "f495c839-0601-4eef-9b3d-a4399e246ee4",
   "metadata": {},
   "outputs": [],
   "source": [
    "def pair_sum(int_list, N_sum):\n",
    "    '''\n",
    "        Function that returns ordered couples\n",
    "        of elements (i,j) in int_list that sum\n",
    "        to N_sum.\n",
    "        \n",
    "        :param int_list: List of integers\n",
    "        :param N_sum: Desired sum\n",
    "        \n",
    "        :return out_dict: Dictionary containing\n",
    "            the list of pairs (i,j) from int_list\n",
    "            that sum to N_sum, and the number of \n",
    "            these sums\n",
    "    '''\n",
    "    pair_list = []\n",
    "    out_dict = {}\n",
    "    \n",
    "    for i in range(len(int_list)):\n",
    "        for j in range(i+1, len(int_list)): \n",
    "            if int_list[i]+int_list[j] == N_sum:\n",
    "                if ((int_list[i], int_list[j]) not in pair_list)\\\n",
    "                and ((int_list[j], int_list[i]) not in pair_list): # This is an O(n) search (maybe O(log(n)))\n",
    "                    pair_list.append((int_list[i], int_list[j]))\n",
    "                    \n",
    "    out_dict[\"pair_list\"] = pair_list\n",
    "    out_dict[\"n_pairs\"] = len(pair_list)\n",
    "    \n",
    "    return out_dict"
   ]
  },
  {
   "cell_type": "code",
   "execution_count": 10,
   "id": "68015aa9-fe70-47d7-bc4f-063d446b220a",
   "metadata": {},
   "outputs": [
    {
     "data": {
      "text/plain": [
       "{'pair_list': [(1, 3), (2, 2)], 'n_pairs': 2}"
      ]
     },
     "execution_count": 10,
     "metadata": {},
     "output_type": "execute_result"
    }
   ],
   "source": [
    "\n",
    "pair_sum([1,3,2,2],4)"
   ]
  },
  {
   "cell_type": "code",
   "execution_count": 11,
   "id": "e4f17b63-edf5-4a4b-8e0b-d3c7bee5be2a",
   "metadata": {},
   "outputs": [
    {
     "name": "stdout",
     "output_type": "stream",
     "text": [
      "ALL TEST CASES PASSED\n"
     ]
    }
   ],
   "source": [
    "from nose.tools import assert_equal\n",
    "\n",
    "class TestPair(object):\n",
    "    \n",
    "    def test(self,sol):\n",
    "        assert_equal(sol([1,9,2,8,3,7,4,6,5,5,13,14,11,13,-1],10)[\"n_pairs\"],6)\n",
    "        assert_equal(sol([1,2,3,1],3)[\"n_pairs\"],1)\n",
    "        assert_equal(sol([1,3,2,2],4)[\"n_pairs\"],2)\n",
    "        print('ALL TEST CASES PASSED')\n",
    "        \n",
    "#Run tests\n",
    "t = TestPair()\n",
    "t.test(pair_sum)"
   ]
  },
  {
   "cell_type": "markdown",
   "id": "a7748ad7-b5f6-4451-9556-3d09d37404a9",
   "metadata": {},
   "source": [
    "### 2) A better solution\n",
    "\n",
    "A more optimal solution is $O(n^2)$. This will rely on 2 tricks:\n",
    "1) Instead of adding two numbers from the array and comparing to $N_sum$, we can search for the difference between the current element of the array and $N_sum$. Differences are a common trick in algorithmic efficiency.\n",
    "2) When the existence of an element in a set is in question, we can replace the search in a Python list by checking containment in a Python set. This can be used to reduce an $O(n^2)$ implementation to an $O(n)$ algorithm.\n",
    "\n",
    "Here is the proposed solution, which is $O(n)$ instead of $O(n^3)$:"
   ]
  },
  {
   "cell_type": "code",
   "execution_count": 23,
   "id": "b44da8c6-a3e5-4495-9363-bf36f75226b6",
   "metadata": {},
   "outputs": [],
   "source": [
    "def pair_sum(int_list, N_sum):\n",
    "    '''\n",
    "        Function that returns ordered couples\n",
    "        of elements (i,j) in int_list that sum\n",
    "        to N_sum.\n",
    "        \n",
    "        :param int_list: List of integers\n",
    "        :param N_sum: Desired sum\n",
    "        \n",
    "        :return out_dict: Dictionary containing\n",
    "            the list of pairs (i,j) from int_list\n",
    "            that sum to N_sum, and the number of \n",
    "            these sums\n",
    "    '''\n",
    "    encountered_numbers = set()\n",
    "    pair_set = set()\n",
    "    out_dict = {}\n",
    "    \n",
    "    # Get rid of edge case first\n",
    "    if len(int_list)<2:\n",
    "        return out_dict\n",
    "    \n",
    "    for x in int_list:\n",
    "        \n",
    "        y = N_sum -x\n",
    "        \n",
    "        if y in encountered_numbers: # This is O(1) instead of O(n)\n",
    "            pair_set.add((min(x,y), max(x,y)))\n",
    "        else:\n",
    "            encountered_numbers.add(x)\n",
    "\n",
    "                    \n",
    "    out_dict[\"pair_set\"] = pair_set\n",
    "    out_dict[\"n_pairs\"] = len(pair_set)\n",
    "    \n",
    "    return out_dict"
   ]
  },
  {
   "cell_type": "code",
   "execution_count": 24,
   "id": "748be447-1d49-4cf9-9d89-5038ebe62c28",
   "metadata": {},
   "outputs": [
    {
     "name": "stdout",
     "output_type": "stream",
     "text": [
      "ALL TEST CASES PASSED\n"
     ]
    }
   ],
   "source": [
    "from nose.tools import assert_equal\n",
    "\n",
    "class TestPair(object):\n",
    "    \n",
    "    def test(self,sol):\n",
    "        assert_equal(sol([1,9,2,8,3,7,4,6,5,5,13,14,11,13,-1],10)[\"n_pairs\"],6)\n",
    "        assert_equal(sol([1,2,3,1],3)[\"n_pairs\"],1)\n",
    "        assert_equal(sol([1,3,2,2],4)[\"n_pairs\"],2)\n",
    "        print('ALL TEST CASES PASSED')\n",
    "        \n",
    "#Run tests\n",
    "t = TestPair()\n",
    "t.test(pair_sum)"
   ]
  },
  {
   "cell_type": "markdown",
   "id": "26e386d7-8cc7-4e6d-992a-6d19a490a5d5",
   "metadata": {
    "jp-MarkdownHeadingCollapsed": true,
    "tags": []
   },
   "source": [
    "## Exercise 3: Missing element from a list\n",
    "\n",
    "https://github.com/jmportilla/Python-for-Algorithms--Data-Structures--and-Interviews/blob/master/02-Array%20Sequences/Array%20Sequences%20Interview%20Questions/03-Finding-the-Missing-Element/03-Find%20the%20Missing%20Element%20.ipynb\n",
    "\n",
    "Consider an array of non-negative integers. A second array is formed by shuffling the elements of the first array and deleting a random element. Given these two arrays, find which element is missing in the second array.\n",
    "\n",
    "Here is an example input, the first array is shuffled and the number 5 is removed to construct the second array.\n",
    "\n",
    "Input:\n",
    "\n",
    "finder([1,2,3,4,5,6,7],[3,7,2,1,4,6])\n",
    "\n",
    "Output:\n",
    "\n",
    "5 is the missing number\n"
   ]
  },
  {
   "cell_type": "code",
   "execution_count": null,
   "id": "7e40bf97-0272-4c13-90b5-c838c311d1ad",
   "metadata": {},
   "outputs": [],
   "source": [
    "def finder(arr1,arr2):\n",
    "    \n",
    "    pass"
   ]
  },
  {
   "cell_type": "code",
   "execution_count": null,
   "id": "55879771-e826-41da-a2d0-7703a4846cda",
   "metadata": {},
   "outputs": [],
   "source": [
    "arr1 = [1,2,3,4,5,6,7]\n",
    "arr2 = [3,7,2,1,4,6]\n",
    "finder(arr1,arr2)"
   ]
  },
  {
   "cell_type": "code",
   "execution_count": null,
   "id": "e014a3b2-8701-4abd-b3b8-13c6c31423a3",
   "metadata": {
    "tags": []
   },
   "outputs": [],
   "source": [
    "arr1 = [5,5,7,7]\n",
    "arr2 = [5,7,7]\n",
    "\n",
    "finder(arr1,arr2)"
   ]
  },
  {
   "cell_type": "code",
   "execution_count": null,
   "id": "95bf1ee7-d8f0-44d8-9954-6240019b93fd",
   "metadata": {},
   "outputs": [],
   "source": [
    "\"\"\"\n",
    "RUN THIS CELL TO TEST YOUR SOLUTION\n",
    "\"\"\"\n",
    "from nose.tools import assert_equal\n",
    "\n",
    "class TestFinder(object):\n",
    "    \n",
    "    def test(self,sol):\n",
    "        assert_equal(sol([5,5,7,7],[5,7,7]),5)\n",
    "        assert_equal(sol([1,2,3,4,5,6,7],[3,7,2,1,4,6]),5)\n",
    "        assert_equal(sol([9,8,7,6,5,4,3,2,1],[9,8,7,5,4,3,2,1]),6)\n",
    "        print('ALL TEST CASES PASSED')\n",
    "\n",
    "# Run test\n",
    "t = TestFinder()\n",
    "t.test(finder)"
   ]
  },
  {
   "cell_type": "markdown",
   "id": "c2c0cc0d-965b-42f9-bc12-fa483d9d83cd",
   "metadata": {},
   "source": [
    "### 1) My solution\n",
    "\n",
    "Here are some ideas:\n",
    "- If the original array's elements are distinct, then the modified array must be exactly one element less than the first. Returning the missing element can then be done in $O(n)$ time, after checking the lengths of the two arrays converted to sets.\n",
    "- For an original array with repeated elements, I could use two counting dictionaries and compare them.\n",
    "\n",
    "Here is an even better one: They're supposed to be arrays of non-negative integers. In principle, the difference between the sums of their elements should be the missing integer.\n"
   ]
  },
  {
   "cell_type": "code",
   "execution_count": 3,
   "id": "89aae90f-c80d-48cc-8d06-6d125dad64cd",
   "metadata": {},
   "outputs": [],
   "source": [
    "def finder(origin_arr, mod_array):\n",
    "    '''\n",
    "        Function to find the *unique* element\n",
    "        of origin_array missing from the mod_array\n",
    "        \n",
    "        :param origin_arr: Original list of non-negative integers. \n",
    "        :param mod_array: Shuffled array with one missing element\n",
    "    '''\n",
    "    if (len(origin_arr)-1) != len(mod_array):\n",
    "        raise ValueError(\"origin_arr must contain exactly one element more than mod_array\")\n",
    "    \n",
    "    origin_sum = origin_arr[-1]\n",
    "    mod_sum =0 \n",
    "    for i in range(len(mod_array)):\n",
    "        origin_sum += origin_arr[i]\n",
    "        mod_sum += mod_array[i]\n",
    "        \n",
    "    return origin_sum-mod_sum\n",
    "    "
   ]
  },
  {
   "cell_type": "code",
   "execution_count": 4,
   "id": "e93f979c-a0e6-4a99-b6fb-d83ffad0f56d",
   "metadata": {},
   "outputs": [
    {
     "name": "stdout",
     "output_type": "stream",
     "text": [
      "ALL TEST CASES PASSED\n"
     ]
    }
   ],
   "source": [
    "\"\"\"\n",
    "RUN THIS CELL TO TEST YOUR SOLUTION\n",
    "\"\"\"\n",
    "from nose.tools import assert_equal\n",
    "\n",
    "class TestFinder(object):\n",
    "    \n",
    "    def test(self,sol):\n",
    "        assert_equal(sol([5,5,7,7],[5,7,7]),5)\n",
    "        assert_equal(sol([1,2,3,4,5,6,7],[3,7,2,1,4,6]),5)\n",
    "        assert_equal(sol([9,8,7,6,5,4,3,2,1],[9,8,7,5,4,3,2,1]),6)\n",
    "        print('ALL TEST CASES PASSED')\n",
    "\n",
    "# Run test\n",
    "t = TestFinder()\n",
    "t.test(finder)"
   ]
  },
  {
   "cell_type": "markdown",
   "id": "5cb85f1c-73cd-44ca-83a4-19c9d5f097f7",
   "metadata": {},
   "source": [
    "### 2) More optimal solutions\n",
    "\n",
    "Portilla's solution is here:\n",
    "\n",
    "https://github.com/jmportilla/Python-for-Algorithms--Data-Structures--and-Interviews/blob/master/02-Array%20Sequences/Array%20Sequences%20Interview%20Questions/03-Finding-the-Missing-Element/03-Find%20the%20Missing%20Element%20-%20SOLUTION.ipynb\n",
    "\n",
    "Portilla makes the following points:\n",
    "- In an interview, it is expected that the given solution is linear if possible. Again, this is done using hash tables like Python dictionaries. The second solution in the notebook is similar to the solution of Exercise 1 above (anagrams).\n",
    "- The trick that I use in my solution could lead to overflow issues if the added numbers are very large. He refers to it as a \"clever\" solution, but from a standpoint of data structures it could be problematic.\n",
    "\n",
    "The smartest way of solving this problem seems to be the following trick: "
   ]
  },
  {
   "cell_type": "code",
   "execution_count": null,
   "id": "10bdfb55-a97a-43cd-9ba7-a2f713872042",
   "metadata": {},
   "outputs": [],
   "source": [
    "def finder3(arr1, arr2): \n",
    "    result=0 \n",
    "    \n",
    "    # Perform an XOR between the numbers in the arrays\n",
    "    for num in arr1+arr2: \n",
    "        result^=num \n",
    "        print(result)\n",
    "        \n",
    "    return result "
   ]
  },
  {
   "cell_type": "markdown",
   "id": "40d99468-d14d-4bc9-8139-63656ab79aea",
   "metadata": {
    "jp-MarkdownHeadingCollapsed": true,
    "tags": []
   },
   "source": [
    "## Exercise 4: Largest contiguous sum\n",
    "\n",
    "https://github.com/jmportilla/Python-for-Algorithms--Data-Structures--and-Interviews/blob/master/02-Array%20Sequences/Array%20Sequences%20Interview%20Questions/04-Largest-Continuous-Sum/04-Largest%20Continuous%20Sum%20.ipynb\n",
    "\n",
    "Given an array of integers (positive and negative) find the largest contiguous sum.\n",
    "\n",
    "**Note:** Portilla calls that a continuous sum instead of a contiguous sum. By definition, a contiguous subarray is simply a subarray with the same order of elements as the original array.\n",
    "\n",
    "An efficient algorithm for finding the largest contiguous sum is described here:\n",
    "\n",
    "https://www.geeksforgeeks.org/largest-sum-contiguous-subarray/#\n",
    "\n",
    "A well-known solution to this problem is called Kadane's algorithm."
   ]
  },
  {
   "cell_type": "code",
   "execution_count": null,
   "id": "34b6a7c5-a76e-4d0e-a73c-970900603c3a",
   "metadata": {},
   "outputs": [],
   "source": [
    "def large_cont_sum(arr): \n",
    "    pass"
   ]
  },
  {
   "cell_type": "code",
   "execution_count": null,
   "id": "6123a3c1-c94e-49a7-9f5d-69d341bce24e",
   "metadata": {},
   "outputs": [],
   "source": [
    "large_cont_sum([1,2,-1,3,4,10,10,-10,-1])\n",
    "#29"
   ]
  },
  {
   "cell_type": "code",
   "execution_count": null,
   "id": "0a6808e2-08dc-4b12-83d2-9ed955b419ea",
   "metadata": {},
   "outputs": [],
   "source": [
    "\n",
    "from nose.tools import assert_equal\n",
    "\n",
    "class LargeContTest(object):\n",
    "    def test(self,sol):\n",
    "        assert_equal(sol([1,2,-1,3,4,-1]),9)\n",
    "        assert_equal(sol([1,2,-1,3,4,10,10,-10,-1]),29)\n",
    "        assert_equal(sol([-1,1]),1)\n",
    "        print('ALL TEST CASES PASSED')\n",
    "        \n",
    "#Run Test\n",
    "t = LargeContTest()\n",
    "t.test(large_cont_sum)"
   ]
  },
  {
   "cell_type": "markdown",
   "id": "c31b9748-36bc-4f9f-97ab-f11b9092436b",
   "metadata": {
    "tags": []
   },
   "source": [
    "### 1) My solution\n",
    "\n",
    "Here are a couple of remarks:\n",
    "- Given an array $(a_1,\\cdots, a_n)$ of integers of length $n$, for any $k=1,\\cdots,n$, there are $(n-k+1)$ contiguous subarrays. In total then, there are $n(n+1)/2$ sums to compute and compare.\n",
    "- It is possible to compute the contiguous sums recursively. The simplest way to do this is to index the sums by $(i,k)$, where $i$ is the first index of the contiguous subarray and $k$ is its length. In this case:\n",
    "$$S_i^{(k)} = \\sum_{j=i}^{i+k-1}a_j$$\n",
    "    is the contiguous sum of the subarray $(a_i,\\cdots, a_{(i+k-1)})$. We notice here that for the contiguous sum starting at $(i+1)$:\n",
    "$$S_{(i+1)}^{(k)} = S_{i}^{(k+1)} - a_i,$$\n",
    "    and that:\n",
    "$$S_i^{(k-1)} = S_i^{(k)} - a_{(i+k-1)}.$$\n",
    "- For any starting index $i$ of a contiguous subarray, the maximal subarray length $k$ is $(n-i+1)$.\n",
    "- The last two points therefore allow us reduce the time complexity of our algorithm by one order, provided we use a hash table to access previously computed values.\n",
    "\n",
    "Here's my implementation:"
   ]
  },
  {
   "cell_type": "code",
   "execution_count": 10,
   "id": "735a72a6-a039-4fb6-abfb-aeebe51a651f",
   "metadata": {},
   "outputs": [],
   "source": [
    "def large_cont_sum(arr):\n",
    "    '''\n",
    "        Function to find the largest contiguous sum\n",
    "        from input array arr.\n",
    "        \n",
    "        :param arr: Input array of numbers\n",
    "        \n",
    "        :return max_cont_sum: Maximal contiguous sum\n",
    "        :return cont_sums: Dictionary of contiguous sums\n",
    "        \n",
    "    '''\n",
    "    # Init.\n",
    "    n = len(arr)\n",
    "    cont_sums = {}\n",
    "    max_cont_sum = 0\n",
    "    arr_sum = 0\n",
    "    arr_last_a = 0\n",
    "\n",
    "    # Compute S_0^(n)\n",
    "    for a in arr:\n",
    "        arr_sum += a\n",
    "\n",
    "    # Initialize variables for S_0^(k), k=1,...,n\n",
    "    i = 0\n",
    "    k_max = n-i #max length\n",
    "    k= k_max\n",
    "    cont_sums_i = {}\n",
    "\n",
    "    # Loop to compute S_0^(k), k=1,...,n\n",
    "    while k>0:\n",
    "        # Compute and store sum of subarray [a_i, ..., a_(i+k)]\n",
    "        cont_sums_i[k] = arr_sum - arr_last_a\n",
    "\n",
    "        # Update arr_sum\n",
    "        arr_sum = cont_sums_i[k]\n",
    "\n",
    "        # Check if last contiguous sum is larger than current max\n",
    "        '''\n",
    "            Portilla typically replaces this line by\n",
    "        max_cont_sum = max(max_cont_sum, cont_sums_i[k])\n",
    "        '''\n",
    "        if cont_sums_i[k]>max_cont_sum:\n",
    "            max_cont_sum = cont_sums_i[k]\n",
    "\n",
    "        # Update a_(i+k)\n",
    "        arr_last_a = arr[(i+k)-1]\n",
    "\n",
    "        # Update k\n",
    "        k -= 1\n",
    "\n",
    "    cont_sums[i] = cont_sums_i\n",
    "\n",
    "    for i in range(1,n):\n",
    "        cont_sums_i = {}\n",
    "        for k in cont_sums[i-1]:\n",
    "            if k>1:\n",
    "                # Compute S_i^(k-1) = S_(i-1)^(k)-a_(i-1)\n",
    "                cont_sums_i[k-1] = cont_sums[i-1][k] - arr[i-1]\n",
    "\n",
    "                # Check if last contiguous sum is larger than current max\n",
    "                if cont_sums_i[k-1]>max_cont_sum:\n",
    "                    max_cont_sum = cont_sums_i[k-1]\n",
    "\n",
    "        cont_sums[i] = cont_sums_i\n",
    "        \n",
    "    return max_cont_sum, cont_sums"
   ]
  },
  {
   "cell_type": "code",
   "execution_count": 11,
   "id": "74d47011-d77e-49db-a6ac-cf787f3ff5fb",
   "metadata": {},
   "outputs": [
    {
     "data": {
      "text/plain": [
       "(29,\n",
       " {0: {9: 18, 8: 19, 7: 29, 6: 19, 5: 9, 4: 5, 3: 2, 2: 3, 1: 1},\n",
       "  1: {8: 17, 7: 18, 6: 28, 5: 18, 4: 8, 3: 4, 2: 1, 1: 2},\n",
       "  2: {7: 15, 6: 16, 5: 26, 4: 16, 3: 6, 2: 2, 1: -1},\n",
       "  3: {6: 16, 5: 17, 4: 27, 3: 17, 2: 7, 1: 3},\n",
       "  4: {5: 13, 4: 14, 3: 24, 2: 14, 1: 4},\n",
       "  5: {4: 9, 3: 10, 2: 20, 1: 10},\n",
       "  6: {3: -1, 2: 0, 1: 10},\n",
       "  7: {2: -11, 1: -10},\n",
       "  8: {1: -1}})"
      ]
     },
     "execution_count": 11,
     "metadata": {},
     "output_type": "execute_result"
    }
   ],
   "source": [
    "large_cont_sum([1,2,-1,3,4,10,10,-10,-1])"
   ]
  },
  {
   "cell_type": "code",
   "execution_count": 12,
   "id": "6647549b-5da6-496e-9dcf-8ece8290d8d0",
   "metadata": {},
   "outputs": [
    {
     "name": "stdout",
     "output_type": "stream",
     "text": [
      "ALL TEST CASES PASSED\n"
     ]
    }
   ],
   "source": [
    "from nose.tools import assert_equal\n",
    "\n",
    "class LargeContTest(object):\n",
    "    def test(self,sol):\n",
    "        assert_equal(sol([1,2,-1,3,4,-1])[0],9)\n",
    "        assert_equal(sol([1,2,-1,3,4,10,10,-10,-1])[0],29)\n",
    "        assert_equal(sol([-1,1])[0],1)\n",
    "        print('ALL TEST CASES PASSED')\n",
    "        \n",
    "#Run Test\n",
    "t = LargeContTest()\n",
    "t.test(large_cont_sum)"
   ]
  },
  {
   "cell_type": "markdown",
   "id": "d98652bb-1fda-4824-ada4-76747a8047c4",
   "metadata": {},
   "source": [
    "#### Note:\n",
    "\n",
    "I think Portilla made a mistake in this exercise. Other than \"continuous\" instead of contiguous, he only looked at contiguous subarrays starting at index 0."
   ]
  },
  {
   "cell_type": "markdown",
   "id": "d7d7d8c9-9527-4d61-b213-712179e67c36",
   "metadata": {
    "jp-MarkdownHeadingCollapsed": true,
    "tags": []
   },
   "source": [
    "## Exercise 5: Sentence reversal\n",
    "\n",
    "https://github.com/jmportilla/Python-for-Algorithms--Data-Structures--and-Interviews/blob/master/02-Array%20Sequences/Array%20Sequences%20Interview%20Questions/05-Sentence-Reversal/05-Sentence%20Reversal.ipynb\n",
    "\n",
    "Given a string of words, reverse all the words. For example, given:\n",
    "\n",
    "'This is the best'\n",
    "\n",
    "Return:\n",
    "\n",
    "'best the is This'\n",
    "\n",
    "As part of this exercise you should remove all leading and trailing whitespace. So that inputs such as:\n",
    "\n",
    "'  space here'  and 'space here      '\n",
    "\n",
    "both become:\n",
    "\n",
    "'here space'"
   ]
  },
  {
   "cell_type": "code",
   "execution_count": null,
   "id": "5239e6e1-2236-46d6-aa99-6815694ee3cf",
   "metadata": {},
   "outputs": [],
   "source": [
    "def rev_word(s):\n",
    "    pass"
   ]
  },
  {
   "cell_type": "code",
   "execution_count": null,
   "id": "8c06386b-f36f-4e28-8d2d-3f271c4ddfec",
   "metadata": {},
   "outputs": [],
   "source": [
    "rev_word('Hi John,   are you ready to go?')"
   ]
  },
  {
   "cell_type": "code",
   "execution_count": null,
   "id": "f2c43215-e20d-47ce-91df-ba2368b85b97",
   "metadata": {},
   "outputs": [],
   "source": [
    "rev_word('    space before')"
   ]
  },
  {
   "cell_type": "code",
   "execution_count": null,
   "id": "5abd578f-65c7-44cb-9501-ae8387e3b508",
   "metadata": {},
   "outputs": [],
   "source": [
    "\n",
    "\"\"\"\n",
    "RUN THIS CELL TO TEST YOUR SOLUTION\n",
    "\"\"\"\n",
    "\n",
    "from nose.tools import assert_equal\n",
    "\n",
    "class ReversalTest(object):\n",
    "    \n",
    "    def test(self,sol):\n",
    "        assert_equal(sol('    space before'),'before space')\n",
    "        assert_equal(sol('space after     '),'after space')\n",
    "        assert_equal(sol('   Hello John    how are you   '),'you are how John Hello')\n",
    "        assert_equal(sol('1'),'1')\n",
    "        print(\"ALL TEST CASES PASSED\")\n",
    "        \n",
    "# Run and test\n",
    "t = ReversalTest()\n",
    "t.test(rev_word)"
   ]
  },
  {
   "cell_type": "markdown",
   "id": "dcfb5fe2-5483-4b6a-93a4-0777cc8eb091",
   "metadata": {},
   "source": [
    "### 1) My solution\n",
    "\n",
    "My first attempt is to re-implement Python's *split()* method."
   ]
  },
  {
   "cell_type": "code",
   "execution_count": 10,
   "id": "76b41ca0-83ac-4de5-986b-a1f53f95d424",
   "metadata": {},
   "outputs": [],
   "source": [
    "def reverse_sentence(string):\n",
    "    N = len(string)\n",
    "    if N == 0:\n",
    "        return None\n",
    "    # Split the string into substrings separated by \" \"\n",
    "    substr_list = []\n",
    "    tmp_substr = \"\"\n",
    "    for i in range(N):\n",
    "        if string[i]==\" \":\n",
    "            substr_list.append(tmp_substr)\n",
    "            tmp_substr = \"\"\n",
    "        else:\n",
    "            tmp_substr += string[i]\n",
    "            if i == (N-1):\n",
    "                substr_list.append(tmp_substr)\n",
    "    \n",
    "    # Fill output\n",
    "    out_string = \"\"\n",
    "    for i in range(len(substr_list)-1,-1,-1):\n",
    "        if substr_list[i] != \"\":\n",
    "            # Add a space after every word\n",
    "            out_string += (substr_list[i] + \" \")\n",
    "    # Remove last space from output\n",
    "    return out_string[:-1]"
   ]
  },
  {
   "cell_type": "code",
   "execution_count": 11,
   "id": "7c2a5062-880b-4e0b-9d6d-03ab20f9bb8a",
   "metadata": {},
   "outputs": [
    {
     "data": {
      "text/plain": [
       "'trailing spaces sentence'"
      ]
     },
     "execution_count": 11,
     "metadata": {},
     "output_type": "execute_result"
    }
   ],
   "source": [
    "reverse_sentence(\"   sentence spaces trailing    \")"
   ]
  },
  {
   "cell_type": "code",
   "execution_count": 5,
   "id": "61290829-ef36-45c7-bf8c-654388a0b59c",
   "metadata": {},
   "outputs": [
    {
     "name": "stdout",
     "output_type": "stream",
     "text": [
      "ALL TEST CASES PASSED\n"
     ]
    }
   ],
   "source": [
    "\"\"\"\n",
    "SOLUTION TEST\n",
    "\"\"\"\n",
    "\n",
    "from nose.tools import assert_equal\n",
    "\n",
    "class ReversalTest(object):\n",
    "    \n",
    "    def test(self,sol):\n",
    "        assert_equal(sol('    space before'),'before space')\n",
    "        assert_equal(sol('space after     '),'after space')\n",
    "        assert_equal(sol('   Hello John    how are you   '),'you are how John Hello')\n",
    "        assert_equal(sol('1'),'1')\n",
    "        print(\"ALL TEST CASES PASSED\")\n",
    "        \n",
    "# Run and test\n",
    "t = ReversalTest()\n",
    "t.test(reverse_sentence)"
   ]
  },
  {
   "cell_type": "markdown",
   "id": "406bce1a-7f53-4254-af78-17b252a4c4bc",
   "metadata": {},
   "source": [
    "### 2) Comments on Portilla's solution\n",
    "\n",
    "Portilla proposes the first the obvious choice: Using Python's built-in string functions, which can be done in one line as follows:"
   ]
  },
  {
   "cell_type": "code",
   "execution_count": 6,
   "id": "72fc7c80-677a-48c1-883c-5f89bdad10c6",
   "metadata": {},
   "outputs": [],
   "source": [
    "def rev_word(s):\n",
    "    return \" \".join(reversed(s.split()))"
   ]
  },
  {
   "cell_type": "code",
   "execution_count": 7,
   "id": "dbe5cdd3-2083-4f8f-8f23-7a160be90c63",
   "metadata": {},
   "outputs": [
    {
     "data": {
      "text/plain": [
       "'you are how John Hello'"
      ]
     },
     "execution_count": 7,
     "metadata": {},
     "output_type": "execute_result"
    }
   ],
   "source": [
    "rev_word('   Hello John    how are you   ')"
   ]
  },
  {
   "cell_type": "markdown",
   "id": "d42efb8f-b162-458f-bbc2-841af9a27d1c",
   "metadata": {},
   "source": [
    "On the other hand, his second solution, which is more appropriate for an interview setting seems $O(n^2)$ at first glance."
   ]
  },
  {
   "cell_type": "code",
   "execution_count": null,
   "id": "bc585950-67d6-42c9-8bd3-4bbc7e755909",
   "metadata": {},
   "outputs": [],
   "source": [
    "def rev_word3(s):\n",
    "    \"\"\"\n",
    "    Manually doing the splits on the spaces.\n",
    "    \"\"\"\n",
    "    \n",
    "    words = []\n",
    "    length = len(s)\n",
    "    spaces = [' ']\n",
    "    \n",
    "    # Index Tracker\n",
    "    i = 0\n",
    "    \n",
    "    # While index is less than length of string\n",
    "    while i < length:\n",
    "        \n",
    "        # If element isn't a space\n",
    "        if s[i] not in spaces:\n",
    "            \n",
    "            # The word starts at this index\n",
    "            word_start = i\n",
    "            \n",
    "            while i < length and s[i] not in spaces:\n",
    "                \n",
    "                # Get index where word ends\n",
    "                i += 1\n",
    "            # Append that word to the list\n",
    "            words.append(s[word_start:i])\n",
    "        # Add to index\n",
    "        i += 1\n",
    "        \n",
    "    # Join the reversed words\n",
    "    return \" \".join(reversed(words))"
   ]
  },
  {
   "cell_type": "markdown",
   "id": "18e3122c-cdfc-473e-8943-9f9158b8db07",
   "metadata": {
    "tags": []
   },
   "source": [
    "## Exercise 6: String compression\n",
    "\n",
    "https://github.com/jmportilla/Python-for-Algorithms--Data-Structures--and-Interviews/blob/master/02-Array%20Sequences/Array%20Sequences%20Interview%20Questions/06-String-Compression/06-String%20Compression%20.ipynb\n",
    "\n",
    "Given a string in the form 'AAAABBBBCCCCCDDEEEE' compress it to become 'A4B4C5D2E4'. For this problem, you can falsely \"compress\" strings of single or double letters. For instance, it is okay for 'AAB' to return 'A2B1' even though this technically takes more space.\n",
    "\n",
    "The function should also be case sensitive, so that a string 'AAAaaa' returns 'A3a3'."
   ]
  },
  {
   "cell_type": "code",
   "execution_count": null,
   "id": "51f4a0c0-727d-4fff-92e1-a1ddb3033898",
   "metadata": {},
   "outputs": [],
   "source": [
    "def compress(s):\n",
    "    pass"
   ]
  },
  {
   "cell_type": "code",
   "execution_count": null,
   "id": "8f3a2e98-1007-4af3-994f-d1c5471d6db3",
   "metadata": {},
   "outputs": [],
   "source": [
    "compress('AAAAABBBBCCCC')"
   ]
  },
  {
   "cell_type": "code",
   "execution_count": null,
   "id": "9e76fc01-d97a-4b12-8f72-8698407b283a",
   "metadata": {},
   "outputs": [],
   "source": [
    "\n",
    "\"\"\"\n",
    "RUN THIS CELL TO TEST YOUR SOLUTION\n",
    "\"\"\"\n",
    "from nose.tools import assert_equal\n",
    "\n",
    "class TestCompress(object):\n",
    "\n",
    "    def test(self, sol):\n",
    "        assert_equal(sol(''), '')\n",
    "        assert_equal(sol('AABBCC'), 'A2B2C2')\n",
    "        assert_equal(sol('AAABCCDDDDD'), 'A3B1C2D5')\n",
    "        print('ALL TEST CASES PASSED')\n",
    "\n",
    "# Run Tests\n",
    "t = TestCompress()\n",
    "t.test(compress)"
   ]
  },
  {
   "cell_type": "markdown",
   "id": "448e1840-8cf1-4dc1-9269-067e6ba7f361",
   "metadata": {},
   "source": [
    "### 1) My solution\n",
    "\n",
    "My first approach would be to convert the string to a set, and then loop over the string with a counter. "
   ]
  },
  {
   "cell_type": "code",
   "execution_count": 1,
   "id": "c6bfd358-3725-46d0-90e0-96a54fdc3f7f",
   "metadata": {},
   "outputs": [],
   "source": [
    "from collections import defaultdict\n",
    "\n",
    "def str_compress(string):\n",
    "    \n",
    "    # Initializations\n",
    "    N = len(string)\n",
    "    if N == 0:\n",
    "        return string\n",
    "    \n",
    "    char_count = defaultdict(lambda: 0)\n",
    "    out_str = \"\"\n",
    "    \n",
    "    # First character\n",
    "    i = 0\n",
    "    char_count[string[i]]+=1\n",
    "    \n",
    "    # Main loop\n",
    "    for i in range(1,N):\n",
    "        char_count[string[i]]+=1\n",
    "        \n",
    "        if string[i] != string[i-1]:\n",
    "            out_str += (string[i-1] + str(char_count[string[i-1]]))\n",
    "        \n",
    "    out_str += (string[N-1] + str(char_count[string[N-1]]))\n",
    "    \n",
    "    return out_str"
   ]
  },
  {
   "cell_type": "code",
   "execution_count": 4,
   "id": "38dbed32-a638-459d-9987-e1b9324e07b0",
   "metadata": {},
   "outputs": [
    {
     "name": "stdout",
     "output_type": "stream",
     "text": [
      "ALL TEST CASES PASSED\n"
     ]
    }
   ],
   "source": [
    "\"\"\"\n",
    "RUN THIS CELL TO TEST YOUR SOLUTION\n",
    "\"\"\"\n",
    "from nose.tools import assert_equal\n",
    "\n",
    "class TestCompress(object):\n",
    "\n",
    "    def test(self, sol):\n",
    "        assert_equal(sol(''), '')\n",
    "        assert_equal(sol('AABBCC'), 'A2B2C2')\n",
    "        assert_equal(sol('AAABCCDDDDD'), 'A3B1C2D5')\n",
    "        assert_equal(sol('Z'), 'Z1')\n",
    "        print('ALL TEST CASES PASSED')\n",
    "\n",
    "# Run Tests\n",
    "t = TestCompress()\n",
    "t.test(str_compress)"
   ]
  },
  {
   "cell_type": "code",
   "execution_count": null,
   "id": "461dc917-c81c-42fc-9510-0a7b630bfe18",
   "metadata": {},
   "outputs": [],
   "source": []
  },
  {
   "cell_type": "code",
   "execution_count": null,
   "id": "e601ff54-d2d8-458d-971d-9600356193f4",
   "metadata": {},
   "outputs": [],
   "source": []
  },
  {
   "cell_type": "code",
   "execution_count": null,
   "id": "d248f720-da65-45fc-b50d-6bc056b9043a",
   "metadata": {},
   "outputs": [],
   "source": []
  },
  {
   "cell_type": "markdown",
   "id": "6046713b-a670-434b-8346-39e0e582db1e",
   "metadata": {},
   "source": [
    "## Exercise 7: Character uniqueness in a string\n",
    "\n",
    "https://github.com/jmportilla/Python-for-Algorithms--Data-Structures--and-Interviews/blob/master/02-Array%20Sequences/Array%20Sequences%20Interview%20Questions/07-Unique-Characters-in-String/07-Unique%20Characters%20in%20String.ipynb\n",
    "\n",
    "Given a string, determine if it is comprised of unique characters only. For example, the string 'abcde' has all unique characters and should return True. The string 'aabcde' contains duplicate characters and should return false."
   ]
  },
  {
   "cell_type": "code",
   "execution_count": null,
   "id": "ec5fe5ee-212e-452f-8120-f3084eeb77fe",
   "metadata": {},
   "outputs": [],
   "source": [
    "def uni_char(s):\n",
    "    pass"
   ]
  },
  {
   "cell_type": "code",
   "execution_count": null,
   "id": "4adc3e01-c53b-4df3-a8aa-f2719a2621e8",
   "metadata": {},
   "outputs": [],
   "source": [
    "\"\"\"\n",
    "RUN THIS CELL TO TEST YOUR CODE>\n",
    "\"\"\"\n",
    "from nose.tools import assert_equal\n",
    "\n",
    "\n",
    "class TestUnique(object):\n",
    "\n",
    "    def test(self, sol):\n",
    "        assert_equal(sol(''), True)\n",
    "        assert_equal(sol('goo'), False)\n",
    "        assert_equal(sol('abcdefg'), True)\n",
    "        print('ALL TEST CASES PASSED')\n",
    "        \n",
    "# Run Tests\n",
    "t = TestUnique()\n",
    "t.test(uni_char)"
   ]
  },
  {
   "cell_type": "markdown",
   "id": "02eaab1a-d79d-452d-bfd4-3013ed970e58",
   "metadata": {},
   "source": [
    "### 1) My solutions\n",
    "\n",
    "My initial approach to this problem is to use a default dictionary to count the number of occurences of each character in a string.\n",
    "\n",
    "The simplest way of doing this however would be to create a set from the string and just compare the lengths. This seems like an $O(n)$ algorithm, as the conversion from a string to a set will loop through all characters of the string."
   ]
  },
  {
   "cell_type": "code",
   "execution_count": 13,
   "id": "13848224-fa44-46a9-af0d-617f7cd2237b",
   "metadata": {},
   "outputs": [
    {
     "data": {
      "text/plain": [
       "{'a', 'b', 'c', 'd', 'e', 'f', 'g'}"
      ]
     },
     "execution_count": 13,
     "metadata": {},
     "output_type": "execute_result"
    }
   ],
   "source": [
    "set(\"abcdefg\")"
   ]
  },
  {
   "cell_type": "markdown",
   "id": "111a11f8-e7ec-4931-a9a5-2149f09cb606",
   "metadata": {},
   "source": [
    "#### 1.a - One liner"
   ]
  },
  {
   "cell_type": "code",
   "execution_count": 14,
   "id": "17943a9b-b57e-4f7f-baef-346eaff73ff5",
   "metadata": {},
   "outputs": [],
   "source": [
    "def uni_char(string):\n",
    "    chars = set(string)\n",
    "    return (len(chars) == len(string))"
   ]
  },
  {
   "cell_type": "code",
   "execution_count": 15,
   "id": "74be3309-3bfe-4505-890b-12e5baabfd9f",
   "metadata": {},
   "outputs": [
    {
     "name": "stdout",
     "output_type": "stream",
     "text": [
      "ALL TEST CASES PASSED\n"
     ]
    }
   ],
   "source": [
    "from nose.tools import assert_equal\n",
    "\n",
    "\n",
    "class TestUnique(object):\n",
    "\n",
    "    def test(self, sol):\n",
    "        assert_equal(sol(''), True)\n",
    "        assert_equal(sol('goo'), False)\n",
    "        assert_equal(sol('abcdefg'), True)\n",
    "        print('ALL TEST CASES PASSED')\n",
    "        \n",
    "# Run Tests\n",
    "t = TestUnique()\n",
    "t.test(uni_char)"
   ]
  },
  {
   "cell_type": "markdown",
   "id": "efb106dc-45eb-4fd3-acaa-b2f3e1d75227",
   "metadata": {},
   "source": [
    "#### 1.b - An interview solution\n",
    "\n",
    "I will make the following assumptions to solve this problem:\n",
    "- We convert all letters of the string to lower-case.\n",
    "- The function will be case-sensitive.\n",
    "\n",
    "For this solution, it is useful to know about the *collections.defaultdict* class in Python, whose constructor takes as parameter a function that assigns default values to non-existent keys."
   ]
  },
  {
   "cell_type": "code",
   "execution_count": 32,
   "id": "8e8421bf-6589-40e7-b014-dc394fb845b3",
   "metadata": {},
   "outputs": [],
   "source": [
    "from collections import defaultdict\n",
    "\n",
    "def uni_char(string):\n",
    "    \n",
    "    # Inits and edge case\n",
    "    all_chars_unique = True\n",
    "    N = len(string)\n",
    "    # Make a dictionary whose default value is 0\n",
    "    char_count = defaultdict(lambda: 0)\n",
    "    \n",
    "    if N==0:\n",
    "        return all_chars_unique, char_count\n",
    "    \n",
    "    # Main loop\n",
    "    for c in string:\n",
    "        char_count[c] += 1\n",
    "        if all_chars_unique and (char_count[c]>1):\n",
    "            all_chars_unique = False\n",
    "    \n",
    "    # output\n",
    "    return all_chars_unique, char_count"
   ]
  },
  {
   "cell_type": "code",
   "execution_count": 33,
   "id": "e656be6b-c12c-4599-9324-794431dda491",
   "metadata": {},
   "outputs": [
    {
     "name": "stdout",
     "output_type": "stream",
     "text": [
      "ALL TEST CASES PASSED\n"
     ]
    }
   ],
   "source": [
    "class TestUnique(object):\n",
    "\n",
    "    def test(self, sol):\n",
    "        assert_equal(sol('')[0], True)\n",
    "        assert_equal(sol('goo')[0], False)\n",
    "        assert_equal(sol('abcdefg')[0], True)\n",
    "        print('ALL TEST CASES PASSED')\n",
    "        \n",
    "# Run Tests\n",
    "t = TestUnique()\n",
    "t.test(uni_char)"
   ]
  },
  {
   "cell_type": "markdown",
   "id": "9a92c5a1-4a4e-4cca-848f-d42a4387edd6",
   "metadata": {},
   "source": [
    "### 2) Portilla's solutions\n",
    "\n",
    "He proposes two solutions, the first one being the one-liner above. The second solution is the following:"
   ]
  },
  {
   "cell_type": "code",
   "execution_count": null,
   "id": "74eb9af5-806e-40f0-b44b-4c77cfec5187",
   "metadata": {},
   "outputs": [],
   "source": [
    "\n",
    "def uni_char2(s):\n",
    "    chars = set()\n",
    "    for let in s:\n",
    "        # Check if in set\n",
    "        if let in chars:\n",
    "            return False\n",
    "        else:\n",
    "            #Add it to the set\n",
    "            chars.add(let)\n",
    "    return True"
   ]
  },
  {
   "cell_type": "markdown",
   "id": "5440063c-a76b-49ec-874e-0ad61febef58",
   "metadata": {},
   "source": [
    "So he simply returns False once a letter has been encountered before. I preferred my approach because it also gives me a starting point for Exercise 6."
   ]
  },
  {
   "cell_type": "code",
   "execution_count": null,
   "id": "b40853a6-beee-44ef-a384-476ea4b8bccb",
   "metadata": {},
   "outputs": [],
   "source": []
  }
 ],
 "metadata": {
  "kernelspec": {
   "display_name": "Python 3 (ipykernel)",
   "language": "python",
   "name": "python3"
  },
  "language_info": {
   "codemirror_mode": {
    "name": "ipython",
    "version": 3
   },
   "file_extension": ".py",
   "mimetype": "text/x-python",
   "name": "python",
   "nbconvert_exporter": "python",
   "pygments_lexer": "ipython3",
   "version": "3.9.16"
  }
 },
 "nbformat": 4,
 "nbformat_minor": 5
}
